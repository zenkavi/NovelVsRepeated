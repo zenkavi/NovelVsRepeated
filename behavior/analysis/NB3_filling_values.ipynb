{
 "cells": [
  {
   "cell_type": "raw",
   "id": "d818c6f5",
   "metadata": {},
   "source": [
    "---\n",
    "title: \"Novel vs. repeated choice project: Understanding experimental stimul are created\"\n",
    "output: \n",
    "  html_document:\n",
    "    toc: true\n",
    "    toc_float: true\n",
    "    code_folding: 'hide'\n",
    "---"
   ]
  },
  {
   "cell_type": "code",
   "execution_count": null,
   "id": "fc3f04bd",
   "metadata": {
    "tags": [
     "remove_cell"
    ]
   },
   "outputs": [],
   "source": [
    "library(tidyverse)\n",
    "library(janitor)\n",
    "library(here)\n",
    "library(magick)\n",
    "library(grid)\n",
    "library(gridExtra)\n",
    "theme_set(theme_bw())\n",
    "helpers_path = paste0(here(),'/analysis/helpers/')\n",
    "source(paste0(helpers_path, '01_clean_behavioral_data.R'))\n",
    "source(paste0(helpers_path, '03_stim_img_helpers.R'))\n",
    "fig_out_path = paste0(here(), '/outputs/fig/')"
   ]
  },
  {
   "cell_type": "markdown",
   "id": "ed569f0b",
   "metadata": {},
   "source": [
    "Save some images of sample stimuli"
   ]
  },
  {
   "cell_type": "code",
   "execution_count": null,
   "id": "8ae6800d",
   "metadata": {},
   "outputs": [],
   "source": [
    "tmp = make_stim_img(shape = 3, orientation = 0, filling = -0.6)\n",
    "\n",
    "image_write(tmp, path = paste0(fig_out_path, 'sample_stim1.png'), format = 'png')\n",
    "\n",
    "tmp = make_stim_img(shape = 2, orientation = 120, filling = 0.4)\n",
    "\n",
    "image_write(tmp, path = paste0(fig_out_path, 'sample_stim2.png'), format = 'png')"
   ]
  },
  {
   "cell_type": "markdown",
   "id": "6de60560",
   "metadata": {},
   "source": [
    "# Filling values\n",
    "\n",
    "Matlab code from `task_YN.m` that determines the filling value for each stimulus\n",
    "\n",
    "```\n",
    "bothCol = [0.1 0.1 0.4 -99;\n",
    "0.4 0.1 0.1 -99]; \n",
    "\n",
    "if  mydata.filling(indextrial)>=0\n",
    "colorStim = bothCol(1,:);\n",
    "switch  abs(mydata.filling(indextrial))\n",
    "case 0.4\n",
    "colorStim(3)= 0.6;\n",
    "case 0.6\n",
    "colorStim(3)= 0.5;\n",
    "case 0.85\n",
    "colorStim(3)= 0.3;\n",
    "end   \n",
    "else\n",
    "colorStim = bothCol(2,:);\n",
    "switch  abs(mydata.filling(indextrial))\n",
    "case 0.4\n",
    "colorStim(1)= 0.6;\n",
    "case 0.6\n",
    "colorStim(1)= 0.5;\n",
    "case 0.85\n",
    "colorStim(1)= 0.3;\n",
    "end\n",
    "end\n",
    "colorStim(4)=abs(mydata.filling(indextrial));\n",
    "```\n",
    "\n",
    "What are the HEX codes for the filling values in the data?"
   ]
  },
  {
   "cell_type": "code",
   "execution_count": null,
   "id": "54f147f9",
   "metadata": {},
   "outputs": [],
   "source": [
    "dat = data.frame(filling = unique(data_yn_clean$filling))\n",
    "\n",
    "for(i in 1:nrow(dat)){\n",
    "  dat$hex_code[i] = convertFVToHEX(dat$filling[i])\n",
    "}\n",
    "\n",
    "dat = dat %>%\n",
    "  arrange(filling)\n",
    "\n",
    "dat"
   ]
  },
  {
   "cell_type": "markdown",
   "id": "c422041c",
   "metadata": {},
   "source": [
    "View the filling colors for the stimuli"
   ]
  },
  {
   "cell_type": "code",
   "execution_count": null,
   "id": "9ad6c6a7",
   "metadata": {},
   "outputs": [],
   "source": [
    "ggplot()+\n",
    "  annotate(\"rect\", xmin=c(1,2,3,1,2,3,1,2,3), xmax=c(2,3,4,2,3,4,2,3,4), ymin=c(1,1,1,2,2,2,3,3,3) , ymax=c(2,2,2,3,3,3,4,4,4), fill=c(dat$hex_code))+\n",
    "  annotate(\"text\", x=c(1,2,3,1,2,3,1,2,3)+.5, y=c(1,1,1,2,2,2,3,3,3)+.5 , label=c(dat$filling))+\n",
    "  theme(axis.ticks = element_blank(),\n",
    "        axis.text = element_blank(),\n",
    "        panel.grid = element_blank(),\n",
    "        axis.title = element_blank(),\n",
    "        panel.border = element_blank())"
   ]
  },
  {
   "cell_type": "markdown",
   "id": "6d8a379c",
   "metadata": {},
   "source": [
    "BUT THIS WOULD MEAN THERE ARE ONLY 9 INSTEAD OF 11 VALUES WHICH WOULD REPEAT FILLING VALUES!  \n",
    "So there would be two same stimuli with different payoffs.\n",
    "\n",
    "In `createStimuli.m` there is also this conversion of the third column of `all` which contains the filling levels.\n",
    "\n",
    "It converts the filling levels that are assigned to filling values to different levels. Instead of the levels above there are two other levels in this set of numbers.\n",
    "\n",
    "```\n",
    "all(all(:,3)==0.2,3)= 0.05;\n",
    "all(all(:,3)==0.4,3)= 0.17;\n",
    "all(all(:,3)==0.6,3)= 0.4;\n",
    "all(all(:,3)==0.8,3)= 0.6;\n",
    "all(all(:,3)==1,3)= 0.85;\n",
    "all(all(:,3)==-0.2,3)= -0.05;\n",
    "all(all(:,3)==-0.4,3)= -0.17;\n",
    "all(all(:,3)==-0.6,3)= -0.4;\n",
    "all(all(:,3)==-0.8,3)= -0.6;\n",
    "all(all(:,3)==-1,3)= -0.85;\n",
    "```\n",
    "\n",
    "What do these look like"
   ]
  },
  {
   "cell_type": "code",
   "execution_count": null,
   "id": "16774798",
   "metadata": {},
   "outputs": [],
   "source": [
    "dat = data.frame(filling = c(.05, .17, .4, .6, .85, 0, -.05, -.17, -.4, -.6, -.85, NA))\n",
    "\n",
    "for(i in 1:nrow(dat)){\n",
    "  dat$hex_code[i] = convertFVToHEX(dat$filling[i])\n",
    "}\n",
    "\n",
    "dat = dat %>%\n",
    "  arrange(filling)\n",
    "\n",
    "dat"
   ]
  },
  {
   "cell_type": "code",
   "execution_count": null,
   "id": "8a8fb1f8",
   "metadata": {},
   "outputs": [],
   "source": [
    "ggplot()+\n",
    "  annotate(\"rect\", xmin=c(1,2,3,4,1,2,3,4,1,2,3,4), xmax=c(2,3,4,5,2,3,4,5,2,3,4,5), ymin=c(1,1,1,1,2,2,2,2,3,3,3,3) , ymax=c(2,2,2,2,3,3,3,3,4,4,4,4), fill=c(dat$hex_code))+\n",
    "  annotate(\"text\", x=c(1,2,3,4,1,2,3,4,1,2,3,4)+.5, y=c(1,1,1,1,2,2,2,2,3,3,3,3)+.5 , label=c(dat$filling))+\n",
    "  theme(axis.ticks = element_blank(),\n",
    "        axis.text = element_blank(),\n",
    "        panel.grid = element_blank(),\n",
    "        axis.title = element_blank(),\n",
    "        panel.border = element_blank())"
   ]
  },
  {
   "cell_type": "markdown",
   "id": "ac96cd6f",
   "metadata": {},
   "source": [
    "**why are they different than the ones in the behavioral data filling column**\n",
    "\n",
    "`data_choiceYN.csv` is a merge of all `taskYN_subj*_day*_session4.mat` created by `createDataYN.m`. Each of these `.mat` files involve a struct called `mydata`. The `filling` attribute in these structs has the 9 (not 11!) values in we have in the `data_choiceYN.csv`.\n",
    "\n",
    "Where are these assigned in the `mydata` struct?\n",
    "\n",
    "`mydata` is both the input and the output of the `taskYN.m` function.\n",
    "\n",
    "In `taskYN.m` when `showStimulusOnScreen` is called the input specifying filling is not from `mydata` but from `colorStim` which is the converted value of `mydata.filling`.\n",
    "\n",
    "The `mydata.filling` values are specified in `createStimuli.m` so the lines above converting `all(:3)` should have changed these. \n",
    "\n",
    "**BUT due to rounding error this didn't work as intended! So in the stimuli there were indeed 9 filling values instead of 11** ![Here's the problem:](../outputs/fig/MatlabMadness.png))\n",
    "\n",
    "# Stim outcomes\n",
    "\n",
    "The stimuli are not gambles. If they are chosen to be played they always yield the same reward. If they are not chosen then they yield the reference amount."
   ]
  },
  {
   "cell_type": "code",
   "execution_count": null,
   "id": "3381f8ce",
   "metadata": {},
   "outputs": [],
   "source": [
    "tmp = data_yn_clean %>%\n",
    "  filter(yesChosen == 1) %>%\n",
    "  select(possiblePayoff, payoff)\n",
    "\n",
    "sum(tmp$possiblePayoff == tmp$payoff) == nrow(tmp)"
   ]
  },
  {
   "cell_type": "markdown",
   "id": "d8e187e5",
   "metadata": {},
   "source": [
    "*BUT* the payoff for each stimulus is sampled from a distribution"
   ]
  },
  {
   "cell_type": "code",
   "execution_count": null,
   "id": "4de49a7e",
   "metadata": {},
   "outputs": [],
   "source": [
    "data_yn_clean %>%\n",
    "  filter(subnum == \"601\") %>%\n",
    "  filter(stimNum == 85) %>%\n",
    "  tabyl(possiblePayoff)"
   ]
  },
  {
   "cell_type": "markdown",
   "id": "c937b343",
   "metadata": {},
   "source": [
    "# Number of stims/session\n",
    "\n",
    "How many HT and RE trials in each session?"
   ]
  },
  {
   "cell_type": "code",
   "execution_count": null,
   "id": "70aa6d5e",
   "metadata": {},
   "outputs": [],
   "source": [
    "with(data_yn_clean, table(type, day, subnum))"
   ]
  },
  {
   "cell_type": "markdown",
   "id": "4932611f",
   "metadata": {},
   "source": [
    "How many HT and RE trials in each imaging session?"
   ]
  },
  {
   "cell_type": "code",
   "execution_count": null,
   "id": "2a7081a4",
   "metadata": {},
   "outputs": [],
   "source": [
    "with(data_bc_clean, table(typeLeft, day, fmri, subnum))"
   ]
  },
  {
   "cell_type": "markdown",
   "id": "0b43aab6",
   "metadata": {},
   "source": [
    "# Attribute values\n",
    "\n",
    "3 features: \n",
    "Shape 6\n",
    "Orientation 11\n",
    "Filling 11\n",
    "\n",
    "Does the orientation and filling have the same value for each shape? Yes."
   ]
  },
  {
   "cell_type": "code",
   "execution_count": null,
   "id": "17ad0af2",
   "metadata": {},
   "outputs": [],
   "source": [
    "dat = data_yn_clean %>%\n",
    "  filter(subnum == 601) %>%\n",
    "  select(subnum, day, stimNum, type, orientation, filling, shape, valueO, valueF, valueS, possiblePayoff)"
   ]
  },
  {
   "cell_type": "code",
   "execution_count": null,
   "id": "b636d8dd",
   "metadata": {},
   "outputs": [],
   "source": [
    "with(dat, table(orientation, valueO, shape))"
   ]
  },
  {
   "cell_type": "code",
   "execution_count": null,
   "id": "0772d1c0",
   "metadata": {},
   "outputs": [],
   "source": [
    "with(dat, table(filling, valueF, shape))"
   ]
  },
  {
   "cell_type": "markdown",
   "id": "2613bbe3",
   "metadata": {},
   "source": [
    "How are the payoffs for each stimulus computed? From matlab code:\n",
    "\n",
    "```\n",
    "% all(:,4) <- shape value\n",
    "% all(:,5) <- orientation value\n",
    "% all(:,6) <- filling color value\n",
    "\n",
    "round(((all(:,4) + all(:,5) + all(:,6))/2)*100)\n",
    "```"
   ]
  },
  {
   "cell_type": "code",
   "execution_count": null,
   "id": "20736100",
   "metadata": {
    "lines_to_next_cell": 2
   },
   "outputs": [],
   "source": [
    "dat %>%\n",
    "  select(orientation, filling, shape, valueO, valueF, valueS, possiblePayoff) %>%\n",
    "  mutate(guess = round(100 * ((valueS + valueO + valueF)/2) ))"
   ]
  },
  {
   "cell_type": "markdown",
   "id": "ba8bdba8",
   "metadata": {},
   "source": [
    "# Save stims for all subjects\n",
    "\n",
    "Makes and save all stim images for all subjects"
   ]
  },
  {
   "cell_type": "code",
   "execution_count": null,
   "id": "e8ec8ac8",
   "metadata": {
    "eval": false
   },
   "outputs": [],
   "source": [
    "\n",
    "# 726*6 = 4356 rows\n",
    "\n",
    "stim_info = data_yn_clean %>%\n",
    "  select(subnum, stimNum, orientation, filling, shape, type) %>%\n",
    "  group_by(subnum, stimNum) %>%\n",
    "  distinct()\n",
    "\n",
    "# for(i in 1:10){ #test before running it for all stims\n",
    "for(i in 1:nrow(stim_info)){\n",
    "  cur_sub = stim_info$subnum[i]\n",
    "  cur_type = stim_info$type[i]\n",
    "  cur_stimNum = stim_info$stimNum[i]\n",
    "  \n",
    "  cur_shape = stim_info$shape[i]\n",
    "  cur_orient = stim_info$orientation[i]\n",
    "  cur_filling = stim_info$filling[i]\n",
    "  \n",
    "  if(cur_type == 1 | cur_type == \"HT\"){\n",
    "    cur_stimNum = paste0(cur_stimNum, '_ht')\n",
    "  }\n",
    "  \n",
    "  img_fn = paste0(fig_out_path, 'stims/sub-', cur_sub, '/', cur_stimNum, '.png')\n",
    "  \n",
    "  if(!file.exists(img_fn)){\n",
    "    tmp = make_stim_img(shape = cur_shape, orientation = cur_orient, filling = cur_filling)\n",
    "    \n",
    "    image_write(tmp, path = img_fn, format = 'png')\n",
    "    \n",
    "    dev.off()\n",
    "  }\n",
    "  \n",
    "}\n",
    "\n",
    "\n",
    "\n"
   ]
  },
  {
   "cell_type": "markdown",
   "id": "a11cb7eb",
   "metadata": {},
   "source": [
    "# Stim and payoff report for each subject\n"
   ]
  },
  {
   "cell_type": "code",
   "execution_count": null,
   "id": "840d4d29",
   "metadata": {},
   "outputs": [],
   "source": [
    "cur_sub = 601\n",
    "\n",
    "img_path = paste0(fig_out_path, 'stims/sub-', cur_sub, '/')\n",
    "\n",
    "img_fns = list.files(img_path)\n",
    "img_fns = gtools::mixedsort(img_fns)\n",
    "\n",
    "img_fns = img_fns[1:20]\n",
    "\n",
    "rl = lapply(paste0(img_path, img_fns), img_read_border_annotate)\n",
    "\n",
    "ml <- marrangeGrob(rl, nrow=11, ncol=11)\n",
    "\n",
    "# ml\n",
    "\n",
    "ggsave(paste0(fig_out_path, \"tmp.pdf\"), ml)\n",
    "# ggsave(paste0(fig_out_path, \"sub-\",cur_sub, \"_stims.pdf\"), ml)"
   ]
  },
  {
   "cell_type": "markdown",
   "id": "e4c3db4e",
   "metadata": {},
   "source": [
    "Order stims by \n",
    "shape in pages\n",
    "filling in columns\n",
    "orientation in rows"
   ]
  },
  {
   "cell_type": "code",
   "execution_count": null,
   "id": "a4ecf653",
   "metadata": {
    "eval": false
   },
   "outputs": [],
   "source": [
    "subnums = sort(unique(data_yn_clean$subnum))\n",
    "\n",
    "shape_vals = sort(unique(data_yn_clean$shape))\n",
    "orient_vals = sort(unique(data_yn_clean$orient))\n",
    "\n",
    "blank <- grid::rectGrob(gp=grid::gpar(fill=\"white\", color=NA))\n",
    "repList = list(\"-0.85\" = 1, \"-0.6\" = 2, \"-0.4\" = 4, \"-0.2\" = 5, \"0\" = 6, \"0.2\" = 7, \"0.4\" = 9, \"0.6\" = 10, \"0.85\" = 11)\n",
    "\n",
    "\n",
    "for(cur_sub in subnums){\n",
    "  \n",
    "  fn = paste0(fig_out_path, \"sub-\",cur_sub, \"_stims.pdf\")\n",
    "  \n",
    "  if(!file.exists(fn)){\n",
    "    print(paste0(\"Starting sub-\", cur_sub))\n",
    "    \n",
    "    img_path = paste0(fig_out_path, 'stims/sub-', cur_sub, '/')\n",
    "    \n",
    "    sl = list()\n",
    "    pl = list()\n",
    "    \n",
    "    # Make first info page with payoff info\n",
    "    tmp = data_yn_clean %>%\n",
    "      filter(subnum == cur_sub)\n",
    "    \n",
    "    t1 = tableGrob(with(tmp, table(valueO, orientation)))\n",
    "    t2 = tableGrob(with(tmp, table(valueF, filling)))\n",
    "    t3 = tableGrob(with(tmp, table(valueS, shape)))\n",
    "    \n",
    "    stimsOrder = data_yn_clean %>%\n",
    "      filter((subnum == cur_sub) & (type == 1)) %>%\n",
    "      select(subnum, stimNum, orientation, filling, shape, type, valueO, valueF, valueS) %>%\n",
    "      distinct() %>%\n",
    "      mutate(stimNum = ifelse(type == 1, paste0(stimNum, \"_ht.png\"), paste0(stimNum, \".png\")))\n",
    "    \n",
    "    stimsOrder = stimsOrder$stimNum\n",
    "    \n",
    "    rl = lapply(paste0(img_path, stimsOrder), img_read_border_annotate)\n",
    "    \n",
    "    ht_stims = arrangeGrob(grobs = rl, nrow=3, ncol=4)\n",
    "    \n",
    "    info_page = arrangeGrob(grobs = list(t1, t2, ht_stims, t3), nrow = 2, ncols = 2, widths = c(5, 5), heights = c(3.5, 3.5))\n",
    "    \n",
    "    # Add first page of reward info and HT stims\n",
    "    pl[[1]] = info_page\n",
    "    \n",
    "    for(i in 1:length(shape_vals)){\n",
    "      cur_shape = shape_vals[i]\n",
    "      \n",
    "      for(j in 1:length(orient_vals)){\n",
    "        cur_orient = orient_vals[j]\n",
    "        \n",
    "        stimsOrder = data_yn_clean %>%\n",
    "          filter((subnum == cur_sub) & (shape == cur_shape) & (orientation == cur_orient)) %>%\n",
    "          select(subnum, stimNum, orientation, filling, shape, type, valueO, valueF, valueS) %>%\n",
    "          distinct() %>%\n",
    "          arrange(filling) %>%\n",
    "          mutate(stimNum = ifelse(type == 1, paste0(stimNum, \"_ht.png\"), paste0(stimNum, \".png\")))\n",
    "        \n",
    "        fillTable = table(stimsOrder$filling)\n",
    "        \n",
    "        stimsOrder = stimsOrder$stimNum\n",
    "        \n",
    "        rl = lapply(paste0(img_path, stimsOrder), img_read_border_annotate)\n",
    "        \n",
    "        if (length(rl) != 11){\n",
    "          if(length(names(fillTable)) == 8){ #if there is no stim for a filling level\n",
    "            repSlot = repList[!names(repList) %in% names(fillTable)][[1]] - 1\n",
    "          } else{ #if there is one fewer stims for .4 or -0.4 filling levels\n",
    "            repSlot = repList[names(which(fillTable != c(1,1,2,1,1,1,2,1,1)))][[1]] - 1\n",
    "          }\n",
    "          rl = append(rl, list(blank), repSlot)\n",
    "        }\n",
    "        \n",
    "        #One column of shape and orientation for 11 filling levels\n",
    "        sl[[j]] = arrangeGrob(grobs = rl, nrow=11, ncol=1)\n",
    "      }\n",
    "      \n",
    "      # 11 columns for one shape and all levels of orientation and filling\n",
    "      pl[[i+1]] = arrangeGrob(grobs = sl, nrow = 1, ncol = 11)\n",
    "    }\n",
    "    \n",
    "    # Arrange each shape on separate page\n",
    "    ml <- marrangeGrob(grobs = pl, nrow=1, ncol=1)\n",
    "    \n",
    "    ggsave(paste0(fig_out_path, \"sub-\",cur_sub, \"_stims.pdf\"), ml, width = 11, height = 8)\n",
    "    print(paste0(\"Done saving sub-\", cur_sub))\n",
    "  }\n",
    "  \n",
    "  \n",
    "}\n",
    "\n",
    "rm(img_path, sl, pl, tmp, t1, t2, t3, stimsOrder, rl, ht_stims, info_page, cur_shape, cur_orient, cur_sub, fillTable, repSlot, ml, subnums, shape_vals, orient_vals, blank, repList)"
   ]
  },
  {
   "cell_type": "markdown",
   "id": "134e3010",
   "metadata": {},
   "source": [
    "Because one filling value has two values there are two stimuli with different mean values "
   ]
  },
  {
   "cell_type": "code",
   "execution_count": null,
   "id": "15c13a40",
   "metadata": {
    "lines_to_next_cell": 2
   },
   "outputs": [],
   "source": [
    "tmp = data_yn_clean %>%\n",
    "  filter(subnum == cur_sub)\n",
    "\n",
    "t1 = tableGrob(with(tmp, table(valueO, orientation)))\n",
    "t2 = tableGrob(with(tmp, table(valueF, filling)))\n",
    "t3 = tableGrob(with(tmp, table(valueS, shape)))\n",
    "\n",
    "stimsOrder = data_yn_clean %>%\n",
    "  filter((subnum == cur_sub) & (type == 1)) %>%\n",
    "  select(subnum, stimNum, orientation, filling, shape, type, valueO, valueF, valueS) %>%\n",
    "  distinct() %>%\n",
    "  mutate(stimNum = ifelse(type == 1, paste0(stimNum, \"_ht.png\"), paste0(stimNum, \".png\")))\n",
    "\n",
    "stimsOrder = stimsOrder$stimNum\n",
    "\n",
    "rl = lapply(paste0(img_path, stimsOrder), img_read_border_annotate)\n",
    "\n",
    "ht_stims = arrangeGrob(grobs = rl, nrow=3, ncol=4)\n",
    "\n",
    "info_page = arrangeGrob(grobs = list(t1, t2, ht_stims, t3), nrow = 2, ncols = 2, widths = c(5, 5), heights = c(3.5, 3.5))\n",
    "\n",
    "ggsave(paste0(fig_out_path, \"tmp5.pdf\"), info_page, width = 11, height = 8)"
   ]
  },
  {
   "cell_type": "markdown",
   "id": "3698a259",
   "metadata": {},
   "source": [
    "When the value difference is large RE and HT Rts don't look very different.\n",
    "Is this because of generalizing a particularly eggregious attribute value?\n",
    "\n",
    "What does a high value difference RE and HT stimuli look like? What attribute drives their value to the extreme?\n",
    "\n",
    "Are the RE trials particularly slow for low value difference because ...\n",
    "\n",
    "When deciding for an HT stim is it more habit-like? Less conscious? More a quick memory retrieval?\n"
   ]
  }
 ],
 "metadata": {
  "jupytext": {
   "cell_metadata_filter": "tags,eval,-all",
   "main_language": "R",
   "notebook_metadata_filter": "-all"
  }
 },
 "nbformat": 4,
 "nbformat_minor": 5
}
