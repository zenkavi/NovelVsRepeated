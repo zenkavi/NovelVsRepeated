{
 "cells": [
  {
   "cell_type": "raw",
   "id": "9dcdadb5",
   "metadata": {},
   "source": [
    "---\n",
    "title: \"Novel vs. repeated choice project: Pre CCN abstract analyses\"\n",
    "output: \n",
    "  html_document:\n",
    "    toc: true\n",
    "    toc_float: true\n",
    "    code_folding: 'hide'\n",
    "---"
   ]
  },
  {
   "cell_type": "markdown",
   "id": "8c9bf659",
   "metadata": {},
   "source": [
    "# Set up environment and load in data"
   ]
  },
  {
   "cell_type": "code",
   "execution_count": null,
   "id": "57b56200",
   "metadata": {
    "message": false,
    "tags": [
     "remove_cell"
    ]
   },
   "outputs": [],
   "source": [
    "library(tidyverse)\n",
    "library(here)\n",
    "theme_set(theme_bw())\n",
    "helpers_path = paste0(here(),'/analysis/helpers/')\n",
    "source(paste0(helpers_path, '01_clean_behavioral_data.R'))\n",
    "helpers_path = paste0(here(),'/analysis/helpers/')\n",
    "source(paste0(helpers_path, '03_stim_img_helpers.R'))\n",
    "fig_out_path = paste0(here(), '/outputs/fig/')"
   ]
  },
  {
   "cell_type": "markdown",
   "id": "c846b0a6",
   "metadata": {},
   "source": [
    "Add columns that will be used for plots below."
   ]
  },
  {
   "cell_type": "code",
   "execution_count": null,
   "id": "061fee05",
   "metadata": {},
   "outputs": [],
   "source": [
    "data_yn_clean = data_yn_clean %>%\n",
    "  mutate(correct = ifelse(possiblePayoff>reference & yesChosen == 1, 1, ifelse(possiblePayoff < reference & yesChosen == 0, 1, 0))) %>%\n",
    "  mutate(type = ifelse(type == 1, \"HT\", \"RE\"),\n",
    "         week = ifelse(week == 1, \"Week 1\", ifelse(week == 2, \"Week 2\", ifelse(week == 3, \"Week 3\", NA))),\n",
    "         week = factor(week, levels = c(\"Week 1\", \"Week 2\", \"Week 3\"))) %>%\n",
    "  mutate(val_diff = possiblePayoff - reference,\n",
    "         val_diff_bin = round(val_diff/50),\n",
    "         val_diff_bin_str = paste0(val_diff_bin*50-25,\":\",val_diff_bin*50+25),\n",
    "         val_diff_bin_str = factor(val_diff_bin_str, levels = c(\"-225:-175\", \"-175:-125\", \"-125:-75\", \"-75:-25\", \"-25:25\", \"25:75\", \"75:125\", \"125:175\", \"175:225\")))\n",
    "\n",
    "data_bc_clean = data_bc_clean %>%\n",
    "  mutate(correct = ifelse(possiblePayoffleft>possiblePayoffright & leftChosen == 1, 1, ifelse(possiblePayoffleft<possiblePayoffright & leftChosen == 0, 1, 0))) %>%\n",
    "  mutate(type = ifelse(typeLeft == 1, \"HT\", \"RE\"),\n",
    "         week = ifelse(week == 1, \"Week 1\", ifelse(week == 2, \"Week 2\", ifelse(week == 3, \"Week 3\", NA))),\n",
    "         week = factor(week, levels = c(\"Week 1\", \"Week 2\", \"Week 3\"))) %>%\n",
    "  mutate(val_diff = possiblePayoffleft - possiblePayoffright,\n",
    "         val_diff_bin = round(val_diff/50),\n",
    "         val_diff_bin_str = paste0(val_diff_bin*50-25,\":\",val_diff_bin*50+25),\n",
    "         val_diff_bin_str = factor(val_diff_bin_str, levels = c(\"-275:-225\",\"-225:-175\", \"-175:-125\", \"-125:-75\", \"-75:-25\", \"-25:25\", \"25:75\", \"75:125\", \"125:175\", \"175:225\", \"225:275\"))) %>%\n",
    "  filter(!is.na(val_diff_bin_str))"
   ]
  },
  {
   "cell_type": "markdown",
   "id": "007a82bc",
   "metadata": {},
   "source": [
    "Center variables!"
   ]
  },
  {
   "cell_type": "code",
   "execution_count": null,
   "id": "4471b06a",
   "metadata": {},
   "outputs": [],
   "source": [
    "data_yn_clean = data_yn_clean %>%\n",
    "  mutate(day_std = (day - mean(day))/sd(day)) %>%\n",
    "  group_by(subnum) %>%\n",
    "  mutate(val_diff_std = (val_diff - mean(val_diff))/sd(val_diff),\n",
    "         abs_val_diff = abs(val_diff),\n",
    "         abs_val_diff_std = (abs_val_diff - mean(abs_val_diff))/sd(abs_val_diff))"
   ]
  },
  {
   "cell_type": "code",
   "execution_count": null,
   "id": "c6e63091",
   "metadata": {},
   "outputs": [],
   "source": [
    "data_bc_clean = data_bc_clean %>%\n",
    "  mutate(day_std = (day - mean(day))/sd(day)) %>%\n",
    "  group_by(subnum) %>%\n",
    "  mutate(val_diff_std = (val_diff - mean(val_diff))/sd(val_diff),\n",
    "         abs_val_diff = abs(val_diff),\n",
    "         abs_val_diff_std = (abs_val_diff - mean(abs_val_diff))/sd(abs_val_diff))"
   ]
  },
  {
   "cell_type": "markdown",
   "id": "4d5639ba",
   "metadata": {},
   "source": [
    "# HT accuracy over days plots"
   ]
  },
  {
   "cell_type": "code",
   "execution_count": null,
   "id": "aa0e4817",
   "metadata": {
    "lines_to_next_cell": 2
   },
   "outputs": [],
   "source": [
    "subs = unique(data_yn_clean$subnum)\n",
    "\n",
    "plt_data = data_yn_clean %>%\n",
    "  mutate(ht_stim_num = ifelse(type == \"HT\", stimNum, 0)) %>%\n",
    "  filter(ht_stim_num != 0) %>%\n",
    "  group_by(day, subnum, ht_stim_num) %>%\n",
    "  summarise(mean_accuracy = mean(correct),\n",
    "            sem_accuracy = sd(correct)/sqrt(n()),\n",
    "            .groups = 'keep') %>%\n",
    "  ungroup()  %>%\n",
    "  group_by(subnum, day) %>%\n",
    "  mutate(stim_count = 1:n(),\n",
    "         stim_count = as.factor(stim_count))\n",
    "\n",
    "for(i in 1:length(subs)){\n",
    "  cur_sub = subs[i]\n",
    "  \n",
    "  p = plt_data %>%\n",
    "    filter(subnum == cur_sub) %>%\n",
    "    ggplot(aes(day, mean_accuracy, shape = stim_count))+\n",
    "    geom_point()+\n",
    "    geom_errorbar(aes(ymin = mean_accuracy - sem_accuracy, ymax = mean_accuracy + sem_accuracy), width = 0)+\n",
    "    facet_wrap(~ht_stim_num) + \n",
    "    guides(shape = \"none\") + \n",
    "    scale_shape_manual(values = c(1:12))+\n",
    "    labs(x = \"Day\", y = \"Accuracy\", title = paste0(\"Y/N Task sub-\", cur_sub,\" HT stim accuracy\"))+\n",
    "    theme(panel.grid = element_blank())+\n",
    "    scale_x_continuous(breaks=seq(1,11,1))\n",
    "  \n",
    "  # Annotate plot with stim images\n",
    "  out = ggplot_build(p)\n",
    "  \n",
    "  num_panels = length(levels(out$data[[1]]$PANEL))\n",
    "  \n",
    "  img_path = paste0(fig_out_path, 'stims/sub-', cur_sub, '/')\n",
    "  \n",
    "  for (i in 1:num_panels){\n",
    "    \n",
    "    cur_ht_stim_num = out$layout$layout$ht_stim_num[i]\n",
    "    \n",
    "    img_fn = paste0(img_path, cur_ht_stim_num, '_ht.png')\n",
    "    \n",
    "    cur_ht_stim_img = img_read_border_annotate(img_fn, annot_img = F, border_img = F)\n",
    "    \n",
    "    tmp = plt_data %>%\n",
    "      filter((subnum == cur_sub) & (ht_stim_num == cur_ht_stim_num))\n",
    "    \n",
    "    p = p + annotation_custom2(cur_ht_stim_img, data=tmp[1,], xmin=9, xmax=11, ymin=.6, ymax=.8)\n",
    "    \n",
    "  }\n",
    "  \n",
    "  ggsave(file=paste0(fig_out_path, 'yn_sub-',cur_sub,'_HTaccuracyOverDays.jpg'), p, height = 8, width=12, units=\"in\")\n",
    "}\n",
    "\n",
    "rm(plt_data, p)"
   ]
  },
  {
   "cell_type": "markdown",
   "id": "840a72a7",
   "metadata": {},
   "source": [
    "# HT RT over days plots"
   ]
  },
  {
   "cell_type": "code",
   "execution_count": null,
   "id": "061c7f44",
   "metadata": {},
   "outputs": [],
   "source": [
    "plt_data = data_yn_clean %>%\n",
    "  mutate(ht_stim_num = ifelse(type == \"HT\", stimNum, 0)) %>%\n",
    "  filter(ht_stim_num != 0) %>%\n",
    "  group_by(day, subnum, ht_stim_num) %>%\n",
    "  summarise(mean_y = mean(log(rt)),\n",
    "            sem_y = sd(log(rt))/sqrt(n()),\n",
    "            .groups = 'keep') %>%\n",
    "  ungroup()  %>%\n",
    "  group_by(subnum, day) %>%\n",
    "  mutate(stim_count = 1:n(),\n",
    "         stim_count = as.factor(stim_count))\n",
    "\n",
    "for(i in 1:length(subs)){\n",
    "  cur_sub = subs[i]\n",
    "  \n",
    "  p = plt_data %>%\n",
    "    filter(subnum == cur_sub) %>%\n",
    "    ggplot(aes(day, mean_y, shape = stim_count))+\n",
    "    geom_point()+\n",
    "    geom_errorbar(aes(ymin = mean_y - sem_y, ymax = mean_y + sem_y), width = 0)+\n",
    "    facet_wrap(~ht_stim_num) + \n",
    "    guides(shape = \"none\") + \n",
    "    scale_shape_manual(values = c(1:12))+\n",
    "    labs(x = \"Day\", y = \"Mean Log RT\", title = paste0(\"Y/N Task sub-\", cur_sub,\" HT stim mean log RT\"))+\n",
    "    theme(panel.grid = element_blank())+\n",
    "    scale_x_continuous(breaks=seq(1,11,1))\n",
    "  \n",
    "  # Annotate plot with stim images\n",
    "  out = ggplot_build(p)\n",
    "  \n",
    "  num_panels = length(levels(out$data[[1]]$PANEL))\n",
    "  \n",
    "  img_path = paste0(fig_out_path, 'stims/sub-', cur_sub, '/')\n",
    "  \n",
    "  for (i in 1:num_panels){\n",
    "    \n",
    "    cur_ht_stim_num = out$layout$layout$ht_stim_num[i]\n",
    "    \n",
    "    img_fn = paste0(img_path, cur_ht_stim_num, '_ht.png')\n",
    "    \n",
    "    cur_ht_stim_img = img_read_border_annotate(img_fn, annot_img = F, border_img = F)\n",
    "    \n",
    "    tmp = plt_data %>%\n",
    "      filter((subnum == cur_sub) & (ht_stim_num == cur_ht_stim_num))\n",
    "    \n",
    "    p = p + annotation_custom2(cur_ht_stim_img, data=tmp[1,], xmin=9, xmax=11, ymin=0, ymax=.2)\n",
    "  }\n",
    "  \n",
    "  ggsave(file=paste0(fig_out_path, 'yn_sub-',cur_sub,'_HTmeanLogRTOverDays.jpg'), p, height = 8, width=12, units=\"in\")  \n",
    "}\n",
    "\n",
    "rm(plt_data, p)"
   ]
  }
 ],
 "metadata": {
  "jupytext": {
   "cell_metadata_filter": "message,tags,-all",
   "main_language": "R",
   "notebook_metadata_filter": "-all"
  }
 },
 "nbformat": 4,
 "nbformat_minor": 5
}
