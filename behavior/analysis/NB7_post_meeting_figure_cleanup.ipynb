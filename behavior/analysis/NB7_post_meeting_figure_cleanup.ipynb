{
 "cells": [
  {
   "cell_type": "raw",
   "id": "4f300960",
   "metadata": {},
   "source": [
    "---\n",
    "title: \"Novel vs. repeated choice project: Figure clean up\"\n",
    "output: \n",
    "  html_document:\n",
    "    toc: true\n",
    "    toc_float: true\n",
    "    code_folding: 'hide'\n",
    "---"
   ]
  },
  {
   "cell_type": "markdown",
   "id": "73bbbf5b",
   "metadata": {},
   "source": [
    "# Set up environment and load in data"
   ]
  },
  {
   "cell_type": "code",
   "execution_count": null,
   "id": "38262fc6",
   "metadata": {
    "tags": [
     "remove_cell"
    ]
   },
   "outputs": [],
   "source": [
    "library(tidyverse)\n",
    "library(here)\n",
    "theme_set(theme_bw())\n",
    "helpers_path = paste0(here(),'/analysis/helpers/')\n",
    "source(paste0(helpers_path, '01_clean_behavioral_data.R'))\n",
    "fig_out_path = paste0(here(), '/outputs/fig/')"
   ]
  },
  {
   "cell_type": "markdown",
   "id": "0f06c791",
   "metadata": {},
   "source": [
    "Add columns that will be used for plots below."
   ]
  },
  {
   "cell_type": "code",
   "execution_count": null,
   "id": "7493bd10",
   "metadata": {},
   "outputs": [],
   "source": [
    "data_yn_clean = data_yn_clean %>%\n",
    "  mutate(correct = ifelse(possiblePayoff>reference & yesChosen == 1, 1, ifelse(possiblePayoff < reference & yesChosen == 0, 1, 0))) %>%\n",
    "  mutate(type = ifelse(type == 1, \"HT\", \"RE\"),\n",
    "         week = ifelse(week == 1, \"Week 1\", ifelse(week == 2, \"Week 2\", ifelse(week == 3, \"Week 3\", NA))),\n",
    "         week = factor(week, levels = c(\"Week 1\", \"Week 2\", \"Week 3\"))) %>%\n",
    "  mutate(val_diff = possiblePayoff - reference,\n",
    "         val_diff_bin = round(val_diff/50),\n",
    "         val_diff_bin_str = paste0(val_diff_bin*50-25,\":\",val_diff_bin*50+25),\n",
    "         val_diff_bin_str = factor(val_diff_bin_str, levels = c(\"-225:-175\", \"-175:-125\", \"-125:-75\", \"-75:-25\", \"-25:25\", \"25:75\", \"75:125\", \"125:175\", \"175:225\")))\n",
    "\n",
    "data_bc_clean = data_bc_clean %>%\n",
    "  mutate(correct = ifelse(possiblePayoffleft>possiblePayoffright & leftChosen == 1, 1, ifelse(possiblePayoffleft<possiblePayoffright & leftChosen == 0, 1, 0))) %>%\n",
    "  mutate(type = ifelse(typeLeft == 1, \"HT\", \"RE\"),\n",
    "         week = ifelse(week == 1, \"Week 1\", ifelse(week == 2, \"Week 2\", ifelse(week == 3, \"Week 3\", NA))),\n",
    "         week = factor(week, levels = c(\"Week 1\", \"Week 2\", \"Week 3\"))) %>%\n",
    "  mutate(val_diff = possiblePayoffleft - possiblePayoffright,\n",
    "         val_diff_bin = round(val_diff/50),\n",
    "         val_diff_bin_str = paste0(val_diff_bin*50-25,\":\",val_diff_bin*50+25),\n",
    "         val_diff_bin_str = factor(val_diff_bin_str, levels = c(\"-275:-225\",\"-225:-175\", \"-175:-125\", \"-125:-75\", \"-75:-25\", \"-25:25\", \"25:75\", \"75:125\", \"125:175\", \"175:225\", \"225:275\"))) %>%\n",
    "  filter(!is.na(val_diff_bin_str))"
   ]
  },
  {
   "cell_type": "markdown",
   "id": "4776835b",
   "metadata": {},
   "source": [
    "# Accuracy across days"
   ]
  },
  {
   "cell_type": "code",
   "execution_count": null,
   "id": "7636671d",
   "metadata": {},
   "outputs": [],
   "source": [
    "sub_summary = data_yn_clean %>%\n",
    "  group_by(day, subnum, type) %>%\n",
    "  summarise(mean_accuracy = mean(correct),\n",
    "            sem_accuracy = sd(correct)/sqrt(n()),\n",
    "            .groups = 'keep') %>%\n",
    "  mutate(task = \"Y/N\",\n",
    "         sum_type = \"sub\") %>%\n",
    "  rbind(data_bc_clean %>%\n",
    "  group_by(day, subnum, type) %>%\n",
    "  summarise(mean_accuracy = mean(correct),\n",
    "            sem_accuracy = sd(correct)/sqrt(n()),\n",
    "            .groups = 'keep') %>%\n",
    "  mutate(task = \"BC\",\n",
    "         sum_type = \"sub\")) %>%\n",
    "  mutate(task = factor(task, levels = c(\"Y/N\", \"BC\")))\n",
    "\n",
    "group_summary = data_yn_clean %>%\n",
    "  group_by(day, type) %>%\n",
    "  summarise(mean_accuracy = mean(correct),\n",
    "            .groups = 'keep') %>%\n",
    "  mutate(task = \"Y/N\",\n",
    "         sum_type = \"group\", subnum = 600) %>%\n",
    "  rbind(data_bc_clean %>%\n",
    "          group_by(day, type) %>%\n",
    "          summarise(mean_accuracy = mean(correct),\n",
    "                    .groups = 'keep') %>%\n",
    "          mutate(task = \"BC\",\n",
    "                 sum_type = \"group\", subnum = 600)) %>%\n",
    "  mutate(task = factor(task, levels = c(\"Y/N\", \"BC\")))"
   ]
  },
  {
   "cell_type": "code",
   "execution_count": null,
   "id": "e638cf5c",
   "metadata": {
    "lines_to_next_cell": 2
   },
   "outputs": [],
   "source": [
    "p = ggplot()+\n",
    "  geom_point(data = group_summary, aes(day, mean_accuracy, color = type), size = 2)+\n",
    "  geom_line(data = group_summary, aes(day, mean_accuracy, color = type))+\n",
    "  geom_point(data = sub_summary, aes(day, mean_accuracy, color = type, shape = as.factor(subnum)), alpha = .3, position=position_dodge(width=0.75))+\n",
    "  geom_errorbar(data = sub_summary, aes(x = day, color = type, ymin = mean_accuracy - sem_accuracy, ymax = mean_accuracy + sem_accuracy, linetype = as.factor(subnum)), width=0, alpha = .3, position=position_dodge(width=0.75))+\n",
    "  # geom_line(data = sub_summary, aes(day, mean_accuracy, color = type, linetype = as.factor(subnum)), alpha = .3)+\n",
    "  facet_wrap(~task)+\n",
    "  guides(linetype = \"none\")+\n",
    "  labs(x = \"Day\", y = \"Accuracy\", color=\"\", shape = \"\")+\n",
    "  theme(panel.grid = element_blank(),\n",
    "        legend.position = \"bottom\",\n",
    "        legend.box.margin=margin(t = -10),\n",
    "        legend.spacing.y = unit(-0.25, \"cm\"),\n",
    "        legend.box=\"vertical\")+\n",
    "  scale_x_continuous(breaks=seq(1,11,1))+\n",
    "  scale_color_brewer(palette = \"Dark2\")\n",
    "\n",
    "# ggsave(file=paste0(fig_out_path, 'ynbc_groupAndSub_accuracyOverDays.jpg'), p, height = 5, width=12, units=\"in\")\n",
    "p"
   ]
  },
  {
   "cell_type": "code",
   "execution_count": null,
   "id": "e178dc7d",
   "metadata": {},
   "outputs": [],
   "source": [
    "rm(sub_summary, group_summary, p)"
   ]
  },
  {
   "cell_type": "markdown",
   "id": "0633bb7d",
   "metadata": {},
   "source": [
    "# Logits across days\n",
    "\n",
    "## YN Task"
   ]
  },
  {
   "cell_type": "code",
   "execution_count": null,
   "id": "7f51c65f",
   "metadata": {},
   "outputs": [],
   "source": [
    "sub_summary = data_yn_clean %>%\n",
    "  mutate(time_bin = ifelse(day == 1, \"Day 1\", ifelse(day == 2, \"Day 2\", ifelse(day == 3, \"Day 3\", ifelse((day > 3) & (day < 8), \"Week 2\", \"Week 3\"))))) %>%\n",
    "  group_by(subnum, time_bin, val_diff_bin_str, type) %>%\n",
    "  summarise(mean_y = mean(yesChosen),\n",
    "            sem_y = sd(yesChosen)/sqrt(n()),\n",
    "            .groups=\"keep\")\n",
    "\n",
    "group_summary = data_yn_clean %>%\n",
    "  mutate(time_bin = ifelse(day == 1, \"Day 1\", ifelse(day == 2, \"Day 2\", ifelse(day == 3, \"Day 3\", ifelse((day > 3) & (day < 8), \"Week 2\", \"Week 3\"))))) %>%\n",
    "  group_by(time_bin, val_diff_bin_str, type) %>%\n",
    "  summarise(mean_y = mean(yesChosen),\n",
    "            .groups=\"keep\")"
   ]
  },
  {
   "cell_type": "code",
   "execution_count": null,
   "id": "59e23bb9",
   "metadata": {
    "lines_to_next_cell": 0
   },
   "outputs": [],
   "source": [
    "p = ggplot() +\n",
    "  geom_hline(data = group_summary, aes(yintercept =.5), color=\"gray\")+\n",
    "  geom_vline(data = group_summary, aes(xintercept = 5), color=\"gray\")+\n",
    "  geom_point(data = group_summary, aes(val_diff_bin_str, mean_y, color = type, alpha = time_bin, size = time_bin))+\n",
    "  geom_line(data = group_summary, aes(val_diff_bin_str, mean_y, color = type, group = time_bin, alpha = time_bin)) +\n",
    "  facet_wrap(~type)+\n",
    "  labs(x = \"Value Stim - Value Reference\", y = \"p(Yes)\", title=\"Y/N Task\", alpha=\"\", size = \"\")+\n",
    "  theme(panel.grid = element_blank(),\n",
    "        legend.position = \"bottom\",\n",
    "        axis.text.x = element_text(angle = 15, margin = margin(t = 5), size = 12),\n",
    "        axis.text.y = element_text(size = 12),\n",
    "        strip.text = element_text(size = 12),\n",
    "        legend.box.margin=margin(t = -10),\n",
    "        legend.spacing.y = unit(-0.25, \"cm\"),\n",
    "        legend.box=\"vertical\")+\n",
    "  scale_color_brewer(palette = \"Dark2\")+\n",
    "  scale_x_discrete(labels=c(\"-225:-175\", \"\", \"-125:-75\", \"\", \"-25:25\", \"\", \"75:125\", \"\", \"175:225\"))+\n",
    "  scale_y_continuous(breaks = seq(0,1,.5))+\n",
    "  guides(linetype = \"none\", color = \"none\")+\n",
    "  scale_alpha_manual(values = c(1, .6, .5, .3, .2))+\n",
    "  scale_size_manual(values = c(1.5, 2 , 2.5, 3, 3.5))\n",
    "\n",
    "# ggsave(file=paste0(fig_out_path, 'yn_group_pYesOverValDiffAcrossTime.jpg'), p, height = 4, width = 8, units=\"in\")\n",
    "\n",
    "p"
   ]
  },
  {
   "cell_type": "code",
   "execution_count": null,
   "id": "ef9766a7",
   "metadata": {
    "lines_to_next_cell": 0
   },
   "outputs": [],
   "source": [
    "p = ggplot() +\n",
    "  geom_hline(data = sub_summary, aes(yintercept =.5), color=\"gray\")+\n",
    "  geom_vline(data = sub_summary, aes(xintercept = 5), color=\"gray\")+\n",
    "  geom_point(data = sub_summary, aes(val_diff_bin_str, mean_y, color = type, alpha = time_bin, size = time_bin))+\n",
    "  geom_line(data = sub_summary, aes(val_diff_bin_str, mean_y, color = type, group = time_bin, alpha = time_bin)) +\n",
    "  geom_errorbar(data = sub_summary, aes(x = val_diff_bin_str, ymin = mean_y-sem_y, ymax = mean_y + sem_y, color = type), width = 0, alpha = .6)+\n",
    "  facet_grid(type~subnum)+\n",
    "  labs(x = \"Value Stim - Value Reference\", y = \"p(Yes)\", title=\"Y/N Task\", alpha=\"\", size = \"\")+\n",
    "  theme(panel.grid = element_blank(),\n",
    "        legend.position = \"bottom\",\n",
    "        axis.text.x = element_text(angle = 15, margin = margin(t = 5)),\n",
    "        legend.box.margin=margin(t = -10),\n",
    "        legend.spacing.y = unit(-0.25, \"cm\"),\n",
    "        legend.box=\"vertical\")+\n",
    "  scale_color_brewer(palette = \"Dark2\")+\n",
    "  scale_x_discrete(labels=c(\"-225:-175\", \"\", \"-125:-75\", \"\", \"-25:25\", \"\", \"75:125\", \"\", \"175:225\"))+\n",
    "  scale_y_continuous(breaks = seq(0,1,.5))+\n",
    "  guides(linetype = \"none\", color = \"none\")+\n",
    "  scale_alpha_manual(values = c(1, .6, .5, .3, .2))+\n",
    "  scale_size_manual(values = c(1.5, 2 , 2.5, 3, 3.5))\n",
    "\n",
    "# ggsave(file=paste0(fig_out_path, 'yn_subj_pYesOverValDiffAcrossTime.jpg'), p, height = 5, width = 12, units=\"in\")\n",
    "p"
   ]
  },
  {
   "cell_type": "markdown",
   "id": "646a0b33",
   "metadata": {},
   "source": [
    "## BC Task"
   ]
  },
  {
   "cell_type": "code",
   "execution_count": null,
   "id": "fa14cf5a",
   "metadata": {},
   "outputs": [],
   "source": [
    "sub_summary = data_bc_clean %>%\n",
    "  mutate(time_bin = ifelse(day == 1, \"Day 1\", ifelse(day == 2, \"Day 2\", ifelse(day == 3, \"Day 3\", ifelse((day > 3) & (day < 8), \"Week 2\", \"Week 3\"))))) %>%\n",
    "  group_by(subnum, time_bin, val_diff_bin_str, type) %>%\n",
    "  summarise(mean_y = mean(leftChosen),\n",
    "            sem_y = sd(leftChosen)/sqrt(n()),\n",
    "            .groups=\"keep\")\n",
    "\n",
    "group_summary = data_bc_clean %>%\n",
    "  mutate(time_bin = ifelse(day == 1, \"Day 1\", ifelse(day == 2, \"Day 2\", ifelse(day == 3, \"Day 3\", ifelse((day > 3) & (day < 8), \"Week 2\", \"Week 3\"))))) %>%\n",
    "  group_by(time_bin, val_diff_bin_str, type) %>%\n",
    "  summarise(mean_y = mean(leftChosen),\n",
    "            .groups=\"keep\")"
   ]
  },
  {
   "cell_type": "code",
   "execution_count": null,
   "id": "9de596d1",
   "metadata": {},
   "outputs": [],
   "source": [
    "p = ggplot() +\n",
    "  geom_hline(data = group_summary, aes(yintercept =.5), color=\"gray\")+\n",
    "  geom_vline(data = group_summary, aes(xintercept = 6), color=\"gray\")+\n",
    "  geom_point(data = group_summary, aes(val_diff_bin_str, mean_y, color = type, alpha = time_bin, size = time_bin))+\n",
    "  geom_line(data = group_summary, aes(val_diff_bin_str, mean_y, color = type, group = time_bin, alpha = time_bin)) +\n",
    "  facet_wrap(~type)+\n",
    "  labs(x = \"Value Left - Value Right\", y = \"p(Left)\", title=\"BC Task\",  alpha=\"\", size = \"\")+\n",
    "  theme(panel.grid = element_blank(),\n",
    "        legend.position = \"bottom\",\n",
    "        axis.text.x = element_text(angle = 15, margin = margin(t = 5), size = 12),\n",
    "        axis.text.y = element_text(size = 12),\n",
    "        strip.text = element_text(size = 12),\n",
    "        legend.box.margin=margin(t = -10),\n",
    "        legend.spacing.y = unit(-0.25, \"cm\"),\n",
    "        legend.box=\"vertical\")+\n",
    "  scale_color_brewer(palette = \"Dark2\")+\n",
    "  scale_x_discrete(labels=c(\"\",\"-225:-175\", \"\", \"-125:-75\", \"\", \"-25:25\", \"\", \"75:125\", \"\", \"175:225\",\"\"))+\n",
    "  scale_y_continuous(breaks = seq(0,1,.5))+\n",
    "  guides(linetype = \"none\", color = \"none\")+\n",
    "  scale_alpha_manual(values = c(1, .6, .5, .3, .2))+\n",
    "  scale_size_manual(values = c(1.5, 2 , 2.5, 3, 3.5))\n",
    "\n",
    "# ggsave(file=paste0(fig_out_path, 'bc_group_pYesOverValDiffAcrossTime.jpg'), p, height = 4, width = 8, units=\"in\")\n",
    "\n",
    "p"
   ]
  },
  {
   "cell_type": "code",
   "execution_count": null,
   "id": "915d7b32",
   "metadata": {
    "lines_to_next_cell": 2
   },
   "outputs": [],
   "source": [
    "p = ggplot() +\n",
    "  geom_hline(data = sub_summary, aes(yintercept =.5), color=\"gray\")+\n",
    "  geom_vline(data = sub_summary, aes(xintercept = 6), color=\"gray\")+\n",
    "  geom_point(data = sub_summary, aes(val_diff_bin_str, mean_y, color = type, alpha = time_bin, size = time_bin))+\n",
    "  geom_line(data = sub_summary, aes(val_diff_bin_str, mean_y, color = type, group = time_bin, alpha = time_bin)) +\n",
    "  geom_errorbar(data = sub_summary, aes(x = val_diff_bin_str, ymin = mean_y-sem_y, ymax = mean_y + sem_y, color = type), width = 0, alpha = .6)+\n",
    "  facet_grid(type~subnum)+\n",
    "  labs(x = \"Value Left - Value Right\", y = \"p(Left)\", title=\"BC Task\", alpha=\"\", size = \"\")+\n",
    "  theme(panel.grid = element_blank(),\n",
    "        legend.position = \"bottom\",\n",
    "        axis.text.x = element_text(angle = 15, margin = margin(t = 5)),\n",
    "        legend.box.margin=margin(t = -10),\n",
    "        legend.spacing.y = unit(-0.25, \"cm\"),\n",
    "        legend.box=\"vertical\")+\n",
    "  scale_color_brewer(palette = \"Dark2\")+\n",
    "  scale_x_discrete(labels=c(\"\",\"-225:-175\", \"\", \"-125:-75\", \"\", \"-25:25\", \"\", \"75:125\", \"\", \"175:225\",\"\"))+\n",
    "  scale_y_continuous(breaks = seq(0,1,.5))+\n",
    "  guides(linetype = \"none\", color = \"none\")+\n",
    "  scale_alpha_manual(values = c(1, .6, .5, .3, .2))+\n",
    "  scale_size_manual(values = c(1.5, 2 , 2.5, 3, 3.5))\n",
    "\n",
    "# ggsave(file=paste0(fig_out_path, 'bc_subj_pYesOverValDiffAcrossTime.jpg'), p, height = 5, width = 12, units=\"in\")\n",
    "p"
   ]
  },
  {
   "cell_type": "markdown",
   "id": "6f2d411a",
   "metadata": {},
   "source": [
    "# RT across days"
   ]
  },
  {
   "cell_type": "code",
   "execution_count": null,
   "id": "6207abee",
   "metadata": {},
   "outputs": [],
   "source": [
    "sub_summary = data_yn_clean %>%\n",
    "  group_by(day, subnum, type) %>%\n",
    "  summarise(mean_y = mean(log(rt)),\n",
    "            sem_y = sd(log(rt))/sqrt(n()),\n",
    "            .groups = 'keep') %>%\n",
    "  mutate(task = \"Y/N\",\n",
    "         sum_type = \"sub\") %>%\n",
    "  rbind(data_bc_clean %>%\n",
    "  group_by(day, subnum, type) %>%\n",
    "  summarise(mean_y = mean(log(rt)),\n",
    "            sem_y = sd(log(rt))/sqrt(n()),\n",
    "            .groups = 'keep') %>%\n",
    "  mutate(task = \"BC\",\n",
    "         sum_type = \"sub\")) %>%\n",
    "  mutate(task = factor(task, levels = c(\"Y/N\", \"BC\")))\n",
    "\n",
    "group_summary = data_yn_clean %>%\n",
    "  group_by(day, type) %>%\n",
    "  summarise(mean_y = mean(log(rt)),\n",
    "            .groups = 'keep') %>%\n",
    "  mutate(task = \"Y/N\",\n",
    "         sum_type = \"group\", subnum = 600) %>%\n",
    "  rbind(data_bc_clean %>%\n",
    "          group_by(day, type) %>%\n",
    "          summarise(mean_y = mean(log(rt)),\n",
    "                    .groups = 'keep') %>%\n",
    "          mutate(task = \"BC\",\n",
    "                 sum_type = \"group\", subnum = 600)) %>%\n",
    "  mutate(task = factor(task, levels = c(\"Y/N\", \"BC\")))"
   ]
  },
  {
   "cell_type": "code",
   "execution_count": null,
   "id": "027a4144",
   "metadata": {
    "lines_to_next_cell": 0
   },
   "outputs": [],
   "source": [
    "p = ggplot()+\n",
    "  geom_point(data = group_summary, aes(day, mean_y, color = type), size = 2)+\n",
    "  geom_line(data = group_summary, aes(day, mean_y, color = type))+\n",
    "  geom_point(data = sub_summary, aes(day, mean_y, color= type, shape = as.factor(subnum)), alpha = .3, position=position_dodge(width=0.75))+\n",
    "  geom_errorbar(data = sub_summary, aes(x = day, color = type, ymin = mean_y - sem_y, ymax = mean_y + sem_y, linetype = as.factor(subnum)), width=0, alpha = .3, position=position_dodge(width=0.75))+\n",
    "  # geom_line(data = sub_summary, aes(day, mean_accuracy, color = type, linetype = as.factor(subnum)), alpha = .3)+\n",
    "  facet_wrap(~task)+\n",
    "  guides(linetype = \"none\")+\n",
    "  labs(x = \"Day\", y = \"Mean Log RT\", color=\"\", shape = \"\")+\n",
    "  theme(panel.grid = element_blank(),\n",
    "        legend.position = \"bottom\",\n",
    "        legend.box.margin=margin(t = -10),\n",
    "        legend.spacing.y = unit(-0.25, \"cm\"),\n",
    "        legend.box=\"vertical\")+\n",
    "  scale_x_continuous(breaks=seq(1,11,1))+\n",
    "  scale_color_brewer(palette = \"Dark2\")\n",
    "\n",
    "# ggsave(file=paste0(fig_out_path, 'ynbc_groupAndSub_meanLogRTOverDays.jpg'), p, height = 5, width=12, units=\"in\")\n",
    "p"
   ]
  },
  {
   "cell_type": "markdown",
   "id": "dc4de9fe",
   "metadata": {},
   "source": [
    "# RT slope across days\n",
    "\n",
    "## YN Task"
   ]
  },
  {
   "cell_type": "code",
   "execution_count": null,
   "id": "d501abb3",
   "metadata": {},
   "outputs": [],
   "source": [
    "data_yn_clean = data_yn_clean %>%\n",
    "  mutate(abs_val_diff_bin_str =  paste0(abs(val_diff_bin)*50-25,\":\",abs(val_diff_bin)*50+25),\n",
    "         abs_val_diff_bin_str = ifelse(abs_val_diff_bin_str ==  \"-25:25\", \"0:25\", abs_val_diff_bin_str),\n",
    "         abs_val_diff_bin_str = factor(abs_val_diff_bin_str, levels = c(\"0:25\", \"25:75\", \"75:125\", \"125:175\", \"175:225\", \"225:275\")))"
   ]
  },
  {
   "cell_type": "code",
   "execution_count": null,
   "id": "f36b3442",
   "metadata": {},
   "outputs": [],
   "source": [
    "sub_summary = data_yn_clean %>%\n",
    "  mutate(time_bin = ifelse(day == 1, \"Day 1\", ifelse(day == 2, \"Day 2\", ifelse(day == 3, \"Day 3\", ifelse((day > 3) & (day < 8), \"Week 2\", \"Week 3\"))))) %>%\n",
    "  group_by(subnum, time_bin, abs_val_diff_bin_str, type) %>%\n",
    "  summarise(mean_y = mean(log(rt)),\n",
    "            sem_y = sd(log(rt))/sqrt(n()),\n",
    "            .groups=\"keep\")\n",
    "\n",
    "group_summary = data_yn_clean %>%\n",
    "  mutate(time_bin = ifelse(day == 1, \"Day 1\", ifelse(day == 2, \"Day 2\", ifelse(day == 3, \"Day 3\", ifelse((day > 3) & (day < 8), \"Week 2\", \"Week 3\"))))) %>%\n",
    "  group_by(time_bin, abs_val_diff_bin_str, type) %>%\n",
    "  summarise(mean_y = mean(log(rt)),\n",
    "            .groups=\"keep\")"
   ]
  },
  {
   "cell_type": "code",
   "execution_count": null,
   "id": "6a80242f",
   "metadata": {
    "lines_to_next_cell": 0
   },
   "outputs": [],
   "source": [
    "p = ggplot() +\n",
    "  geom_point(data = group_summary, aes(abs_val_diff_bin_str, mean_y, color = type, alpha = time_bin, size = time_bin))+\n",
    "  geom_line(data = group_summary, aes(abs_val_diff_bin_str, mean_y, color = type, group = time_bin, alpha = time_bin)) +\n",
    "  facet_wrap(~type)+\n",
    "  labs(x = \"|Value Stim - Value Reference|\", y = \"Mean Log RT\", title=\"Y/N Task\", alpha=\"\", size = \"\")+\n",
    "  theme(panel.grid = element_blank(),\n",
    "        legend.position = \"bottom\",\n",
    "        axis.text.x = element_text(angle = 15, margin = margin(t = 5), size = 12),\n",
    "        axis.text.y = element_text(size = 12),\n",
    "        strip.text = element_text(size = 12),\n",
    "        legend.box.margin=margin(t = -10),\n",
    "        legend.spacing.y = unit(-0.25, \"cm\"),\n",
    "        legend.box=\"vertical\")+\n",
    "  scale_color_brewer(palette = \"Dark2\")+\n",
    "  scale_y_continuous(breaks = seq(0,1,.5))+\n",
    "  guides(linetype = \"none\", color = \"none\")+\n",
    "  scale_alpha_manual(values = c(1, .6, .5, .3, .2))+\n",
    "  scale_size_manual(values = c(1.5, 2 , 2.5, 3, 3.5))\n",
    "\n",
    "# ggsave(file=paste0(fig_out_path, 'yn_group_MeanLogRTOverValDiffAcrossTime.jpg'), p, height = 4, width = 8, units=\"in\")\n",
    "\n",
    "p"
   ]
  },
  {
   "cell_type": "code",
   "execution_count": null,
   "id": "6e5c3a1c",
   "metadata": {},
   "outputs": [],
   "source": [
    "p = ggplot() +\n",
    "   geom_point(data = sub_summary, aes(abs_val_diff_bin_str, mean_y, color = type, alpha = time_bin, size = time_bin))+\n",
    "  geom_line(data = sub_summary, aes(abs_val_diff_bin_str, mean_y, color = type, group = time_bin, alpha = time_bin)) +\n",
    "  geom_errorbar(data = sub_summary, aes(x = abs_val_diff_bin_str, ymin = mean_y-sem_y, ymax = mean_y + sem_y, color = type), width = 0, alpha = .6)+\n",
    "  facet_grid(type~subnum)+\n",
    "  labs(x = \"|Value Stim - Value Reference|\", y = \"Mean Log RT\", title=\"Y/N Task\", alpha=\"\", size = \"\")+\n",
    "  theme(panel.grid = element_blank(),\n",
    "        legend.position = \"bottom\",\n",
    "        axis.text.x = element_text(angle = 15, margin = margin(t = 5)),\n",
    "        legend.box.margin=margin(t = -10),\n",
    "        legend.spacing.y = unit(-0.25, \"cm\"),\n",
    "        legend.box=\"vertical\")+\n",
    "  scale_color_brewer(palette = \"Dark2\")+\n",
    "  scale_y_continuous(breaks = seq(0,1,.5))+\n",
    "  guides(linetype = \"none\", color = \"none\")+\n",
    "  scale_alpha_manual(values = c(1, .6, .5, .3, .2))+\n",
    "  scale_size_manual(values = c(1.5, 2 , 2.5, 3, 3.5))\n",
    "\n",
    "# ggsave(file=paste0(fig_out_path, 'yn_subj_MeanLogRTValDiffAcrossTime.jpg'), p, height = 5, width = 12, units=\"in\")\n",
    "p"
   ]
  },
  {
   "cell_type": "markdown",
   "id": "2262e81d",
   "metadata": {},
   "source": [
    "## BC Task"
   ]
  },
  {
   "cell_type": "code",
   "execution_count": null,
   "id": "abd572b4",
   "metadata": {},
   "outputs": [],
   "source": [
    "data_bc_clean = data_bc_clean %>%\n",
    "  mutate(abs_val_diff_bin_str =  paste0(abs(val_diff_bin)*50-25,\":\",abs(val_diff_bin)*50+25),\n",
    "         abs_val_diff_bin_str = ifelse(abs_val_diff_bin_str ==  \"-25:25\", \"0:25\", abs_val_diff_bin_str),\n",
    "         abs_val_diff_bin_str = factor(abs_val_diff_bin_str, levels = c(\"0:25\", \"25:75\", \"75:125\", \"125:175\", \"175:225\", \"225:275\")))"
   ]
  },
  {
   "cell_type": "code",
   "execution_count": null,
   "id": "1985ea20",
   "metadata": {},
   "outputs": [],
   "source": [
    "sub_summary = data_bc_clean %>%\n",
    "  mutate(time_bin = ifelse(day == 1, \"Day 1\", ifelse(day == 2, \"Day 2\", ifelse(day == 3, \"Day 3\", ifelse((day > 3) & (day < 8), \"Week 2\", \"Week 3\"))))) %>%\n",
    "  group_by(subnum, time_bin, abs_val_diff_bin_str, type) %>%\n",
    "  summarise(mean_y = mean(log(rt)),\n",
    "            sem_y = sd(log(rt))/sqrt(n()),\n",
    "            .groups=\"keep\")\n",
    "\n",
    "group_summary = data_bc_clean %>%\n",
    "  mutate(time_bin = ifelse(day == 1, \"Day 1\", ifelse(day == 2, \"Day 2\", ifelse(day == 3, \"Day 3\", ifelse((day > 3) & (day < 8), \"Week 2\", \"Week 3\"))))) %>%\n",
    "  group_by(time_bin, abs_val_diff_bin_str, type) %>%\n",
    "  summarise(mean_y = mean(log(rt)),\n",
    "            .groups=\"keep\")"
   ]
  },
  {
   "cell_type": "code",
   "execution_count": null,
   "id": "ad569e9e",
   "metadata": {
    "lines_to_next_cell": 0
   },
   "outputs": [],
   "source": [
    "p = ggplot() +\n",
    "  geom_point(data = group_summary, aes(abs_val_diff_bin_str, mean_y, color = type, alpha = time_bin, size = time_bin))+\n",
    "  geom_line(data = group_summary, aes(abs_val_diff_bin_str, mean_y, color = type, group = time_bin, alpha = time_bin)) +\n",
    "  facet_wrap(~type)+\n",
    "  labs(x = \"|Value Stim - Value Reference|\", y = \"Mean Log RT\", title=\"BC Task\", alpha=\"\", size = \"\")+\n",
    "  theme(panel.grid = element_blank(),\n",
    "        legend.position = \"bottom\",\n",
    "        axis.text.x = element_text(angle = 15, margin = margin(t = 5), size = 12),\n",
    "        axis.text.y = element_text(size = 12),\n",
    "        strip.text = element_text(size = 12),\n",
    "        legend.box.margin=margin(t = -10),\n",
    "        legend.spacing.y = unit(-0.25, \"cm\"),\n",
    "        legend.box=\"vertical\")+\n",
    "  scale_color_brewer(palette = \"Dark2\")+\n",
    "  scale_y_continuous(breaks = seq(0,1,.5))+\n",
    "  guides(linetype = \"none\", color = \"none\")+\n",
    "  scale_alpha_manual(values = c(1, .6, .5, .3, .2))+\n",
    "  scale_size_manual(values = c(1.5, 2 , 2.5, 3, 3.5))\n",
    "\n",
    "# ggsave(file=paste0(fig_out_path, 'bc_group_MeanLogRTOverValDiffAcrossTime.jpg'), p, height = 4, width = 8, units=\"in\")\n",
    "\n",
    "p"
   ]
  },
  {
   "cell_type": "code",
   "execution_count": null,
   "id": "937dcd3e",
   "metadata": {
    "lines_to_next_cell": 0
   },
   "outputs": [],
   "source": [
    "p = ggplot() +\n",
    "  geom_point(data = sub_summary, aes(abs_val_diff_bin_str, mean_y, color = type, shape = time_bin), size = 1.5)+\n",
    "  geom_line(data = sub_summary, aes(abs_val_diff_bin_str, mean_y, color = type, group = time_bin, linetype = time_bin)) +\n",
    "  geom_errorbar(data = sub_summary, aes(x = abs_val_diff_bin_str, ymin = mean_y-sem_y, ymax = mean_y + sem_y, color = type), width = 0, alpha = .6)+\n",
    "  facet_grid(type~subnum)+\n",
    "  labs(x = \"|Value Stim - Value Reference|\", y = \"Mean Log RT\", title=\"BC Task\", color=\"\", shape=\"\")+\n",
    "  theme(panel.grid = element_blank(),\n",
    "        legend.position = \"bottom\",\n",
    "        axis.text.x = element_text(angle = 15, margin = margin(t = 5)),\n",
    "        legend.box.margin=margin(t = -10),\n",
    "        legend.spacing.y = unit(-0.25, \"cm\"),\n",
    "        legend.box=\"vertical\")+\n",
    "  scale_color_brewer(palette = \"Dark2\")+\n",
    "  scale_y_continuous(breaks = seq(0,1,.5))+\n",
    "  guides(linetype = \"none\")\n",
    "\n",
    "# ggsave(file=paste0(fig_out_path, 'bc_subj_MeanLogRTValDiffAcrossTime.jpg'), p, height = 5, width = 12, units=\"in\")\n",
    "p"
   ]
  },
  {
   "cell_type": "markdown",
   "id": "e5a46e63",
   "metadata": {},
   "source": [
    "# Fixation durations"
   ]
  },
  {
   "cell_type": "code",
   "execution_count": null,
   "id": "3824638b",
   "metadata": {},
   "outputs": [],
   "source": [
    "data_bc_fix = read.csv(paste0(here(), '/inputs/data_fixBC.csv'))\n",
    "\n",
    "data_bc_fix = data_bc_fix %>%\n",
    "  mutate(correct = ifelse(possiblePayoffleft>possiblePayoffright & leftChosen == 1, 1, ifelse(possiblePayoffleft<possiblePayoffright & leftChosen == 0, 1, 0))) %>%\n",
    "  mutate(type = ifelse(typeLeft == 1, \"HT\", \"RE\")) %>%\n",
    "  mutate(val_diff = possiblePayoffleft - possiblePayoffright,\n",
    "         val_diff_bin = round(val_diff/50),\n",
    "         val_diff_bin_str = paste0(val_diff_bin*50-25,\":\",val_diff_bin*50+25),\n",
    "         val_diff_bin_str = factor(val_diff_bin_str, levels = c(\"-275:-225\",\"-225:-175\", \"-175:-125\", \"-125:-75\", \"-75:-25\", \"-25:25\", \"25:75\", \"75:125\", \"125:175\", \"175:225\", \"225:275\")),\n",
    "         abs_val_diff_bin_str =  paste0(abs(val_diff_bin)*50-25,\":\",abs(val_diff_bin)*50+25),\n",
    "         abs_val_diff_bin_str = ifelse(abs_val_diff_bin_str ==  \"-25:25\", \"0:25\", abs_val_diff_bin_str),\n",
    "         abs_val_diff_bin_str = factor(abs_val_diff_bin_str, levels = c(\"0:25\", \"25:75\", \"75:125\", \"125:175\", \"175:225\", \"225:275\"))) %>%\n",
    "  filter(!is.na(val_diff_bin_str))"
   ]
  },
  {
   "cell_type": "code",
   "execution_count": null,
   "id": "c4f9bcb7",
   "metadata": {
    "lines_to_next_cell": 2
   },
   "outputs": [],
   "source": [
    "sub_summary = data_bc_fix %>%\n",
    "  select(subnum, day, type, firstFix, middleFix, lastFix, fixDuration) %>%\n",
    "  mutate(fixType = ifelse(firstFix == 1, \"first\", ifelse(middleFix == 1, \"middle\", ifelse(lastFix == 1, \"last\", NA)))) %>%\n",
    "  group_by(subnum, day, type, fixType) %>%\n",
    "  summarise(mean_duration = mean(fixDuration),\n",
    "            sem_duration = sd(fixDuration)/sqrt(n()),\n",
    "            .groups = \"keep\") %>%\n",
    "  mutate(day = paste0(\"Day \", day),\n",
    "         day = factor(day, levels = c(\"Day 3\", \"Day 7\", \"Day 11\")),\n",
    "         fixType = factor(fixType, levels = c(\"first\", \"middle\", \"last\")))\n",
    "\n",
    "group_summary = data_bc_fix %>%\n",
    "  select(subnum, day, type, firstFix, middleFix, lastFix, fixDuration) %>%\n",
    "  mutate(fixType = ifelse(firstFix == 1, \"first\", ifelse(middleFix == 1, \"middle\", ifelse(lastFix == 1, \"last\", NA)))) %>%\n",
    "  group_by(day, type, fixType) %>%\n",
    "  summarise(mean_duration = mean(fixDuration),\n",
    "            .groups = \"keep\") %>%\n",
    "  mutate(day = paste0(\"Day \", day),\n",
    "         day = factor(day, levels = c(\"Day 3\", \"Day 7\", \"Day 11\")),\n",
    "         fixType = factor(fixType, levels = c(\"first\", \"middle\", \"last\")))"
   ]
  },
  {
   "cell_type": "code",
   "execution_count": null,
   "id": "7f268621",
   "metadata": {},
   "outputs": [],
   "source": [
    "p = ggplot()+\n",
    "    geom_point(data = sub_summary, aes(fixType, mean_duration, color= type, shape = as.factor(subnum)), alpha = 1, size=1.5)+\n",
    "  geom_line(data = sub_summary, aes(fixType, mean_duration, color= type, group = as.factor(subnum), linetype = as.factor(subnum)), alpha = .4)+\n",
    "  geom_errorbar(data = sub_summary, aes(x = fixType, color = type, ymin = mean_duration - sem_duration, ymax =  mean_duration + sem_duration, linetype = as.factor(subnum)), width=0, alpha = .5)+\n",
    "  labs(title = \"BC Task\", x = \"Fixation Type\", y = \"Duration (ms)\", color=\"\", shape = \"\")+\n",
    "  facet_grid(type ~ day)+\n",
    "  theme(panel.grid = element_blank(),\n",
    "        legend.position = \"bottom\",\n",
    "        axis.text.x = element_text(margin = margin(t = 5)),\n",
    "        legend.box.margin=margin(t = -10),\n",
    "        legend.spacing.y = unit(-0.25, \"cm\"),\n",
    "        legend.box=\"vertical\")+\n",
    "  scale_color_brewer(palette = \"Dark2\")+\n",
    "  guides(linetype = \"none\")\n",
    "\n",
    "# ggsave(file=paste0(fig_out_path, 'bc_subj_fixDurOverFixType.jpg'), p, height = 5, width = 8, units=\"in\")\n",
    "p  "
   ]
  },
  {
   "cell_type": "markdown",
   "id": "c87dcd20",
   "metadata": {},
   "source": [
    "# Number of fixations"
   ]
  },
  {
   "cell_type": "code",
   "execution_count": null,
   "id": "fd001781",
   "metadata": {},
   "outputs": [],
   "source": [
    "sub_summary = data_bc_fix %>%\n",
    "  filter(lastFix != 1) %>%\n",
    "  group_by(subnum, day, type, val_diff_bin_str) %>%\n",
    "  summarise(mean_num_fix = mean(numTotalFix), \n",
    "            sem_num_fix = sd(numTotalFix)/sqrt(n()),\n",
    "            .groups=\"keep\") %>%\n",
    "  mutate(day = paste0(\"Day \", day),\n",
    "         day = factor(day, levels = c(\"Day 3\", \"Day 7\", \"Day 11\")))"
   ]
  },
  {
   "cell_type": "code",
   "execution_count": null,
   "id": "e87fa701",
   "metadata": {},
   "outputs": [],
   "source": [
    "p = sub_summary %>%\n",
    "  ggplot(aes(val_diff_bin_str, mean_num_fix, color = type))+\n",
    "  geom_vline(aes(xintercept = 6), color=\"gray\")+\n",
    "  geom_point(size = 1.5)+\n",
    "  geom_errorbar(aes(ymin = mean_num_fix - sem_num_fix, ymax = mean_num_fix + sem_num_fix), width = 0, size = 1, alpha = .5)+\n",
    "  geom_line(aes(group = type))+\n",
    "  labs(title = \"BC Task\", x = \"Value Left - Value Right\", y = \"Mean Number of Fixations\", color=\"\")+\n",
    "  # facet_grid(type ~ day)+\n",
    "  facet_grid(subnum ~ day, scales = 'free_y')+\n",
    "  theme(panel.grid = element_blank(),\n",
    "        legend.position = \"none\",\n",
    "        axis.text.x = element_text(angle = 15, margin = margin(t = 5)),\n",
    "        legend.box.margin=margin(t = -10))+\n",
    "  scale_color_brewer(palette = \"Dark2\")+\n",
    "  scale_y_continuous(breaks = seq(0,10,2))+\n",
    "  scale_x_discrete(labels=c(\"\",\"-225:-175\", \"\", \"-125:-75\", \"\", \"-25:25\", \"\", \"75:125\", \"\", \"175:225\", \"\"))\n",
    "\n",
    "# ggsave(file=paste0(fig_out_path, 'bc_subj_meanNumFixOverValDiff.jpg'), p, height = 6, width = 8, units=\"in\")\n",
    "p"
   ]
  },
  {
   "cell_type": "code",
   "execution_count": null,
   "id": "95fd8f43",
   "metadata": {},
   "outputs": [],
   "source": [
    "sub_summary = data_bc_fix %>%\n",
    "  filter(lastFix != 1) %>%\n",
    "  group_by(subnum, day, type,abs_val_diff_bin_str) %>%\n",
    "  summarise(mean_num_fix = mean(numTotalFix), \n",
    "            sem_num_fix = sd(numTotalFix)/sqrt(n()),\n",
    "            .groups=\"keep\") %>%\n",
    "  mutate(day = paste0(\"Day \", day),\n",
    "         day = factor(day, levels = c(\"Day 3\", \"Day 7\", \"Day 11\")))"
   ]
  },
  {
   "cell_type": "code",
   "execution_count": null,
   "id": "6df91d55",
   "metadata": {},
   "outputs": [],
   "source": [
    "p = sub_summary %>%\n",
    "  ggplot(aes(abs_val_diff_bin_str, mean_num_fix, color = type))+\n",
    "  geom_point(size = 1.5)+\n",
    "  geom_errorbar(aes(ymin = mean_num_fix - sem_num_fix, ymax = mean_num_fix + sem_num_fix), width = 0, size = 1, alpha = .5)+\n",
    "  geom_line(aes(group = type))+\n",
    "  labs(title = \"BC Task\", x = \"|Value Left - Value Right|\", y = \"Mean Number of Fixations\", color=\"\")+\n",
    "  facet_grid(subnum ~ day, scales = 'free_y')+\n",
    "  theme(panel.grid = element_blank(),\n",
    "        legend.position = \"none\",\n",
    "        axis.text.x = element_text(angle = 15, margin = margin(t = 5)),\n",
    "        legend.box.margin=margin(t = -10))+\n",
    "  scale_color_brewer(palette = \"Dark2\")+\n",
    "  scale_y_continuous(breaks = seq(0,10,2))\n",
    "\n",
    "# ggsave(file=paste0(fig_out_path, 'bc_subj_meanNumFixOverAbsValDiff.jpg'), p, height = 6, width = 8, units=\"in\")\n",
    "p"
   ]
  },
  {
   "cell_type": "markdown",
   "id": "372cf8c9",
   "metadata": {},
   "source": [
    "# First Fixation Location"
   ]
  },
  {
   "cell_type": "code",
   "execution_count": null,
   "id": "1030286f",
   "metadata": {
    "lines_to_next_cell": 0
   },
   "outputs": [],
   "source": [
    "p = data_bc_fix %>%\n",
    "  filter(firstFix == 1) %>%\n",
    "  group_by(subnum, day, type, val_diff_bin_str) %>%\n",
    "  summarise(mean_first_fix_left = mean(leftFix),\n",
    "            sem_first_fix_left = sd(leftFix)/sqrt(n()),\n",
    "            num_trials = n(), .groups=\"keep\") %>%\n",
    "  mutate(day = paste0(\"Day \", day),\n",
    "         day = factor(day, levels = c(\"Day 3\", \"Day 7\", \"Day 11\"))) %>%\n",
    "  ggplot(aes(val_diff_bin_str, mean_first_fix_left, color = type))+\n",
    "   geom_hline(aes(yintercept=.5), color=\"gray\")+\n",
    "  geom_vline(aes(xintercept=6), color=\"gray\")+\n",
    "  geom_point(size = 1.5)+\n",
    "  geom_errorbar(aes(ymin = mean_first_fix_left - sem_first_fix_left, ymax = mean_first_fix_left + sem_first_fix_left), width = 0, size = 1, alpha = .6)+\n",
    "  geom_line(aes(group = type))+\n",
    "  labs(title = \"BC Task\", x = \"Value Left - Value Right\", y = \"p(First Fixation = Left)\", color=\"\")+\n",
    "  facet_grid(subnum ~ day)+\n",
    "  theme(panel.grid = element_blank(),\n",
    "        legend.position = \"bottom\",\n",
    "        axis.text.x = element_text(angle = 15, margin = margin(t = 5)),\n",
    "        legend.box.margin=margin(t = -10))+\n",
    "  scale_color_brewer(palette = \"Dark2\", guide = \"none\")+\n",
    "  scale_x_discrete(labels=c(\"\",\"-225:-175\", \"\", \"-125:-75\", \"\", \"-25:25\", \"\", \"75:125\", \"\", \"175:225\", \"\"))+\n",
    "  scale_y_continuous(breaks = seq(0,1,.5))\n",
    "\n",
    "ggsave(file=paste0(fig_out_path, 'bc_subj_pFirstFixLeftOverValDiff.jpg'), p, height = 6, width=8, units=\"in\")\n",
    "p"
   ]
  },
  {
   "cell_type": "markdown",
   "id": "f331fcd7",
   "metadata": {},
   "source": [
    "# First fixation effect"
   ]
  },
  {
   "cell_type": "code",
   "execution_count": null,
   "id": "f30ccb0e",
   "metadata": {
    "lines_to_next_cell": 0
   },
   "outputs": [],
   "source": [
    "p = data_bc_fix %>%\n",
    "  filter(!is.na(val_diff_bin_str)) %>%\n",
    "  filter(firstFix == 1) %>%\n",
    "  group_by(subnum, day, val_diff_bin_str, leftFix, type) %>%\n",
    "  summarise(.groups = 'keep',\n",
    "            mean_left_choice = mean(leftChosen),\n",
    "            sem_left_choice = sd(leftChosen)/sqrt(n())) %>%\n",
    "  ungroup() %>%\n",
    "  mutate(lastFixLeft = ifelse(leftFix == 1, \"Left\", \"Right\")) %>%\n",
    "  select(-leftFix) %>%\n",
    "  mutate(day = paste0(\"Day \", day),\n",
    "         day = factor(day, levels = c(\"Day 3\", \"Day 7\", \"Day 11\")),\n",
    "         sem_left_choice = ifelse(is.na(sem_left_choice), 0, sem_left_choice)) %>%\n",
    "  filter(type == \"HT\") %>%\n",
    "  ggplot(aes(val_diff_bin_str, mean_left_choice, color = type))+\n",
    "  geom_hline(aes(yintercept=.5), color=\"gray\")+\n",
    "  geom_vline(aes(xintercept=6), color=\"gray\")+\n",
    "  geom_point(aes(shape = lastFixLeft), size=1.5)+\n",
    "  geom_errorbar(aes(ymin = mean_left_choice - sem_left_choice, ymax = mean_left_choice + sem_left_choice), width = 0, size = 1, alpha = .6)+\n",
    "  geom_line(aes(group = lastFixLeft, linetype = lastFixLeft))+\n",
    "  labs(title = \"BC Task\", x = \"Value Left - Value Right\", y = \"p(Left Choice)\", shape=\"First Fixation\")+\n",
    "  facet_grid(subnum ~ day)+\n",
    "  theme(panel.grid = element_blank(),\n",
    "        legend.position = \"bottom\",\n",
    "        axis.text.x = element_text(angle = 15, margin = margin(t = 5)),\n",
    "        legend.box.margin=margin(t = -10))+\n",
    "  scale_x_discrete(labels=c(\"\",\"-225:-175\", \"\", \"-125:-75\", \"\", \"-25:25\", \"\", \"75:125\", \"\", \"175:225\", \"\"))+\n",
    "  scale_y_continuous(breaks = seq(0,1,.5))+\n",
    "  scale_color_brewer(palette = \"Dark2\", guide = \"none\")+\n",
    "  scale_linetype(guide = \"none\")\n",
    "\n",
    "# ggsave(file=paste0(fig_out_path, 'bc_subj_pLeftOverValDiffByFirstFixByStim.jpg'), p, height = 6, width=8, units=\"in\")\n",
    "p"
   ]
  },
  {
   "cell_type": "code",
   "execution_count": null,
   "id": "0e918f06",
   "metadata": {},
   "outputs": [],
   "source": [
    "p = data_bc_fix %>%\n",
    "  filter(!is.na(val_diff_bin_str)) %>%\n",
    "  filter(firstFix == 1) %>%\n",
    "  group_by(subnum, day, val_diff_bin_str, leftFix, type) %>%\n",
    "  summarise(.groups = 'keep',\n",
    "            mean_left_choice = mean(leftChosen),\n",
    "            sem_left_choice = sd(leftChosen)/sqrt(n())) %>%\n",
    "  ungroup() %>%\n",
    "  mutate(lastFixLeft = ifelse(leftFix == 1, \"Left\", \"Right\")) %>%\n",
    "  select(-leftFix) %>%\n",
    "  mutate(day = paste0(\"Day \", day),\n",
    "         day = factor(day, levels = c(\"Day 3\", \"Day 7\", \"Day 11\")),\n",
    "         sem_left_choice = ifelse(is.na(sem_left_choice), 0, sem_left_choice)) %>%\n",
    "  filter(type == \"RE\") %>%\n",
    "  ggplot(aes(val_diff_bin_str, mean_left_choice))+\n",
    "  geom_hline(aes(yintercept=.5), color=\"gray\")+\n",
    "  geom_vline(aes(xintercept=6), color=\"gray\")+\n",
    "  geom_point(aes(shape = lastFixLeft), size=1.5, color = \"#D95F02\")+\n",
    "  geom_errorbar(aes(ymin = mean_left_choice - sem_left_choice, ymax = mean_left_choice + sem_left_choice), width = 0, size = 1, alpha = .6, color = \"#D95F02\")+\n",
    "  geom_line(aes(group = lastFixLeft, linetype = lastFixLeft), color = \"#D95F02\")+\n",
    "  labs(title = \"BC Task\", x = \"Value Left - Value Right\", y = \"p(Left Choice)\", shape=\"First Fixation\")+\n",
    "  facet_grid(subnum ~ day)+\n",
    "  theme(panel.grid = element_blank(),\n",
    "        legend.position = \"bottom\",\n",
    "        axis.text.x = element_text(angle = 15, margin = margin(t = 5)),\n",
    "        legend.box.margin=margin(t = -10))+\n",
    "  scale_x_discrete(labels=c(\"\",\"-225:-175\", \"\", \"-125:-75\", \"\", \"-25:25\", \"\", \"75:125\", \"\", \"175:225\", \"\"))+\n",
    "  scale_y_continuous(breaks = seq(0,1,.5))+\n",
    "  scale_color_brewer(palette = \"Dark2\", guide = \"none\")+\n",
    "  scale_linetype(guide = \"none\")\n",
    "\n",
    "# ggsave(file=paste0(fig_out_path, 'bc_subj_pLeftOverValDiffByFirstFixByStim.jpg'), p, height = 6, width=8, units=\"in\")\n",
    "p"
   ]
  },
  {
   "cell_type": "markdown",
   "id": "4e71f1dd",
   "metadata": {},
   "source": [
    "# Last fixation effect"
   ]
  },
  {
   "cell_type": "code",
   "execution_count": null,
   "id": "6dc78456",
   "metadata": {},
   "outputs": [],
   "source": [
    "p = data_bc_fix %>%\n",
    "  filter(!is.na(val_diff_bin_str)) %>%\n",
    "  filter(lastFix == 1) %>%\n",
    "  group_by(subnum, day, val_diff_bin_str, leftFix, type) %>%\n",
    "  summarise(.groups = 'keep',\n",
    "            mean_left_choice = mean(leftChosen),\n",
    "            sem_left_choice = sd(leftChosen)/sqrt(n())) %>%\n",
    "  ungroup() %>%\n",
    "  mutate(lastFixLeft = ifelse(leftFix == 1, \"Left\", \"Right\")) %>%\n",
    "  select(-leftFix) %>%\n",
    "  mutate(day = paste0(\"Day \", day),\n",
    "         day = factor(day, levels = c(\"Day 3\", \"Day 7\", \"Day 11\")),\n",
    "         sem_left_choice = ifelse(is.na(sem_left_choice), 0, sem_left_choice)) %>%\n",
    "  filter(type == \"HT\") %>%\n",
    "  ggplot(aes(val_diff_bin_str, mean_left_choice, color = type))+\n",
    "  geom_hline(aes(yintercept=.5), color=\"gray\")+\n",
    "  geom_vline(aes(xintercept=6), color=\"gray\")+\n",
    "  geom_point(aes(shape = lastFixLeft), size=2.5)+\n",
    "  geom_errorbar(aes(ymin = mean_left_choice - sem_left_choice, ymax = mean_left_choice + sem_left_choice), width = 0, size=1)+\n",
    "  geom_line(aes(group = lastFixLeft, linetype = lastFixLeft))+\n",
    "  labs(title = \"BC Task\", x = \"Value Left - Value Right\", y = \"p(Left Choice)\", shape=\"Last Fixation\")+\n",
    "  facet_grid(subnum ~ day)+\n",
    "  theme(panel.grid = element_blank(),\n",
    "        legend.position = \"bottom\",\n",
    "        axis.text.x = element_text(angle = 15, margin = margin(t = 5)),\n",
    "        legend.box.margin=margin(t = -10))+\n",
    "  scale_x_discrete(labels=c(\"\",\"-225:-175\", \"\", \"-125:-75\", \"\", \"-25:25\", \"\", \"75:125\", \"\", \"175:225\", \"\"))+\n",
    "  scale_y_continuous(breaks = seq(0,1,.5))+\n",
    "  scale_color_brewer(palette = \"Dark2\", guide = \"none\")+\n",
    "  scale_linetype(guide = \"none\")\n",
    "\n",
    "# ggsave(file=paste0(fig_out_path, 'bc_subj_pLeftOverValDiffByLastFixByStim.jpg'), p, height = 6, width=8, units=\"in\")\n",
    "p"
   ]
  },
  {
   "cell_type": "code",
   "execution_count": null,
   "id": "37f3972b",
   "metadata": {},
   "outputs": [],
   "source": [
    "p = data_bc_fix %>%\n",
    "  filter(!is.na(val_diff_bin_str)) %>%\n",
    "  filter(lastFix == 1) %>%\n",
    "  group_by(subnum, day, val_diff_bin_str, leftFix, type) %>%\n",
    "  summarise(.groups = 'keep',\n",
    "            mean_left_choice = mean(leftChosen),\n",
    "            sem_left_choice = sd(leftChosen)/sqrt(n())) %>%\n",
    "  ungroup() %>%\n",
    "  mutate(lastFixLeft = ifelse(leftFix == 1, \"Left\", \"Right\")) %>%\n",
    "  select(-leftFix) %>%\n",
    "  mutate(day = paste0(\"Day \", day),\n",
    "         day = factor(day, levels = c(\"Day 3\", \"Day 7\", \"Day 11\")),\n",
    "         sem_left_choice = ifelse(is.na(sem_left_choice), 0, sem_left_choice)) %>%\n",
    "  filter(type == \"RE\") %>%\n",
    "  ggplot(aes(val_diff_bin_str, mean_left_choice))+\n",
    "  geom_hline(aes(yintercept=.5), color=\"gray\")+\n",
    "  geom_vline(aes(xintercept=6), color=\"gray\")+\n",
    "  geom_point(aes(shape = lastFixLeft), size=2.5, color = \"#D95F02\")+\n",
    "  geom_errorbar(aes(ymin = mean_left_choice - sem_left_choice, ymax = mean_left_choice + sem_left_choice), width = 0, size=1,  color = \"#D95F02\")+\n",
    "  geom_line(aes(group = lastFixLeft, linetype = lastFixLeft),  color = \"#D95F02\")+\n",
    "  labs(title = \"BC Task\", x = \"Value Left - Value Right\", y = \"p(Left Choice)\", shape=\"Last Fixation\")+\n",
    "  facet_grid(subnum ~ day)+\n",
    "  theme(panel.grid = element_blank(),\n",
    "        legend.position = \"bottom\",\n",
    "        axis.text.x = element_text(angle = 15, margin = margin(t = 5)),\n",
    "        legend.box.margin=margin(t = -10))+\n",
    "  scale_x_discrete(labels=c(\"\",\"-225:-175\", \"\", \"-125:-75\", \"\", \"-25:25\", \"\", \"75:125\", \"\", \"175:225\", \"\"))+\n",
    "  scale_y_continuous(breaks = seq(0,1,.5))+\n",
    "  # scale_color_brewer(palette = \"Dark2\", guide = \"none\")+\n",
    "  scale_linetype(guide = \"none\")\n",
    "\n",
    "# ggsave(file=paste0(fig_out_path, 'bc_subj_pLeftOverValDiffByLastFixByStim.jpg'), p, height = 6, width=8, units=\"in\")\n",
    "p"
   ]
  },
  {
   "cell_type": "code",
   "execution_count": null,
   "id": "d6e335a5",
   "metadata": {
    "lines_to_next_cell": 0
   },
   "outputs": [],
   "source": [
    "rm(p, sub_summary, group_summary)"
   ]
  },
  {
   "cell_type": "markdown",
   "id": "dae2d1f6",
   "metadata": {},
   "source": [
    "\n"
   ]
  }
 ],
 "metadata": {
  "jupytext": {
   "cell_metadata_filter": "tags,-all",
   "main_language": "R",
   "notebook_metadata_filter": "-all"
  }
 },
 "nbformat": 4,
 "nbformat_minor": 5
}
