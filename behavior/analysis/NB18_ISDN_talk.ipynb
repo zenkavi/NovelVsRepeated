{
 "cells": [
  {
   "cell_type": "raw",
   "id": "85949a83",
   "metadata": {},
   "source": [
    "---\n",
    "title: \"Novel vs. repeated choice project: ISDN talk\"\n",
    "output: \n",
    "  html_document:\n",
    "    toc: true\n",
    "    toc_float: true\n",
    "    code_folding: 'hide'\n",
    "---"
   ]
  },
  {
   "cell_type": "markdown",
   "id": "16b3d341",
   "metadata": {},
   "source": [
    "Set up environment and load in data"
   ]
  },
  {
   "cell_type": "code",
   "execution_count": null,
   "id": "bac55abb",
   "metadata": {
    "message": false,
    "tags": [
     "remove_cell"
    ]
   },
   "outputs": [],
   "source": [
    "library(tidyverse)\n",
    "library(brms)\n",
    "library(here)\n",
    "library(grid)\n",
    "library(gridExtra)\n",
    "library(lemon)\n",
    "theme_set(theme_bw())\n",
    "helpers_path = paste0(here(),'/analysis/helpers/')\n",
    "inputs_path = paste0(here(),'/inputs/')\n",
    "source(paste0(helpers_path, '01_clean_behavioral_data.R'))\n",
    "fig_out_path = paste0(here(), '/outputs/fig/')\n",
    "rm(data_bc_clean)"
   ]
  },
  {
   "cell_type": "markdown",
   "id": "73d6c29a",
   "metadata": {},
   "source": [
    "# Wrangling"
   ]
  },
  {
   "cell_type": "code",
   "execution_count": null,
   "id": "f455e46d",
   "metadata": {},
   "outputs": [],
   "source": [
    "data_yn_clean = data_yn_clean %>%\n",
    "  mutate(correct = ifelse(possiblePayoff>reference & yesChosen == 1, 1, ifelse(possiblePayoff < reference & yesChosen == 0, 1, 0))) %>%\n",
    "  mutate(type_chr = ifelse(type == 1, \"Over Exposure\", \"Regular Exposure\"),\n",
    "         week = ifelse(week == 1, \"Week 1\", ifelse(week == 2, \"Week 2\", ifelse(week == 3, \"Week 3\", NA))),\n",
    "         week = factor(week, levels = c(\"Week 1\", \"Week 2\", \"Week 3\"))) %>%\n",
    "  mutate(val_diff = possiblePayoff - reference,\n",
    "         abs_val_diff = abs(possiblePayoff - reference),\n",
    "         val_diff_bin = round(val_diff/50),\n",
    "         val_diff_bin_str = paste0(val_diff_bin*50-25,\":\",val_diff_bin*50+25),\n",
    "         val_diff_bin_str = factor(val_diff_bin_str, levels = c(\"-225:-175\", \"-175:-125\", \"-125:-75\", \"-75:-25\", \"-25:25\", \"25:75\", \"75:125\", \"125:175\", \"175:225\")),\n",
    "         time_bin = ifelse(day == 1, \"Day 1\", ifelse(day == 2, \"Day 2\", ifelse(day == 3, \"Day 3\", ifelse((day > 3) & (day < 8), \"Week 2\", \"Week 3\"))))) %>%\n",
    "  mutate(subject = recode(subnum, \n",
    "                    `601` = \"Subject 1\", \n",
    "                    `609` = \"Subject 2\",\n",
    "                    `611` = \"Subject 3\",\n",
    "                    `619` = \"Subject 4\",\n",
    "                    `621` = \"Subject 5\",\n",
    "                    `629` = \"Subject 6\"))"
   ]
  },
  {
   "cell_type": "code",
   "execution_count": null,
   "id": "6b967284",
   "metadata": {},
   "outputs": [],
   "source": [
    "data_yn_clean %>%\n",
    "  filter(subnum == 611 & type == 1) %>%\n",
    "  mutate(trueVal = 100 * (valueO + valueF + valueS)/2) %>%\n",
    "  ggplot(aes(possiblePayoff))+\n",
    "  geom_histogram(bins = 30)+\n",
    "  geom_vline(aes(xintercept = trueVal))+\n",
    "  facet_wrap(~stimNum, scales = \"free\")"
   ]
  },
  {
   "cell_type": "code",
   "execution_count": null,
   "id": "397c94a0",
   "metadata": {},
   "outputs": [],
   "source": [
    "data_yn_clean %>%\n",
    "  mutate(trueVal = round(100 * (valueO + valueF + valueS)/2) )%>%\n",
    "  select(trueVal, possiblePayoff, val_diff, val_diff_bin_str)"
   ]
  },
  {
   "cell_type": "markdown",
   "id": "e1c0dc50",
   "metadata": {},
   "source": [
    "# Psychometrics"
   ]
  },
  {
   "cell_type": "code",
   "execution_count": null,
   "id": "3499a548",
   "metadata": {},
   "outputs": [],
   "source": [
    "sub_summary = data_yn_clean %>%\n",
    "  mutate(time_bin = ifelse(day == 1, \"Day 1\", ifelse(day == 2, \"Day 2\", ifelse(day == 3, \"Day 3\", ifelse((day > 3) & (day < 8), \"Week 2\", \"Week 3\")))),\n",
    "         time_bin = factor(time_bin, levels = c(\"Week 3\", \"Week 2\", \"Week 1\", \"Day 3\", \"Day 2\", \"Day 1\"))) %>%\n",
    "  group_by(subject, time_bin, val_diff_bin_str, val_diff_bin, type_chr) %>%\n",
    "  summarise(mean_y = mean(yesChosen),\n",
    "            sem_y = sd(yesChosen)/sqrt(n()),\n",
    "            .groups=\"keep\") %>%\n",
    "  mutate(val_diff_bin = val_diff_bin * 50) \n",
    "\n",
    "sub_summary"
   ]
  },
  {
   "cell_type": "code",
   "execution_count": null,
   "id": "566c6157",
   "metadata": {
    "warning": false
   },
   "outputs": [],
   "source": [
    "data_yn_clean%>%\n",
    "  mutate(time_bin = factor(time_bin, levels = c(\"Week 3\", \"Week 2\", \"Week 1\", \"Day 3\", \"Day 2\", \"Day 1\"))) %>%\n",
    "  ggplot() +\n",
    "  geom_hline(aes(yintercept =.5), color=\"gray\")+\n",
    "  geom_vline(aes(xintercept = 0), color=\"gray\")+\n",
    "  geom_line(aes(val_diff, yesChosen, color = time_bin, alpha = time_bin), stat=\"smooth\", method = \"glm\", method.args = list(family = \"binomial\"), formula = \"y ~ x\", se = FALSE, size = 1.5)+\n",
    "  geom_point(data = sub_summary, aes(val_diff_bin, mean_y, color = time_bin), size = 2)+\n",
    "  facet_grid(type_chr ~ subject)+\n",
    "  labs(x = \"Value Stim - Value Reference\", y = \"p(Yes)\", title=\"\", color = \"\")+\n",
    "  theme(panel.grid = element_blank(),\n",
    "        legend.position = \"bottom\",\n",
    "        axis.text = element_text(size = 14),\n",
    "        strip.text = element_text(size = 14),\n",
    "        axis.title = element_text(size = 16),\n",
    "        legend.text = element_text(size = 14),\n",
    "        legend.box.margin=margin(t = -10),\n",
    "        legend.spacing.y = unit(-0.25, \"cm\"),\n",
    "        legend.box=\"vertical\")+\n",
    "  scale_color_manual(values = c(\"#6e016b\", \"#238b45\", \"#41ae76\", \"#66c2a4\", \"#99d8c9\"),\n",
    "                     breaks = c(\"Day 1\", \"Day 2\", \"Day 3\", \"Week 2\", \"Week 3\"))+\n",
    "  scale_alpha_manual(values = c(1, .7, .7, .7, .7))+\n",
    "  scale_y_continuous(breaks = seq(0,1,.5))+\n",
    "  scale_x_continuous(breaks = c(-200, -100, 0, 100, 200),\n",
    "                     labels = c(\"\", \"-100\", \"0\", \"\", \"200\"))+\n",
    "  guides(alpha = \"none\")\n",
    "\n",
    "# ggsave(file=paste0(fig_out_path, 'isdn_yn_subj_pYesOverValDiffAcrossTime.jpg'), height = 5, width = 12, units=\"in\")"
   ]
  },
  {
   "cell_type": "markdown",
   "id": "62001af9",
   "metadata": {},
   "source": [
    "Plot the numerical value of the slopes and intercepts for each of these logits"
   ]
  },
  {
   "cell_type": "code",
   "execution_count": null,
   "id": "050768c0",
   "metadata": {},
   "outputs": [],
   "source": [
    "k = length(unique(data_yn_clean$time_bin)) # number of factor levels\n",
    "\n",
    "my_helmert = matrix(c(4/5, -1/5, -1/5, -1/5, -1/5,\n",
    "                      0, 3/4, -1/4, -1/4, -1/4,\n",
    "                      0, 0, 2/3, -1/3, -1/3,\n",
    "                      0, 0, 0, 1/2, -1/2), ncol = k-1)\n",
    "\n",
    "my_helmert"
   ]
  },
  {
   "cell_type": "code",
   "execution_count": null,
   "id": "79ee05b1",
   "metadata": {},
   "outputs": [],
   "source": [
    "str(data_yn_clean$type)"
   ]
  },
  {
   "cell_type": "code",
   "execution_count": null,
   "id": "3dceea04",
   "metadata": {},
   "outputs": [],
   "source": [
    "str(as.factor(data_yn_clean$time_bin))"
   ]
  },
  {
   "cell_type": "code",
   "execution_count": null,
   "id": "da8ebff6",
   "metadata": {},
   "outputs": [],
   "source": [
    "fn_draws = paste0(inputs_path, 'yn_logit_norm_bydays_bytype_helmert_draws.csv')\n",
    "\n",
    "if(file.exists(fn_draws)){\n",
    "  yn_logit_draws = read.csv(fn_draws)\n",
    "} else{\n",
    "  subnums = unique(data_yn_clean$subnum)\n",
    "  types = unique(data_yn_clean$type)\n",
    "  normMax = 1\n",
    "  normMinDay = 0\n",
    "  normMinVal = -1\n",
    "  \n",
    "  yn_logit_draws = tibble()\n",
    "  \n",
    "  for(cur_sub in subnums){\n",
    "    for(cur_type in types){\n",
    "      cur_dat = data_yn_clean %>%\n",
    "        ungroup() %>%\n",
    "        filter(subnum == cur_sub & type == cur_type) %>%\n",
    "        mutate(time_bin = as.factor(time_bin)) %>%\n",
    "        group_by(day) %>% # Grouping by day to normalize valdiff matters. This makes sure every day ranges [-1,1]\n",
    "        mutate(norm_valDiff = (normMax - normMinVal) / (max(val_diff) - min(val_diff)) * (val_diff - max(val_diff)) + (normMax)) %>%\n",
    "        ungroup() %>%\n",
    "        select(yesChosen, norm_valDiff, time_bin, type)\n",
    "      \n",
    "      contrasts(cur_dat$time_bin) = my_helmert\n",
    "      \n",
    "      cur_m <- brm(formula = yesChosen ~ norm_valDiff * time_bin,\n",
    "                   data= cur_dat,\n",
    "                   family = bernoulli(link = \"logit\"),\n",
    "                   warmup = 500,\n",
    "                   iter = 2500,\n",
    "                   chains = 4,\n",
    "                   init = \"0\",\n",
    "                   cores = 4,\n",
    "                   seed = 389253)\n",
    "      \n",
    "      cur_draws = as_draws_df(cur_m)\n",
    "      cur_draws$subnum = cur_sub\n",
    "      cur_draws$type = cur_type\n",
    "      \n",
    "      yn_logit_draws = rbind(yn_logit_draws, cur_draws) \n",
    "    }\n",
    "  }\n",
    "  names(yn_logit_draws) = gsub(\":\", \".\", names(yn_logit_draws))\n",
    "  write.csv(yn_logit_draws, fn_draws, row.names = F)\n",
    "  \n",
    "  rm(cur_dat, cur_m, cur_draws, cur_sub)\n",
    "}\n"
   ]
  },
  {
   "cell_type": "code",
   "execution_count": null,
   "id": "ecdcf278",
   "metadata": {},
   "outputs": [],
   "source": [
    "names(as_tibble(yn_logit_draws))[grepl(\"b_\", names(as_tibble(yn_logit_draws)))]"
   ]
  },
  {
   "cell_type": "code",
   "execution_count": null,
   "id": "78e1bcd2",
   "metadata": {},
   "outputs": [],
   "source": [
    "names(as_tibble(yn_logit_draws))"
   ]
  },
  {
   "cell_type": "code",
   "execution_count": null,
   "id": "45f8a667",
   "metadata": {},
   "outputs": [],
   "source": [
    "yn_par_summary = as_tibble(yn_logit_draws) %>%\n",
    "  select(-lprior, -lp__, -.chain, -.iteration, -.draw) %>%\n",
    "  gather(key, value, -subnum, -type) %>%\n",
    "  mutate(key=recode(key, \n",
    "                    \"b_Intercept\" = \"Intercept\", \n",
    "                    \"b_norm_valDiff\"  = \"Value Diff [-1, 1]\",\n",
    "                    \"b_time_bin1\" = \"Day 1 vs Later\",\n",
    "                    \"b_time_bin2\" = \"Day 2 vs Later\",\n",
    "                    \"b_time_bin3\" = \"Day 3 vs Later\",\n",
    "                    \"b_time_bin4\" = \"Week 2 vs Later\",\n",
    "                    \"b_norm_valDiff.time_bin1\" = \"Value Diff x Day 1 vs Later\",\n",
    "                    \"b_norm_valDiff.time_bin2\" = \"Value Diff x Day 2 vs Later\",\n",
    "                    \"b_norm_valDiff.time_bin3\" = \"Value Diff x Day 3 vs Later\",\n",
    "                    \"b_norm_valDiff.time_bin4\" = \"Value Diff x Week 2 vs Later\",\n",
    "                    ),\n",
    "         key = factor(key, levels = c(\"Intercept\", \"Value Diff [-1, 1]\", \"Day 1 vs Later\", \"Day 2 vs Later\", \"Day 3 vs Later\", \"Week 2 vs Later\", \"Value Diff x Day 1 vs Later\", \"Value Diff x Day 2 vs Later\", \"Value Diff x Day 3 vs Later\", \"Value Diff x Week 2 vs Later\"))) %>%\n",
    "  group_by(subnum, type, key) %>%\n",
    "  summarise(.groups = 'keep',\n",
    "            m = mean(value),\n",
    "            l95 = HDInterval::hdi(value)[1],\n",
    "            h95 = HDInterval::hdi(value)[2]) %>%\n",
    "  mutate(subnum = as.factor(subnum),\n",
    "         task = \"Y/N\") "
   ]
  },
  {
   "cell_type": "code",
   "execution_count": null,
   "id": "9f8f3620",
   "metadata": {},
   "outputs": [],
   "source": [
    "yn_par_summary"
   ]
  },
  {
   "cell_type": "code",
   "execution_count": null,
   "id": "87a6a8e4",
   "metadata": {},
   "outputs": [],
   "source": [
    "yn_par_summary %>%\n",
    "  mutate(type_chr = ifelse(type == 0, \"Regular Exposure\", \"Over Exposure\")) %>%\n",
    "  filter(key %in% c(\"Intercept\", \"Value Diff [-1, 1]\", \"Value Diff x Day 1 vs Later\")) %>%\n",
    "  ggplot(aes(m, subnum, color = type_chr)) +\n",
    "  geom_vline(aes(xintercept = 0), color = \"gray\") + \n",
    "  geom_point(position = position_dodge(width=.75))+\n",
    "  geom_errorbarh(aes(xmin = l95, xmax = h95, height=.2), position = position_dodge(width=.75))+\n",
    "  facet_wrap(~key, scales = 'free_x',labeller = labeller(key = label_wrap_gen(10))) +\n",
    "  labs(x = \"Parameter Estimate\", y = \"Subject\", color = \"\", title = \"95% HDI for posterior slopes - Yes/Left ~ Value Diff x Time Bin\") +\n",
    "  theme(legend.position = \"bottom\",\n",
    "        panel.grid = element_blank(),\n",
    "        legend.box.margin=margin(t = -10))+\n",
    "  scale_x_symmetric(mid=0)+\n",
    "  scale_color_brewer(palette = \"Dark2\")"
   ]
  },
  {
   "cell_type": "markdown",
   "id": "ec7f9267",
   "metadata": {},
   "source": [
    "# RT"
   ]
  },
  {
   "cell_type": "code",
   "execution_count": null,
   "id": "fdd99a82",
   "metadata": {
    "lines_to_next_cell": 0
   },
   "outputs": [],
   "source": [
    "data_yn_clean = data_yn_clean %>%\n",
    "  mutate(abs_val_diff_bin_str =  paste0(abs(val_diff_bin)*50-25,\":\",abs(val_diff_bin)*50+25),\n",
    "         abs_val_diff_bin_str = ifelse(abs_val_diff_bin_str ==  \"-25:25\", \"0:25\", abs_val_diff_bin_str),\n",
    "         abs_val_diff_bin_str = factor(abs_val_diff_bin_str, levels = c(\"0:25\", \"25:75\", \"75:125\", \"125:175\", \"175:225\", \"225:275\")))"
   ]
  },
  {
   "cell_type": "markdown",
   "id": "2f17e801",
   "metadata": {},
   "source": [
    "\n"
   ]
  },
  {
   "cell_type": "code",
   "execution_count": null,
   "id": "2eab5f30",
   "metadata": {},
   "outputs": [],
   "source": [
    "sub_summary = data_yn_clean %>%\n",
    "  group_by(subject, time_bin, abs_val_diff_bin_str, type_chr) %>%\n",
    "  summarise(mean_y = mean(log(rt)),\n",
    "            .groups=\"keep\") %>%\n",
    "  mutate(mean_rt = exp(mean_y), \n",
    "         abs_val_diff = (as.numeric(abs_val_diff_bin_str) - 1) * 50)\n",
    "\n",
    "sub_summary"
   ]
  },
  {
   "cell_type": "code",
   "execution_count": null,
   "id": "c67b584f",
   "metadata": {},
   "outputs": [],
   "source": [
    "data_yn_clean %>%\n",
    "  mutate(time_bin = factor(time_bin, levels = c(\"Week 3\", \"Week 2\", \"Week 1\", \"Day 3\", \"Day 2\", \"Day 1\"))) %>%\n",
    "  ggplot() +\n",
    "  geom_hline(aes(yintercept = 1), color = \"gray\") +\n",
    "  geom_line(aes(abs_val_diff, rt, color = time_bin, alpha = time_bin), stat=\"smooth\", method = \"lm\", formula = \"y ~ x\", se = FALSE, linewidth = 1.5, fullrange = TRUE)+\n",
    "  geom_point(data = sub_summary, aes(abs_val_diff, mean_rt, color = time_bin), size = 2)+\n",
    "  facet_grid(type_chr ~ subject)+\n",
    "  labs(x = \"|Value Stim - Value Reference|\", y = \"RT (secs)\", title=\"\", color = \"\")+\n",
    "  theme(panel.grid = element_blank(),\n",
    "        legend.position = \"bottom\",\n",
    "        axis.text = element_text(size = 14),\n",
    "        strip.text = element_text(size = 14),\n",
    "        axis.title = element_text(size = 16),\n",
    "        legend.text = element_text(size = 14),\n",
    "        legend.box.margin=margin(t = -10),\n",
    "        legend.spacing.y = unit(-0.25, \"cm\"),\n",
    "        legend.box=\"vertical\")+\n",
    "  scale_color_manual(values = c(\"#6e016b\", \"#238b45\", \"#41ae76\", \"#66c2a4\", \"#99d8c9\"),\n",
    "                     breaks = c(\"Day 1\", \"Day 2\", \"Day 3\", \"Week 2\", \"Week 3\"))+\n",
    "  scale_alpha_manual(values = c(1, .7, .7, .7, .7))+\n",
    "  scale_y_continuous(trans = \"log\", breaks = c(0.1, .5, 1, 1.5))+\n",
    "  scale_x_continuous(breaks = c(0, 100, 200),\n",
    "                     labels = c(\"0\", \"100\", \"\"))+\n",
    "  guides(alpha = \"none\")\n",
    "\n",
    "# ggsave(file=paste0(fig_out_path, 'isdn_yn_subj_RTOverValDiffAcrossTime.jpg'), height = 5, width = 12, units=\"in\")"
   ]
  },
  {
   "cell_type": "markdown",
   "id": "c573d281",
   "metadata": {},
   "source": [
    "Comparison of types across time bins"
   ]
  },
  {
   "cell_type": "code",
   "execution_count": null,
   "id": "1cb465dc",
   "metadata": {},
   "outputs": [],
   "source": [
    "data_yn_clean %>%\n",
    "  mutate(time_bin = factor(time_bin, levels = c(\"Week 3\", \"Week 2\", \"Week 1\", \"Day 3\", \"Day 2\", \"Day 1\"))) %>%\n",
    "  ggplot() +\n",
    "  geom_line(aes(abs_val_diff, rt, color = type_chr), stat=\"smooth\", method = \"lm\", formula = \"y ~ x\", se = FALSE, size = 1.5)+\n",
    "  geom_point(data = sub_summary, aes(abs_val_diff, mean_rt, color = type_chr), size = 2)+\n",
    "  facet_grid(time_bin ~ subject)+\n",
    "  labs(x = \"|Value Stim - Value Reference|\", y = \"RT (secs)\", title=\"\", color = \"\")+\n",
    "  theme(panel.grid = element_blank(),\n",
    "        legend.position = \"bottom\",\n",
    "        axis.text = element_text(size = 14),\n",
    "        strip.text = element_text(size = 14),\n",
    "        axis.title = element_text(size = 16),\n",
    "        legend.text = element_text(size = 14),\n",
    "        legend.box.margin=margin(t = -10),\n",
    "        legend.spacing.y = unit(-0.25, \"cm\"),\n",
    "        legend.box=\"vertical\")+\n",
    "  scale_color_brewer(palette = \"Dark2\")+\n",
    "  scale_alpha_manual(values = c(1, .7, .7, .7, .7))+\n",
    "  scale_y_continuous(trans = \"log\", breaks = c(0.1, .5, 1, 1.5))+\n",
    "  scale_x_continuous(breaks = c(0, 100, 200),\n",
    "                     labels = c(\"0\", \"100\", \"\"))"
   ]
  },
  {
   "cell_type": "markdown",
   "id": "c9f411fb",
   "metadata": {},
   "source": [
    "Helmert coding: Compare day 1 to later, day 2 to later etc. "
   ]
  },
  {
   "cell_type": "code",
   "execution_count": null,
   "id": "d3a6c735",
   "metadata": {},
   "outputs": [],
   "source": [
    "k = length(unique(data_yn_clean$time_bin)) # number of factor levels\n",
    "\n",
    "my_helmert = matrix(c(4/5, -1/5, -1/5, -1/5, -1/5,\n",
    "                      0, 3/4, -1/4, -1/4, -1/4,\n",
    "                      0, 0, 2/3, -1/3, -1/3,\n",
    "                      0, 0, 0, 1/2, -1/2), ncol = k-1)\n",
    "  \n",
    "my_helmert"
   ]
  },
  {
   "cell_type": "code",
   "execution_count": null,
   "id": "179837a8",
   "metadata": {
    "lines_to_next_cell": 2
   },
   "outputs": [],
   "source": [
    "fn_draws = paste0(inputs_path, 'yn_rt_norm_bydays_bytype_helmert_draws.csv')\n",
    "\n",
    "if(file.exists(fn_draws)){\n",
    "  yn_rt_draws = read.csv(fn_draws)\n",
    "} else{\n",
    "  subnums = unique(data_yn_clean$subnum)\n",
    "  types = unique(data_yn_clean$type)\n",
    "  normMax = 1\n",
    "  normMin = 0\n",
    "  \n",
    "  yn_rt_draws = tibble()\n",
    "\n",
    "  for(cur_sub in subnums){\n",
    "    for(cur_type in types){\n",
    "      cur_dat = data_yn_clean %>% \n",
    "        ungroup() %>%\n",
    "        filter(subnum == cur_sub & type == cur_type) %>%\n",
    "        mutate(time_bin = as.factor(time_bin)) %>%\n",
    "        mutate(log_rt = log(rt)) %>%\n",
    "        group_by(day) %>% # Grouping by day to normalize valdiff matters. This makes sure every day ranges [-1,1]\n",
    "        mutate(norm_absValDiff = (normMax - normMin) / (max(abs_val_diff) - min(abs_val_diff)) * (abs_val_diff - max(abs_val_diff)) + (normMax)) %>%\n",
    "        ungroup() %>%\n",
    "        select(log_rt, norm_absValDiff, time_bin, type)\n",
    "      \n",
    "      contrasts(cur_dat$time_bin) = my_helmert\n",
    "      \n",
    "      cur_m <- brm(formula = log_rt ~ norm_absValDiff * time_bin,\n",
    "                   data= cur_dat,\n",
    "                   warmup = 500,\n",
    "                   iter = 2500,\n",
    "                   chains = 4,\n",
    "                   init = \"0\",\n",
    "                   cores = 4,\n",
    "                   seed = 389253)\n",
    "      \n",
    "      cur_draws = as_draws_df(cur_m)\n",
    "      cur_draws$subnum = cur_sub\n",
    "      cur_draws$type = cur_type\n",
    "      \n",
    "      yn_rt_draws = rbind(yn_rt_draws, cur_draws) \n",
    "    }\n",
    "  }\n",
    "  names(yn_rt_draws) = gsub(\":\", \".\", names(yn_rt_draws))\n",
    "  write.csv(yn_rt_draws, fn_draws, row.names = F)\n",
    "\n",
    "  rm(cur_dat, cur_m, cur_draws, cur_sub)\n",
    "}\n"
   ]
  },
  {
   "cell_type": "code",
   "execution_count": null,
   "id": "75097629",
   "metadata": {},
   "outputs": [],
   "source": [
    "names(as_tibble(yn_rt_draws))[grepl(\"b_\", names(as_tibble(yn_rt_draws)))]"
   ]
  },
  {
   "cell_type": "code",
   "execution_count": null,
   "id": "973e3580",
   "metadata": {},
   "outputs": [],
   "source": [
    "names(as_tibble(yn_rt_draws))"
   ]
  },
  {
   "cell_type": "code",
   "execution_count": null,
   "id": "0e08c3c7",
   "metadata": {},
   "outputs": [],
   "source": [
    "yn_par_summary = as_tibble(yn_rt_draws) %>%\n",
    "  select(-lprior, -lp__, -.chain, -.iteration, -.draw, -sigma) %>%\n",
    "  gather(key, value, -subnum, -type) %>%\n",
    "  mutate(key=recode(key, \n",
    "                    \"b_Intercept\" = \"Intercept\", \n",
    "                    \"b_norm_absValDiff\"  = \"|Value Diff| [0, 1]\",\n",
    "                    \"b_time_bin1\" = \"Day 1 vs Later\",\n",
    "                    \"b_time_bin2\" = \"Day 2 vs Later\",\n",
    "                    \"b_time_bin3\" = \"Day 3 vs Later\",\n",
    "                    \"b_time_bin4\" = \"Week 2 vs Later\",\n",
    "                    \"b_norm_absValDiff.time_bin1\" = \"Value Diff x Day 1 vs Later\",\n",
    "                    \"b_norm_absValDiff.time_bin2\" = \"Value Diff x Day 2 vs Later\",\n",
    "                    \"b_norm_absValDiff.time_bin3\" = \"Value Diff x Day 3 vs Later\",\n",
    "                    \"b_norm_absValDiff.time_bin4\" = \"Value Diff x Week 2 vs Later\",\n",
    "                    ),\n",
    "         key = factor(key, levels = c(\"Intercept\", \"|Value Diff| [0, 1]\", \"Day 1 vs Later\", \"Day 2 vs Later\", \"Day 3 vs Later\", \"Week 2 vs Later\", \"Value Diff x Day 1 vs Later\", \"Value Diff x Day 2 vs Later\", \"Value Diff x Day 3 vs Later\", \"Value Diff x Week 2 vs Later\"))) %>%\n",
    "  group_by(subnum, type, key) %>%\n",
    "  summarise(.groups = 'keep',\n",
    "            m = mean(value),\n",
    "            l95 = HDInterval::hdi(value)[1],\n",
    "            h95 = HDInterval::hdi(value)[2]) %>%\n",
    "  mutate(subnum = as.factor(subnum),\n",
    "         task = \"Y/N\") "
   ]
  },
  {
   "cell_type": "code",
   "execution_count": null,
   "id": "511537d1",
   "metadata": {},
   "outputs": [],
   "source": [
    "yn_par_summary"
   ]
  },
  {
   "cell_type": "code",
   "execution_count": null,
   "id": "887394ce",
   "metadata": {},
   "outputs": [],
   "source": [
    "yn_par_summary %>%\n",
    "  mutate(type_chr = ifelse(type == 0, \"Regular Exposure\", \"Over Exposure\")) %>%\n",
    "  filter(key %in% c(\"Intercept\", \"|Value Diff| [0, 1]\", \"Value Diff x Day 1 vs Later\")) %>%\n",
    "  ggplot(aes(m, subnum, color = type_chr)) +\n",
    "  geom_vline(aes(xintercept = 0), color = \"gray\") + \n",
    "  geom_point(position = position_dodge(width=.75))+\n",
    "  geom_errorbarh(aes(xmin = l95, xmax = h95, height=.2), position = position_dodge(width=.75))+\n",
    "  facet_wrap(~key, scales = 'free_x',labeller = labeller(key = label_wrap_gen(10))) +\n",
    "  labs(x = \"Parameter Estimate\", y = \"Subject\", color = \"\", title = \"95% HDI for posterior slopes - Yes/Left ~ Value Diff x Time Bin\") +\n",
    "  theme(legend.position = \"bottom\",\n",
    "        panel.grid = element_blank(),\n",
    "        legend.box.margin=margin(t = -10))+\n",
    "  scale_x_symmetric(mid=0)+\n",
    "  scale_color_brewer(palette = \"Dark2\")"
   ]
  },
  {
   "cell_type": "markdown",
   "id": "5875012c",
   "metadata": {},
   "source": [
    "# Reference amount\n",
    "\n",
    "## Choice\n",
    "\n",
    "Are you more likely to say yes/no to a stimulus with the same value difference depending on the reference amount?\n",
    "\n",
    "Does this change over days?"
   ]
  },
  {
   "cell_type": "code",
   "execution_count": null,
   "id": "2d51fcb0",
   "metadata": {
    "warning": false
   },
   "outputs": [],
   "source": [
    "data_yn_clean%>%\n",
    "  mutate(time_bin = factor(time_bin, levels = c(\"Week 3\", \"Week 2\", \"Week 1\", \"Day 3\", \"Day 2\", \"Day 1\")),\n",
    "         reference = factor(reference, levels = c(-50, 0, 50)),\n",
    "         day1 = ifelse(day == 1, \"Day 1\", \"Later\"),\n",
    "         day1 = as.factor(day1)) %>%\n",
    "  ggplot() +\n",
    "  geom_line(aes(val_diff, yesChosen, color = reference), stat=\"smooth\", method = \"glm\", method.args = list(family = \"binomial\"), formula = \"y ~ x\", se = FALSE, size = 1.5, fullrange = T)+\n",
    "  geom_hline(aes(yintercept =.5), color=\"gray\")+\n",
    "  geom_vline(aes(xintercept = 0), color=\"gray\")+\n",
    "  facet_grid(type_chr ~ day1)+\n",
    "  labs(x = \"Value Stim - Value Reference\", y = \"p(Yes)\", title=\"\", color = \"\")+\n",
    "  theme(panel.grid = element_blank(),\n",
    "        legend.position = \"bottom\",\n",
    "        axis.text = element_text(size = 14),\n",
    "        strip.text = element_text(size = 14),\n",
    "        axis.title = element_text(size = 16),\n",
    "        legend.text = element_text(size = 14),\n",
    "        legend.box.margin=margin(t = -10),\n",
    "        legend.spacing.y = unit(-0.25, \"cm\"),\n",
    "        legend.box=\"vertical\")+\n",
    "   scale_color_manual(values = c(\"#ca0020\", \"dark grey\", \"#0571b0\"))+\n",
    "  scale_y_continuous(breaks = seq(0,1,.5))+\n",
    "  scale_x_continuous(breaks = c(-200, -100, 0, 100, 200),\n",
    "                     labels = c(\"\", \"-100\", \"0\", \"\", \"200\"))\n",
    "\n",
    "# ggsave(file=paste0(fig_out_path, 'isdn_yn_subj_LogitRefEffects.jpg'), height = 5, width = 6, units=\"in\")"
   ]
  },
  {
   "cell_type": "code",
   "execution_count": null,
   "id": "47162fc5",
   "metadata": {
    "warning": false
   },
   "outputs": [],
   "source": [
    "data_yn_clean%>%\n",
    "  mutate(time_bin = factor(time_bin, levels = c(\"Week 3\", \"Week 2\", \"Week 1\", \"Day 3\", \"Day 2\", \"Day 1\")),\n",
    "         reference = factor(reference, levels = c(-50, 0, 50)),\n",
    "         day1 = ifelse(day == 1, \"Day 1\", \"Later\"),\n",
    "         day1 = as.factor(day1)) %>%\n",
    "  filter(day == 1) %>%\n",
    "  ggplot() +\n",
    "  geom_line(aes(val_diff, yesChosen, color = reference), stat=\"smooth\", method = \"glm\", method.args = list(family = \"binomial\"), formula = \"y ~ x\", se = FALSE, size = 1.5, fullrange = T)+\n",
    "  geom_hline(aes(yintercept =.5), color=\"gray\")+\n",
    "  geom_vline(aes(xintercept = 0), color=\"gray\")+\n",
    "  facet_grid(type_chr ~ subnum)+\n",
    "  labs(x = \"Value Stim - Value Reference\", y = \"p(Yes)\", title=\"\", color = \"\")+\n",
    "  theme(panel.grid = element_blank(),\n",
    "        legend.position = \"bottom\",\n",
    "        axis.text = element_text(size = 14),\n",
    "        strip.text = element_text(size = 14),\n",
    "        axis.title = element_text(size = 16),\n",
    "        legend.text = element_text(size = 14),\n",
    "        legend.box.margin=margin(t = -10),\n",
    "        legend.spacing.y = unit(-0.25, \"cm\"),\n",
    "        legend.box=\"vertical\")+\n",
    "   scale_color_manual(values = c(\"#ca0020\", \"dark grey\", \"#0571b0\"))+\n",
    "  scale_y_continuous(breaks = seq(0,1,.5))+\n",
    "  scale_x_continuous(breaks = c(-200, -100, 0, 100, 200),\n",
    "                     labels = c(\"\", \"-100\", \"0\", \"\", \"200\"))"
   ]
  },
  {
   "cell_type": "code",
   "execution_count": null,
   "id": "a9adc47e",
   "metadata": {
    "warning": false
   },
   "outputs": [],
   "source": [
    "data_yn_clean%>%\n",
    "  mutate(time_bin = factor(time_bin, levels = c(\"Week 3\", \"Week 2\", \"Week 1\", \"Day 3\", \"Day 2\", \"Day 1\")),\n",
    "         reference = factor(reference, levels = c(-50, 0, 50)),\n",
    "         day1 = ifelse(day == 1, \"Day 1\", \"Later\"),\n",
    "         day1 = as.factor(day1)) %>%\n",
    "  filter(day != 1) %>%\n",
    "  ggplot() +\n",
    "  geom_line(aes(val_diff, yesChosen, color = reference), stat=\"smooth\", method = \"glm\", method.args = list(family = \"binomial\"), formula = \"y ~ x\", se = FALSE, size = 1.5, fullrange = T)+\n",
    "  geom_hline(aes(yintercept =.5), color=\"gray\")+\n",
    "  geom_vline(aes(xintercept = 0), color=\"gray\")+\n",
    "  facet_grid(type_chr ~ subnum)+\n",
    "  labs(x = \"Value Stim - Value Reference\", y = \"p(Yes)\", title=\"\", color = \"\")+\n",
    "  theme(panel.grid = element_blank(),\n",
    "        legend.position = \"bottom\",\n",
    "        axis.text = element_text(size = 14),\n",
    "        strip.text = element_text(size = 14),\n",
    "        axis.title = element_text(size = 16),\n",
    "        legend.text = element_text(size = 14),\n",
    "        legend.box.margin=margin(t = -10),\n",
    "        legend.spacing.y = unit(-0.25, \"cm\"),\n",
    "        legend.box=\"vertical\")+\n",
    "   scale_color_manual(values = c(\"#ca0020\", \"dark grey\", \"#0571b0\"))+\n",
    "  scale_y_continuous(breaks = seq(0,1,.5))+\n",
    "  scale_x_continuous(breaks = c(-200, -100, 0, 100, 200),\n",
    "                     labels = c(\"\", \"-100\", \"0\", \"\", \"200\"))"
   ]
  },
  {
   "cell_type": "code",
   "execution_count": null,
   "id": "2a562098",
   "metadata": {},
   "outputs": [],
   "source": [
    "cur_dat = data_yn_clean %>%\n",
    "  mutate(reference = factor(reference, levels = c(0, -50, 50))) %>%\n",
    "  group_by(subnum, type, day) %>%\n",
    "  mutate(norm_valDiff = (normMax - normMinVal) / (max(val_diff) - min(val_diff)) * (val_diff - max(val_diff)) + (normMax))\n",
    "\n",
    "cur_m <- brm(formula = yesChosen ~ (1 | reference * type),\n",
    "             data= cur_dat,\n",
    "             family = bernoulli(link = \"logit\"),\n",
    "             warmup = 500,\n",
    "             iter = 2500,\n",
    "             chains = 4,\n",
    "             init = \"0\",\n",
    "             cores = 4,\n",
    "             seed = 389253)"
   ]
  },
  {
   "cell_type": "code",
   "execution_count": null,
   "id": "e9ccb90f",
   "metadata": {},
   "outputs": [],
   "source": [
    "m1 = lme4::glmer(yesChosen ~ (1 | subnum) + (1 | reference) + norm_valDiff, data= cur_dat %>% filter(type==1), family = binomial(link = \"logit\"))\n",
    "\n",
    "m0 = lme4::glmer(yesChosen ~ (1 | subnum) + (1 | reference) + norm_valDiff, data= cur_dat %>% filter(type==0), family = binomial(link = \"logit\"))"
   ]
  },
  {
   "cell_type": "code",
   "execution_count": null,
   "id": "d10fd13f",
   "metadata": {},
   "outputs": [],
   "source": [
    "summary(m1)\n",
    "ranef(m1)"
   ]
  },
  {
   "cell_type": "code",
   "execution_count": null,
   "id": "50605b7f",
   "metadata": {},
   "outputs": [],
   "source": [
    "summary(m0)\n",
    "ranef(m0)"
   ]
  },
  {
   "cell_type": "code",
   "execution_count": null,
   "id": "33c8fb0d",
   "metadata": {},
   "outputs": [],
   "source": [
    "m = lme4::glmer(yesChosen ~ (1 | subnum:reference) + norm_valDiff, data= cur_dat %>% filter(type==1), family = binomial(link = \"logit\"))"
   ]
  },
  {
   "cell_type": "code",
   "execution_count": null,
   "id": "9f6cc66f",
   "metadata": {},
   "outputs": [],
   "source": [
    "summary(m)\n",
    "ranef(m)"
   ]
  },
  {
   "cell_type": "code",
   "execution_count": null,
   "id": "2e9453ee",
   "metadata": {},
   "outputs": [],
   "source": [
    "ranef(m1)\n",
    "ranef(m0)"
   ]
  },
  {
   "cell_type": "markdown",
   "id": "61e18b92",
   "metadata": {},
   "source": [
    "Random intercept model in brms was taking too long.\n",
    "\n",
    "## RT"
   ]
  },
  {
   "cell_type": "code",
   "execution_count": null,
   "id": "29e72035",
   "metadata": {},
   "outputs": [],
   "source": [
    "data_yn_clean %>%\n",
    "  mutate(time_bin = factor(time_bin, levels = c(\"Week 3\", \"Week 2\", \"Week 1\", \"Day 3\", \"Day 2\", \"Day 1\")),\n",
    "         reference = factor(reference, levels = c(-50, 0, 50)),\n",
    "         day1 = ifelse(day == 1, \"Day 1\", \"Later\"),\n",
    "         day1 = as.factor(day1)) %>%\n",
    "  ggplot() +\n",
    "  geom_line(aes(abs_val_diff, rt, color = reference), stat=\"smooth\", method = \"lm\", formula = \"y ~ x\", se = FALSE, size = 1.5)+\n",
    "  facet_grid(type_chr ~ day1)+\n",
    "  labs(x = \"|Value Stim - Value Reference|\", y = \"RT (secs)\", title=\"\", color = \"\")+\n",
    "  theme(panel.grid = element_blank(),\n",
    "        legend.position = \"bottom\",\n",
    "        axis.text = element_text(size = 14),\n",
    "        strip.text = element_text(size = 14),\n",
    "        axis.title = element_text(size = 16),\n",
    "        legend.text = element_text(size = 14),\n",
    "        legend.box.margin=margin(t = -10),\n",
    "        legend.spacing.y = unit(-0.25, \"cm\"),\n",
    "        legend.box=\"vertical\")+\n",
    "  scale_color_manual(values = c(\"#ca0020\", \"dark grey\", \"#0571b0\"))+\n",
    "  scale_alpha_manual(values = c(1, .7, .7, .7, .7))+\n",
    "  scale_y_continuous(trans = \"log\", breaks = c(0.1, .5, 1, 1.5))+\n",
    "  scale_x_continuous(breaks = c(0, 100, 200),\n",
    "                     labels = c(\"0\", \"100\", \"\"))\n",
    "\n",
    "# ggsave(file=paste0(fig_out_path, 'isdn_yn_subj_RTRefEffects.jpg'), height = 5, width = 6, units=\"in\")"
   ]
  },
  {
   "cell_type": "markdown",
   "id": "318ddb92",
   "metadata": {},
   "source": [
    "# HT on day 1\n",
    "\n",
    "````{r warning=FALSE}\n",
    "data_yn_clean %>%\n",
    "  filter(subnum == 619) %>%\n",
    "  ggplot() +\n",
    "  geom_hline(aes(yintercept =.5), color=\"gray\")+\n",
    "  geom_vline(aes(xintercept = 0), color=\"gray\")+\n",
    "  geom_line(aes(val_diff, yesChosen, color = type_chr), stat=\"smooth\", method = \"glm\", method.args = list(family = \"binomial\"), formula = \"y ~ x\", se = FALSE, size = 1.5, fullrange = T) +\n",
    "  facet_grid(time_bin ~ session) +\n",
    "  labs(x = \"Value Stim - Value Reference\", y = \"p(Yes)\", title=\"\", color = \"\")+\n",
    "  theme(panel.grid = element_blank(),\n",
    "        legend.position = \"bottom\",\n",
    "        axis.text = element_text(size = 14),\n",
    "        strip.text = element_text(size = 14),\n",
    "        axis.title = element_text(size = 16),\n",
    "        legend.text = element_text(size = 14),\n",
    "        legend.box.margin=margin(t = -10),\n",
    "        legend.spacing.y = unit(-0.25, \"cm\"),\n",
    "        legend.box=\"vertical\")+\n",
    "  scale_color_brewer(palette = \"Dark2\")+\n",
    "  scale_alpha_manual(values = c(1, .7, .7, .7, .7))+\n",
    "  scale_y_continuous(breaks = seq(0,1,.5))+\n",
    "  scale_x_continuous(breaks = c(-200, -100, 0, 100, 200),\n",
    "                     labels = c(\"\", \"-100\", \"0\", \"\", \"200\"))\n",
    "\n",
    "```"
   ]
  },
  {
   "cell_type": "code",
   "execution_count": null,
   "id": "b0f7f4ca",
   "metadata": {},
   "outputs": [],
   "source": [
    "data_yn_clean %>%\n",
    "  filter(subnum == 619) %>%\n",
    "  # mutate(time_bin = factor(time_bin, levels = c(\"Week 3\", \"Week 2\", \"Week 1\", \"Day 3\", \"Day 2\", \"Day 1\"))) %>%\n",
    "  ggplot() +\n",
    "  geom_line(aes(abs_val_diff, rt, color = type_chr), stat=\"smooth\", method = \"lm\", formula = \"y ~ x\", se = FALSE, size = 1.5)+\n",
    "  facet_grid(time_bin ~ session) +\n",
    "  labs(x = \"|Value Stim - Value Reference|\", y = \"RT (secs)\", title=\"\", color = \"\")+\n",
    "  theme(panel.grid = element_blank(),\n",
    "        legend.position = \"bottom\",\n",
    "        axis.text = element_text(size = 14),\n",
    "        strip.text = element_text(size = 14),\n",
    "        axis.title = element_text(size = 16),\n",
    "        legend.text = element_text(size = 14),\n",
    "        legend.box.margin=margin(t = -10),\n",
    "        legend.spacing.y = unit(-0.25, \"cm\"),\n",
    "        legend.box=\"vertical\")+\n",
    "  scale_color_brewer(palette = \"Dark2\")+\n",
    "  scale_alpha_manual(values = c(1, .7, .7, .7, .7))+\n",
    "  scale_y_continuous(trans = \"log\", breaks = c(0.1, .5, 1, 1.5))+\n",
    "  scale_x_continuous(breaks = c(0, 100, 200),\n",
    "                     labels = c(\"0\", \"100\", \"\"))"
   ]
  },
  {
   "cell_type": "markdown",
   "id": "1b7b80ce",
   "metadata": {},
   "source": [
    "# RLDDM\n",
    "\n",
    "What is the interesting question here? \"Are you learning about the HT in an isolated manner? Or is what you have learned about them leaking to other stims in some way?\"  \n",
    "\n",
    "This is a bit of a straw man argument. If there was no generalization there would be no reason for behavior in RE to improve. So there is learning for more than just the stim value but what is the representation that is being updated?"
   ]
  },
  {
   "cell_type": "code",
   "execution_count": null,
   "id": "1356ab78",
   "metadata": {},
   "outputs": [],
   "source": [
    "source(paste0(helpers_path, \"rlddm/yn_rlddm.R\"))"
   ]
  },
  {
   "cell_type": "markdown",
   "id": "97193ed8",
   "metadata": {},
   "source": [
    "## Model all days with same parameters"
   ]
  },
  {
   "cell_type": "code",
   "execution_count": null,
   "id": "8be0d0c6",
   "metadata": {},
   "outputs": [],
   "source": [
    "cur_subnum = 601\n",
    "cur_day = c(1, 2, 3)\n",
    "stims = data_yn_clean %>% filter(subnum == cur_subnum & day %in% cur_day)"
   ]
  },
  {
   "cell_type": "markdown",
   "id": "408a8329",
   "metadata": {},
   "source": [
    "Takes ~ 18 seconds with these parameters (`d = .005, sigma = .005, alpha = .3, theta = .2`) for 800 trials."
   ]
  },
  {
   "cell_type": "code",
   "execution_count": null,
   "id": "d8b40171",
   "metadata": {},
   "outputs": [],
   "source": [
    "sim_data = sim_task(stims, d = .003, sigma = .09, alpha = .001, theta = 0, k = .15, nonDecisionTime = 300, bias = 0, barrierDecay = 0, return_values = TRUE)"
   ]
  },
  {
   "cell_type": "markdown",
   "id": "37502804",
   "metadata": {},
   "source": [
    "Plot: heat map of value representations with number of occurence of each attribute level\n",
    "Normalize values to range from [-1 to +1]"
   ]
  },
  {
   "cell_type": "code",
   "execution_count": null,
   "id": "05009ba6",
   "metadata": {},
   "outputs": [],
   "source": [
    "occs = stims %>%\n",
    "  count(orientation) %>%\n",
    "  rename(attr_level = orientation) %>%\n",
    "  mutate(attr = \"orientation\") %>%\n",
    "  rbind(stims %>%\n",
    "          count(shape) %>%\n",
    "          rename(attr_level = shape) %>%\n",
    "          mutate(attr = \"shape\")) %>%\n",
    "  rbind(stims %>%\n",
    "          count(filling) %>%\n",
    "          rename(attr_level = filling) %>%\n",
    "          mutate(attr = \"filling\")) %>%\n",
    "  mutate( attr_level = as.factor(attr_level))"
   ]
  },
  {
   "cell_type": "code",
   "execution_count": null,
   "id": "c3fb926c",
   "metadata": {},
   "outputs": [],
   "source": [
    "true_vals = data_yn_clean %>%\n",
    "  filter(subnum == cur_subnum) %>%\n",
    "  select(valueS, shape) %>%\n",
    "  distinct() %>%\n",
    "  rename(val = valueS, attr_level = shape) %>%\n",
    "  mutate(attr = \"shape\") %>%\n",
    "  rbind(data_yn_clean %>%\n",
    "          filter(subnum == cur_subnum) %>%\n",
    "          select(valueF, filling) %>%\n",
    "          distinct() %>%\n",
    "          rename(val = valueF, attr_level = filling) %>%\n",
    "          group_by(attr_level) %>%\n",
    "          summarise(val = mean(val)) %>%\n",
    "          mutate(attr = \"filling\")) %>%\n",
    "  rbind(data_yn_clean %>%\n",
    "          filter(subnum == cur_subnum) %>%\n",
    "          select(valueO, orientation) %>%\n",
    "          distinct() %>%\n",
    "          rename(val = valueO, attr_level = orientation) %>%\n",
    "          mutate(attr = \"orientation\")) %>%\n",
    "  mutate(y = 1, type = \"true\",\n",
    "         attr_level = as.factor(attr_level))\n"
   ]
  },
  {
   "cell_type": "code",
   "execution_count": null,
   "id": "3010b867",
   "metadata": {},
   "outputs": [],
   "source": [
    "normMax = 1\n",
    "normMin = -1\n",
    "\n",
    "sim_vals = tibble(attr_level = factor(1:6), val = sim_data$values$val_shape) %>%\n",
    "  mutate(attr = \"shape\", type = \"sim\") %>%\n",
    "  rbind(tibble(attr_level = factor(c(-.85, -.6, -.4, -.2, 0, .2, .4, .6, .85)), val = sim_data$values$val_filling) %>%\n",
    "          mutate(attr = \"filling\", type = \"sim\")) %>%\n",
    "  rbind(tibble(attr_level = factor(seq(0,150, 15)), val = sim_data$values$val_orientation) %>%\n",
    "          mutate(attr = \"orientation\", type = \"sim\")) %>%\n",
    "  group_by(attr) %>%\n",
    "  mutate(val = (normMax - normMin) / (max(val) - min(val)) * (val - max(val)) + (normMax),\n",
    "         y = factor(1)) "
   ]
  },
  {
   "cell_type": "code",
   "execution_count": null,
   "id": "f631fc4d",
   "metadata": {
    "lines_to_next_cell": 2
   },
   "outputs": [],
   "source": [
    "true_vals %>%\n",
    "  rbind(sim_vals) %>%\n",
    "  left_join(occs, by = c(\"attr\", \"attr_level\")) %>%\n",
    "  ggplot(aes(attr_level, y, fill = val)) +\n",
    "  geom_tile()+\n",
    "  geom_text(aes(label = n), size = 2, nudge_y = .4) +\n",
    "  theme(panel.grid = element_blank(),\n",
    "        panel.border = element_blank(),\n",
    "        legend.position = \"bottom\",\n",
    "        legend.box.margin=margin(t = -30),\n",
    "        axis.ticks = element_blank(),\n",
    "        axis.text = element_blank())+\n",
    "  facet_grid(type~attr, scales = \"free\")+\n",
    "  labs(y = \"\", x = \"\", fill = \"\")+\n",
    "  scale_fill_gradient2(low = \"#b2182b\", high = \"#2166ac\", mid = \"white\", \n",
    "   midpoint = 0, limit = c(-1,1), space = \"Lab\")"
   ]
  },
  {
   "cell_type": "code",
   "execution_count": null,
   "id": "722204c3",
   "metadata": {},
   "outputs": [],
   "source": [
    "sim_vals_d1 = tibble(attr_level = factor(1:6), val = sim_data$out$val_shape[800][[1]]) %>%\n",
    "  mutate(attr = \"shape\", type = \"sim_d1\") %>%\n",
    "  rbind(tibble(attr_level = factor(c(-.85, -.6, -.4, -.2, 0, .2, .4, .6, .85)), val = sim_data$out$val_filling[800][[1]]) %>%\n",
    "          mutate(attr = \"filling\", type = \"sim_d1\")) %>%\n",
    "  rbind(tibble(attr_level = factor(seq(0,150, 15)), val = sim_data$out$val_orientation[800][[1]]) %>%\n",
    "          mutate(attr = \"orientation\", type = \"sim_d1\")) %>%\n",
    "  group_by(attr) %>%\n",
    "  mutate(val = (normMax - normMin) / (max(val) - min(val)) * (val - max(val)) + (normMax),\n",
    "         y = factor(1)) \n",
    "\n",
    "sim_vals_d2 = tibble(attr_level = factor(1:6), val = sim_data$out$val_shape[2*800][[1]]) %>%\n",
    "  mutate(attr = \"shape\", type = \"sim_d2\") %>%\n",
    "  rbind(tibble(attr_level = factor(c(-.85, -.6, -.4, -.2, 0, .2, .4, .6, .85)), val = sim_data$out$val_filling[2*800][[1]]) %>%\n",
    "          mutate(attr = \"filling\", type = \"sim_d2\")) %>%\n",
    "  rbind(tibble(attr_level = factor(seq(0,150, 15)), val = sim_data$out$val_orientation[2*800][[1]]) %>%\n",
    "          mutate(attr = \"orientation\", type = \"sim_d2\")) %>%\n",
    "  group_by(attr) %>%\n",
    "  mutate(val = (normMax - normMin) / (max(val) - min(val)) * (val - max(val)) + (normMax),\n",
    "         y = factor(1)) \n",
    "\n",
    "sim_vals_d3 = tibble(attr_level = factor(1:6), val = sim_data$out$val_shape[3*800][[1]]) %>%\n",
    "  mutate(attr = \"shape\", type = \"sim_d3\") %>%\n",
    "  rbind(tibble(attr_level = factor(c(-.85, -.6, -.4, -.2, 0, .2, .4, .6, .85)), val = sim_data$out$val_filling[3*800][[1]]) %>%\n",
    "          mutate(attr = \"filling\", type = \"sim_d3\")) %>%\n",
    "  rbind(tibble(attr_level = factor(seq(0,150, 15)), val = sim_data$out$val_orientation[3*800][[1]]) %>%\n",
    "          mutate(attr = \"orientation\", type = \"sim_d3\")) %>%\n",
    "  group_by(attr) %>%\n",
    "  mutate(val = (normMax - normMin) / (max(val) - min(val)) * (val - max(val)) + (normMax),\n",
    "         y = factor(1)) "
   ]
  },
  {
   "cell_type": "code",
   "execution_count": null,
   "id": "215c0977",
   "metadata": {},
   "outputs": [],
   "source": [
    "sim_vals_d1"
   ]
  },
  {
   "cell_type": "code",
   "execution_count": null,
   "id": "a241a8a7",
   "metadata": {
    "lines_to_next_cell": 2
   },
   "outputs": [],
   "source": [
    "true_vals %>%\n",
    "  rbind(sim_vals_d1, sim_vals_d2, sim_vals_d3) %>%\n",
    "  # left_join(occs, by = c(\"attr\", \"attr_level\")) %>%\n",
    "  ggplot(aes(attr_level, y, fill = val)) +\n",
    "  geom_tile()+\n",
    "  # geom_text(aes(label = n), size = 2, nudge_y = .4) +\n",
    "  theme(panel.grid = element_blank(),\n",
    "        panel.border = element_blank(),\n",
    "        legend.position = \"bottom\",\n",
    "        legend.box.margin=margin(t = -30),\n",
    "        axis.ticks = element_blank(),\n",
    "        axis.text = element_blank())+\n",
    "  facet_grid(type~attr, scales = \"free\")+\n",
    "  labs(y = \"\", x = \"\", fill = \"\")+\n",
    "  scale_fill_gradient2(low = \"#b2182b\", high = \"#2166ac\", mid = \"white\", \n",
    "   midpoint = 0, limit = c(-1,1), space = \"Lab\")"
   ]
  },
  {
   "cell_type": "code",
   "execution_count": null,
   "id": "a529bb84",
   "metadata": {},
   "outputs": [],
   "source": [
    "sim_data$out = sim_data$out %>%\n",
    "  # filter(type == 1) %>%\n",
    "  mutate(type_chr = ifelse(type == 1, \"Over Exposure\", \"Regular Exposure\"),\n",
    "         val_diff = possiblePayoff - reference,\n",
    "         abs_val_diff = abs(possiblePayoff - reference),\n",
    "         val_diff_bin = round(val_diff/50),\n",
    "         val_diff_bin_str = paste0(val_diff_bin*50-25,\":\",val_diff_bin*50+25),\n",
    "         val_diff_bin_str = factor(val_diff_bin_str, levels = c(\"-225:-175\", \"-175:-125\", \"-125:-75\", \"-75:-25\", \"-25:25\", \"25:75\", \"75:125\", \"125:175\", \"175:225\")),\n",
    "         yesChosen = ifelse(choice == \"yes\", 1, 0)) %>%\n",
    "    mutate(day = paste0(\"Day \", day),\n",
    "         day = factor(day, levels = c(\"Day 1\", \"Day 2\", \"Day 3\")))\n"
   ]
  },
  {
   "cell_type": "code",
   "execution_count": null,
   "id": "30174e6b",
   "metadata": {},
   "outputs": [],
   "source": [
    "sim_data$out %>%\n",
    "  ggplot()+\n",
    "  geom_hline(aes(yintercept =.5), color=\"gray\")+\n",
    "  geom_vline(aes(xintercept = 0), color=\"gray\")+\n",
    "  geom_line(aes(val_diff, yesChosen, color = type_chr), stat=\"smooth\", method = \"glm\", method.args = list(family = \"binomial\"), formula = \"y ~ x\", se = FALSE, linewidth = 1.5, fullrange = T) +\n",
    "  facet_grid(. ~ day) +\n",
    "  labs(x = \"Value Stim - Value Reference\", y = \"p(Yes)\", title=\"\", color = \"\")+\n",
    "  theme(panel.grid = element_blank(),\n",
    "        legend.position = \"bottom\",\n",
    "        axis.text = element_text(size = 14),\n",
    "        strip.text = element_text(size = 14),\n",
    "        axis.title = element_text(size = 16),\n",
    "        legend.text = element_text(size = 14),\n",
    "        legend.box.margin=margin(t = -10),\n",
    "        legend.spacing.y = unit(-0.25, \"cm\"),\n",
    "        legend.box=\"vertical\")+\n",
    "  scale_color_brewer(palette = \"Dark2\")+\n",
    "  scale_alpha_manual(values = c(1, .7, .7, .7, .7))+\n",
    "  scale_y_continuous(breaks = seq(0,1,.5))+\n",
    "  scale_x_continuous(breaks = c(-200, -100, 0, 100, 200),\n",
    "                     labels = c(\"\", \"-100\", \"0\", \"\", \"200\"))"
   ]
  },
  {
   "cell_type": "code",
   "execution_count": null,
   "id": "d9955932",
   "metadata": {},
   "outputs": [],
   "source": [
    "sim_data$out %>%\n",
    "  ggplot() +\n",
    "  geom_hline(aes(yintercept =.5), color=\"gray\")+\n",
    "  geom_vline(aes(xintercept = 0), color=\"gray\")+\n",
    "  geom_line(aes(val_diff, yesChosen, color = day), stat=\"smooth\", method = \"glm\", method.args = list(family = \"binomial\"), formula = \"y ~ x\", se = FALSE, linewidth = 1.5, fullrange = T) +\n",
    "  facet_grid(type_chr ~ .) +\n",
    "  labs(x = \"Value Stim - Value Reference\", y = \"p(Yes)\", title=\"\", color = \"\")+\n",
    "  theme(panel.grid = element_blank(),\n",
    "        legend.position = \"bottom\",\n",
    "        axis.text = element_text(size = 14),\n",
    "        strip.text = element_text(size = 14),\n",
    "        axis.title = element_text(size = 16),\n",
    "        legend.text = element_text(size = 14),\n",
    "        legend.box.margin=margin(t = -10),\n",
    "        legend.spacing.y = unit(-0.25, \"cm\"),\n",
    "        legend.box=\"vertical\")+\n",
    "  scale_color_manual(values = c(\"#6e016b\", \"#238b45\", \"#41ae76\"),\n",
    "                     breaks = c(\"Day 1\", \"Day 2\", \"Day 3\"))+\n",
    "  scale_y_continuous(breaks = seq(0,1,.5))+\n",
    "  scale_x_continuous(breaks = c(-200, -100, 0, 100, 200),\n",
    "                     labels = c(\"\", \"-100\", \"0\", \"\", \"200\"))\n",
    "\n",
    "# scale_color_manual(values = c(\"#6e016b\", \"#238b45\", \"#41ae76\", \"#66c2a4\", \"#99d8c9\"),\n",
    "                     # breaks = c(\"Day 1\", \"Day 2\", \"Day 3\", \"Week 2\", \"Week 3\"))"
   ]
  },
  {
   "cell_type": "code",
   "execution_count": null,
   "id": "fdd85869",
   "metadata": {},
   "outputs": [],
   "source": [
    "sim_data$out %>%\n",
    "  mutate(reference = as.factor(reference)) %>%\n",
    "  ggplot() +\n",
    "  geom_line(aes(val_diff, yesChosen, color = reference), stat=\"smooth\", method = \"glm\", method.args = list(family = \"binomial\"), formula = \"y ~ x\", se = FALSE, size = 1.5, fullrange=T)+\n",
    "  geom_hline(aes(yintercept =.5), color=\"gray\")+\n",
    "  geom_vline(aes(xintercept = 0), color=\"gray\")+\n",
    "  facet_grid(type_chr ~ day)+\n",
    "  labs(x = \"Value Stim - Value Reference\", y = \"p(Yes)\", title=\"\", color = \"\")+\n",
    "  theme(panel.grid = element_blank(),\n",
    "        legend.position = \"bottom\",\n",
    "        axis.text = element_text(size = 14),\n",
    "        strip.text = element_text(size = 14),\n",
    "        axis.title = element_text(size = 16),\n",
    "        legend.text = element_text(size = 14),\n",
    "        legend.box.margin=margin(t = -10),\n",
    "        legend.spacing.y = unit(-0.25, \"cm\"),\n",
    "        legend.box=\"vertical\")+\n",
    "   scale_color_manual(values = c(\"#ca0020\", \"dark grey\", \"#0571b0\"))+\n",
    "  scale_y_continuous(breaks = seq(0,1,.5))+\n",
    "  scale_x_continuous(breaks = c(-200, -100, 0, 100, 200),\n",
    "                     labels = c(\"\", \"-100\", \"0\", \"\", \"200\"))"
   ]
  },
  {
   "cell_type": "code",
   "execution_count": null,
   "id": "fc58c2bd",
   "metadata": {},
   "outputs": [],
   "source": [
    "sim_data$out %>%\n",
    "  mutate(rt = reactionTime) %>%\n",
    "  ggplot() +\n",
    "  geom_hline(aes(yintercept = 1), color = \"gray\") + \n",
    "  geom_line(aes(abs_val_diff, rt, color = day), stat=\"smooth\", method = \"lm\", formula = \"y ~ x\", se = FALSE, size = 1.5)+\n",
    "  facet_grid(type_chr ~ .) +\n",
    "  labs(x = \"|Value Stim - Value Reference|\", y = \"RT (secs)\", title=\"\", color = \"\")+\n",
    "  theme(panel.grid = element_blank(),\n",
    "        legend.position = \"bottom\",\n",
    "        axis.text = element_text(size = 14),\n",
    "        strip.text = element_text(size = 14),\n",
    "        axis.title = element_text(size = 16),\n",
    "        legend.text = element_text(size = 14),\n",
    "        legend.box.margin=margin(t = -10),\n",
    "        legend.spacing.y = unit(-0.25, \"cm\"),\n",
    "        legend.box=\"vertical\")+\n",
    "  scale_color_manual(values = c(\"#6e016b\", \"#238b45\", \"#41ae76\"),\n",
    "                     breaks = c(\"Day 1\", \"Day 2\", \"Day 3\"))+\n",
    "  scale_alpha_manual(values = c(1, .7, .7, .7, .7))+\n",
    "  scale_y_continuous(trans = \"log\", breaks = c(0.1, .5, 1, 1.5), limits = c(0.001,8))+\n",
    "  scale_x_continuous(breaks = c(0, 100, 200),\n",
    "                     labels = c(\"0\", \"100\", \"\"))"
   ]
  },
  {
   "cell_type": "code",
   "execution_count": null,
   "id": "15a9a744",
   "metadata": {},
   "outputs": [],
   "source": [
    "sim_data$out %>%\n",
    "  ggplot(aes(possiblePayoff, stim_ev, color = type_chr))+\n",
    "  geom_point()+\n",
    "  geom_abline(aes(slope = 1, intercept = 0))+\n",
    "  scale_color_brewer(palette = \"Dark2\")+\n",
    "  theme(legend.position = \"bottom\")+\n",
    "  labs(color = \"\", x = \"True value\", y = \"Learned value\")"
   ]
  },
  {
   "cell_type": "code",
   "execution_count": null,
   "id": "2c93fe35",
   "metadata": {},
   "outputs": [],
   "source": [
    "sim_data$out %>%\n",
    "  group_by(type_chr) %>%\n",
    "  summarise(val_cor = cor(possiblePayoff, stim_ev))"
   ]
  },
  {
   "cell_type": "markdown",
   "id": "aef845f0",
   "metadata": {},
   "source": [
    "## Feed values from previous and change learning rates"
   ]
  },
  {
   "cell_type": "code",
   "execution_count": null,
   "id": "ba1f234b",
   "metadata": {},
   "outputs": [],
   "source": [
    "source(paste0(helpers_path, \"rlddm/yn_rlddm.R\"))"
   ]
  },
  {
   "cell_type": "markdown",
   "id": "7ee9ff2d",
   "metadata": {},
   "source": [
    "The true noise level is 10 so don't go below that?"
   ]
  },
  {
   "cell_type": "code",
   "execution_count": null,
   "id": "2f909720",
   "metadata": {},
   "outputs": [],
   "source": [
    "cur_subnum = 601\n",
    "init_attr_values = list(val_shape = rep(0, 6), val_orientation = rep(0, 11), val_filling = rep(0, 9))\n",
    "init_ht_values = list()\n",
    "  \n",
    "stims = data_yn_clean %>% filter(subnum == cur_subnum & day %in% c(1))\n",
    "sim_data_d1 = sim_task(stims, init_ht_values, init_attr_values, d = .0007, sigma = .005, alpha = .08, theta = 0.020, oe_noise = 5, re_noise = 30, nonDecisionTime = 300, bias = 0)\n",
    "sim_data_d1$out$day = 1\n",
    "\n",
    "stims = data_yn_clean %>% filter(subnum == cur_subnum & day %in% c(2))\n",
    "sim_data_d2 = sim_task(stims, sim_data_d1$values$ht_vals, sim_data_d1$values, d = .0008, sigma = .005, alpha = 0.05, theta = 0.020, oe_noise = 5, re_noise = 10, nonDecisionTime = 300, bias = 0)\n",
    "sim_data_d2$out$day = 2\n",
    "\n",
    "stims = data_yn_clean %>% filter(subnum == cur_subnum & day %in% c(3))\n",
    "sim_data_d3 = sim_task(stims, sim_data_d2$values$ht_vals, sim_data_d2$values, d = .0008, sigma = .005, alpha = 0.05, theta = 0.020, oe_noise = 5, re_noise = 5, nonDecisionTime = 300, bias = 0)\n",
    "sim_data_d3$out$day = 3\n"
   ]
  },
  {
   "cell_type": "code",
   "execution_count": null,
   "id": "07fb720a",
   "metadata": {},
   "outputs": [],
   "source": [
    "sim_data = rbind(sim_data_d1$out, sim_data_d2$out, sim_data_d3$out) %>%\n",
    "  # filter(type == 1) %>%\n",
    "  mutate(type_chr = ifelse(type == 1, \"Over Exposure\", \"Regular Exposure\"),\n",
    "         val_diff = possiblePayoff - reference,\n",
    "         abs_val_diff = abs(possiblePayoff - reference),\n",
    "         val_diff_bin = round(val_diff/50),\n",
    "         val_diff_bin_str = paste0(val_diff_bin*50-25,\":\",val_diff_bin*50+25),\n",
    "         val_diff_bin_str = factor(val_diff_bin_str, levels = c(\"-225:-175\", \"-175:-125\", \"-125:-75\", \"-75:-25\", \"-25:25\", \"25:75\", \"75:125\", \"125:175\", \"175:225\")),\n",
    "         yesChosen = ifelse(choice == \"yes\", 1, 0)) %>%\n",
    "    mutate(day = paste0(\"Day \", day),\n",
    "         day = factor(day, levels = c(\"Day 1\", \"Day 2\", \"Day 3\")))\n"
   ]
  },
  {
   "cell_type": "code",
   "execution_count": null,
   "id": "0c608d57",
   "metadata": {},
   "outputs": [],
   "source": [
    "true_vals = data_yn_clean %>%\n",
    "  filter(subnum == cur_subnum) %>%\n",
    "  select(valueS, shape) %>%\n",
    "  distinct() %>%\n",
    "  rename(val = valueS, attr_level = shape) %>%\n",
    "  mutate(attr = \"shape\") %>%\n",
    "  rbind(data_yn_clean %>%\n",
    "          filter(subnum == cur_subnum) %>%\n",
    "          select(valueF, filling) %>%\n",
    "          distinct() %>%\n",
    "          rename(val = valueF, attr_level = filling) %>%\n",
    "          group_by(attr_level) %>%\n",
    "          summarise(val = mean(val)) %>%\n",
    "          mutate(attr = \"filling\")) %>%\n",
    "  rbind(data_yn_clean %>%\n",
    "          filter(subnum == cur_subnum) %>%\n",
    "          select(valueO, orientation) %>%\n",
    "          distinct() %>%\n",
    "          rename(val = valueO, attr_level = orientation) %>%\n",
    "          mutate(attr = \"orientation\")) %>%\n",
    "  mutate(y = 1, type = \"true\",\n",
    "         attr_level = as.factor(attr_level))\n"
   ]
  },
  {
   "cell_type": "code",
   "execution_count": null,
   "id": "9636e7f8",
   "metadata": {},
   "outputs": [],
   "source": [
    "normMin = -1\n",
    "normMax = 1\n",
    "\n",
    "sim_vals_d1 = tibble(attr_level = factor(1:6), val = sim_data_d1$values$val_shape) %>%\n",
    "  mutate(attr = \"shape\", type = \"sim_d1\") %>%\n",
    "  rbind(tibble(attr_level = factor(c(-.85, -.6, -.4, -.2, 0, .2, .4, .6, .85)), val = sim_data_d1$values$val_filling) %>%\n",
    "          mutate(attr = \"filling\", type = \"sim_d1\")) %>%\n",
    "  rbind(tibble(attr_level = factor(seq(0,150, 15)), val = sim_data_d1$values$val_orientation) %>%\n",
    "          mutate(attr = \"orientation\", type = \"sim_d1\")) %>%\n",
    "  group_by(attr) %>%\n",
    "  mutate(val = (normMax - normMin) / (max(val) - min(val)) * (val - max(val)) + (normMax),\n",
    "         y = factor(1)) \n",
    "\n",
    "sim_vals_d2 = tibble(attr_level = factor(1:6), val = sim_data_d2$values$val_shape) %>%\n",
    "  mutate(attr = \"shape\", type = \"sim_d2\") %>%\n",
    "  rbind(tibble(attr_level = factor(c(-.85, -.6, -.4, -.2, 0, .2, .4, .6, .85)), val = sim_data_d2$values$val_filling) %>%\n",
    "          mutate(attr = \"filling\", type = \"sim_d2\")) %>%\n",
    "  rbind(tibble(attr_level = factor(seq(0,150, 15)), val = sim_data_d2$values$val_orientation) %>%\n",
    "          mutate(attr = \"orientation\", type = \"sim_d2\")) %>%\n",
    "  group_by(attr) %>%\n",
    "  mutate(val = (normMax - normMin) / (max(val) - min(val)) * (val - max(val)) + (normMax),\n",
    "         y = factor(1)) \n",
    "\n",
    "sim_vals_d3 = tibble(attr_level = factor(1:6), val = sim_data_d3$values$val_shape) %>%\n",
    "  mutate(attr = \"shape\", type = \"sim_d3\") %>%\n",
    "  rbind(tibble(attr_level = factor(c(-.85, -.6, -.4, -.2, 0, .2, .4, .6, .85)), val = sim_data_d3$values$val_filling) %>%\n",
    "          mutate(attr = \"filling\", type = \"sim_d3\")) %>%\n",
    "  rbind(tibble(attr_level = factor(seq(0,150, 15)), val = sim_data_d3$values$val_orientation) %>%\n",
    "          mutate(attr = \"orientation\", type = \"sim_d3\")) %>%\n",
    "  group_by(attr) %>%\n",
    "  mutate(val = (normMax - normMin) / (max(val) - min(val)) * (val - max(val)) + (normMax),\n",
    "         y = factor(1)) "
   ]
  },
  {
   "cell_type": "code",
   "execution_count": null,
   "id": "384246c6",
   "metadata": {
    "eval": false
   },
   "outputs": [],
   "source": [
    "true_vals %>%\n",
    "  rbind(sim_vals_d1, sim_vals_d2, sim_vals_d3) %>%\n",
    "  ggplot(aes(attr_level, y, fill = val)) +\n",
    "  geom_tile()+\n",
    "  theme(panel.grid = element_blank(),\n",
    "        panel.border = element_blank(),\n",
    "        legend.position = \"bottom\",\n",
    "        legend.box.margin=margin(t = -30),\n",
    "        axis.ticks = element_blank(),\n",
    "        axis.text = element_blank())+\n",
    "  facet_grid(type~attr, scales = \"free\")+\n",
    "  labs(y = \"\", x = \"\", fill = \"\")+\n",
    "  scale_fill_gradient2(low = \"#b2182b\", high = \"#2166ac\", mid = \"white\", \n",
    "   midpoint = 0, limit = c(-1,1), space = \"Lab\")"
   ]
  },
  {
   "cell_type": "code",
   "execution_count": null,
   "id": "e5c9ef58",
   "metadata": {},
   "outputs": [],
   "source": [
    "sim_data %>%\n",
    "  ggplot(aes(possiblePayoff, stim_ev))+\n",
    "  geom_point()+\n",
    "  geom_abline(aes(slope = 1, intercept = 0))+\n",
    "  scale_color_brewer(palette = \"Dark2\")+\n",
    "  theme(legend.position = \"bottom\",\n",
    "        panel.grid = element_blank())+\n",
    "  facet_grid(type_chr ~ day)+\n",
    "  labs(color = \"\", x = \"True value\", y = \"Learned value\")"
   ]
  },
  {
   "cell_type": "code",
   "execution_count": null,
   "id": "a6f71fd6",
   "metadata": {},
   "outputs": [],
   "source": [
    "sim_data %>%\n",
    "  group_by(type_chr, day) %>%\n",
    "  summarise(val_cor = cor(possiblePayoff, stim_ev), .groups = \"keep\")"
   ]
  },
  {
   "cell_type": "code",
   "execution_count": null,
   "id": "cd127115",
   "metadata": {},
   "outputs": [],
   "source": [
    "sim_data %>%\n",
    "  ggplot()+\n",
    "  geom_hline(aes(yintercept =.5), color=\"gray\")+\n",
    "  geom_vline(aes(xintercept = 0), color=\"gray\")+\n",
    "  geom_line(aes(val_diff, yesChosen, color = type_chr), stat=\"smooth\", method = \"glm\", method.args = list(family = \"binomial\"), formula = \"y ~ x\", se = FALSE, linewidth = 1.5, fullrange = T) +\n",
    "  facet_grid(. ~ day) +\n",
    "  labs(x = \"Value Stim - Value Reference\", y = \"p(Yes)\", title=\"\", color = \"\")+\n",
    "  theme(panel.grid = element_blank(),\n",
    "        legend.position = \"bottom\",\n",
    "        axis.text = element_text(size = 14),\n",
    "        strip.text = element_text(size = 14),\n",
    "        axis.title = element_text(size = 16),\n",
    "        legend.text = element_text(size = 14),\n",
    "        legend.box.margin=margin(t = -10),\n",
    "        legend.spacing.y = unit(-0.25, \"cm\"),\n",
    "        legend.box=\"vertical\")+\n",
    "  scale_color_brewer(palette = \"Dark2\")+\n",
    "  scale_alpha_manual(values = c(1, .7, .7, .7, .7))+\n",
    "  scale_y_continuous(breaks = seq(0,1,.5))+\n",
    "  scale_x_continuous(breaks = c(-200, -100, 0, 100, 200),\n",
    "                     labels = c(\"\", \"-100\", \"0\", \"\", \"200\"))"
   ]
  },
  {
   "cell_type": "code",
   "execution_count": null,
   "id": "35689b1b",
   "metadata": {},
   "outputs": [],
   "source": [
    "sim_data %>%\n",
    "  ggplot() +\n",
    "  geom_hline(aes(yintercept =.5), color=\"gray\")+\n",
    "  geom_vline(aes(xintercept = 0), color=\"gray\")+\n",
    "  geom_line(aes(val_diff, yesChosen, color = day), stat=\"smooth\", method = \"glm\", method.args = list(family = \"binomial\"), formula = \"y ~ x\", se = FALSE, linewidth = 1.5, fullrange = T) +\n",
    "  facet_grid(type_chr ~ .) +\n",
    "  labs(x = \"Value Stim - Value Reference\", y = \"p(Yes)\", title=\"\", color = \"\")+\n",
    "  theme(panel.grid = element_blank(),\n",
    "        legend.position = \"bottom\",\n",
    "        axis.text = element_text(size = 14),\n",
    "        strip.text = element_text(size = 14),\n",
    "        axis.title = element_text(size = 16),\n",
    "        legend.text = element_text(size = 14),\n",
    "        legend.box.margin=margin(t = -10),\n",
    "        legend.spacing.y = unit(-0.25, \"cm\"),\n",
    "        legend.box=\"vertical\")+\n",
    "  scale_color_manual(values = c(\"#6e016b\", \"#238b45\", \"#41ae76\"),\n",
    "                     breaks = c(\"Day 1\", \"Day 2\", \"Day 3\"))+\n",
    "  scale_y_continuous(breaks = seq(0,1,.5))+\n",
    "  scale_x_continuous(breaks = c(-200, -100, 0, 100, 200),\n",
    "                     labels = c(\"\", \"-100\", \"0\", \"\", \"200\"))\n",
    "\n",
    "# scale_color_manual(values = c(\"#6e016b\", \"#238b45\", \"#41ae76\", \"#66c2a4\", \"#99d8c9\"),\n",
    "                     # breaks = c(\"Day 1\", \"Day 2\", \"Day 3\", \"Week 2\", \"Week 3\"))"
   ]
  },
  {
   "cell_type": "code",
   "execution_count": null,
   "id": "517f1445",
   "metadata": {},
   "outputs": [],
   "source": [
    "sim_data %>%\n",
    "  select(val_diff, yesChosen, type_chr, day) %>%\n",
    "  mutate(data_type = \"sim\") %>%\n",
    "  rbind(data_yn_clean %>%\n",
    "          filter((subnum == cur_subnum) & (day %in% c(1, 2, 3))) %>%\n",
    "          select(val_diff, yesChosen, type_chr, day) %>%\n",
    "          mutate(data_type = \"true\",\n",
    "                 day = paste0(\"Day \", day),\n",
    "                 day = factor(day, levels = c(\"Day 1\", \"Day 2\", \"Day 3\")))) %>%\n",
    "  mutate(data_type = factor(data_type, levels = c(\"true\", \"sim\"))) %>%\n",
    "  ggplot() +\n",
    "  geom_hline(aes(yintercept =.5), color=\"gray\")+\n",
    "  geom_vline(aes(xintercept = 0), color=\"gray\")+\n",
    "  geom_line(aes(val_diff, yesChosen, color = day, linetype = data_type), stat=\"smooth\", method = \"glm\", method.args = list(family = \"binomial\"), formula = \"y ~ x\", se = FALSE, linewidth = 1.5, fullrange = T) +\n",
    "  facet_grid(type_chr ~ day) +\n",
    "  labs(x = \"Value Stim - Value Reference\", y = \"p(Yes)\", title=\"\", color = \"\", linetype = \"\")+\n",
    "  theme(panel.grid = element_blank(),\n",
    "        legend.position = \"bottom\",\n",
    "        axis.text = element_text(size = 14),\n",
    "        strip.text = element_text(size = 14),\n",
    "        axis.title = element_text(size = 16),\n",
    "        legend.text = element_text(size = 14),\n",
    "        legend.box.margin=margin(t = -10),\n",
    "        legend.spacing.y = unit(-0.25, \"cm\"),\n",
    "        legend.box=\"vertical\")+\n",
    "  scale_color_manual(values = c(\"#6e016b\", \"#238b45\", \"#41ae76\"),\n",
    "                     breaks = c(\"Day 1\", \"Day 2\", \"Day 3\"))+\n",
    "  scale_y_continuous(breaks = seq(0,1,.5))+\n",
    "  scale_x_continuous(breaks = c(-200, -100, 0, 100, 200),\n",
    "                     labels = c(\"\", \"-100\", \"0\", \"\", \"200\"))"
   ]
  },
  {
   "cell_type": "code",
   "execution_count": null,
   "id": "cc725e31",
   "metadata": {},
   "outputs": [],
   "source": [
    "sim_data %>%\n",
    "  mutate(reference = factor(reference, levels = c(-50, 0, 50)),\n",
    "         day1 = ifelse(day == \"Day 1\", \"Day 1\", \"Later\"),\n",
    "         day1 = as.factor(day1)) %>%\n",
    "  # mutate(reference = as.factor(reference)) %>%\n",
    "  ggplot() +\n",
    "  geom_line(aes(val_diff, yesChosen, color = reference), stat=\"smooth\", method = \"glm\", method.args = list(family = \"binomial\"), formula = \"y ~ x\", se = FALSE, linewidth = 1.5, fullrange=T)+\n",
    "  geom_hline(aes(yintercept =.5), color=\"gray\")+\n",
    "  geom_vline(aes(xintercept = 0), color=\"gray\")+\n",
    "  facet_grid(type_chr ~ day1)+\n",
    "  labs(x = \"Value Stim - Value Reference\", y = \"p(Yes)\", title=\"\", color = \"\")+\n",
    "  theme(panel.grid = element_blank(),\n",
    "        legend.position = \"bottom\",\n",
    "        axis.text = element_text(size = 14),\n",
    "        strip.text = element_text(size = 14),\n",
    "        axis.title = element_text(size = 16),\n",
    "        legend.text = element_text(size = 14),\n",
    "        legend.box.margin=margin(t = -10),\n",
    "        legend.spacing.y = unit(-0.25, \"cm\"),\n",
    "        legend.box=\"vertical\")+\n",
    "   scale_color_manual(values = c(\"#ca0020\", \"dark grey\", \"#0571b0\"))+\n",
    "  scale_y_continuous(breaks = seq(0,1,.5))+\n",
    "  scale_x_continuous(breaks = c(-200, -100, 0, 100, 200),\n",
    "                     labels = c(\"\", \"-100\", \"0\", \"\", \"200\"))"
   ]
  },
  {
   "cell_type": "code",
   "execution_count": null,
   "id": "b4c7bdf5",
   "metadata": {},
   "outputs": [],
   "source": [
    "sim_data %>%\n",
    "  mutate(rt = reactionTime) %>%\n",
    "  ggplot() +\n",
    "  geom_hline(aes(yintercept = 1), color = \"gray\") + \n",
    "  geom_line(aes(abs_val_diff, rt, color = day), stat=\"smooth\", method = \"lm\", formula = \"y ~ x\", se = FALSE, linewidth = 1.5)+\n",
    "  facet_grid(type_chr ~ .) +\n",
    "  labs(x = \"|Value Stim - Value Reference|\", y = \"RT (secs)\", title=\"\", color = \"\")+\n",
    "  theme(panel.grid = element_blank(),\n",
    "        legend.position = \"bottom\",\n",
    "        axis.text = element_text(size = 14),\n",
    "        strip.text = element_text(size = 14),\n",
    "        axis.title = element_text(size = 16),\n",
    "        legend.text = element_text(size = 14),\n",
    "        legend.box.margin=margin(t = -10),\n",
    "        legend.spacing.y = unit(-0.25, \"cm\"),\n",
    "        legend.box=\"vertical\")+\n",
    "  scale_color_manual(values = c(\"#6e016b\", \"#238b45\", \"#41ae76\"),\n",
    "                     breaks = c(\"Day 1\", \"Day 2\", \"Day 3\"))+\n",
    "  scale_alpha_manual(values = c(1, .7, .7, .7, .7))+\n",
    "  # scale_y_continuous(trans = \"log\", breaks = c(0.1, .5, 1, 1.5), limits = c(0.001,8))+\n",
    "  scale_y_continuous(trans = \"log\", breaks = c(0.1, .5, 1, 1.5))+\n",
    "  scale_x_continuous(breaks = c(0, 100, 200),\n",
    "                     labels = c(\"0\", \"100\", \"\"))"
   ]
  },
  {
   "cell_type": "code",
   "execution_count": null,
   "id": "9a78605d",
   "metadata": {},
   "outputs": [],
   "source": [
    "sim_data %>%\n",
    "  mutate(rt = reactionTime) %>%\n",
    "  select(abs_val_diff, rt, type_chr, day) %>%\n",
    "  mutate(data_type = \"sim\") %>%\n",
    "  rbind(data_yn_clean %>%\n",
    "          filter((subnum == cur_subnum) & (day %in% c(1, 2, 3))) %>%\n",
    "          select(abs_val_diff, rt, type_chr, day) %>%\n",
    "          mutate(data_type = \"true\",\n",
    "                 day = paste0(\"Day \", day),\n",
    "                 day = factor(day, levels = c(\"Day 1\", \"Day 2\", \"Day 3\")))) %>%\n",
    "  mutate(data_type = factor(data_type, levels = c(\"true\", \"sim\"))) %>%\n",
    "  ggplot() +\n",
    "  geom_hline(aes(yintercept = 1), color = \"gray\") + \n",
    "  geom_line(aes(abs_val_diff, rt, color = day, linetype = data_type), stat=\"smooth\", method = \"lm\", formula = \"y ~ x\", se = FALSE, linewidth = 1.5)+\n",
    "  facet_grid(type_chr ~ day) +\n",
    "  labs(x = \"|Value Stim - Value Reference|\", y = \"RT (secs)\", title=\"\", color = \"\", linetype = \"\")+\n",
    "  theme(panel.grid = element_blank(),\n",
    "        legend.position = \"bottom\",\n",
    "        axis.text = element_text(size = 14),\n",
    "        strip.text = element_text(size = 14),\n",
    "        axis.title = element_text(size = 16),\n",
    "        legend.text = element_text(size = 14),\n",
    "        legend.box.margin=margin(t = -10),\n",
    "        legend.spacing.y = unit(-0.25, \"cm\"),\n",
    "        legend.box=\"vertical\")+\n",
    "  scale_color_manual(values = c(\"#6e016b\", \"#238b45\", \"#41ae76\"),\n",
    "                     breaks = c(\"Day 1\", \"Day 2\", \"Day 3\"))+\n",
    "  scale_alpha_manual(values = c(1, .7, .7, .7, .7))+\n",
    "  # scale_y_continuous(trans = \"log\", breaks = c(0.1, .5, 1, 1.5), limits = c(0.001,8))+\n",
    "  scale_y_continuous(trans = \"log\", breaks = c(0.1, .5, 1, 1.5))+\n",
    "  scale_x_continuous(breaks = c(0, 100, 200),\n",
    "                     labels = c(\"0\", \"100\", \"\"))"
   ]
  },
  {
   "cell_type": "code",
   "execution_count": null,
   "id": "a2f00ae4",
   "metadata": {
    "lines_to_next_cell": 2
   },
   "outputs": [],
   "source": [
    "sim_data %>%\n",
    "  group_by(day, type) %>%\n",
    "  summarise(.groups = \"keep\",\n",
    "            cor_rt = cor(log(reactionTime), abs_val_diff))"
   ]
  },
  {
   "cell_type": "markdown",
   "id": "29ee7c85",
   "metadata": {},
   "source": [
    "2 problems:\n",
    "\n",
    "- OE should be treated differently than RE for RT. Otherwise it'll have a steeper slope bc it's value is learned better and better\n",
    "  - I don't think two drift rates would explain this bc 1. RTs for RE are not really slower compared OE and 2. RTs for OE are not flat depending on value difference, so it's not like the value is learned so well that the value difference is not taken into consideration at all\n",
    "- Reference point effect"
   ]
  },
  {
   "cell_type": "markdown",
   "id": "efbb9a19",
   "metadata": {},
   "source": [
    "How to extend over days?\n",
    "Need to pass value representation across days. But identically? Any decay or consolidation?\n",
    "\n",
    "What parameters to allow to change over days?\n",
    "\n",
    "HDDM-LAN: \n",
    "Generating training data for network training is similar to the mass simulation approach in the old-school aDDM fitting.\n",
    "The difference is: hierarchical fitting, posteriors for parameter estimates\n",
    "Instead of: looking up the likelihood of each trial's RT conditional on choice for each possible parameter combination\n",
    "\n"
   ]
  }
 ],
 "metadata": {
  "jupytext": {
   "cell_metadata_filter": "eval,message,tags,warning,-all",
   "main_language": "R",
   "notebook_metadata_filter": "-all"
  }
 },
 "nbformat": 4,
 "nbformat_minor": 5
}
