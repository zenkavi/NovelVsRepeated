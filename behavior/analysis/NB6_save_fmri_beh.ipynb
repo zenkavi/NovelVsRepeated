{
 "cells": [
  {
   "cell_type": "raw",
   "id": "b51f3324",
   "metadata": {},
   "source": [
    "---\n",
    "title: \"Novel vs. repeated choice project: Psychometrics\"\n",
    "output: \n",
    "  html_document:\n",
    "    toc: true\n",
    "    toc_float: true\n",
    "    code_folding: 'hide'\n",
    "---"
   ]
  },
  {
   "cell_type": "markdown",
   "id": "99931e04",
   "metadata": {},
   "source": [
    "# Set up environment and load in data"
   ]
  },
  {
   "cell_type": "code",
   "execution_count": null,
   "id": "f66f1797",
   "metadata": {
    "tags": [
     "remove_cell"
    ]
   },
   "outputs": [],
   "source": [
    "library(tidyverse)\n",
    "library(here)\n",
    "theme_set(theme_bw())\n",
    "helpers_path = paste0(here(),'/analysis/helpers/')\n",
    "source(paste0(helpers_path, '01_clean_behavioral_data.R'))\n"
   ]
  },
  {
   "cell_type": "markdown",
   "id": "0f567a16",
   "metadata": {},
   "source": [
    "**Demean value within condition within subject!**\n",
    "\n",
    "# Binary choice\n",
    "\n",
    "Columns that I want:\n",
    "type\n",
    "reward\n",
    "valChosenMinusUnchosen_par, valChosenPlusUnchosen_par"
   ]
  },
  {
   "cell_type": "code",
   "execution_count": null,
   "id": "75d99e4a",
   "metadata": {},
   "outputs": [],
   "source": [
    "data_bc_clean_fmri = data_bc_clean %>%\n",
    "  filter(fmri == 1)"
   ]
  },
  {
   "cell_type": "markdown",
   "id": "8525432b",
   "metadata": {},
   "source": [
    "Note that the number of trials for each type in the scanner is not the same across sessions and subjects."
   ]
  },
  {
   "cell_type": "code",
   "execution_count": null,
   "id": "0dc76219",
   "metadata": {},
   "outputs": [],
   "source": [
    "with(data_bc_clean_fmri, table(subnum, typeLeft, day))"
   ]
  },
  {
   "cell_type": "code",
   "execution_count": null,
   "id": "d77507b5",
   "metadata": {},
   "outputs": [],
   "source": [
    "with(data_bc_clean_fmri, table(subnum, typeRight))"
   ]
  },
  {
   "cell_type": "markdown",
   "id": "0e08893a",
   "metadata": {},
   "source": [
    "Add columns that you want and demean columns that will become parametric regressors"
   ]
  },
  {
   "cell_type": "code",
   "execution_count": null,
   "id": "fe5a8884",
   "metadata": {
    "lines_to_next_cell": 0
   },
   "outputs": [],
   "source": [
    "data_bc_clean_fmri_preproc = data_bc_clean_fmri %>%\n",
    "  group_by(subnum, day) %>%\n",
    "  arrange(subnum, day, crossON) %>%\n",
    "  ungroup() %>%\n",
    "  select(subnum, day, leftChosen, possiblePayoffleft, possiblePayoffright, payoff, typeLeft) %>%\n",
    "  mutate(type = typeLeft,\n",
    "         reward = payoff,\n",
    "         valueLeft = possiblePayoffleft,\n",
    "         valueRight = possiblePayoffright, \n",
    "         valueChosen = ifelse(leftChosen, possiblePayoffleft, possiblePayoffright), \n",
    "         valueUnchosen = ifelse(leftChosen, possiblePayoffright, possiblePayoffleft),\n",
    "         valChosenMinusUnchosen = valueChosen - valueUnchosen, \n",
    "         valChosenPlusUnchosen = valueChosen + valueUnchosen,\n",
    "         choiceLeft = leftChosen,\n",
    "         correct = ifelse( ( (leftChosen) & (valueLeft>valueRight) ),1, ifelse(  ( (leftChosen==0) & (valueLeft<valueRight) ),1, 0  )),\n",
    "         session = ifelse(day == 3, \"01\", ifelse(day == 7, \"02\", ifelse(day == 11, \"03\", NA)))) %>%\n",
    "  select(-leftChosen, -possiblePayoffleft, -possiblePayoffright, -payoff, -typeLeft) %>%\n",
    "  group_by(subnum, day, type) %>%\n",
    "  mutate(reward_dmn = reward - mean(reward),\n",
    "         valueLeft_dmn = valueLeft - mean(valueLeft),\n",
    "         valueRight_dmn = valueRight - mean(valueRight),\n",
    "         valueChosen_dmn = valueChosen - mean(valueChosen),\n",
    "         valueUnchosen_dmn = valueUnchosen - mean(valueUnchosen),\n",
    "         valChosenMinusUnchosen_dmn = valChosenMinusUnchosen - mean(valChosenMinusUnchosen),\n",
    "         valChosenPlusUnchosen_dmn = valChosenPlusUnchosen - mean(valChosenPlusUnchosen)) %>%\n",
    "  select(-reward, -valueLeft, -valueRight, -valueChosen, -valueUnchosen, -valChosenMinusUnchosen, -valChosenPlusUnchosen) \n",
    "\n",
    "data_bc_clean_fmri_preproc"
   ]
  },
  {
   "cell_type": "markdown",
   "id": "eb5d5d2d",
   "metadata": {},
   "source": [
    "Check if demeaning worked as intended"
   ]
  },
  {
   "cell_type": "code",
   "execution_count": null,
   "id": "fad7e964",
   "metadata": {},
   "outputs": [],
   "source": [
    "data_bc_clean_fmri_preproc %>%\n",
    "  filter(subnum == 621 & day == 11 & type == 0) %>%\n",
    "  ungroup() %>%\n",
    "  select(-subnum, -day, -type, -choiceLeft, -correct, -session) %>%\n",
    "  gather(key, value) %>%\n",
    "  group_by(key) %>%\n",
    "  summarise(mean_value = round(mean(value), 5))"
   ]
  },
  {
   "cell_type": "markdown",
   "id": "276473a5",
   "metadata": {},
   "source": [
    "Save to bids dir\n",
    "\n",
    "`bids/sub-*/ses-*/beh`"
   ]
  },
  {
   "cell_type": "code",
   "execution_count": null,
   "id": "cde186b2",
   "metadata": {},
   "outputs": [],
   "source": [
    "subnums = unique(data_bc_clean_fmri_preproc$subnum)\n",
    "sessions = unique(data_bc_clean_fmri_preproc$session)\n",
    "bids_dir = '/Users/zeynepenkavi/CpuEaters/overtrained_decisions_bidsfmri'\n",
    "\n",
    "for (i in 1:length(subnums)){\n",
    "  for (j in 1:length(sessions)){\n",
    "    cur_sub = subnums[i]\n",
    "    cur_ses = sessions[j]\n",
    "    \n",
    "    cur_bids_dir = paste0(bids_dir, '/sub-', cur_sub, '/ses-', cur_ses, '/beh')\n",
    "    \n",
    "    if (!file.exists(cur_bids_dir)){\n",
    "      print(paste0(\"Creating \", cur_bids_dir))\n",
    "      dir.create(file.path(cur_bids_dir))\n",
    "    }\n",
    "    \n",
    "    cur_beh = data_bc_clean_fmri_preproc %>%\n",
    "      filter(subnum == cur_sub & session == cur_ses) %>%\n",
    "      ungroup() %>%\n",
    "      select(-subnum, -day, -session)\n",
    "    \n",
    "    cur_fn = paste0(cur_bids_dir, '/sub-', cur_sub, '_ses-',cur_ses, '_task-binaryChoice_run-03_beh.tsv')\n",
    "    print(paste0(\"Saving \", cur_fn))\n",
    "    write.table(cur_beh, cur_fn, sep = '\\t', row.names = F, quote = F)\n",
    "\n",
    "    \n",
    "  }\n",
    "}"
   ]
  },
  {
   "cell_type": "markdown",
   "id": "ac440153",
   "metadata": {},
   "source": [
    "# Yes/No Task"
   ]
  },
  {
   "cell_type": "code",
   "execution_count": null,
   "id": "4b1d663c",
   "metadata": {
    "lines_to_next_cell": 2
   },
   "outputs": [],
   "source": [
    "data_yn_clean_fmri = data_yn_clean %>%\n",
    "  filter(fmri == 1)"
   ]
  },
  {
   "cell_type": "code",
   "execution_count": null,
   "id": "ef4e37cd",
   "metadata": {},
   "outputs": [],
   "source": [
    "with(data_yn_clean_fmri, table(subnum, type, day))"
   ]
  },
  {
   "cell_type": "code",
   "execution_count": null,
   "id": "64569a63",
   "metadata": {
    "lines_to_next_cell": 0
   },
   "outputs": [],
   "source": [
    "with(data_yn_clean_fmri, table(subnum, type))"
   ]
  },
  {
   "cell_type": "code",
   "execution_count": null,
   "id": "91c69360",
   "metadata": {
    "lines_to_next_cell": 2
   },
   "outputs": [],
   "source": [
    "data_yn_clean_fmri"
   ]
  },
  {
   "cell_type": "markdown",
   "id": "39033862",
   "metadata": {},
   "source": [
    "Add columns that you want and demean columns that will become parametric regressors"
   ]
  },
  {
   "cell_type": "code",
   "execution_count": null,
   "id": "7460e0c3",
   "metadata": {},
   "outputs": [],
   "source": [
    "data_yn_clean_fmri_preproc = data_yn_clean_fmri %>%\n",
    "  group_by(subnum, day) %>%\n",
    "  arrange(subnum, day, crossON) %>%\n",
    "  ungroup() %>%\n",
    "  group_by(subnum, day) %>%\n",
    "  mutate(run = ifelse(session == min(session), \"01\", \"02\")) %>%\n",
    "  select(subnum, day, type, yesChosen, possiblePayoff, payoff, reference, run, valueO, valueS, valueF) %>%\n",
    "  mutate(reward = payoff,\n",
    "         valueRef = reference,\n",
    "         valueStim = possiblePayoff,\n",
    "         valueChosen = ifelse(yesChosen, valueStim, valueRef),\n",
    "         valueUnchosen = ifelse(yesChosen, valueRef, valueStim),\n",
    "         valueChosenPlusUnchosen = valueChosen + valueUnchosen,\n",
    "         valueChosenMinusUnchosen = valueChosen - valueUnchosen,\n",
    "         choiceYes = yesChosen,\n",
    "         correct = ifelse( ( (yesChosen) & (possiblePayoff > reference) ), 1, ifelse(  ( (yesChosen==0) & (possiblePayoff < reference) ),1, 0)),\n",
    "         session = ifelse(day == 3, \"01\", ifelse(day == 7, \"02\", ifelse(day == 11, \"03\", NA)))) %>%\n",
    "  select(-yesChosen, -possiblePayoff) %>%\n",
    "  group_by(subnum, day, run, type) %>%\n",
    "  mutate(reward_dmn = reward - mean(reward),\n",
    "         valRef_dmn = valueRef - mean(valueRef),\n",
    "         valStim_dmn = valueStim - mean(valueStim),\n",
    "         valChosen_dmn = valueChosen - mean(valueChosen),\n",
    "         valUnchosen_dmn = valueStim - mean(valueStim),\n",
    "         valChosenPlusUnchosen_dmn = valueChosenPlusUnchosen - mean(valueChosenPlusUnchosen),\n",
    "         valChosenMinusUnchosen_dmn = valueChosenMinusUnchosen - mean(valueChosenMinusUnchosen),\n",
    "         valO_dmn = valueO - mean(valueO),\n",
    "         valS_dmn = valueS - mean(valueS),\n",
    "         valF_dmn = valueF - mean(valueF)) %>%\n",
    "  select(-reward, -valueRef, -valueStim, -valueChosen, -valueUnchosen, -valueChosenPlusUnchosen, -valueChosenMinusUnchosen, -valueO, -valueS, -valueF) \n",
    "\n",
    "data_yn_clean_fmri_preproc"
   ]
  },
  {
   "cell_type": "code",
   "execution_count": null,
   "id": "2c3e9fe8",
   "metadata": {},
   "outputs": [],
   "source": [
    "data_yn_clean_fmri_preproc %>%\n",
    "  filter(subnum == 621 & day == 11 & run == \"01\" & type == 0) %>%\n",
    "  ungroup() %>%\n",
    "  select(reward_dmn, valRef_dmn, valStim_dmn, valChosen_dmn, valUnchosen_dmn, valChosenPlusUnchosen_dmn, valChosenMinusUnchosen_dmn, valO_dmn, valS_dmn, valF_dmn) %>%\n",
    "  gather(key, value) %>%\n",
    "  group_by(key) %>%\n",
    "  summarise(mean_value = round(mean(value), 5))"
   ]
  },
  {
   "cell_type": "markdown",
   "id": "22dde1c5",
   "metadata": {},
   "source": [
    "Save to bids dir\n",
    "\n",
    "`bids/sub-*/ses-*/beh`"
   ]
  },
  {
   "cell_type": "code",
   "execution_count": null,
   "id": "999570d4",
   "metadata": {},
   "outputs": [],
   "source": [
    "subnums = unique(data_yn_clean_fmri_preproc$subnum)\n",
    "sessions = unique(data_yn_clean_fmri_preproc$session)\n",
    "runs = unique(data_yn_clean_fmri_preproc$run)\n",
    "bids_dir = '/Users/zeynepenkavi/CpuEaters/overtrained_decisions_bidsfmri'\n",
    "\n",
    "for (i in 1:length(subnums)){\n",
    "  for (j in 1:length(sessions)){\n",
    "    for(k in 1:length(runs)){\n",
    "      cur_sub = subnums[i]\n",
    "      cur_ses = sessions[j]\n",
    "      cur_run = runs[k]\n",
    "      \n",
    "      cur_bids_dir = paste0(bids_dir, '/sub-', cur_sub, '/ses-', cur_ses, '/beh')\n",
    "      \n",
    "      if (!file.exists(cur_bids_dir)){\n",
    "        print(paste0(\"Creating \", cur_bids_dir))\n",
    "        dir.create(file.path(cur_bids_dir))\n",
    "      }\n",
    "      \n",
    "      cur_beh = data_yn_clean_fmri_preproc %>%\n",
    "        filter(subnum == cur_sub & session == cur_ses & run == cur_run) %>%\n",
    "        ungroup() %>%\n",
    "        select(-subnum, -day, -session, -run)\n",
    "      \n",
    "      cur_fn = paste0(cur_bids_dir, '/sub-', cur_sub, '_ses-',cur_ses, '_task-yesNo_run-', cur_run,'_beh.tsv')\n",
    "      print(paste0(\"Saving \", cur_fn))\n",
    "      write.table(cur_beh, cur_fn, sep = '\\t', row.names = F, quote = F)  \n",
    "    }\n",
    "  }\n",
    "}"
   ]
  }
 ],
 "metadata": {
  "jupytext": {
   "cell_metadata_filter": "tags,-all",
   "main_language": "R",
   "notebook_metadata_filter": "-all"
  }
 },
 "nbformat": 4,
 "nbformat_minor": 5
}
