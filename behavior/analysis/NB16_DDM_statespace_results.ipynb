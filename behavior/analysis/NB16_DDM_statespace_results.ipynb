{
 "cells": [
  {
   "cell_type": "raw",
   "id": "90883137",
   "metadata": {},
   "source": [
    "---\n",
    "title: \"Novel vs. repeated choice project: DDM state space outputs\"\n",
    "output: \n",
    "  html_document:\n",
    "    toc: true\n",
    "    toc_float: true\n",
    "    code_folding: 'hide'\n",
    "---"
   ]
  },
  {
   "cell_type": "markdown",
   "id": "1e0d5bc0",
   "metadata": {},
   "source": [
    "Set up environment and load in data"
   ]
  },
  {
   "cell_type": "code",
   "execution_count": null,
   "id": "1b9748c1",
   "metadata": {
    "message": false,
    "tags": [
     "remove_cell"
    ]
   },
   "outputs": [],
   "source": [
    "library(tidyverse)\n",
    "library(here)\n",
    "theme_set(theme_bw())\n",
    "helpers_path = paste0(here(),'/analysis/helpers/')\n",
    "# source(paste0(helpers_path, '01_clean_behavioral_data.R'))\n",
    "# rm(data_bc_clean)\n",
    "fig_out_path = paste0(here(), '/outputs/fig/')\n",
    "cpu_eaters_path = '/Users/zeynepenkavi/CpuEaters/NovelVsRepeated/behavior/analysis/helpers/cluster_scripts/'"
   ]
  },
  {
   "cell_type": "markdown",
   "id": "5e4849dd",
   "metadata": {},
   "source": [
    "# Grid search results\n",
    "\n",
    "Fit grid search for one subject (601).  \n",
    "\n",
    "Value was normalized for each job (i.e. each day for each stimulus type) to range between -1 and 1.\n",
    "\n",
    "Grid from `save_ddm_grid.R`\n",
    "\n",
    "```\n",
    "d = seq(0.01, .1, .01)\n",
    "sigma = seq(0.01, .1, .01)\n",
    "ndt = seq(200, 400, 100)\n",
    "bias = seq(-.1, .1, .1)\n",
    "barrierDecay = c(0, .001, .01, .02)\n",
    "```\n",
    "\n",
    "Not parallelized over grid. Parallelized only over day and type. So there were 22 jobs (11 days x 2 types). Each job computed the likelihood of observed data for 3600 parameter combinations (10 x 10 x 3 x 3 x 4) unless anything errored out/job was cancelled for taking too long.  \n",
    "\n",
    "Boundary separation fixed at 2 (but allowed to decay if `barrierDecay` != 0).  \n",
    "\n",
    "Using state-space approach with an approximate step size of 0.01.  \n",
    "\n",
    "Note that there won't be any posterior distributions in this approach.  \n",
    "\n",
    "## Single job output\n",
    "\n",
    "Output for a single job looks like:   "
   ]
  },
  {
   "cell_type": "code",
   "execution_count": null,
   "id": "f69f34c6",
   "metadata": {},
   "outputs": [],
   "source": [
    "grid_search_outputs = list.files(paste0(cpu_eaters_path, 'ddm/grid_search_out'))\n",
    "\n",
    "tmp = read.csv(paste0(cpu_eaters_path, 'ddm/grid_search_out/', grid_search_outputs[1]))\n",
    "\n",
    "tmp"
   ]
  },
  {
   "cell_type": "markdown",
   "id": "19d3b3fa",
   "metadata": {},
   "source": [
    "How to examine a single job's output/parameter estimates for one day and stim type\n",
    "\n",
    "The simplest thing is to just get the parameter combination with the highest likelihood/smallest nll.  "
   ]
  },
  {
   "cell_type": "code",
   "execution_count": null,
   "id": "478ce46e",
   "metadata": {},
   "outputs": [],
   "source": [
    "tmp %>%\n",
    "  arrange(nll) %>%\n",
    "  slice(1)"
   ]
  },
  {
   "cell_type": "markdown",
   "id": "6004e4ea",
   "metadata": {},
   "source": [
    "But is this parameter combination obviously better than the others? What does the distribution of the likelihood look like?\n",
    "\n",
    "The whole distribution shows some very large nll's, i.e. some very bad fits to data."
   ]
  },
  {
   "cell_type": "code",
   "execution_count": null,
   "id": "ec900860",
   "metadata": {
    "lines_to_next_cell": 0
   },
   "outputs": [],
   "source": [
    "tmp %>% \n",
    "  ggplot(aes(nll)) +\n",
    "  geom_histogram(alpha = .5, bins = 30)"
   ]
  },
  {
   "cell_type": "markdown",
   "id": "ae0dbffe",
   "metadata": {},
   "source": [
    "Half of the data has a nll larger than 3809."
   ]
  },
  {
   "cell_type": "code",
   "execution_count": null,
   "id": "86aea1c5",
   "metadata": {},
   "outputs": [],
   "source": [
    "summary(tmp$nll)"
   ]
  },
  {
   "cell_type": "markdown",
   "id": "b8585d69",
   "metadata": {},
   "source": [
    "So the distribution of likelihoods for the better fitting half of the parameter combination looks like:"
   ]
  },
  {
   "cell_type": "code",
   "execution_count": null,
   "id": "8470522d",
   "metadata": {
    "lines_to_next_cell": 0
   },
   "outputs": [],
   "source": [
    "tmp %>% \n",
    "  filter(nll < 3809) %>%\n",
    "  ggplot(aes(nll)) +\n",
    "  geom_histogram(alpha = .5, bins = 30)"
   ]
  },
  {
   "cell_type": "markdown",
   "id": "b3b42457",
   "metadata": {},
   "source": [
    "Are there clearly terrible parameter values for the combinations that are in the better fitting half?"
   ]
  },
  {
   "cell_type": "code",
   "execution_count": null,
   "id": "190db8fa",
   "metadata": {},
   "outputs": [],
   "source": [
    "tmp %>%\n",
    "  filter(nll < 3809) %>%\n",
    "  select(-subnum, -day, -type, -model) %>%\n",
    "  gather(key, value, -nll) %>%\n",
    "  ggplot(aes(as.factor(value), nll))+\n",
    "  geom_boxplot()+\n",
    "  facet_wrap(~key, scales = 'free')+\n",
    "  labs(x = \"\")"
   ]
  },
  {
   "cell_type": "markdown",
   "id": "b97c6a25",
   "metadata": {},
   "source": [
    "## All jobs' outputs\n",
    "\n",
    "Things to check for each job:\n",
    "- Distribution of likelihoods\n",
    "- Bad areas of parameter space\n",
    "- Number of failed jobs"
   ]
  },
  {
   "cell_type": "code",
   "execution_count": null,
   "id": "60bd7cdc",
   "metadata": {},
   "outputs": [],
   "source": [
    "all_pars = tibble()\n",
    "\n",
    "for(i in grid_search_outputs){\n",
    "  cur_out = read.csv(paste0(cpu_eaters_path, 'ddm/grid_search_out/', i))\n",
    "  all_pars = rbind(all_pars, cur_out)\n",
    "}\n",
    "\n",
    "rm(cur_out, i)"
   ]
  },
  {
   "cell_type": "markdown",
   "id": "9d0f79ea",
   "metadata": {},
   "source": [
    "There are some failed jobs for HT day 1 and day 2. All others seem to have completed likelihood calculation for all 3600 parameter combinations."
   ]
  },
  {
   "cell_type": "code",
   "execution_count": null,
   "id": "53356e22",
   "metadata": {},
   "outputs": [],
   "source": [
    "all_pars %>%\n",
    "  group_by(day, type) %>%\n",
    "  summarise(count = n(), .groups = \"keep\") %>%\n",
    "  arrange(count)"
   ]
  },
  {
   "cell_type": "markdown",
   "id": "9d55814a",
   "metadata": {},
   "source": [
    "### NLL distributions"
   ]
  },
  {
   "cell_type": "code",
   "execution_count": null,
   "id": "86a1c38b",
   "metadata": {},
   "outputs": [],
   "source": [
    "all_pars %>%\n",
    "  group_by(day, type) %>%\n",
    "  ggplot(aes(nll)) +\n",
    "  geom_histogram(alpha = .5, bins = 30) +\n",
    "  facet_grid(type ~ day) +\n",
    "  labs(title = \"Full NLL distributions\")"
   ]
  },
  {
   "cell_type": "code",
   "execution_count": null,
   "id": "b5aa808c",
   "metadata": {},
   "outputs": [],
   "source": [
    "all_pars %>%\n",
    "  group_by(day, type) %>%\n",
    "  mutate(median_nll = median(nll)) %>%\n",
    "  filter(nll > median_nll) %>%\n",
    "  ggplot(aes(nll)) +\n",
    "  geom_histogram(alpha = .5, bins = 30) +\n",
    "  facet_grid(type ~ day, scales = \"free\") +\n",
    "  labs(title = \"Lower 50% NLL distributions\")"
   ]
  },
  {
   "cell_type": "code",
   "execution_count": null,
   "id": "c5f381fb",
   "metadata": {},
   "outputs": [],
   "source": [
    "p = all_pars %>%\n",
    "  group_by(day, type) %>%\n",
    "  mutate(median_nll = median(nll)) %>%\n",
    "  filter(nll > median_nll) %>%\n",
    "  select(-subnum, -model) %>%\n",
    "  gather(key, value, -nll, -day, -type) %>%\n",
    "  filter(key == \"d\") %>%\n",
    "  ggplot(aes(as.factor(value), nll))+\n",
    "  geom_violin()+\n",
    "  facet_grid(type ~ day, scales = 'free')+\n",
    "  labs(x = \"d\", title = \"NLL distribution for each d collapsed over other parameters (for 50% best NLLs)\") +\n",
    "  theme(panel.grid.minor = element_blank(),\n",
    "        axis.ticks.x = element_blank(),\n",
    "        axis.text.x = element_blank())\n",
    "\n",
    "# ggsave(file=paste0(fig_out_path, 'sub601_gridSearch_NLLforD.jpg'), p, height = 4.5, width=12, units=\"in\")\n",
    "p"
   ]
  },
  {
   "cell_type": "code",
   "execution_count": null,
   "id": "05b176f1",
   "metadata": {
    "lines_to_next_cell": 2
   },
   "outputs": [],
   "source": [
    "p = all_pars %>%\n",
    "  group_by(day, type) %>%\n",
    "  mutate(median_nll = median(nll)) %>%\n",
    "  filter(nll > median_nll) %>%\n",
    "  select(-subnum, -model) %>%\n",
    "  gather(key, value, -nll, -day, -type) %>%\n",
    "  filter(key == \"sigma\") %>%\n",
    "         # value > .05) %>%\n",
    "  ggplot(aes(as.factor(value), nll))+\n",
    "  geom_violin()+\n",
    "  facet_grid(type ~ day, scales = 'free')+\n",
    "  labs(x = \"sigma\", title = \"NLL distribution for each sigma collapsed over other parameters (for 50% best NLLs)\")+\n",
    "  theme(panel.grid.minor = element_blank(),\n",
    "        axis.ticks.x = element_blank(),\n",
    "        axis.text.x = element_blank())\n",
    "\n",
    "# ggsave(file=paste0(fig_out_path, 'sub601_gridSearch_NLLforSigma.jpg'), p, height = 4.5, width=12, units=\"in\")\n",
    "p"
   ]
  },
  {
   "cell_type": "code",
   "execution_count": null,
   "id": "06f519a8",
   "metadata": {},
   "outputs": [],
   "source": [
    "p = all_pars %>%\n",
    "  group_by(day, type) %>%\n",
    "  mutate(median_nll = median(nll)) %>%\n",
    "  filter(nll > median_nll) %>%\n",
    "  select(-subnum, -model) %>%\n",
    "  gather(key, value, -nll, -day, -type) %>%\n",
    "  filter(key == \"nonDecisionTime\") %>%\n",
    "  ggplot(aes(as.factor(value), nll))+\n",
    "  geom_violin()+\n",
    "  facet_grid(type ~ day, scales = 'free')+\n",
    "  labs(x = \"NDT\", title = \"NLL distribution for each ndt collapsed over other parameters (for 50% best NLLs)\")+\n",
    "  theme(panel.grid.minor = element_blank(),\n",
    "        axis.ticks.x = element_blank(),\n",
    "        axis.text.x = element_blank())\n",
    "\n",
    "# ggsave(file=paste0(fig_out_path, 'sub601_gridSearch_NLLforNDT.jpg'), p, height = 4.5, width=12, units=\"in\")\n",
    "p"
   ]
  },
  {
   "cell_type": "code",
   "execution_count": null,
   "id": "b52b2b80",
   "metadata": {},
   "outputs": [],
   "source": [
    "p = all_pars %>%\n",
    "  group_by(day, type) %>%\n",
    "  mutate(median_nll = median(nll)) %>%\n",
    "  filter(nll > median_nll) %>%\n",
    "  select(-subnum, -model) %>%\n",
    "  gather(key, value, -nll, -day, -type) %>%\n",
    "  filter(key == \"bias\") %>%\n",
    "  ggplot(aes(as.factor(value), nll))+\n",
    "  geom_violin()+\n",
    "  facet_grid(type ~ day, scales = 'free')+\n",
    "  labs(x = \"Bias\", title = \"NLL distribution for each bias collapsed over other parameters (for 50% best NLLs)\") +\n",
    "  theme(panel.grid.minor = element_blank(),\n",
    "        axis.ticks.x = element_blank(),\n",
    "        axis.text.x = element_blank())\n",
    "\n",
    "# ggsave(file=paste0(fig_out_path, 'sub601_gridSearch_NLLforbias.jpg'), p, height = 4.5, width=12, units=\"in\")\n",
    "p"
   ]
  },
  {
   "cell_type": "code",
   "execution_count": null,
   "id": "dd77459b",
   "metadata": {
    "lines_to_next_cell": 0
   },
   "outputs": [],
   "source": [
    "p = all_pars %>%\n",
    "  group_by(day, type) %>%\n",
    "  mutate(median_nll = median(nll)) %>%\n",
    "  filter(nll > median_nll) %>%\n",
    "  select(-subnum, -model) %>%\n",
    "  gather(key, value, -nll, -day, -type) %>%\n",
    "  filter(key == \"barrierDecay\") %>%\n",
    "  ggplot(aes(as.factor(value), nll))+\n",
    "  geom_violin()+\n",
    "  facet_grid(type ~ day, scales = 'free')+\n",
    "  labs(x = \"Barrier Decay\", title = \"NLL distribution for each barrierDecay collapsed over other parameters (for 50% best NLLs)\")+\n",
    "  theme(panel.grid.minor = element_blank(),\n",
    "        axis.ticks.x = element_blank(),\n",
    "        axis.text.x = element_blank())\n",
    "\n",
    "# ggsave(file=paste0(fig_out_path, 'sub601_gridSearch_NLLforBarrierDecay.jpg'), p, height = 4.5, width=12, units=\"in\")\n",
    "p"
   ]
  },
  {
   "cell_type": "markdown",
   "id": "d316a6c3",
   "metadata": {},
   "source": [
    "### Best fitting parameters\n",
    "\n",
    "Differences in best fitting parameters across stim types and days"
   ]
  },
  {
   "cell_type": "code",
   "execution_count": null,
   "id": "b05f6db4",
   "metadata": {},
   "outputs": [],
   "source": [
    "best_pars = tibble()\n",
    "\n",
    "for(i in grid_search_outputs){\n",
    "  cur_out = read.csv(paste0(cpu_eaters_path, 'ddm/grid_search_out/', i))\n",
    "  cur_best = cur_out %>%\n",
    "    arrange(nll) %>%\n",
    "    slice(1)\n",
    "  best_pars = rbind(best_pars, cur_best)\n",
    "}\n",
    "\n",
    "rm(cur_out, cur_best, i)"
   ]
  },
  {
   "cell_type": "markdown",
   "id": "e43629e5",
   "metadata": {},
   "source": [
    "Notable things:\n",
    "\n",
    "- Best fitting parameters have barrierDecay>0\n",
    "- Barrier decay is either the same for the two conditions or higher for HT\n",
    "- Barrier decay is higher on later days\n",
    "\n",
    "- Bias is mostly 0 (--> consider fixing it?)\n",
    "- When bias is not 0, it's positive for HT (yes) and negative for RE (no)\n",
    "\n",
    "- Drift rates increase across days\n",
    "- Drift rates are higher for HT\n",
    "\n",
    "- Non decision times are more often higher for HT (unexpected)\n",
    "- Generally constant across days (good)\n",
    "\n",
    "- Noise is higher for HT half the time and higher for RE for the other half\n",
    "- No clear pattern of increase or decrease over days"
   ]
  },
  {
   "cell_type": "code",
   "execution_count": null,
   "id": "24d1a5f2",
   "metadata": {},
   "outputs": [],
   "source": [
    "p = best_pars %>%\n",
    "  select(-subnum, -model, -nll) %>%\n",
    "  gather(key, value, -day, -type) %>%\n",
    "  ggplot(aes(as.factor(day), value, color = type))+\n",
    "  geom_point(alpha = .5)+\n",
    "  facet_wrap(~key, scales = \"free\")+\n",
    "  scale_color_brewer(palette = \"Dark2\")+\n",
    "  labs(x = \"Day\", y = \"\", color = \"\")+\n",
    "  theme(legend.position = \"bottom\")\n",
    "\n",
    "# ggsave(file=paste0(fig_out_path, 'sub601_gridSearch_best pars.jpg'), p, height = 4.5, width=9, units=\"in\")\n",
    "p"
   ]
  },
  {
   "cell_type": "markdown",
   "id": "7a79f09a",
   "metadata": {},
   "source": [
    "# Optim out results\n",
    "\n",
    "Fit for 3 subjects (601, 609 and 611) for both conditions and all days.\n",
    "\n",
    "Value was normalized for each job (i.e. each day for each stimulus type) to range between -1 and 1.\n",
    "\n",
    "Ideally, the algorithm should converge on the same/similar parameters for each job (fit for subject, day, type).\n",
    "\n",
    "But since I'm not sure how robust it is I had planned to have it start from each of the parameter combinations used for the grid search. This would have meant trying 3600 different starting values and then checking if the algorithm converges (after max 500 iterations) to the same place.  \n",
    "\n",
    "It still doesn't give full posteriors but at least we would have had a little more support for the converged value.  \n",
    "I did not parallelize across starting values. So this ended up taking forever and I only have a few outputs for each job (subject, day, type) instead of the full 3600."
   ]
  },
  {
   "cell_type": "code",
   "execution_count": null,
   "id": "33ed445c",
   "metadata": {},
   "outputs": [],
   "source": [
    "optim_outputs = list.files(paste0(cpu_eaters_path, 'ddm/optim_out'))\n",
    "\n",
    "tmp = read.csv(paste0(cpu_eaters_path, 'ddm/optim_out/', optim_outputs[1]))\n",
    "\n",
    "tmp"
   ]
  },
  {
   "cell_type": "markdown",
   "id": "3e61962a",
   "metadata": {},
   "source": [
    "## All jobs' outputs"
   ]
  },
  {
   "cell_type": "code",
   "execution_count": null,
   "id": "93b8fefc",
   "metadata": {},
   "outputs": [],
   "source": [
    "all_optim = tibble()\n",
    "\n",
    "for(i in optim_outputs){\n",
    "  cur_out = read.csv(paste0(cpu_eaters_path, 'ddm/optim_out/', i))\n",
    "  all_optim = rbind(all_optim, cur_out)\n",
    "}\n",
    "\n",
    "rm(cur_out, i)\n"
   ]
  },
  {
   "cell_type": "markdown",
   "id": "5657c20a",
   "metadata": {},
   "source": [
    "How many converged iterations per job? Max = 12, min 4."
   ]
  },
  {
   "cell_type": "code",
   "execution_count": null,
   "id": "a955c2ab",
   "metadata": {},
   "outputs": [],
   "source": [
    "all_optim %>%\n",
    "  group_by(day, subnum, type) %>%\n",
    "  summarise(.groups = \"keep\",\n",
    "            max_iter = max(start_num)) %>%\n",
    "  arrange(-max_iter)"
   ]
  },
  {
   "cell_type": "markdown",
   "id": "3b3e9676",
   "metadata": {},
   "source": [
    "Excluding non-sensical values for each paramter is there a converged parameter combination for each job (subject, day, type combination)? Yes."
   ]
  },
  {
   "cell_type": "code",
   "execution_count": null,
   "id": "8e4401b0",
   "metadata": {},
   "outputs": [],
   "source": [
    "all_optim %>%\n",
    "  filter(barrierDecay > 0 & barrierDecay < 1) %>%\n",
    "  filter(bias < 1) %>%\n",
    "  filter(d > 0) %>%\n",
    "  filter(sigma > 0) %>%\n",
    "  filter(nonDecisionTime > 0) %>%\n",
    "  group_by(day, subnum, type) %>%\n",
    "  summarise(.groups = \"keep\",\n",
    "            max_iter = max(start_num)) %>%\n",
    "  arrange(-max_iter)"
   ]
  },
  {
   "cell_type": "code",
   "execution_count": null,
   "id": "f7ff6f2d",
   "metadata": {
    "lines_to_next_cell": 2
   },
   "outputs": [],
   "source": [
    "all_optim_filtered = all_optim %>%  \n",
    "  filter(barrierDecay > 0 & barrierDecay < 1) %>%\n",
    "  filter(bias < 1) %>%\n",
    "  filter(d > 0) %>%\n",
    "  filter(sigma > 0) %>%\n",
    "  filter(nonDecisionTime > 0)"
   ]
  },
  {
   "cell_type": "markdown",
   "id": "41778c53",
   "metadata": {},
   "source": [
    "How far are the converged parameters from their starting value?   \n",
    "\n",
    "There should have been 10 x 10 x 3 x 3 x 4 starting values.  \n",
    "\n",
    "```\n",
    "d = seq(0.01, .1, .01)\n",
    "sigma = seq(0.01, .1, .01)\n",
    "ndt = seq(200, 400, 100)\n",
    "bias = seq(-.1, .1, .1)\n",
    "barrierDecay = c(0, .001, .01, .02)\n",
    "```\n",
    "\n",
    "But instead there is only 1 barrierDecay and bias starting value, 3 drift rate starting values, 2 ndt starting values and 3 noise level starting values."
   ]
  },
  {
   "cell_type": "code",
   "execution_count": null,
   "id": "73d6e460",
   "metadata": {
    "lines_to_next_cell": 0
   },
   "outputs": [],
   "source": [
    "unique(all_optim$start_barrierDecay)\n",
    "unique(all_optim$start_bias)\n",
    "unique(all_optim$start_d)\n",
    "unique(all_optim$start_nonDecisionTime)\n",
    "unique(all_optim$start_sigma)"
   ]
  },
  {
   "cell_type": "markdown",
   "id": "444097d4",
   "metadata": {},
   "source": [
    "Filtering converged jobs with non-sensical values does not remove a specific starting value for any of the parameters."
   ]
  },
  {
   "cell_type": "code",
   "execution_count": null,
   "id": "0355a98a",
   "metadata": {},
   "outputs": [],
   "source": [
    "unique(all_optim_filtered$start_barrierDecay)\n",
    "unique(all_optim_filtered$start_bias)\n",
    "unique(all_optim_filtered$start_d)\n",
    "unique(all_optim_filtered$start_nonDecisionTime)\n",
    "unique(all_optim_filtered$start_sigma)"
   ]
  },
  {
   "cell_type": "markdown",
   "id": "472440fe",
   "metadata": {},
   "source": [
    "### Distance from start value\n",
    "\n",
    "To check if things have moved from their starting value I plot the histograms for the difference between the converged value and the starting value for each parameter across jobs.  \n",
    "\n",
    "This only looks at converged jobs that have sensible values for all parameters."
   ]
  },
  {
   "cell_type": "code",
   "execution_count": null,
   "id": "7eaa3f1f",
   "metadata": {},
   "outputs": [],
   "source": [
    "all_optim_filtered %>%\n",
    "  mutate(diff_barrierDecay = start_barrierDecay - barrierDecay,\n",
    "         diff_bias = start_bias - bias,\n",
    "         diff_d = start_d - d,\n",
    "         diff_nonDecisionTime = start_nonDecisionTime - nonDecisionTime,\n",
    "         diff_sigma = start_sigma - sigma) %>%\n",
    "  select(diff_d, diff_sigma, diff_nonDecisionTime, diff_bias, diff_barrierDecay) %>%\n",
    "  gather(key, value) %>%\n",
    "  ggplot(aes(value))+\n",
    "  geom_histogram(bins = 20, alpha = .5) + \n",
    "  facet_wrap(~key, scales = \"free\")"
   ]
  },
  {
   "cell_type": "markdown",
   "id": "8a3cbceb",
   "metadata": {},
   "source": [
    "How many iterations did it take to converge per starting value (collapsing across subjects, days, types)"
   ]
  },
  {
   "cell_type": "code",
   "execution_count": null,
   "id": "34ed47dc",
   "metadata": {},
   "outputs": [],
   "source": [
    "all_optim_filtered %>%\n",
    "  ggplot(aes(optim_iters)) + \n",
    "  geom_histogram(alpha = .5, bins = 20)"
   ]
  },
  {
   "cell_type": "markdown",
   "id": "ea123df2",
   "metadata": {},
   "source": [
    "### Variance in converged estimates\n",
    "\n",
    "How different are the converged estimates from each other for each job (subject, day, type combination) per starting value?\n",
    "\n",
    "They can be quite different from each other especially when they do move further away from their starting values. The estimates for barrrierDecay and ndt differ less from each other depending on the converged value but they also don't move as far away from their starting values either."
   ]
  },
  {
   "cell_type": "code",
   "execution_count": null,
   "id": "43ae666a",
   "metadata": {},
   "outputs": [],
   "source": [
    "all_optim_filtered %>%\n",
    "  select(subnum, day, type, bias, barrierDecay, d, sigma, nonDecisionTime) %>%\n",
    "  gather(key, value, -subnum, -day, -type) %>%\n",
    "  group_by(subnum, day, type, key) %>%\n",
    "  mutate(key = ifelse(key == \"nonDecisionTime\", \"NDT\", ifelse(key == \"barrierDecay\", \"decay\", key))) %>%\n",
    "  ggplot(aes(as.factor(day), value, color = type))+\n",
    "  geom_point(position = position_dodge(width=.5))+\n",
    "  facet_grid(key~subnum, scales = \"free\")+\n",
    "  theme(legend.position = \"bottom\")+\n",
    "  scale_color_brewer(palette = \"Dark2\")+\n",
    "  labs(color = \"\", y = \"Converged estimate\", x = \"Day\")"
   ]
  },
  {
   "cell_type": "code",
   "execution_count": null,
   "id": "8563f06e",
   "metadata": {},
   "outputs": [],
   "source": [
    "all_optim_filtered %>%\n",
    "  mutate(diff_barrierDecay = start_barrierDecay - barrierDecay,\n",
    "         diff_bias = start_bias - bias,\n",
    "         diff_d = start_d - d,\n",
    "         diff_nonDecisionTime = start_nonDecisionTime - nonDecisionTime,\n",
    "         diff_sigma = start_sigma - sigma) %>%\n",
    "  select(subnum, day, type, diff_d, diff_sigma, diff_nonDecisionTime, diff_bias, diff_barrierDecay) %>%\n",
    "  gather(key, value, -subnum, -day, -type) %>%\n",
    "  group_by(subnum, day, type, key) %>%\n",
    "  ggplot(aes(as.factor(day), value, color = type))+\n",
    "  geom_point(position = position_dodge(width=.5))+\n",
    "  geom_hline(aes(yintercept = 0)) +\n",
    "  facet_grid(key~subnum, scales = \"free\")+\n",
    "  theme(legend.position = \"bottom\")+\n",
    "  scale_color_brewer(palette = \"Dark2\")+\n",
    "  labs(color = \"\", y = \"Difference between starting and converged value\", x = \"Day\")"
   ]
  },
  {
   "cell_type": "markdown",
   "id": "84cad28e",
   "metadata": {},
   "source": [
    "Are these converged estimates similiar in fit (i.e. nll)?"
   ]
  },
  {
   "cell_type": "code",
   "execution_count": null,
   "id": "93d09c63",
   "metadata": {},
   "outputs": [],
   "source": [
    "all_optim_filtered %>%\n",
    "  ggplot(aes(as.factor(day), nll, fill = type))+\n",
    "  geom_boxplot(position = position_dodge(width = .25))+\n",
    "  facet_grid(type~subnum, scales = \"free\")+\n",
    "  labs(x = \"Day\", fill = \"\")+\n",
    "  theme(legend.position = \"none\")+\n",
    "  scale_fill_brewer(palette = \"Dark2\")"
   ]
  },
  {
   "cell_type": "markdown",
   "id": "f585fb27",
   "metadata": {},
   "source": [
    "# Single subject optim and grid search comparison\n",
    "\n",
    "How close are the best estimates from optim to the single subject (601) grid search best parameters?"
   ]
  },
  {
   "cell_type": "code",
   "execution_count": null,
   "id": "6d7416ff",
   "metadata": {},
   "outputs": [],
   "source": [
    "sub_grid_best = best_pars %>%\n",
    "  select(-model) %>%\n",
    "  mutate(fit = \"grid\")\n"
   ]
  },
  {
   "cell_type": "code",
   "execution_count": null,
   "id": "92fd66a4",
   "metadata": {},
   "outputs": [],
   "source": [
    "sub_optim_best = all_optim_filtered %>%\n",
    "  filter(subnum == 601) %>%\n",
    "  group_by(subnum, day, type) %>%\n",
    "  filter(nll == min(nll)) %>%\n",
    "  select(barrierDecay, bias, d, nonDecisionTime, sigma, nll, subnum, day, type) %>%\n",
    "  mutate(fit = \"optim\")"
   ]
  },
  {
   "cell_type": "markdown",
   "id": "01c19ef2",
   "metadata": {},
   "source": [
    "### NLL in optim vs grid search\n",
    "\n",
    "Compare likelihoods of best fitting parameters from two approaches. \n",
    "\n",
    "Notable things:\n",
    "\n",
    "- Model fits RE better than HT for all days.  \n",
    "- Between the two fitting schemes the likelihood of the best fitting parameter combinations is almost identical."
   ]
  },
  {
   "cell_type": "code",
   "execution_count": null,
   "id": "7468b504",
   "metadata": {},
   "outputs": [],
   "source": [
    "sub_grid_best %>%\n",
    "  select(nll, subnum, day, type, fit) %>%\n",
    "  rbind(sub_optim_best %>%\n",
    "          select(nll, subnum, day, type, fit)) %>%\n",
    "  spread(fit, nll) %>%\n",
    "  ggplot(aes(grid, optim, color = type))+\n",
    "  geom_point()+\n",
    "  geom_abline(aes(slope = 1, intercept = 0))+\n",
    "  theme(legend.position = \"bottom\")+\n",
    "  scale_color_brewer(palette = \"Dark2\")+\n",
    "  labs(color = \"\", y = \"NLL from optim\", x = \"NLL from grid search\")"
   ]
  },
  {
   "cell_type": "markdown",
   "id": "50547f96",
   "metadata": {},
   "source": [
    "### Parameter estimates for optim vs grid search\n",
    "\n",
    "For these almost identical nll's are the converged parameters similar? Yes and no. The exact estimates are not identifical but patterns, especially comparing the two conditions are captured.\n",
    "\n",
    "- The best barrierDecays for RE are often lower than those for HT in both methods.  \n",
    "- When grid search converges on a non-zero bias the sign of the bias always matches with optim too. When grid search converges on 0 the biggest difference is still smaller than the other best grid search estimates.  \n",
    "- ndt's are where the largest differences are. Optim estimates much faster ndt's compared to grid search.  \n",
    "- Drift rates are often larger when using grid search compared to optim. This is possibly somewhat due to the larger ndt's with grid search.  \n",
    "- The optim sigma estimates range between the two most frequently converged values with grid search ([0.04 - 0.05]).  "
   ]
  },
  {
   "cell_type": "code",
   "execution_count": null,
   "id": "94d17b17",
   "metadata": {},
   "outputs": [],
   "source": [
    "sub_grid_best %>%\n",
    "  select(-nll) %>%\n",
    "  gather(key, value, -subnum, -day, -type, -fit) %>%\n",
    "  rbind(sub_optim_best %>%\n",
    "          select(-nll) %>%\n",
    "          gather(key, value, -subnum, -day, -type, -fit)) %>%\n",
    "  spread(fit, value) %>%\n",
    "  ggplot(aes(grid, optim, color = type))+\n",
    "  geom_point(alpha = .5)+\n",
    "  geom_abline(aes(intercept = 0, slope = 1))+\n",
    "  theme(legend.position = \"bottom\")+\n",
    "  scale_color_brewer(palette = \"Dark2\")+\n",
    "  labs(color = \"\", y = \"Estimate from optim\", x = \"Estimate grid search\")+\n",
    "  facet_wrap(~key, scales = \"free\")"
   ]
  },
  {
   "cell_type": "markdown",
   "id": "94ca116e",
   "metadata": {},
   "source": [
    "### Simulated data checks\n",
    "\n",
    "How much do the exact values of the point estimates matter?  \n",
    "\n",
    "How different does data generated by the point estimates recovered by the two different methods look from each other AND from true data?  \n",
    "\n",
    "Source simulation functions.  "
   ]
  },
  {
   "cell_type": "code",
   "execution_count": null,
   "id": "81a2de99",
   "metadata": {
    "lines_to_next_cell": 2
   },
   "outputs": [],
   "source": [
    "# Source model definition\n",
    "source(paste0(helpers_path, '/ddm/yn_ddm.R'))\n",
    "\n",
    "# Source simulating functions\n",
    "source(paste0(helpers_path, '/ddm/sim_yn_ddm.R'))\n",
    "\n",
    "# Create list with the simulator function\n",
    "sim_trial_list = list(\"model1\" = sim_trial)\n",
    "\n",
    "# Get data for subject\n",
    "source(paste0(helpers_path, '01_clean_behavioral_data.R'))\n",
    "rm(data_bc_clean)\n",
    "\n",
    "normMax = 1\n",
    "normMin = -1\n",
    "\n",
    "data_yn_clean = data_yn_clean %>%\n",
    "  filter(reference != -99) %>%\n",
    "  filter(rt > .3 & rt < 5) %>% # discard very long and short RT trials\n",
    "  group_by(subnum, day, type) %>%\n",
    "  mutate(possiblePayoff_dmn = possiblePayoff - mean(possiblePayoff)) %>%\n",
    "  mutate(rawVDiff = possiblePayoff - reference,\n",
    "         normVDiff =  (normMax - normMin) / (max(rawVDiff) - min(rawVDiff)) * (rawVDiff - max(rawVDiff)) + (normMax) )\n",
    "\n",
    "rm(normMax, normMin)\n",
    "\n",
    "sub_data = data_yn_clean %>% filter(subnum == 601)"
   ]
  },
  {
   "cell_type": "markdown",
   "id": "d95a854c",
   "metadata": {},
   "source": [
    "Simulate data using best estimates from grid search"
   ]
  },
  {
   "cell_type": "code",
   "execution_count": null,
   "id": "70492498",
   "metadata": {},
   "outputs": [],
   "source": [
    "sim_grid_best = tibble()\n",
    "\n",
    "for(i in 1:nrow(sub_grid_best)){\n",
    "  cur_row = sub_grid_best[i,]\n",
    "  cur_day = cur_row$day\n",
    "  cur_type = ifelse(cur_row$type == \"HT\", 1, 0)\n",
    "  cur_stims = sub_data %>% filter(day == cur_day & type == cur_type)\n",
    "  cur_sim = sim_task(stimuli = cur_stims, model_name = \"model1\", sim_trial_list_ = sim_trial_list, \n",
    "                     d = cur_row$d, sigma = cur_row$sigma, nonDecisionTime = cur_row$nonDecisionTime, \n",
    "                     bias = cur_row$bias, barrierDecay = cur_row$barrierDecay, \n",
    "                     maxIter = 300)\n",
    "  cur_sim$type = cur_type\n",
    "  cur_sim$day = cur_day\n",
    "  cur_sim$true_yesChosen = cur_stims$yesChosen\n",
    "  cur_sim$true_rt = cur_stims$rt\n",
    "  sim_grid_best = rbind(sim_grid_best, cur_sim)\n",
    "  \n",
    "}\n",
    "\n",
    "rm(cur_row, cur_sim, cur_stims, i)"
   ]
  },
  {
   "cell_type": "code",
   "execution_count": null,
   "id": "ef218709",
   "metadata": {},
   "outputs": [],
   "source": [
    "sim_grid_best"
   ]
  },
  {
   "cell_type": "markdown",
   "id": "853ce917",
   "metadata": {},
   "source": [
    "Simulate data using best parameters from optim"
   ]
  },
  {
   "cell_type": "code",
   "execution_count": null,
   "id": "f18a3d67",
   "metadata": {},
   "outputs": [],
   "source": [
    "sim_optim_best = tibble()\n",
    "\n",
    "for(i in 1:nrow(sub_optim_best)){\n",
    "  cur_row = sub_optim_best[i,]\n",
    "  cur_day = cur_row$day\n",
    "  cur_type = ifelse(cur_row$type == \"HT\", 1, 0)\n",
    "  cur_stims = sub_data %>% filter(day == cur_day & type == cur_type)\n",
    "  cur_sim = sim_task(stimuli = cur_stims, model_name = \"model1\", sim_trial_list_ = sim_trial_list, \n",
    "                     d = cur_row$d, sigma = cur_row$sigma, nonDecisionTime = cur_row$nonDecisionTime, \n",
    "                     bias = cur_row$bias, barrierDecay = cur_row$barrierDecay, \n",
    "                     maxIter = 300)\n",
    "  cur_sim$type = cur_type\n",
    "  cur_sim$day = cur_day\n",
    "  cur_sim$true_yesChosen = cur_stims$yesChosen\n",
    "  cur_sim$true_rt = cur_stims$rt\n",
    "  sim_optim_best = rbind(sim_optim_best, cur_sim)\n",
    "  \n",
    "}\n",
    "\n",
    "rm(cur_row, cur_sim, cur_stims, i)"
   ]
  },
  {
   "cell_type": "code",
   "execution_count": null,
   "id": "3c1fb4dd",
   "metadata": {},
   "outputs": [],
   "source": [
    "sim_optim_best"
   ]
  },
  {
   "cell_type": "markdown",
   "id": "82857548",
   "metadata": {},
   "source": [
    "#### Plot simulated data\n",
    "\n",
    "Whether the true and simulated data are plotted in the same or different layers doesn't matter BUT make sure to use the same geom for both true and simulated data! Otherwise you'll plot kernel density estimates (smoothed continuous \"estimates\")  over rescaled histograms bin values and they won't be normalized by the same process so would not be comparable!\n",
    "\n",
    "Useful threads:  \n",
    "\n",
    "https://stackoverflow.com/questions/46734555/ggplot2-histogram-why-do-y-density-and-stat-density-differ\n",
    "\n",
    "https://stackoverflow.com/questions/65631194/scale-density-curve-made-with-geom-density-to-similar-height-of-geom-histogram\n"
   ]
  },
  {
   "cell_type": "code",
   "execution_count": null,
   "id": "8bdf344e",
   "metadata": {},
   "outputs": [],
   "source": [
    "p = sim_optim_best %>%\n",
    "  select(true_rt, true_yesChosen, reactionTime, choice, type, day) %>%\n",
    "  mutate(optim_rt = ifelse(choice == \"no\", (-1)*reactionTime, reactionTime),\n",
    "         true_rt = ifelse(true_yesChosen == 0, (-1)*true_rt, true_rt)) %>%\n",
    "  select(-true_yesChosen, -reactionTime, -choice) %>%\n",
    "  gather(key, value, -type, -day) %>%\n",
    "  rbind(sim_grid_best %>%\n",
    "          select(reactionTime, choice, type, day) %>%\n",
    "          mutate(grid_rt = ifelse(choice == \"no\", (-1)*reactionTime, reactionTime)) %>%\n",
    "          select(-reactionTime, -choice) %>%\n",
    "          gather(key, value, -type, -day)) %>%\n",
    "  mutate(day = paste0(\"Day \", day),\n",
    "         day = factor(day, levels = paste0(\"Day \", seq(1,11, 1))),\n",
    "         type = ifelse(type == 1, \"HT\", \"RE\"),\n",
    "         key = factor(key, levels = c(\"true_rt\", \"grid_rt\", \"optim_rt\"))) %>%\n",
    "  ggplot(aes(value, color = key, fill = key))+\n",
    "  geom_histogram(aes(y=..density..), bins = 30, alpha = .5, position = \"identity\")+\n",
    "  facet_grid(type ~ day)+\n",
    "  scale_color_manual(values = c(\"gray\", \"#7570b3\", \"#e7298a\"))+\n",
    "  scale_fill_manual(values = c(\"gray\", NA, NA))+\n",
    "  theme(panel.grid.major.x = element_blank(),\n",
    "        panel.grid.minor.x = element_blank(),\n",
    "        legend.position = \"bottom\")+\n",
    "  labs(y = \"\", x = \"\", fill = \"\", color = \"\")+\n",
    "  ylim(0, 1.5)\n",
    "\n",
    "p"
   ]
  },
  {
   "cell_type": "code",
   "execution_count": null,
   "id": "eadde28c",
   "metadata": {},
   "outputs": [],
   "source": [
    "p2 = sim_optim_best %>%\n",
    "  select(true_rt, true_yesChosen, reactionTime, choice, type, day) %>%\n",
    "  mutate(optim_rt = ifelse(choice == \"no\", (-1)*reactionTime, reactionTime),\n",
    "         true_rt = ifelse(true_yesChosen == 0, (-1)*true_rt, true_rt)) %>%\n",
    "  select(-true_yesChosen, -reactionTime, -choice) %>%\n",
    "  gather(key, value, -type, -day) %>%\n",
    "  rbind(sim_grid_best %>%\n",
    "          select(reactionTime, choice, type, day) %>%\n",
    "          mutate(grid_rt = ifelse(choice == \"no\", (-1)*reactionTime, reactionTime)) %>%\n",
    "          select(-reactionTime, -choice) %>%\n",
    "          gather(key, value, -type, -day)) %>%\n",
    "  mutate(day = paste0(\"Day \", day),\n",
    "         day = factor(day, levels = paste0(\"Day \", seq(1,11, 1))),\n",
    "         type = ifelse(type == 1, \"HT\", \"RE\"),\n",
    "         key = factor(key, levels = c(\"true_rt\", \"grid_rt\", \"optim_rt\"))) %>%\n",
    "  ggplot(aes(value, color = key, fill = key))+\n",
    "  # geom_step(aes(y=..density..), stat=\"bin\", binwidth=0.2)+\n",
    "  geom_step(aes(y=..density..), stat=\"bin\", bins = 30, linewidth = .75)+\n",
    "  facet_grid(type ~ day)+\n",
    "  scale_color_manual(values = c(\"gray\", \"#7570b3\", \"#e7298a\"))+\n",
    "  scale_fill_manual(values = c(\"gray\", NA, NA))+\n",
    "  theme(panel.grid.major.x = element_blank(),\n",
    "        panel.grid.minor.x = element_blank(),\n",
    "        legend.position = \"bottom\")+\n",
    "  labs(y = \"\", x = \"\", fill = \"\", color = \"\")+\n",
    "ylim(0, 1.5)\n",
    "\n",
    "p2"
   ]
  },
  {
   "cell_type": "markdown",
   "id": "086876e3",
   "metadata": {},
   "source": [
    "##### KL divergence\n",
    "\n",
    "To compute e.g. KL divergence between true and simulated RT distributions you could do something like getting the number of values in each RT bin in the above plot using `ggplot_build(p)`"
   ]
  },
  {
   "cell_type": "code",
   "execution_count": null,
   "id": "93df95bb",
   "metadata": {},
   "outputs": [],
   "source": [
    "pg = ggplot_build(p)"
   ]
  },
  {
   "cell_type": "code",
   "execution_count": null,
   "id": "defe6cc9",
   "metadata": {
    "lines_to_next_cell": 2
   },
   "outputs": [],
   "source": [
    "prob_data = pg$data[[1]] %>%\n",
    "  select(count, colour, PANEL) %>%\n",
    "  group_by(colour, PANEL) %>%\n",
    "  mutate(p_count = count/sum(count),\n",
    "         group = ifelse(colour == \"gray\", \"true_rt\", ifelse(colour == \"#7570b3\", \"grid_rt\", \"optim_rt\"))) %>%\n",
    "  # summarise(sum_p_count = sum(p_count), .groups = \"keep\") # Check to make sure p's add up to 1 for each case\n",
    "  left_join(pg$layout$layout %>% select(PANEL, type, day), by = \"PANEL\") \n",
    "\n",
    "f_labels = tibble()\n",
    "\n",
    "for(cur_panel in unique(prob_data$PANEL)){\n",
    "  panel_data = prob_data %>% filter(PANEL == cur_panel)\n",
    "  true_probs = panel_data %>% filter(group == \"true_rt\")\n",
    "  true_probs = true_probs$p_count\n",
    "  \n",
    "  grid_probs = panel_data %>% filter(group == \"grid_rt\")\n",
    "  grid_probs = grid_probs$p_count\n",
    "  x = rbind(true_probs, grid_probs)\n",
    "  y1 = philentropy::KL(x, unit='log2')\n",
    "  \n",
    "  optim_probs = panel_data %>% filter(group == \"optim_rt\")\n",
    "  optim_probs = optim_probs$p_count\n",
    "  x = rbind(true_probs, optim_probs)\n",
    "  y2 = philentropy::KL(x, unit='log2')\n",
    "  \n",
    "  cur_label = paste0(\"KL(tg) = \", format(round(y1, 3), nsmall = 3), \" KL(to) = \",  format(round(y2, 3), nsmall = 3))\n",
    "  \n",
    "  cur_row = tibble(type = unique(panel_data$type), day = unique(panel_data$day),\n",
    "                   label = cur_label, kl_tg = y1, kl_to = y2)\n",
    "  f_labels = rbind(f_labels, cur_row)\n",
    "}\n",
    "\n",
    "f_labels$key = \"true_rt\"\n",
    "f_labels$label = stringr::str_wrap(f_labels$label, 15)\n",
    "\n",
    "rm(panel_data, true_probs, grid_probs, optim_probs, cur_label, cur_row, x, y1, y2)"
   ]
  },
  {
   "cell_type": "code",
   "execution_count": null,
   "id": "93ed06f9",
   "metadata": {},
   "outputs": [],
   "source": [
    "p +\n",
    "  geom_text(x = 0, y = 1.2, aes(label = label), data = f_labels, color = \"black\", size = 2.5)+\n",
    "  labs(title = \"True vs simulated RTs using best parameters from different fitting methods\")+\n",
    "  theme(axis.ticks.y = element_blank(),\n",
    "        axis.text.y = element_blank())+\n",
    "  lemon::scale_x_symmetric()\n"
   ]
  },
  {
   "cell_type": "code",
   "execution_count": null,
   "id": "0441f9aa",
   "metadata": {},
   "outputs": [],
   "source": [
    "p2+\n",
    "  geom_text(x = 0, y = 1.2, aes(label = label), data = f_labels, color = \"black\", size = 2.5)+\n",
    "  labs(title = \"True vs simulated RTs using best parameters from different fitting methods\")+\n",
    "  theme(axis.ticks.y = element_blank(),\n",
    "        axis.text.y = element_blank())+\n",
    "  lemon::scale_x_symmetric()\n",
    "\n",
    "# ggsave(file=paste0(fig_out_path, 'sub601_barrierDecay_simData.jpg'), height = 6, width=12, units=\"in\")"
   ]
  },
  {
   "cell_type": "markdown",
   "id": "35d37c92",
   "metadata": {},
   "source": [
    "### Comparison to model without bounds"
   ]
  },
  {
   "cell_type": "code",
   "execution_count": null,
   "id": "2d37181f",
   "metadata": {},
   "outputs": [],
   "source": [
    "stim_types = c(\"HT\", \"RE\")\n",
    "subnums = c(601)\n",
    "\n",
    "in_path = '/Users/zeynepenkavi/CpuEaters/NovelVsRepeated/behavior/analysis/helpers/cluster_scripts/hddm/jags_out'\n",
    "\n",
    "yn_ddm_summary = data.frame()\n",
    "\n",
    "for(i in 1:length(stim_types)){\n",
    "  for(j in 1:length(subnums)){\n",
    "    \n",
    "    cur_stim_type = stim_types[i]\n",
    "    cur_sub = subnums[j]\n",
    "    # summary_YN_HDDM_FIT_RE_sub-611.csv\n",
    "    \n",
    "    fn = file.path(in_path, paste0('summary_YN_HDDM_FIT_', cur_stim_type,'_sub-', cur_sub,'.csv'))\n",
    "    \n",
    "    if(file.exists(fn)){\n",
    "      cur_summary = read.csv(fn)\n",
    "      cur_summary = cur_summary %>%\n",
    "        rename(par = X) %>%\n",
    "        mutate(stim_type = cur_stim_type,\n",
    "               subnum = cur_sub)\n",
    "      \n",
    "      yn_ddm_summary = rbind(yn_ddm_summary, cur_summary)\n",
    "    } else {\n",
    "      next\n",
    "    }\n",
    "  }\n",
    "}"
   ]
  },
  {
   "cell_type": "code",
   "execution_count": null,
   "id": "dd02a810",
   "metadata": {},
   "outputs": [],
   "source": [
    "yn_ddm_summary = yn_ddm_summary %>%\n",
    "  select(par, Lower95, Upper95, Mean, subnum, stim_type ) %>%\n",
    "  separate(par, c(\"a\", \"b\"), sep = '\\\\.', remove = F, fill = \"right\") %>%\n",
    "  separate(a, c(\"c\", \"d\"), sep = \"\\\\[\", remove = F, fill = \"right\") %>%\n",
    "  select(-a) %>%\n",
    "  mutate(d = paste0('p[',d)) %>%\n",
    "  mutate(b = ifelse(is.na(b), d, b)) %>%\n",
    "  select(-d, -par) %>%\n",
    "  rename(par_name = c, par_group = b) %>%\n",
    "  mutate(par_group = gsub(\"p\\\\[\", \"\", par_group),\n",
    "         par_group = gsub(\"\\\\]\", \"\", par_group)) %>%\n",
    "  filter(par_name != \"deviance\") %>%\n",
    "  filter(par_group != \"kappa\" & par_group != \"pr\") %>%\n",
    "  filter(par_group != \"mu\") %>% #Not showing group estimates in this plot\n",
    "  rename(day = par_group) %>%\n",
    "  mutate(par_name = ifelse(par_name == \"theta\", \"ndt\", ifelse(par_name == \"b\", \"d\", ifelse(par_name == \"alpha\", \"sigma\", par_name)))) %>%\n",
    "  mutate(par_name = factor(par_name, levels = c(\"d\", \"sigma\", \"bias\", \"ndt\")),\n",
    "         day = as.numeric(day))"
   ]
  },
  {
   "cell_type": "markdown",
   "id": "a015758c",
   "metadata": {},
   "source": [
    "Simulation helper functions"
   ]
  },
  {
   "cell_type": "code",
   "execution_count": null,
   "id": "fd411033",
   "metadata": {},
   "outputs": [],
   "source": [
    "sim_trial = function(trial_vdiff, sampled_sigma, sampled_d, sampled_ndt, sampled_bias){\n",
    "  \n",
    "  # Multiplying boundary separation and drift rate my sigma to account for that parameter\n",
    "  trial_drift = sampled_sigma * (sampled_d * trial_vdiff)\n",
    "  \n",
    "  if(abs(trial_drift) < 10){\n",
    "    cur_pred = RWiener::rwiener(1, 2*sampled_sigma, sampled_ndt, sampled_bias, trial_drift)\n",
    "  } else {\n",
    "    print(\"d too large. Sampling RT.\")\n",
    "    pq = sampled_ndt + abs(rnorm(1, mean = 0, sd = 0.01))\n",
    "    pr = ifelse(trial_drift>10, factor(\"upper\", levels = c(\"upper\", \"lower\")), factor(\"lower\", levels = c(\"upper\", \"lower\")))\n",
    "    cur_pred = data.frame(q = pq, resp = pr)\n",
    "  }\n",
    "  return(cur_pred)\n",
    "  \n",
    "}\n",
    "\n",
    "sim_subj_cond_day_once = function(cur_stims, sampled_sigma, sampled_d, sampled_ndt, sampled_bias){\n",
    "  \n",
    "  pred_data = cur_stims\n",
    "  \n",
    "  normMax = 1\n",
    "  normMin = -1\n",
    "  # Already filtered for sub, day and stim type so don't need to group to make sure vdiff ranges between [-1,1]\n",
    "  pred_data = pred_data %>%\n",
    "    mutate(rawVDiff = possiblePayoff - reference,\n",
    "           normVDiff =  (normMax - normMin) / (max(rawVDiff) - min(rawVDiff)) * (rawVDiff - max(rawVDiff)) + (normMax) )\n",
    "  \n",
    "  pred_data$sampled_sigma = sampled_sigma\n",
    "  pred_data$sampled_d = sampled_d\n",
    "  pred_data$sampled_ndt = sampled_ndt\n",
    "  pred_data$sampled_bias = sampled_bias\n",
    "  pred_data$pred_rt = NA\n",
    "  pred_data$pred_yesChosen = NA\n",
    "  \n",
    "  for(i in 1:nrow(cur_stims)){\n",
    "    \n",
    "    trial_vdiff = pred_data$normVDiff[i]\n",
    "    cur_pred = sim_trial(trial_vdiff, sampled_sigma, sampled_d, sampled_ndt, sampled_bias)\n",
    "    \n",
    "    pred_data$pred_rt[i] = cur_pred$q\n",
    "    pred_data$pred_yesChosen[i] = cur_pred$resp\n",
    "    \n",
    "  }\n",
    "  \n",
    "  return(pred_data)\n",
    "}"
   ]
  },
  {
   "cell_type": "code",
   "execution_count": null,
   "id": "7f77c38c",
   "metadata": {},
   "outputs": [],
   "source": [
    "conds = c('HT', 'RE')\n",
    "subs = c('601')\n",
    "days = seq(1, 11, 1)\n",
    "\n",
    "for(i in 1:length(conds)){\n",
    "  cur_type = conds[i]\n",
    "  \n",
    "  for (j in 1:length(subs)){\n",
    "    cur_sub = subs[j]\n",
    "    \n",
    "    for (k in 1:length(days)){\n",
    "      cur_day = days[k]\n",
    "      \n",
    "      cur_stims = data_yn_clean %>%\n",
    "        mutate(type_chr = ifelse(type == 1, \"HT\", \"RE\")) %>%\n",
    "        filter(subnum == cur_sub & day == cur_day & type_chr == cur_type) %>%\n",
    "        select(subnum, day, type, possiblePayoff, reference, yesChosen, rt)\n",
    "      \n",
    "      cur_pars = yn_ddm_summary %>%\n",
    "        filter(subnum == cur_sub & day == cur_day & stim_type == cur_type) %>%\n",
    "        select(par_name, Mean) %>%\n",
    "        spread(par_name, Mean)\n",
    "      \n",
    "      cur_pred = sim_subj_cond_day_once(cur_stims, cur_pars$sigma, cur_pars$d, cur_pars$ndt, cur_pars$bias)\n",
    "      \n",
    "      if(!exists(\"sim_yn_map\")){\n",
    "        sim_yn_map = cur_pred\n",
    "      } else{\n",
    "        sim_yn_map = rbind(sim_yn_map, cur_pred)\n",
    "      }\n",
    "    }\n",
    "  }\n",
    "}"
   ]
  },
  {
   "cell_type": "code",
   "execution_count": null,
   "id": "774de7b4",
   "metadata": {},
   "outputs": [],
   "source": [
    "rm(cur_pars, cur_pred, cur_stims, cur_summary, cur_day, cur_stim_type, cur_sub, cur_type)\n",
    "rm(i, j, k)"
   ]
  },
  {
   "cell_type": "code",
   "execution_count": null,
   "id": "8f4ca7a0",
   "metadata": {},
   "outputs": [],
   "source": [
    "sim_yn_map = sim_yn_map %>%\n",
    "  mutate(pred_yesChosen = ifelse(pred_yesChosen == 1, pred_yesChosen, 0),\n",
    "         val_diff = possiblePayoff - reference,\n",
    "         day_std = (day - mean(day))/sd(day)) %>%\n",
    "  group_by(subnum) %>%\n",
    "  mutate(val_diff_std = (val_diff - mean(val_diff))/sd(val_diff),\n",
    "         abs_val_diff = abs(val_diff),\n",
    "         abs_val_diff_std = (abs_val_diff - mean(abs_val_diff))/sd(abs_val_diff))\n",
    "\n",
    "sim_yn_map = sim_yn_map %>%\n",
    "  mutate(val_diff_bin = round(val_diff/50),\n",
    "         val_diff_bin_str = paste0(val_diff_bin*50-25,\":\",val_diff_bin*50+25),\n",
    "         val_diff_bin_str = factor(val_diff_bin_str, levels = c(\"-225:-175\", \"-175:-125\", \"-125:-75\", \"-75:-25\", \"-25:25\", \"25:75\", \"75:125\", \"125:175\", \"175:225\")),\n",
    "         abs_val_diff_bin_str =  paste0(abs(val_diff_bin)*50-25,\":\",abs(val_diff_bin)*50+25),\n",
    "         abs_val_diff_bin_str = ifelse(abs_val_diff_bin_str ==  \"-25:25\", \"0:25\", abs_val_diff_bin_str),\n",
    "         abs_val_diff_bin_str = factor(abs_val_diff_bin_str, levels = c(\"0:25\", \"25:75\", \"75:125\", \"125:175\", \"175:225\", \"225:275\")))"
   ]
  },
  {
   "cell_type": "markdown",
   "id": "72b4e2b9",
   "metadata": {},
   "source": [
    "Check for effect of thresholding the drift rate: Not a big difference."
   ]
  },
  {
   "cell_type": "code",
   "execution_count": null,
   "id": "308e11fb",
   "metadata": {},
   "outputs": [],
   "source": [
    "sim_yn_map$drift_threshold = NA\n",
    "sim_yn_map$drift_threshold[1: (nrow(sim_yn_map)/2) ] = 1\n",
    "sim_yn_map$drift_threshold[ ((nrow(sim_yn_map)/2) + 1) : (nrow(sim_yn_map))] = 0\n",
    "table(sim_yn_map$drift_threshold)\n",
    "sim_yn_map"
   ]
  },
  {
   "cell_type": "code",
   "execution_count": null,
   "id": "63dd02eb",
   "metadata": {},
   "outputs": [],
   "source": [
    "sim_yn_map %>%\n",
    "  mutate(type_chr = ifelse(type == 1, \"HT\", \"RE\")) %>%\n",
    "  filter(rt < 3 & pred_rt < 3) %>%\n",
    "  mutate(rt = ifelse(yesChosen == 1, rt, rt*(-1)),\n",
    "         pred_rt = ifelse(pred_yesChosen == 1, pred_rt, pred_rt*(-1)), \n",
    "         day = paste0(\"Day \", day),\n",
    "         day = factor(day, levels = paste0(\"Day \", seq(1,11, 1)))) %>%\n",
    "  ggplot()+\n",
    "  geom_density(aes(x = pred_rt, linetype = as.factor(drift_threshold)), position = \"identity\", alpha = .5) +\n",
    "  geom_histogram(aes(x = rt, y = ..density.., fill = type_chr), bins = 30,  position = \"identity\", alpha = .5, color = NA)+\n",
    "  facet_grid(type_chr ~ day)+\n",
    "  theme(panel.grid = element_blank(),\n",
    "        axis.text = element_blank(),\n",
    "        axis.ticks = element_blank(),\n",
    "        legend.position = \"bottom\")+\n",
    "  geom_vline(aes(xintercept = 0), color = \"gray\") +\n",
    "  labs(y = \"\", x = \"\")+\n",
    "  scale_fill_brewer(palette = \"Dark2\")+\n",
    "  guides(fill = \"none\")"
   ]
  },
  {
   "cell_type": "code",
   "execution_count": null,
   "id": "dfe3465b",
   "metadata": {},
   "outputs": [],
   "source": [
    "sim_yn_map %>%\n",
    "  filter(drift_threshold == 1) %>%\n",
    "  ungroup() %>%\n",
    "  mutate(hddm_rt = ifelse(pred_yesChosen == 1, pred_rt, pred_rt*(-1))) %>%\n",
    "  select(type, day, hddm_rt) %>%\n",
    "  gather(key, value, -type, -day)"
   ]
  },
  {
   "cell_type": "markdown",
   "id": "21baff0d",
   "metadata": {},
   "source": [
    "Compare to optim and grid search simulations"
   ]
  },
  {
   "cell_type": "code",
   "execution_count": null,
   "id": "a5fe4f08",
   "metadata": {},
   "outputs": [],
   "source": [
    "sub_all_sim_data_long = sim_optim_best %>%\n",
    "  select(true_rt, true_yesChosen, reactionTime, choice, type, day) %>%\n",
    "  mutate(optim_rt = ifelse(choice == \"no\", (-1)*reactionTime, reactionTime),\n",
    "         true_rt = ifelse(true_yesChosen == 0, (-1)*true_rt, true_rt)) %>%\n",
    "  select(-true_yesChosen, -reactionTime, -choice) %>%\n",
    "  gather(key, value, -type, -day) %>%\n",
    "  \n",
    "  rbind(sim_grid_best %>%\n",
    "          select(reactionTime, choice, type, day) %>%\n",
    "          mutate(grid_rt = ifelse(choice == \"no\", (-1)*reactionTime, reactionTime)) %>%\n",
    "          select(-reactionTime, -choice) %>%\n",
    "          gather(key, value, -type, -day)) %>%\n",
    "  \n",
    "  rbind(sim_yn_map %>%\n",
    "          filter(drift_threshold == 1) %>%\n",
    "          ungroup() %>%\n",
    "          mutate(hddm_rt = ifelse(pred_yesChosen == 1, pred_rt, pred_rt*(-1))) %>%\n",
    "          select(type, day, hddm_rt) %>%\n",
    "          gather(key, value, -type, -day)) %>%\n",
    "  \n",
    "  mutate(day = paste0(\"Day \", day),\n",
    "         day = factor(day, levels = paste0(\"Day \", seq(1,11, 1))),\n",
    "         type = ifelse(type == 1, \"HT\", \"RE\"),\n",
    "         key = factor(key, levels = c(\"true_rt\", \"grid_rt\", \"optim_rt\", \"hddm_rt\")))"
   ]
  },
  {
   "cell_type": "code",
   "execution_count": null,
   "id": "e771fb0b",
   "metadata": {
    "lines_to_next_cell": 0
   },
   "outputs": [],
   "source": [
    "sub_all_sim_data_long"
   ]
  },
  {
   "cell_type": "markdown",
   "id": "a1155e73",
   "metadata": {},
   "source": [
    "First attempt. Not great."
   ]
  },
  {
   "cell_type": "code",
   "execution_count": null,
   "id": "5ec493ac",
   "metadata": {
    "lines_to_next_cell": 0
   },
   "outputs": [],
   "source": [
    "sub_all_sim_data %>%\n",
    "  ggplot(aes(value, color = key, fill = key))+\n",
    "  # geom_step(aes(y=..density..), stat=\"bin\", binwidth=0.2)+\n",
    "  geom_step(aes(y=..density..), stat=\"bin\", bins = 30, linewidth = .75)+\n",
    "  facet_grid(type ~ day)+\n",
    "  scale_color_manual(values = c(\"gray\", \"#7570b3\", \"#e7298a\", \"#66a61e\"))+\n",
    "  scale_fill_manual(values = c(\"gray\", NA, NA, NA))+\n",
    "  theme(panel.grid.major.x = element_blank(),\n",
    "        panel.grid.minor.x = element_blank(),\n",
    "        legend.position = \"bottom\")+\n",
    "  labs(y = \"\", x = \"\", fill = \"\", color = \"\")+\n",
    "ylim(0, 1.5)"
   ]
  },
  {
   "cell_type": "code",
   "execution_count": null,
   "id": "f95a00e2",
   "metadata": {},
   "outputs": [],
   "source": [
    "sub_all_sim_data_wide = sim_optim_best %>%\n",
    "  select(true_rt, true_yesChosen, reactionTime, choice, type, day) %>%\n",
    "  mutate(optim_rt = ifelse(choice == \"no\", (-1)*reactionTime, reactionTime),\n",
    "         true_rt = ifelse(true_yesChosen == 0, (-1)*true_rt, true_rt)) %>%\n",
    "  select(-true_yesChosen, -reactionTime, -choice) %>%\n",
    "  gather(key, value, -type, -day, -true_rt) %>%\n",
    "\n",
    "rbind(sim_grid_best %>%\n",
    "          select(true_rt, true_yesChosen, reactionTime, choice, type, day) %>%\n",
    "          mutate(grid_rt = ifelse(choice == \"no\", (-1)*reactionTime, reactionTime),\n",
    "                 true_rt = ifelse(true_yesChosen == 0, (-1)*true_rt, true_rt)) %>%\n",
    "          select(-true_yesChosen,-reactionTime, -choice) %>%\n",
    "          gather(key, value, -type, -day, -true_rt)) %>%\n",
    "\n",
    "rbind(sim_yn_map %>%\n",
    "          filter(drift_threshold == 1) %>%\n",
    "          ungroup() %>%\n",
    "          mutate(hddm_rt = ifelse(pred_yesChosen == 1, pred_rt, pred_rt*(-1)),\n",
    "                 true_rt = ifelse(yesChosen == 1, rt, rt*(-1))) %>%\n",
    "          select(type, day, hddm_rt, true_rt) %>%\n",
    "          gather(key, value, -type, -day, -true_rt )) %>%\n",
    "  mutate(day = paste0(\"Day \", day),\n",
    "         day = factor(day, levels = paste0(\"Day \", seq(1,11, 1))),\n",
    "         # type = ifelse(type == 1, \"HT\", \"RE\"),\n",
    "         key = factor(key, levels = c(\"grid_rt\", \"optim_rt\", \"hddm_rt\")))\n"
   ]
  },
  {
   "cell_type": "code",
   "execution_count": null,
   "id": "188cb881",
   "metadata": {},
   "outputs": [],
   "source": [
    "sub_all_sim_data_wide %>%\n",
    "  filter(type == 1) %>%\n",
    "  ggplot()+\n",
    "  geom_histogram(aes(x = true_rt, y=..density..), stat=\"bin\", bins = 30, linewidth = .75, fill = \"#1b9e77\", alpha = .75)+\n",
    "  geom_density(aes(x = value))+\n",
    "  facet_grid(key ~ day)+\n",
    "  theme(legend.position = \"none\",\n",
    "        axis.ticks = element_blank(),\n",
    "        axis.text = element_blank(),\n",
    "        panel.grid.minor = element_blank(),\n",
    "        strip.text = element_text(size = 14))+\n",
    "  labs(x = \"\", y = \"\", title = \"Comparison of true and simulated for HT stimuli (sub-601)\")\n",
    "\n",
    "ggsave(file=paste0(fig_out_path, 'sub601_simDataComparisonHT1.jpg'), height = 9, width=20, units=\"in\")\n",
    "  "
   ]
  },
  {
   "cell_type": "code",
   "execution_count": null,
   "id": "54a0498e",
   "metadata": {
    "lines_to_next_cell": 0
   },
   "outputs": [],
   "source": [
    "sub_all_sim_data_wide %>%\n",
    "  filter(type == 1) %>%\n",
    "  ggplot()+\n",
    "  geom_step(aes(x = true_rt, y=..density..), stat=\"bin\", bins = 30, linewidth = .75, color = \"#1b9e77\")+\n",
    "  geom_step(aes(x = value, y=..density..), stat=\"bin\", bins = 30, linewidth = .75)+\n",
    "  facet_grid(key ~ day)+\n",
    "  theme(legend.position = \"none\",\n",
    "        axis.ticks = element_blank(),\n",
    "        axis.text = element_blank(),\n",
    "        panel.grid.minor = element_blank(),\n",
    "        strip.text = element_text(size = 14))+\n",
    "  labs(x = \"\", y = \"\", title = \"Comparison of true and simulated for HT stimuli (sub-601)\")\n",
    "\n",
    "ggsave(file=paste0(fig_out_path, 'sub601_simDataComparisonHT2.jpg'), height = 9, width=20, units=\"in\")\n",
    "  "
   ]
  },
  {
   "cell_type": "code",
   "execution_count": null,
   "id": "4e80e922",
   "metadata": {},
   "outputs": [],
   "source": [
    "sub_all_sim_data_wide %>%\n",
    "  filter(type == 0) %>%\n",
    "  ggplot()+\n",
    "  geom_histogram(aes(x = true_rt, y=..density..), stat=\"bin\", bins = 30, linewidth = .75, fill = \"#d95f02\", alpha = .75)+\n",
    "  geom_density(aes(x = value))+\n",
    "  facet_grid(key ~ day)+\n",
    "  theme(legend.position = \"none\",\n",
    "        axis.ticks = element_blank(),\n",
    "        axis.text = element_blank(),\n",
    "        panel.grid.minor = element_blank(),\n",
    "        strip.text = element_text(size = 14))+\n",
    "  labs(x = \"\", y = \"\", title = \"Comparison of true and simulated for RE stimuli (sub-601)\")\n",
    "\n",
    "ggsave(file=paste0(fig_out_path, 'sub601_simDataComparisonRE1.jpg'), height = 9, width=20, units=\"in\")\n",
    "  "
   ]
  },
  {
   "cell_type": "code",
   "execution_count": null,
   "id": "54fa9ff6",
   "metadata": {
    "lines_to_next_cell": 0
   },
   "outputs": [],
   "source": [
    "sub_all_sim_data_wide %>%\n",
    "  filter(type == 0) %>%\n",
    "  ggplot()+\n",
    "  geom_step(aes(x = true_rt, y=..density..), stat=\"bin\", bins = 30, linewidth = .75, color = \"#d95f02\")+\n",
    "  geom_step(aes(x = value, y=..density..), stat=\"bin\", bins = 30, linewidth = .75)+\n",
    "  facet_grid(key ~ day)+\n",
    "  theme(legend.position = \"none\",\n",
    "        axis.ticks = element_blank(),\n",
    "        axis.text = element_blank(),\n",
    "        panel.grid.minor = element_blank(),\n",
    "        strip.text = element_text(size = 14))+\n",
    "  labs(x = \"\", y = \"\", title = \"Comparison of true and simulated for RE stimuli (sub-601)\")\n",
    "\n",
    "ggsave(file=paste0(fig_out_path, 'sub601_simDataComparisonRE2.jpg'), height = 9, width=20, units=\"in\")\n",
    "  "
   ]
  },
  {
   "cell_type": "markdown",
   "id": "31ec32b5",
   "metadata": {},
   "source": [
    "# Other checks\n",
    "\n",
    "Is the smaller negative log likelihoods for RE compared HT a thing for all other subjects too? Yes!\n",
    "\n",
    "But wait. This isn't necessarily better fit. This isn't normalized. There's fewer RE trials so the sum of likelihood for each trial is smaller."
   ]
  },
  {
   "cell_type": "code",
   "execution_count": null,
   "id": "83ed68a5",
   "metadata": {},
   "outputs": [],
   "source": [
    "all_optim_filtered %>%\n",
    "  group_by(subnum, day, type) %>%\n",
    "  filter(nll == min(nll)) %>%\n",
    "  ggplot(aes(nll, fill = type))+\n",
    "  geom_histogram(alpha = .5, bins = 30, position = \"identity\")+\n",
    "  theme(legend.position = \"bottom\")+\n",
    "  scale_fill_brewer(palette = \"Dark2\")+\n",
    "  labs(fill = \"\")+\n",
    "  facet_wrap(~subnum)"
   ]
  },
  {
   "cell_type": "markdown",
   "id": "990992b4",
   "metadata": {},
   "source": [
    "Where did the best optim estimates start from?"
   ]
  },
  {
   "cell_type": "code",
   "execution_count": null,
   "id": "f646c0f0",
   "metadata": {},
   "outputs": [],
   "source": [
    "all_optim_filtered %>%\n",
    "  group_by(subnum, day, type) %>%\n",
    "  filter(nll == min(nll))"
   ]
  }
 ],
 "metadata": {
  "jupytext": {
   "cell_metadata_filter": "tags,message,-all",
   "main_language": "R",
   "notebook_metadata_filter": "-all"
  }
 },
 "nbformat": 4,
 "nbformat_minor": 5
}
