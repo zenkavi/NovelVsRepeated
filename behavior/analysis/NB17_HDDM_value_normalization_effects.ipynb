{
 "cells": [
  {
   "cell_type": "raw",
   "id": "27c70fbc",
   "metadata": {},
   "source": [
    "---\n",
    "title: \"Novel vs. repeated choice project: DDM and HDDM parameter examinations\"\n",
    "output: \n",
    "  html_document:\n",
    "    toc: true\n",
    "    toc_float: true\n",
    "    code_folding: 'hide'\n",
    "---"
   ]
  },
  {
   "cell_type": "markdown",
   "id": "33d6d0bc",
   "metadata": {},
   "source": [
    "Set up environment and load in data"
   ]
  },
  {
   "cell_type": "code",
   "execution_count": null,
   "id": "9b2ea433",
   "metadata": {
    "message": false,
    "tags": [
     "remove_cell"
    ]
   },
   "outputs": [],
   "source": [
    "library(tidyverse)\n",
    "library(here)\n",
    "library(grid)\n",
    "library(gridExtra)\n",
    "theme_set(theme_bw())\n",
    "helpers_path = paste0(here(),'/analysis/helpers/')\n",
    "source(paste0(helpers_path, '01_clean_behavioral_data.R'))\n",
    "rm(data_bc_clean)\n",
    "fig_out_path = paste0(here(), '/outputs/fig/')"
   ]
  },
  {
   "cell_type": "markdown",
   "id": "5e0a70ca",
   "metadata": {},
   "source": [
    "# Value difference distributions"
   ]
  },
  {
   "cell_type": "code",
   "execution_count": null,
   "id": "fd5c80f7",
   "metadata": {},
   "outputs": [],
   "source": [
    "normMax = 1\n",
    "normMin = -1\n",
    "\n",
    "data_yn_clean = data_yn_clean %>%\n",
    "  filter(reference != -99) %>%\n",
    "  filter(rt > .3 & rt < 5) %>% # discard very long and short RT trials\n",
    "  # filter((type == stim_type) & (subnum == sub_num)) %>%\n",
    "  group_by(day, subnum, type) %>% # Make sure val diff ranges from -1 to 1 for each day (in this condition and for this subnum)\n",
    "  mutate(rawVDiff = possiblePayoff - reference,\n",
    "         normVDiff =  (normMax - normMin) / (max(rawVDiff) - min(rawVDiff)) * (rawVDiff - max(rawVDiff)) + (normMax),\n",
    "         possiblePayoff_std = possiblePayoff - mean(possiblePayoff),\n",
    "         oldVDiff = possiblePayoff_std - reference) %>%\n",
    "  mutate(rtPN = ifelse(yesChosen == 1, rt, (-1)*rt))"
   ]
  },
  {
   "cell_type": "code",
   "execution_count": null,
   "id": "fe1b2d38",
   "metadata": {},
   "outputs": [],
   "source": [
    "summary(data_yn_clean$normVDiff)"
   ]
  },
  {
   "cell_type": "code",
   "execution_count": null,
   "id": "786803b3",
   "metadata": {},
   "outputs": [],
   "source": [
    "summary(data_yn_clean$oldVDiff)"
   ]
  },
  {
   "cell_type": "code",
   "execution_count": null,
   "id": "a4ec0b19",
   "metadata": {},
   "outputs": [],
   "source": [
    "data_yn_clean %>% \n",
    "  mutate(type = ifelse(type == 1, \"HT\", \"RE\")) %>%\n",
    "  ggplot(aes(normVDiff, oldVDiff, color = type))+\n",
    "  geom_point(alpha = .5)+\n",
    "  facet_wrap(~subnum)+\n",
    "  scale_color_brewer(palette = \"Dark2\")+\n",
    "  theme(legend.position = \"bottom\")"
   ]
  },
  {
   "cell_type": "code",
   "execution_count": null,
   "id": "7aa21fdf",
   "metadata": {
    "lines_to_next_cell": 0
   },
   "outputs": [],
   "source": [
    "data_yn_clean %>%\n",
    "  ungroup() %>%\n",
    "  select(subnum, normVDiff, oldVDiff, type) %>%\n",
    "  gather(key, value, -subnum, -type) %>%\n",
    "  mutate(type = ifelse(type == 1, \"HT\", \"RE\")) %>%\n",
    "  filter(key == \"normVDiff\") %>%\n",
    "  ggplot(aes(value, fill = type))+\n",
    "  geom_histogram(bins = 30, alpha = .5, position = \"identity\")+\n",
    "  facet_grid(key ~ subnum, scales = \"free\")+\n",
    "  theme(legend.position = \"bottom\")+\n",
    "  labs(y = \"\", x = \"\", fill = \"\")+\n",
    "  scale_fill_brewer(palette = \"Dark2\")"
   ]
  },
  {
   "cell_type": "code",
   "execution_count": null,
   "id": "82c446c3",
   "metadata": {},
   "outputs": [],
   "source": [
    "data_yn_clean %>%\n",
    "  ungroup() %>%\n",
    "  select(subnum, normVDiff, oldVDiff, type) %>%\n",
    "  gather(key, value, -subnum, -type) %>%\n",
    "  mutate(type = ifelse(type == 1, \"HT\", \"RE\")) %>%\n",
    "  filter(key == \"oldVDiff\") %>%\n",
    "  ggplot(aes(value, fill = type))+\n",
    "  geom_histogram(bins = 30, alpha = .5, position = \"identity\")+\n",
    "  facet_grid(key ~ subnum, scales = \"free\")+\n",
    "  theme(legend.position = \"bottom\")+\n",
    "  labs(y = \"\", x = \"\", fill = \"\")+\n",
    "  scale_fill_brewer(palette = \"Dark2\")"
   ]
  },
  {
   "cell_type": "markdown",
   "id": "c1d6b217",
   "metadata": {},
   "source": [
    "# Hierarchy over days\n",
    "\n",
    "## Estimates using normalized VDiff"
   ]
  },
  {
   "cell_type": "code",
   "execution_count": null,
   "id": "c716fa87",
   "metadata": {},
   "outputs": [],
   "source": [
    "stim_types = c(\"HT\", \"RE\")\n",
    "subnums = c(601, 609, 611, 619, 621, 629)\n",
    "\n",
    "in_path = '/Users/zeynepenkavi/CpuEaters/NovelVsRepeated/behavior/analysis/helpers/cluster_scripts/hddm/jags_out'\n",
    "\n",
    "yn_ddm_summary = data.frame()\n",
    "\n",
    "for(i in 1:length(stim_types)){\n",
    "  for(j in 1:length(subnums)){\n",
    "    \n",
    "    cur_stim_type = stim_types[i]\n",
    "    cur_sub = subnums[j]\n",
    "    # summary_YN_HDDM_FIT_RE_sub-611.csv\n",
    "    \n",
    "    fn = file.path(in_path, paste0('summary_YN_HDDM_FIT_', cur_stim_type,'_sub-', cur_sub,'.csv'))\n",
    "    \n",
    "    if(file.exists(fn)){\n",
    "      cur_summary = read.csv(fn)\n",
    "      cur_summary = cur_summary %>%\n",
    "        rename(par = X) %>%\n",
    "        mutate(stim_type = cur_stim_type,\n",
    "               subnum = cur_sub)\n",
    "      \n",
    "      yn_ddm_summary = rbind(yn_ddm_summary, cur_summary)\n",
    "    } else {\n",
    "      next\n",
    "    }\n",
    "  }\n",
    "}\n",
    "rm(cur_summary)"
   ]
  },
  {
   "cell_type": "code",
   "execution_count": null,
   "id": "949d7514",
   "metadata": {},
   "outputs": [],
   "source": [
    "yn_ddm_summary"
   ]
  },
  {
   "cell_type": "code",
   "execution_count": null,
   "id": "4e89e2a6",
   "metadata": {},
   "outputs": [],
   "source": [
    "yn_ddm_summary = yn_ddm_summary %>%\n",
    "  select(par, Lower95, Upper95, Mean, subnum, stim_type ) %>%\n",
    "  separate(par, c(\"a\", \"b\"), sep = '\\\\.', remove = F, fill = \"right\") %>%\n",
    "  separate(a, c(\"c\", \"d\"), sep = \"\\\\[\", remove = F, fill = \"right\") %>%\n",
    "  select(-a) %>%\n",
    "  mutate(d = paste0('p[',d)) %>%\n",
    "  mutate(b = ifelse(is.na(b), d, b)) %>%\n",
    "  select(-d, -par) %>%\n",
    "  rename(par_name = c, par_group = b) %>%\n",
    "  mutate(par_group = gsub(\"p\\\\[\", \"\", par_group),\n",
    "         par_group = gsub(\"\\\\]\", \"\", par_group)) %>%\n",
    "  filter(par_name != \"deviance\") %>%\n",
    "  filter(par_group != \"kappa\" & par_group != \"pr\") %>%\n",
    "  filter(par_group != \"mu\") %>% #Not showing group estimates in this plot\n",
    "  rename(day = par_group) %>%\n",
    "  mutate(par_name = ifelse(par_name == \"theta\", \"ndt\", ifelse(par_name == \"b\", \"d\", ifelse(par_name == \"alpha\", \"sigma\", par_name)))) %>%\n",
    "  mutate(par_name = factor(par_name, levels = c(\"d\", \"sigma\", \"bias\", \"ndt\")),\n",
    "         day = as.numeric(day))"
   ]
  },
  {
   "cell_type": "code",
   "execution_count": null,
   "id": "3a6e40dc",
   "metadata": {
    "lines_to_next_cell": 0
   },
   "outputs": [],
   "source": [
    "p = yn_ddm_summary %>%\n",
    "  ggplot(aes(day, Mean, color=stim_type))+\n",
    "  geom_point(position = position_dodge(width=.75))+\n",
    "  geom_errorbar(aes(ymin = Lower95, ymax = Upper95), position = position_dodge(width=.75), width=.5)+\n",
    "  facet_grid(par_name ~ subnum, scale = \"free_y\")+\n",
    "  scale_color_brewer(palette = \"Dark2\")+\n",
    "  theme(panel.grid = element_blank(),\n",
    "        legend.position = \"bottom\",\n",
    "        axis.text.x = element_text(margin = margin(t = 5)),\n",
    "        legend.box.margin=margin(t = -10))+\n",
    "  labs(x=\"Day\", y = \"Parameter Estimate\", color=\"\", title = \"YN HDDM Estimates (95% HDI) - Hierarchy over days\")+\n",
    "  scale_x_continuous(breaks = seq(1,11,1),\n",
    "                     labels = c(\"1\", \"\", \"3\", \"\", \"5\", \"\", \"7\", \"\", \"9\", \"\", \"11\"))\n",
    "\n",
    "# ggsave(file=paste0(fig_out_path, 'yn_subj_hddm_parests_sub-hierarchy.jpg'), p, height = 6, width=9, units=\"in\")\n",
    "p"
   ]
  },
  {
   "cell_type": "markdown",
   "id": "e4544ad8",
   "metadata": {},
   "source": [
    "## Compare to old estimates"
   ]
  },
  {
   "cell_type": "code",
   "execution_count": null,
   "id": "81e9e145",
   "metadata": {},
   "outputs": [],
   "source": [
    "stim_types = c(\"HT\", \"RE\")\n",
    "subnums = c(601, 609, 611, 619, 621, 629)\n",
    "\n",
    "in_path = '/Users/zeynepenkavi/CpuEaters/NovelVsRepeated/behavior/analysis/helpers/cluster_scripts/hddm/jags_out/old_preNorm'\n",
    "\n",
    "old_yn_ddm_summary = data.frame()\n",
    "\n",
    "for(i in 1:length(stim_types)){\n",
    "  for(j in 1:length(subnums)){\n",
    "    \n",
    "    cur_stim_type = stim_types[i]\n",
    "    cur_sub = subnums[j]\n",
    "    # summary_YN_HDDM_FIT_RE_sub-611.csv\n",
    "    \n",
    "    fn = file.path(in_path, paste0('summary_YN_HDDM_FIT_', cur_stim_type,'_sub-', cur_sub,'.csv'))\n",
    "    \n",
    "    if(file.exists(fn)){\n",
    "      cur_summary = read.csv(fn)\n",
    "      cur_summary = cur_summary %>%\n",
    "        rename(par = X) %>%\n",
    "        mutate(stim_type = cur_stim_type,\n",
    "               subnum = cur_sub)\n",
    "      \n",
    "      old_yn_ddm_summary = rbind(old_yn_ddm_summary, cur_summary)\n",
    "    } else {\n",
    "      next\n",
    "    }\n",
    "  }\n",
    "}\n",
    "rm(cur_summary)"
   ]
  },
  {
   "cell_type": "code",
   "execution_count": null,
   "id": "978e0a0e",
   "metadata": {
    "lines_to_next_cell": 0
   },
   "outputs": [],
   "source": [
    "old_yn_ddm_summary"
   ]
  },
  {
   "cell_type": "code",
   "execution_count": null,
   "id": "c6983077",
   "metadata": {
    "lines_to_next_cell": 2
   },
   "outputs": [],
   "source": [
    "old_yn_ddm_summary = old_yn_ddm_summary %>%\n",
    "  select(par, Lower95, Upper95, Mean, subnum, stim_type ) %>%\n",
    "  separate(par, c(\"a\", \"b\"), sep = '\\\\.', remove = F, fill = \"right\") %>%\n",
    "  separate(a, c(\"c\", \"d\"), sep = \"\\\\[\", remove = F, fill = \"right\") %>%\n",
    "  select(-a) %>%\n",
    "  mutate(d = paste0('p[',d)) %>%\n",
    "  mutate(b = ifelse(is.na(b), d, b)) %>%\n",
    "  select(-d, -par) %>%\n",
    "  rename(par_name = c, par_group = b) %>%\n",
    "  mutate(par_group = gsub(\"p\\\\[\", \"\", par_group),\n",
    "         par_group = gsub(\"\\\\]\", \"\", par_group)) %>%\n",
    "  filter(par_name != \"deviance\") %>%\n",
    "  filter(par_group != \"kappa\" & par_group != \"pr\") %>%\n",
    "  filter(par_group != \"mu\") %>% #Not showing group estimates in this plot\n",
    "  rename(day = par_group) %>%\n",
    "  mutate(par_name = ifelse(par_name == \"theta\", \"ndt\", ifelse(par_name == \"b\", \"d\", ifelse(par_name == \"alpha\", \"sigma\", par_name)))) %>%\n",
    "  mutate(par_name = factor(par_name, levels = c(\"d\", \"sigma\", \"bias\", \"ndt\")),\n",
    "         day = as.numeric(day))"
   ]
  },
  {
   "cell_type": "markdown",
   "id": "3447d6cc",
   "metadata": {},
   "source": [
    "Plot old vs new mean parameter estimates"
   ]
  },
  {
   "cell_type": "code",
   "execution_count": null,
   "id": "95f0bd6a",
   "metadata": {
    "lines_to_next_cell": 0
   },
   "outputs": [],
   "source": [
    "old_yn_ddm_summary %>%\n",
    "  select(par_name, day, Mean, subnum, stim_type) %>%\n",
    "  rename(oldEstimate = Mean) %>%\n",
    "  left_join(yn_ddm_summary %>%\n",
    "              select(par_name, day, Mean, subnum, stim_type) %>%\n",
    "              rename(newEstimate = Mean), by = c(\"par_name\", \"day\", \"subnum\", \"stim_type\")) %>%\n",
    "  filter(par_name == \"d\") %>%\n",
    "  ggplot(aes(oldEstimate, newEstimate, color = stim_type))+\n",
    "  geom_point()+\n",
    "  facet_grid(par_name ~ subnum)+\n",
    "  theme(legend.position = \"bottom\")+\n",
    "  scale_color_brewer(palette = \"Dark2\")"
   ]
  },
  {
   "cell_type": "code",
   "execution_count": null,
   "id": "75f53911",
   "metadata": {},
   "outputs": [],
   "source": [
    "old_yn_ddm_summary %>%\n",
    "  select(par_name, day, Mean, subnum, stim_type) %>%\n",
    "  rename(oldEstimate = Mean) %>%\n",
    "  left_join(yn_ddm_summary %>%\n",
    "              select(par_name, day, Mean, subnum, stim_type) %>%\n",
    "              rename(newEstimate = Mean), by = c(\"par_name\", \"day\", \"subnum\", \"stim_type\")) %>%\n",
    "  filter(par_name == \"sigma\") %>%\n",
    "  ggplot(aes(oldEstimate, newEstimate, color = stim_type))+\n",
    "  geom_point()+\n",
    "  geom_abline(aes(intercept = 0, slope = 1))+\n",
    "  facet_grid(par_name ~ subnum)+\n",
    "  theme(legend.position = \"bottom\")+\n",
    "  scale_color_brewer(palette = \"Dark2\")"
   ]
  },
  {
   "cell_type": "code",
   "execution_count": null,
   "id": "88d907ac",
   "metadata": {},
   "outputs": [],
   "source": [
    "old_yn_ddm_summary %>%\n",
    "  select(par_name, day, Mean, subnum, stim_type) %>%\n",
    "  rename(oldEstimate = Mean) %>%\n",
    "  left_join(yn_ddm_summary %>%\n",
    "              select(par_name, day, Mean, subnum, stim_type) %>%\n",
    "              rename(newEstimate = Mean), by = c(\"par_name\", \"day\", \"subnum\", \"stim_type\")) %>%\n",
    "  filter(par_name == \"bias\") %>%\n",
    "  ggplot(aes(oldEstimate, newEstimate, color = stim_type))+\n",
    "  geom_point()+\n",
    "  geom_abline(aes(intercept = 0, slope = 1))+\n",
    "  facet_grid(par_name ~ subnum)+\n",
    "  theme(legend.position = \"bottom\")+\n",
    "  scale_color_brewer(palette = \"Dark2\")"
   ]
  },
  {
   "cell_type": "code",
   "execution_count": null,
   "id": "181293c7",
   "metadata": {},
   "outputs": [],
   "source": [
    "old_yn_ddm_summary %>%\n",
    "  select(par_name, day, Mean, subnum, stim_type) %>%\n",
    "  rename(oldEstimate = Mean) %>%\n",
    "  left_join(yn_ddm_summary %>%\n",
    "              select(par_name, day, Mean, subnum, stim_type) %>%\n",
    "              rename(newEstimate = Mean), by = c(\"par_name\", \"day\", \"subnum\", \"stim_type\")) %>%\n",
    "  filter(par_name == \"ndt\") %>%\n",
    "  ggplot(aes(oldEstimate, newEstimate, color = stim_type))+\n",
    "  geom_point()+\n",
    "  geom_abline(aes(intercept = 0, slope = 1))+\n",
    "  facet_grid(par_name ~ subnum)+\n",
    "  theme(legend.position = \"bottom\")+\n",
    "  scale_color_brewer(palette = \"Dark2\")"
   ]
  },
  {
   "cell_type": "markdown",
   "id": "f909c26a",
   "metadata": {},
   "source": [
    "# Quick checks\n",
    "\n",
    "Variability of drift rate parameter: `e.p.tau`? Can't tell because it's not monitored."
   ]
  },
  {
   "cell_type": "code",
   "execution_count": null,
   "id": "4c7b3c83",
   "metadata": {},
   "outputs": [],
   "source": [
    "cur_summary = read.csv(fn)\n",
    "unique(cur_summary$X)"
   ]
  },
  {
   "cell_type": "markdown",
   "id": "66fbdb3d",
   "metadata": {},
   "source": [
    "Check based on initially confusing observation in previous nb: Is the smaller negative likelihoods for RE compared to HT also the case for these fits?\n",
    "\n",
    "JAGS output doesn't save likelihood but deviance (-2*log(likelihood)). Deviance is computed for the whole model so in this case for all the days of one subject for each stimulus type (6 subjects x 2 stim types). Below we see that for each subject deviance is lower for the HT stims compared to RE stims (ie. the opposite of what the unnormalized sum nll's would have suggested in the previous nb).\n",
    "\n",
    "But I'm not sure this is a kosher comparison to evaluate relative model fit."
   ]
  },
  {
   "cell_type": "code",
   "execution_count": null,
   "id": "9ad4d58a",
   "metadata": {},
   "outputs": [],
   "source": [
    "stim_types = c(\"HT\", \"RE\")\n",
    "subnums = c(601, 609, 611, 619, 621, 629)\n",
    "\n",
    "in_path = '/Users/zeynepenkavi/CpuEaters/NovelVsRepeated/behavior/analysis/helpers/cluster_scripts/hddm/jags_out/old_preNorm'\n",
    "\n",
    "old_yn_ddm_summary = data.frame()\n",
    "\n",
    "for(i in 1:length(stim_types)){\n",
    "  for(j in 1:length(subnums)){\n",
    "    \n",
    "    cur_stim_type = stim_types[i]\n",
    "    cur_sub = subnums[j]\n",
    "    # summary_YN_HDDM_FIT_RE_sub-611.csv\n",
    "    \n",
    "    fn = file.path(in_path, paste0('summary_YN_HDDM_FIT_', cur_stim_type,'_sub-', cur_sub,'.csv'))\n",
    "    \n",
    "    if(file.exists(fn)){\n",
    "      cur_summary = read.csv(fn)\n",
    "      cur_summary = cur_summary %>%\n",
    "        rename(par = X) %>%\n",
    "        mutate(stim_type = cur_stim_type,\n",
    "               subnum = cur_sub)\n",
    "      \n",
    "      old_yn_ddm_summary = rbind(old_yn_ddm_summary, cur_summary)\n",
    "    } else {\n",
    "      next\n",
    "    }\n",
    "  }\n",
    "}\n",
    "rm(cur_summary)"
   ]
  },
  {
   "cell_type": "code",
   "execution_count": null,
   "id": "9a6c4168",
   "metadata": {},
   "outputs": [],
   "source": [
    "old_yn_ddm_summary %>%\n",
    "  filter(par == \"deviance\") %>%\n",
    "  ggplot(aes(stim_type, Mean, color = as.factor(subnum)))+\n",
    "  geom_point()+\n",
    "  geom_errorbar(aes(ymin = Lower95, ymax = Upper95), width = .1)"
   ]
  }
 ],
 "metadata": {
  "jupytext": {
   "cell_metadata_filter": "tags,message,-all",
   "main_language": "R",
   "notebook_metadata_filter": "-all"
  }
 },
 "nbformat": 4,
 "nbformat_minor": 5
}
