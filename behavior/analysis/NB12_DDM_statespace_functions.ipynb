{
 "cells": [
  {
   "cell_type": "raw",
   "id": "5ee19bdb",
   "metadata": {},
   "source": [
    "---\n",
    "title: \"Novel vs. repeated choice project: DDM with collapsing bounds\"\n",
    "output: \n",
    "  html_document:\n",
    "    toc: true\n",
    "    toc_float: true\n",
    "    code_folding: 'hide'\n",
    "---"
   ]
  },
  {
   "cell_type": "markdown",
   "id": "1dcaa80f",
   "metadata": {},
   "source": [
    "Set up environment and load in data"
   ]
  },
  {
   "cell_type": "code",
   "execution_count": null,
   "id": "eede9bd7",
   "metadata": {
    "message": false,
    "tags": [
     "remove_cell"
    ]
   },
   "outputs": [],
   "source": [
    "library(tidyverse)\n",
    "library(here)\n",
    "library(grid)\n",
    "library(gridExtra)\n",
    "theme_set(theme_bw())\n",
    "helpers_path = paste0(here(),'/analysis/helpers/')\n",
    "source(paste0(helpers_path, '01_clean_behavioral_data.R'))\n",
    "rm(data_bc_clean)\n",
    "fig_out_path = paste0(here(), '/outputs/fig/')"
   ]
  },
  {
   "cell_type": "markdown",
   "id": "f8fea365",
   "metadata": {},
   "source": [
    "**Make sure to scale value and exclude too fast trials before fitting**"
   ]
  },
  {
   "cell_type": "code",
   "execution_count": null,
   "id": "e7e161a1",
   "metadata": {},
   "outputs": [],
   "source": [
    "normMax = 1\n",
    "normMin = -1\n",
    "\n",
    "data_yn_clean = data_yn_clean %>%\n",
    "  filter(reference != -99) %>%\n",
    "  filter(rt > .3 & rt < 5) %>% # discard very long and short RT trials\n",
    "  group_by(subnum, day, type) %>%\n",
    "  mutate(possiblePayoff_dmn = possiblePayoff - mean(possiblePayoff)) %>%\n",
    "  mutate(rawVDiff = possiblePayoff - reference,\n",
    "         normVDiff =  (normMax - normMin) / (max(rawVDiff) - min(rawVDiff)) * (rawVDiff - max(rawVDiff)) + (normMax) )\n",
    "\n",
    "rm(normMax, normMin)"
   ]
  },
  {
   "cell_type": "markdown",
   "id": "46c39b87",
   "metadata": {},
   "source": [
    "# Exploring priors and parameter space\n",
    "\n",
    "What does a subject prior for drift rates look like in the HDDM (from Lombardi-Hare toolbox)\n",
    "\n",
    "```\n",
    "d.mu ~ dunif(.00001, 50)\n",
    "d.pr ~ dgamma(1, .1)\n",
    "d[subject] ~ dnorm(d.mu, d.pr) [trimmed at 10e-5, 50]\n",
    "\n",
    "```"
   ]
  },
  {
   "cell_type": "code",
   "execution_count": null,
   "id": "5ac8d4b9",
   "metadata": {},
   "outputs": [],
   "source": [
    "n = 10000\n",
    "\n",
    "dat = data.frame(d.mu = runif(n, .00001, 50), d.pr = rgamma(n, 1, .1))\n",
    "\n",
    "for(i in 1:nrow(dat)){\n",
    "  dat$d[i] = rnorm(1, dat$d.mu[i], dat$d.pr[i])\n",
    "}\n",
    "\n",
    "dat$d = ifelse(dat$d > 50, 50, ifelse(dat$d<.000001, .000001, dat$d))\n",
    "\n",
    "dat %>%\n",
    "  # select(d) %>%\n",
    "  gather(key, value) %>%\n",
    "  # mutate(key = factor(key, levels = c(\"d.pr\", \"d.mu\", \"d\"))) %>%\n",
    "  ggplot(aes(value, fill=key))+\n",
    "  geom_histogram(position = \"identity\", alpha = .5, bins = 30)+\n",
    "  facet_wrap(~key, scales = \"free\")+\n",
    "  theme(legend.position = \"bottom\")+\n",
    "  labs(fill=\"\", x=\"\")"
   ]
  },
  {
   "cell_type": "markdown",
   "id": "ec76befe",
   "metadata": {},
   "source": [
    "What about the bias and ndt? Uniform-ish too.\n",
    "\n",
    "```\n",
    "bias[p] ~ dbeta(bias.alpha, bias.beta)T(0.01,0.99)\n",
    "\n",
    "bias.alpha <- bias.mu * bias.kappa\n",
    "bias.beta <- (1 - bias.mu) * bias.kappa\n",
    "bias.mu ~ dbeta(2, 2)T(0.01,0.99)\n",
    "bias.kappa ~ dgamma(1, 0.5)\n",
    "```\n",
    "\n",
    "**NOTE: This is operationalized in the HDDM, ranging from 0 to 1 and no bias is .5**"
   ]
  },
  {
   "cell_type": "code",
   "execution_count": null,
   "id": "c2dc9eae",
   "metadata": {},
   "outputs": [],
   "source": [
    "n = 10000\n",
    "\n",
    "dat = data.frame(bias.kappa = rgamma(n, 1, .5), bias.mu = rbeta(n, 2, 2))\n",
    "\n",
    "dat$bias.mu = ifelse(dat$bias.mu < .01, .01, ifelse(dat$bias.mu > .99, .99, dat$bias.mu))\n",
    "\n",
    "dat = dat %>%\n",
    "  mutate(bias.beta = (1 - bias.mu) * bias.kappa,\n",
    "         bias.alpha = bias.mu * bias.kappa)\n",
    "\n",
    "for(i in 1:nrow(dat)){\n",
    "  dat$bias[i] = rbeta(1, dat$bias.alpha[i], dat$bias.beta[i])\n",
    "}\n",
    "\n",
    "dat$bias = ifelse(dat$bias < .01, .01, ifelse(dat$bias > .99, .99, dat$bias))\n",
    "\n",
    "dat %>%\n",
    "  gather(key, value) %>%\n",
    "  ggplot(aes(value, fill=key))+\n",
    "  geom_histogram(position = \"identity\", alpha = .5, bins = 30)+\n",
    "  facet_wrap(~key, scales = \"free\")+\n",
    "  theme(legend.position = \"bottom\")+\n",
    "  labs(fill=\"\", x=\"\")\n"
   ]
  },
  {
   "cell_type": "markdown",
   "id": "7b395abc",
   "metadata": {},
   "source": [
    "```\n",
    "theta.p[p] ~ dnorm(ndt.mu, ndt.pr)T(0.01, 1)\n",
    "ndt.pr ~ dgamma(1, 0.1)\n",
    "ndt.mu ~ dunif(0, 1)\n",
    "```"
   ]
  },
  {
   "cell_type": "code",
   "execution_count": null,
   "id": "d23ba9a7",
   "metadata": {},
   "outputs": [],
   "source": [
    "n = 10000\n",
    "\n",
    "dat = data.frame(ndt.mu = runif(n, 0, 1), ndt.pr = rgamma(n, 1, .1))\n",
    "\n",
    "for(i in 1:nrow(dat)){\n",
    "  dat$ndt[i] = rnorm(1, dat$ndt.mu[i], dat$ndt.pr[i])\n",
    "}\n",
    "\n",
    "dat$ndt = ifelse(dat$ndt < .01, .01, ifelse(dat$ndt > 1, 1, dat$ndt))\n",
    "\n",
    "dat %>%\n",
    "  gather(key, value) %>%\n",
    "  ggplot(aes(value, fill=key))+\n",
    "  geom_histogram(position = \"identity\", alpha = .5, bins = 30)+\n",
    "  facet_wrap(~key, scales = \"free\")+\n",
    "  theme(legend.position = \"bottom\")+\n",
    "  labs(fill=\"\", x=\"\")\n"
   ]
  },
  {
   "cell_type": "markdown",
   "id": "60a2f453",
   "metadata": {},
   "source": [
    "What are reasonable values for barrierDecay? Prior: Uniform[0, .01]; min = 0, max = 0.02"
   ]
  },
  {
   "cell_type": "code",
   "execution_count": null,
   "id": "e6aef8c5",
   "metadata": {
    "lines_to_next_cell": 0
   },
   "outputs": [],
   "source": [
    "decay_vals = c(0, .001, .01, .02, .1, 1)\n",
    "\n",
    "maxIter = 400\n",
    "\n",
    "dat = data.frame()\n",
    "\n",
    "for(cur_dv in decay_vals){\n",
    "  cur_dat = data.frame(t = c(0:maxIter),\n",
    "                       initialBarrier = 1, \n",
    "                       barrierDecay = cur_dv)\n",
    "  \n",
    "  cur_dat = cur_dat %>%\n",
    "    mutate(barrier = initialBarrier / (1 + (barrierDecay * t)))\n",
    "  \n",
    "  dat = rbind(dat, cur_dat)\n",
    "}\n",
    "\n",
    "dat %>%\n",
    "  mutate(barrierDecay = factor(barrierDecay, levels = decay_vals)) %>%\n",
    "  ggplot(aes(t, barrier, color = barrierDecay))+\n",
    "  geom_point()+\n",
    "  theme_bw()+\n",
    "  theme(legend.position = \"bottom\")"
   ]
  },
  {
   "cell_type": "code",
   "execution_count": null,
   "id": "de477751",
   "metadata": {
    "lines_to_next_cell": 0
   },
   "outputs": [],
   "source": [
    "decay_vals = c(0, .001, .01, .02, .1, .2, .5, 1)\n",
    "\n",
    "maxIter = 500\n",
    "\n",
    "dat = data.frame()\n",
    "\n",
    "for(cur_dv in decay_vals){\n",
    "  cur_dat = data.frame(t = c(0:maxIter),\n",
    "                       initialBarrier = 2, \n",
    "                       barrierDecay = cur_dv)\n",
    "  \n",
    "  cur_dat = cur_dat %>%\n",
    "    mutate(barrier = initialBarrier / (1 + (barrierDecay * t)))\n",
    "  \n",
    "  dat = rbind(dat, cur_dat)\n",
    "}\n",
    "\n",
    "dat %>%\n",
    "  mutate(barrierDecay = factor(barrierDecay, levels = decay_vals)) %>%\n",
    "  ggplot(aes(t, barrier, color = barrierDecay))+\n",
    "  geom_point()+\n",
    "  theme_bw()+\n",
    "  theme(legend.position = \"bottom\")"
   ]
  },
  {
   "cell_type": "code",
   "execution_count": null,
   "id": "6067e06a",
   "metadata": {},
   "outputs": [],
   "source": [
    "dat %>%\n",
    "  filter(barrierDecay == .5) %>%\n",
    "  arrange(-t)"
   ]
  },
  {
   "cell_type": "code",
   "execution_count": null,
   "id": "00b30358",
   "metadata": {},
   "outputs": [],
   "source": [
    "n = 10000\n",
    "\n",
    "dat = data.frame(decay.alpha = rbeta(n, .1, 1), decay.beta = rgamma(n, 2, .5))\n",
    "dat$decay.alpha = ifelse(dat$decay.alpha < 0, 0, ifelse(dat$decay.alpha > .5, .5, dat$decay.alpha))\n",
    "\n",
    "for(i in 1:nrow(dat)){\n",
    "  dat$decay[i] = rbeta(1, dat$decay.alpha[i], dat$decay.beta[i])\n",
    "}\n",
    "\n",
    "dat$decay = ifelse(dat$decay < 0, 0, ifelse(dat$decay > .5, .5, dat$decay))\n",
    "\n",
    "dat %>%\n",
    "  gather(key, value) %>%\n",
    "  ggplot(aes(value, fill=key))+\n",
    "  geom_histogram(position = \"identity\", alpha = .5, bins = 30)+\n",
    "  facet_wrap(~key, scales = \"free\")+\n",
    "  theme(legend.position = \"bottom\")+\n",
    "  labs(fill=\"\", x=\"\")\n"
   ]
  },
  {
   "cell_type": "markdown",
   "id": "e69a1e31",
   "metadata": {},
   "source": [
    "# Test trial simulation function\n",
    "\n",
    "Simulate a few trials"
   ]
  },
  {
   "cell_type": "code",
   "execution_count": null,
   "id": "bb20b177",
   "metadata": {},
   "outputs": [],
   "source": [
    "source(paste0(helpers_path, '/ddm/yn_ddm.R'))"
   ]
  },
  {
   "cell_type": "code",
   "execution_count": null,
   "id": "72d8050b",
   "metadata": {},
   "outputs": [],
   "source": [
    "cur_d = .03\n",
    "cur_sigma = .02\n",
    "cur_nonDecisionTime = 300 #ms\n",
    "cur_bias = 0\n",
    "cur_barrierDecay = .002\n",
    "\n",
    "cur_valStim = .25\n",
    "cur_valRef = 0\n",
    "cur_valDiff = cur_valStim - cur_valRef\n",
    "\n",
    "tmp = sim_trial(d = cur_d, sigma = cur_sigma, nonDecisionTime = cur_nonDecisionTime, bias = cur_bias, barrierDecay = cur_barrierDecay, ValDiff = cur_valDiff, debug = T)\n",
    "\n",
    "tmp"
   ]
  },
  {
   "cell_type": "code",
   "execution_count": null,
   "id": "32e2462e",
   "metadata": {},
   "outputs": [],
   "source": [
    "tmp$debug_df %>%\n",
    "  ggplot()+\n",
    "  geom_line(aes(time, RDV), color = \"#F8766D\", size = 2)+\n",
    "  geom_line(aes(time, barrier))+\n",
    "  geom_line(aes(time, -barrier))+\n",
    "  theme(panel.grid = element_blank())+\n",
    "  geom_hline(aes(yintercept = 0), linetype = \"dashed\")+\n",
    "  geom_hline(aes(yintercept = 1), linetype = \"dashed\")+\n",
    "  geom_hline(aes(yintercept = -1), linetype = \"dashed\")+\n",
    "  geom_vline(aes(xintercept = 30), color = \"gray\")+\n",
    "  labs(x = \"Timestep (in 10 ms)\")"
   ]
  },
  {
   "cell_type": "markdown",
   "id": "fbf7f10d",
   "metadata": {},
   "source": [
    "# Test task simulation function"
   ]
  },
  {
   "cell_type": "code",
   "execution_count": null,
   "id": "73a86320",
   "metadata": {},
   "outputs": [],
   "source": [
    "source(paste0(helpers_path, '/ddm/sim_yn_ddm.R'))"
   ]
  },
  {
   "cell_type": "code",
   "execution_count": null,
   "id": "f8da2255",
   "metadata": {},
   "outputs": [],
   "source": [
    "cur_d = .08\n",
    "cur_sigma = .03\n",
    "cur_nonDecisionTime = 200 #ms\n",
    "cur_bias = 0\n",
    "cur_barrierDecay = .008\n",
    "\n",
    "sub_stims = data_yn_clean %>%\n",
    "  filter((subnum == 611) & (day == 4) & (type == 1)) %>%\n",
    "  filter(reference != -99) %>%\n",
    "  filter(rt > .3 & rt < 2)\n",
    "\n",
    "# names(sub_stims)\n",
    "\n",
    "sim_trial_list = list(\"model1\" = sim_trial)\n",
    "\n",
    "tmp = sim_task(stimuli = sub_stims, model_name = \"model1\", sim_trial_list_ = sim_trial_list, d = cur_d, sigma = cur_sigma, nonDecisionTime = cur_nonDecisionTime, bias = cur_bias, barrierDecay = cur_barrierDecay, maxIter = 300, debug = T)\n",
    "\n",
    "tmp\n",
    "\n"
   ]
  },
  {
   "cell_type": "markdown",
   "id": "56af5c9f",
   "metadata": {},
   "source": [
    "Are these reasonable parameter values?"
   ]
  },
  {
   "cell_type": "code",
   "execution_count": null,
   "id": "a592d4c3",
   "metadata": {},
   "outputs": [],
   "source": [
    "true_dat = sub_stims %>%\n",
    "  ungroup() %>%\n",
    "  select(yesChosen, rt) %>%\n",
    "  mutate(rt = ifelse(yesChosen == 0, (-1) * rt, rt),\n",
    "         data = \"true\")\n",
    "\n",
    "sim_dat = tmp %>%\n",
    "  select(choice, reactionTime) %>%\n",
    "  mutate(yesChosen = ifelse(choice == \"yes\", 1, 0),\n",
    "         rt = ifelse(choice == \"yes\", reactionTime, (-1) * reactionTime),\n",
    "         data = \"sim\") %>%\n",
    "  select(-choice, -reactionTime)\n",
    "\n",
    "ggplot()+\n",
    "  geom_histogram(data = true_dat, aes(rt, y = ..density..), bins = 30, alpha = 0.5)+\n",
    "  geom_density(data = sim_dat, aes(rt))"
   ]
  },
  {
   "cell_type": "markdown",
   "id": "99c24e57",
   "metadata": {},
   "source": [
    "# Test trial likelihood function"
   ]
  },
  {
   "cell_type": "code",
   "execution_count": null,
   "id": "4cdaddb1",
   "metadata": {},
   "outputs": [],
   "source": [
    "source(paste0(helpers_path, '/ddm/yn_ddm.R'))"
   ]
  },
  {
   "cell_type": "code",
   "execution_count": null,
   "id": "be0da216",
   "metadata": {},
   "outputs": [],
   "source": [
    "i = 25\n",
    "\n",
    "tmp[i,]"
   ]
  },
  {
   "cell_type": "code",
   "execution_count": null,
   "id": "1f01019e",
   "metadata": {},
   "outputs": [],
   "source": [
    "fit_trial(d = cur_d, sigma = cur_sigma, nonDecisionTime = cur_nonDecisionTime, bias = cur_bias, barrierDecay = cur_barrierDecay, choice = tmp$choice[i], reactionTime = tmp$reactionTime[i], ValDiff = tmp$ValDiff[i], approxStateStep = .1)"
   ]
  },
  {
   "cell_type": "code",
   "execution_count": null,
   "id": "c10c7639",
   "metadata": {},
   "outputs": [],
   "source": [
    "fit_trial(d = cur_d, sigma = cur_sigma, nonDecisionTime = cur_nonDecisionTime, bias = cur_bias, barrierDecay = cur_barrierDecay, choice = tmp$choice[i], reactionTime = tmp$reactionTime[i], ValDiff = tmp$ValDiff[i], approxStateStep = .01)"
   ]
  },
  {
   "cell_type": "markdown",
   "id": "2a3f8284",
   "metadata": {},
   "source": [
    "**Note higher (and incorrect!) parameter has higher likelihood with large state step size!**"
   ]
  },
  {
   "cell_type": "code",
   "execution_count": null,
   "id": "3b91b19b",
   "metadata": {},
   "outputs": [],
   "source": [
    "fit_trial(d = cur_d*10, sigma = cur_sigma*10, nonDecisionTime = cur_nonDecisionTime, bias = cur_bias, barrierDecay = cur_barrierDecay, choice = tmp$choice[i], reactionTime = tmp$reactionTime[i], ValDiff = tmp$ValDiff[i], approxStateStep = .1)"
   ]
  },
  {
   "cell_type": "code",
   "execution_count": null,
   "id": "d715c127",
   "metadata": {},
   "outputs": [],
   "source": [
    "fit_trial(d = cur_d*10, sigma = cur_sigma*10, nonDecisionTime = cur_nonDecisionTime, bias = cur_bias, barrierDecay = cur_barrierDecay, choice = tmp$choice[i], reactionTime = tmp$reactionTime[i], ValDiff = tmp$ValDiff[i], approxStateStep = .01)"
   ]
  },
  {
   "cell_type": "code",
   "execution_count": null,
   "id": "390f3b4f",
   "metadata": {},
   "outputs": [],
   "source": [
    "fit_trial(d = cur_d/2, sigma = cur_sigma, nonDecisionTime = cur_nonDecisionTime, bias = cur_bias, barrierDecay = cur_barrierDecay, choice = tmp$choice[i], reactionTime = tmp$reactionTime[i], ValDiff = tmp$ValDiff[i], approxStateStep = .01)"
   ]
  },
  {
   "cell_type": "markdown",
   "id": "c2021761",
   "metadata": {},
   "source": [
    "## Debugging state space"
   ]
  },
  {
   "cell_type": "code",
   "execution_count": null,
   "id": "87754ec8",
   "metadata": {},
   "outputs": [],
   "source": [
    "source(paste0(helpers_path, '/ddm/yn_ddm.R'))"
   ]
  },
  {
   "cell_type": "code",
   "execution_count": null,
   "id": "45f64f46",
   "metadata": {},
   "outputs": [],
   "source": [
    "tmp = sim_trial(d = .005, sigma = .07, nonDecisionTime = 200, bias = 0, barrierDecay = 0.001, ValDiff = -1, debug = T)\n",
    "\n",
    "tmp$debug_df %>%\n",
    "  ggplot()+\n",
    "  geom_line(aes(time, RDV), color = \"#F8766D\", size = 2)+\n",
    "  geom_line(aes(time, barrier))+\n",
    "  geom_line(aes(time, -barrier))+\n",
    "  theme(panel.grid = element_blank())+\n",
    "  geom_hline(aes(yintercept = 0), linetype = \"dashed\")+\n",
    "  geom_hline(aes(yintercept = 1), linetype = \"dashed\")+\n",
    "  geom_hline(aes(yintercept = -1), linetype = \"dashed\")+\n",
    "  labs(x = \"Timestep (in 10 ms)\")"
   ]
  },
  {
   "cell_type": "code",
   "execution_count": null,
   "id": "aef6991e",
   "metadata": {},
   "outputs": [],
   "source": [
    "sim_trial_list = list(\"model1\" = sim_trial)\n",
    "\n",
    "tmp = sim_task(stimuli = tibble(normVDiff = rep(-1, 200)), model_name = \"model1\", sim_trial_list_ = sim_trial_list, d = .005, sigma = .07, nonDecisionTime = 200, bias = 0, barrierDecay = 0.001)\n",
    "\n",
    "summary(tmp$reactionTime)"
   ]
  },
  {
   "cell_type": "code",
   "execution_count": null,
   "id": "18dc4559",
   "metadata": {},
   "outputs": [],
   "source": [
    "debug_out = fit_trial(d = .005, sigma = .07, nonDecisionTime = 200, bias = 0, barrierDecay = 0, ValDiff = -1, choice = -1, reactionTime = 1.5, debug=T)\n",
    "\n",
    "str(debug_out)"
   ]
  },
  {
   "cell_type": "code",
   "execution_count": null,
   "id": "3e142f63",
   "metadata": {
    "lines_to_next_cell": 2
   },
   "outputs": [],
   "source": [
    "annotations <- data.frame(\n",
    "        xpos = c(-Inf),\n",
    "        ypos =  c(Inf),\n",
    "        annotateText = c(paste0(\"Choice: \", debug_out$likelihood$choice,\n",
    "                         \"\\nRT: \", debug_out$likelihood$reactionTime,\n",
    "                         \"\\nValDiff: \", debug_out$likelihood$ValDiff,\n",
    "                         \"\\nd: \", debug_out$likelihood$d,\n",
    "                         \"\\nsigma: \", debug_out$likelihood$sigma,\n",
    "                         \"\\nndt: \", debug_out$likelihood$nonDecisionTime,\n",
    "                         \"\\nlik: \", round(debug_out$likelihood$likelihood, 6))),\n",
    "        hjustvar = c(-0.1) ,\n",
    "        vjustvar = c(1.1))\n",
    "\n",
    "tibble(probUpCrossing = debug_out$probUpCrossing,\n",
    "       probDownCrossing = debug_out$probDownCrossing) %>%\n",
    "  mutate(time = 1:n() * (debug_out$likelihood$timeStep)) %>%\n",
    "  gather(key, value, -time) %>%\n",
    "  ggplot(aes(time, value))+\n",
    "  geom_line( aes(color = key) )+\n",
    "  labs(y = \"likelihood\", color = \"\") +\n",
    "  theme(legend.position = \"bottom\") +\n",
    "  geom_text(data = annotations, aes(x = xpos, y = ypos, \n",
    "                                    hjust = hjustvar,\n",
    "                                    vjust = vjustvar,\n",
    "                                    label = annotateText))"
   ]
  },
  {
   "cell_type": "code",
   "execution_count": null,
   "id": "608062f1",
   "metadata": {},
   "outputs": [],
   "source": [
    "debug_out$renorm_debug %>%\n",
    "  select(sumIn, cumSumPUp, cumSumPDown) %>%\n",
    "  mutate(total = sumIn + cumSumPUp + cumSumPDown,\n",
    "         time = 1:n() * debug_out$likelihood$timeStep) %>%\n",
    "  gather(key, value, -time) %>%\n",
    "  ggplot(aes(time, value))+\n",
    "  geom_line( aes(color = key) )+\n",
    "  labs(y = \"Cumulative prob\", color = \"\") +\n",
    "  theme(legend.position = \"bottom\") +\n",
    "  geom_text(data = annotations, aes(x = xpos, y = ypos, \n",
    "                                    hjust = hjustvar,\n",
    "                                    vjust = vjustvar,\n",
    "                                    label = annotateText))\n"
   ]
  },
  {
   "cell_type": "markdown",
   "id": "27b82e89",
   "metadata": {},
   "source": [
    "What are these kinks in the distributions when there is decay in barriers?"
   ]
  },
  {
   "cell_type": "code",
   "execution_count": null,
   "id": "18d30a3e",
   "metadata": {},
   "outputs": [],
   "source": [
    "debug_out = fit_trial(d = .005, sigma = .07, nonDecisionTime = 200, bias = 0, barrierDecay = 0.001, ValDiff = -1, choice = -1, reactionTime = 1.5, debug=T)\n",
    "\n",
    "annotations <- data.frame(\n",
    "        xpos = c(-Inf),\n",
    "        ypos =  c(Inf),\n",
    "        annotateText = c(paste0(\"Choice: \", debug_out$likelihood$choice,\n",
    "                         \"\\nRT: \", debug_out$likelihood$reactionTime,\n",
    "                         \"\\nValDiff: \", debug_out$likelihood$ValDiff,\n",
    "                         \"\\nd: \", debug_out$likelihood$d,\n",
    "                         \"\\nsigma: \", debug_out$likelihood$sigma,\n",
    "                         \"\\nndt: \", debug_out$likelihood$nonDecisionTime)),\n",
    "        hjustvar = c(-0.1) ,\n",
    "        vjustvar = c(1.1))\n",
    "\n",
    "tibble(probUpCrossing = debug_out$probUpCrossing,\n",
    "       probDownCrossing = debug_out$probDownCrossing) %>%\n",
    "  mutate(time = 1:n() * (debug_out$likelihood$timeStep)) %>%\n",
    "  gather(key, value, -time) %>%\n",
    "  ggplot(aes(time, value))+\n",
    "  geom_line( aes(color = key) )+\n",
    "  labs(y = \"likelihood\", color = \"\") +\n",
    "  theme(legend.position = \"bottom\") +\n",
    "  geom_text(data = annotations, aes(x = xpos, y = ypos, \n",
    "                                    hjust = hjustvar,\n",
    "                                    vjust = vjustvar,\n",
    "                                    label = annotateText))\n",
    "\n",
    "debug_out$renorm_debug %>%\n",
    "  select(sumIn, cumSumPUp, cumSumPDown) %>%\n",
    "  mutate(total = sumIn + cumSumPUp + cumSumPDown,\n",
    "         time = 1:n() * debug_out$likelihood$timeStep) %>%\n",
    "  gather(key, value, -time) %>%\n",
    "  ggplot(aes(time, value))+\n",
    "  geom_line( aes(color = key) )+\n",
    "  labs(y = \"Cumulative prob\", color = \"\") +\n",
    "  theme(legend.position = \"bottom\") +\n",
    "  geom_text(data = annotations, aes(x = xpos, y = ypos, \n",
    "                                    hjust = hjustvar,\n",
    "                                    vjust = vjustvar,\n",
    "                                    label = annotateText))"
   ]
  },
  {
   "cell_type": "code",
   "execution_count": null,
   "id": "ff6c789c",
   "metadata": {},
   "outputs": [],
   "source": [
    "debug_out = fit_trial(d = .005, sigma = .07, nonDecisionTime = 200, bias = 0, barrierDecay = 0.001, ValDiff= -1, choice = -1, reactionTime = 3.5, debug=T)\n",
    "\n",
    "annotations <- data.frame(\n",
    "        xpos = c(-Inf),\n",
    "        ypos =  c(Inf),\n",
    "        annotateText = c(paste0(\"Choice: \", debug_out$likelihood$choice,\n",
    "                         \"\\nRT: \", debug_out$likelihood$reactionTime,\n",
    "                         \"\\nValDiff: \", debug_out$likelihood$ValDiff,\n",
    "                         \"\\nd: \", debug_out$likelihood$d,\n",
    "                         \"\\nsigma: \", debug_out$likelihood$sigma,\n",
    "                         \"\\nndt: \", debug_out$likelihood$nonDecisionTime)),\n",
    "        hjustvar = c(-0.1) ,\n",
    "        vjustvar = c(1.1))\n",
    "\n",
    "tibble(probUpCrossing = debug_out$probUpCrossing,\n",
    "       probDownCrossing = debug_out$probDownCrossing) %>%\n",
    "  mutate(time = 1:n() * (debug_out$likelihood$timeStep)) %>%\n",
    "  gather(key, value, -time) %>%\n",
    "  ggplot(aes(time, value))+\n",
    "  geom_line( aes(color = key) )+\n",
    "  labs(y = \"likelihood\", color = \"\") +\n",
    "  theme(legend.position = \"bottom\") +\n",
    "  geom_text(data = annotations, aes(x = xpos, y = ypos, \n",
    "                                    hjust = hjustvar,\n",
    "                                    vjust = vjustvar,\n",
    "                                    label = annotateText))\n",
    "\n",
    "debug_out$renorm_debug %>%\n",
    "  select(sumIn, cumSumPUp, cumSumPDown) %>%\n",
    "  mutate(total = sumIn + cumSumPUp + cumSumPDown,\n",
    "         time = 1:n() * debug_out$likelihood$timeStep) %>%\n",
    "  gather(key, value, -time) %>%\n",
    "  ggplot(aes(time, value))+\n",
    "  geom_line( aes(color = key) )+\n",
    "  labs(y = \"Cumulative prob\", color = \"\") +\n",
    "  theme(legend.position = \"bottom\") +\n",
    "  geom_text(data = annotations, aes(x = xpos, y = ypos, \n",
    "                                    hjust = hjustvar,\n",
    "                                    vjust = vjustvar,\n",
    "                                    label = annotateText))"
   ]
  },
  {
   "cell_type": "markdown",
   "id": "ddb04136",
   "metadata": {},
   "source": [
    "# Test task fitting functions"
   ]
  },
  {
   "cell_type": "code",
   "execution_count": null,
   "id": "7f0262ad",
   "metadata": {},
   "outputs": [],
   "source": [
    "source(paste0(helpers_path, '/ddm/fit_yn_ddm.R'))"
   ]
  },
  {
   "cell_type": "code",
   "execution_count": null,
   "id": "1b8be3c9",
   "metadata": {},
   "outputs": [],
   "source": [
    "cur_d = .03\n",
    "cur_sigma = .02\n",
    "cur_nonDecisionTime = 300 #ms\n",
    "cur_bias = 0\n",
    "cur_barrierDecay = .002"
   ]
  },
  {
   "cell_type": "code",
   "execution_count": null,
   "id": "640a5e1b",
   "metadata": {},
   "outputs": [],
   "source": [
    "sub_stims = data_yn_clean %>%\n",
    "  filter((subnum == 611) & (day == 4) & (type == 1))\n",
    "\n",
    "# names(sub_stims)\n",
    "\n",
    "sim_trial_list = list(\"model1\" = sim_trial)\n",
    "\n",
    "tmp = sim_task(stimuli = sub_stims, model_name = \"model1\", sim_trial_list_ = sim_trial_list, d = cur_d, sigma = cur_sigma, nonDecisionTime = cur_nonDecisionTime, bias = cur_bias, barrierDecay = cur_barrierDecay, debug = T)\n",
    "\n",
    "tmp"
   ]
  },
  {
   "cell_type": "code",
   "execution_count": null,
   "id": "5670708a",
   "metadata": {},
   "outputs": [],
   "source": [
    "fit_trial_list = list(\"model1\" = fit_trial)\n",
    "\n",
    "fit_task(data_ = tmp[1:100,], model_name_ = \"model1\", pars_ = list(d = cur_d, sigma = cur_sigma, nonDecisionTime = cur_nonDecisionTime, bias = cur_bias, barrierDecay = cur_barrierDecay) , fit_trial_list_ = fit_trial_list, debug=FALSE)"
   ]
  },
  {
   "cell_type": "markdown",
   "id": "ee32d0c7",
   "metadata": {},
   "source": [
    "Is negative log likelihood lower for the true parameter combination compared to other combinations?"
   ]
  },
  {
   "cell_type": "code",
   "execution_count": null,
   "id": "1ca59428",
   "metadata": {},
   "outputs": [],
   "source": [
    "get_task_nll(data_ = tmp[1:100,], par_ = c(cur_d, cur_sigma, cur_nonDecisionTime, cur_bias, cur_barrierDecay), par_names_ = c(\"d\", \"sigma\", \"nonDecisionTime\", \"bias\", \"barrierDecay\"), model_name_ = \"model1\")"
   ]
  },
  {
   "cell_type": "code",
   "execution_count": null,
   "id": "2f89b1e1",
   "metadata": {},
   "outputs": [],
   "source": [
    "get_task_nll(data_ = tmp[1:100,], par_ = c(cur_d/2, cur_sigma, cur_nonDecisionTime, cur_bias, cur_barrierDecay), par_names_ = c(\"d\", \"sigma\", \"nonDecisionTime\", \"bias\", \"barrierDecay\"), model_name_ = \"model1\")"
   ]
  },
  {
   "cell_type": "code",
   "execution_count": null,
   "id": "0b69f3b3",
   "metadata": {},
   "outputs": [],
   "source": [
    "get_task_nll(data_ = tmp[1:100,], par_ = c(cur_d, cur_sigma/2, cur_nonDecisionTime, cur_bias, cur_barrierDecay), par_names_ = c(\"d\", \"sigma\", \"nonDecisionTime\", \"bias\", \"barrierDecay\"), model_name_ = \"model1\")"
   ]
  },
  {
   "cell_type": "markdown",
   "id": "073965b3",
   "metadata": {},
   "source": [
    "## Test optim on simulated data"
   ]
  },
  {
   "cell_type": "code",
   "execution_count": null,
   "id": "6a69e1b8",
   "metadata": {},
   "outputs": [],
   "source": [
    "cur_d = .03\n",
    "cur_sigma = .02\n",
    "cur_nonDecisionTime = 300 #ms\n",
    "cur_bias = 0\n",
    "cur_barrierDecay = .002"
   ]
  },
  {
   "cell_type": "code",
   "execution_count": null,
   "id": "1bad1a12",
   "metadata": {},
   "outputs": [],
   "source": [
    "sub_stims = data_yn_clean %>%\n",
    "  filter((subnum == 611) & (day == 4) & (type == 1))\n",
    "\n",
    "sim_trial_list = list(\"model1\" = sim_trial)\n",
    "\n",
    "tmp = sim_task(stimuli = sub_stims, model_name = \"model1\", sim_trial_list_ = sim_trial_list, d = cur_d, sigma = cur_sigma, nonDecisionTime = cur_nonDecisionTime, bias = cur_bias, barrierDecay = cur_barrierDecay, debug = T)"
   ]
  },
  {
   "cell_type": "code",
   "execution_count": null,
   "id": "e77aa1b5",
   "metadata": {
    "eval": false
   },
   "outputs": [],
   "source": [
    "start_vals = c(.01, .01, 100, 0, .001)\n",
    "par_names = c(\"d\", \"sigma\", \"nonDecisionTime\", \"bias\", \"barrierDecay\")\n",
    "model = 'model1'\n",
    "\n",
    "optim_out = optim(par = start_vals, get_task_nll, data_= tmp, par_names_ = par_names, model_name_ = model, control = list(maxit = 5, trace = 2))\n",
    "\n",
    "cur_out = tibble(key = par_names, value = optim_out$par)\n",
    "cur_out = cur_out %>% spread(key, value)\n",
    "cur_out$nll = optim_out$value\n",
    "\n",
    "cur_out"
   ]
  },
  {
   "cell_type": "markdown",
   "id": "b27c2ba5",
   "metadata": {},
   "source": [
    "## Test optim on single subject\n",
    "\n",
    "# Examine optim output for a single subject\n",
    "\n",
    "Read in the estimates for a single subject:"
   ]
  },
  {
   "cell_type": "code",
   "execution_count": null,
   "id": "23d70285",
   "metadata": {},
   "outputs": [],
   "source": [
    "cur_sub = 601\n",
    "\n",
    "all_files = list.files(path = paste0(here(), '/inputs/'), pattern= paste0(\"optim_YN_DDM_FIT_sub-\",cur_sub))\n",
    "\n",
    "optim_out= data.frame()\n",
    "\n",
    "for (cur_file in all_files){\n",
    "  cur_in = read.csv(paste0(here(), '/inputs/', cur_file))\n",
    "  optim_out = rbind(optim_out, cur_in)\n",
    "}\n",
    "\n",
    "optim_out"
   ]
  },
  {
   "cell_type": "markdown",
   "id": "2c93e338",
   "metadata": {},
   "source": [
    "Distribution of estimates"
   ]
  },
  {
   "cell_type": "code",
   "execution_count": null,
   "id": "640de881",
   "metadata": {},
   "outputs": [],
   "source": [
    "optim_out %>%\n",
    "  select(d, sigma, nonDecisionTime, bias, barrierDecay) %>%\n",
    "  gather(key, value) %>%\n",
    "  ggplot(aes(value, fill = key))+\n",
    "  geom_histogram(bins = 30, alpha = .5)+\n",
    "  facet_wrap(~key, scales = \"free\")+\n",
    "  theme(legend.position = \"none\",\n",
    "        panel.grid = element_blank())"
   ]
  },
  {
   "cell_type": "code",
   "execution_count": null,
   "id": "66afb4c7",
   "metadata": {},
   "outputs": [],
   "source": [
    "p = optim_out %>%\n",
    "  select(d, sigma, nonDecisionTime, bias, barrierDecay, day, type) %>%\n",
    "  gather(key, value, -day, -type) %>%\n",
    "  group_by(key, day, type) %>%\n",
    "  summarise(mean_par = mean(value), \n",
    "            sem_par = sd(value)/sqrt(n()), .groups = \"keep\") %>%\n",
    "  mutate(type = ifelse(type == 1, \"HT\", \"RE\"),\n",
    "         key = factor(key, levels = c(\"d\", \"sigma\", \"nonDecisionTime\", \"bias\", \"barrierDecay\"))) %>%\n",
    "  ggplot(aes(day, mean_par, color = type))+\n",
    "  geom_point(position = position_dodge(width=.5))+\n",
    "  geom_errorbar(aes(ymin = mean_par - sem_par, ymax = mean_par + sem_par), width = .1, position = position_dodge(width=.5)) +\n",
    "  facet_wrap(~key, scales = \"free\", ncol = 5) +\n",
    "  theme(legend.position = \"bottom\",\n",
    "        panel.grid.minor = element_blank())+\n",
    "  scale_color_brewer(palette = \"Dark2\")+\n",
    "  labs(y = \"\", color = \"\")+\n",
    "  scale_x_continuous(breaks = seq(1:11))\n",
    "\n",
    "ggsave(file=paste0(fig_out_path, 'yn_sub-',cur_sub,'_optimDDMparsOverDays.jpg'), p, height = 4, width=12, units=\"in\")\n"
   ]
  },
  {
   "cell_type": "markdown",
   "id": "b5a71d91",
   "metadata": {},
   "source": [
    "Correlation between estimates"
   ]
  },
  {
   "cell_type": "code",
   "execution_count": null,
   "id": "83b85ab9",
   "metadata": {},
   "outputs": [],
   "source": [
    "# Average correlation across days of HT\n",
    "\n",
    "cor_mats = list()\n",
    "for(cur_day in c(1:11)){\n",
    "  cor_dt = optim_out %>%\n",
    "    filter((type == 1) & (day == cur_day)) %>%\n",
    "    select(d, sigma, nonDecisionTime, bias, barrierDecay)\n",
    "  \n",
    "  cor_mats[[cur_day]] = cor(cor_dt)\n",
    "  \n",
    "  \n",
    "}\n",
    "\n",
    "mean_cor_mat = Reduce(\"+\", cor_mats) / length(cor_mats)\n",
    "tg = tableGrob(round(mean_cor_mat, 3) )\n",
    "ggsave(paste0(fig_out_path, \"sub-\",cur_sub, \"_ddmOptimHTparCors.jpg\"), tg, width = 12, height = 4)"
   ]
  },
  {
   "cell_type": "code",
   "execution_count": null,
   "id": "928358fc",
   "metadata": {},
   "outputs": [],
   "source": [
    "# Average correlation across days of HT\n",
    "\n",
    "cor_mats = list()\n",
    "for(cur_day in c(1:11)){\n",
    "  cor_dt = optim_out %>%\n",
    "    filter((type == 0) & (day == cur_day)) %>%\n",
    "    select(d, sigma, nonDecisionTime, bias, barrierDecay)\n",
    "  \n",
    "  cor_mats[[cur_day]] = cor(cor_dt)\n",
    "  \n",
    "  \n",
    "}\n",
    "\n",
    "mean_cor_mat = Reduce(\"+\", cor_mats) / length(cor_mats)\n",
    "tg = tableGrob(round(mean_cor_mat, 3) )\n",
    "ggsave(paste0(fig_out_path, \"sub-\",cur_sub, \"_ddmOptimREparCors.jpg\"), tg, width = 12, height = 4)"
   ]
  },
  {
   "cell_type": "markdown",
   "id": "2a5a2109",
   "metadata": {},
   "source": [
    "Correlation between each parameter and its starting point"
   ]
  },
  {
   "cell_type": "code",
   "execution_count": null,
   "id": "10a25431",
   "metadata": {},
   "outputs": [],
   "source": [
    "optim_out %>%\n",
    "  ggplot(aes(start_d, d))+\n",
    "  geom_point(size = 1)\n",
    "\n",
    "optim_out %>%\n",
    "  ggplot(aes(start_sigma, sigma))+\n",
    "  geom_point(size = 1)\n",
    "\n",
    "optim_out %>%\n",
    "  ggplot(aes(start_nonDecisionTime, nonDecisionTime))+\n",
    "  geom_point(size = 1)\n",
    "\n",
    "optim_out %>%\n",
    "  ggplot(aes(start_bias, bias))+\n",
    "  geom_point(size = 1)\n",
    "\n",
    "optim_out %>%\n",
    "  ggplot(aes(start_barrierDecay, barrierDecay))+\n",
    "  geom_point(size = 1)"
   ]
  },
  {
   "cell_type": "code",
   "execution_count": null,
   "id": "10a65e36",
   "metadata": {},
   "outputs": [],
   "source": [
    "optim_out %>%\n",
    "  select(d, start_d)\n",
    "\n",
    "optim_out %>%\n",
    "  select(sigma, start_sigma)\n",
    "\n",
    "optim_out %>%\n",
    "  select(nonDecisionTime, start_nonDecisionTime)\n",
    "\n",
    "optim_out %>%\n",
    "  select(bias, start_bias)\n",
    "\n",
    "optim_out %>%\n",
    "  select(barrierDecay, start_barrierDecay)"
   ]
  },
  {
   "cell_type": "code",
   "execution_count": null,
   "id": "3266006f",
   "metadata": {},
   "outputs": [],
   "source": [
    "optim_out %>%\n",
    "  mutate(diff_d = abs(d - start_d),\n",
    "         diff_sigma = abs(sigma - start_sigma),\n",
    "         diff_bias = abs(bias - start_bias),\n",
    "         diff_nonDecisionTime = abs(nonDecisionTime - start_nonDecisionTime),\n",
    "         diff_barrierDecay = abs(barrierDecay - start_barrierDecay)) %>%\n",
    "  select(diff_d, diff_sigma, diff_bias, diff_nonDecisionTime, diff_barrierDecay) %>%\n",
    "  gather(key, value) %>%\n",
    "  select(value) %>%\n",
    "  distinct()"
   ]
  },
  {
   "cell_type": "markdown",
   "id": "4a750812",
   "metadata": {},
   "source": [
    "Posterior predictive data"
   ]
  },
  {
   "cell_type": "code",
   "execution_count": null,
   "id": "d6ee15b7",
   "metadata": {},
   "outputs": [],
   "source": [
    "source(paste0(helpers_path, '/ddm/yn_ddm.R'))"
   ]
  },
  {
   "cell_type": "markdown",
   "id": "c302f356",
   "metadata": {},
   "source": [
    "Checks of stylized behavioral effects"
   ]
  },
  {
   "cell_type": "code",
   "execution_count": null,
   "id": "d5993f10",
   "metadata": {},
   "outputs": [],
   "source": []
  }
 ],
 "metadata": {
  "jupytext": {
   "cell_metadata_filter": "message,eval,tags,-all",
   "main_language": "R",
   "notebook_metadata_filter": "-all"
  }
 },
 "nbformat": 4,
 "nbformat_minor": 5
}
