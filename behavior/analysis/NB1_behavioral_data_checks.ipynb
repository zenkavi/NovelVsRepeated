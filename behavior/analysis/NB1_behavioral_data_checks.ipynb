{
 "cells": [
  {
   "cell_type": "raw",
   "id": "2ccc4660",
   "metadata": {},
   "source": [
    "---\n",
    "title: \"Novel vs. repeated choice project: Behavioral data checks\"\n",
    "output: \n",
    "  html_document:\n",
    "    toc: true\n",
    "    toc_float: true\n",
    "    code_folding: 'hide'\n",
    "---"
   ]
  },
  {
   "cell_type": "markdown",
   "id": "376f424f",
   "metadata": {},
   "source": [
    "# Set up environment and load in data"
   ]
  },
  {
   "cell_type": "code",
   "execution_count": null,
   "id": "a4f81050",
   "metadata": {
    "tags": [
     "remove_cell"
    ]
   },
   "outputs": [],
   "source": [
    "library(tidyverse)\n",
    "library(here)\n",
    "theme_set(theme_bw())\n",
    "helpers_path = here()"
   ]
  },
  {
   "cell_type": "markdown",
   "id": "b778342d",
   "metadata": {},
   "source": [
    "# YN Task"
   ]
  },
  {
   "cell_type": "code",
   "execution_count": null,
   "id": "eee01acb",
   "metadata": {},
   "outputs": [],
   "source": [
    "data_yn = read.csv(paste0(helpers_path, '/inputs/data_choiceYN.csv'))"
   ]
  },
  {
   "cell_type": "markdown",
   "id": "66d28865",
   "metadata": {},
   "source": [
    "Columns according to a readme file:\n",
    "\n",
    "| Column      | Description |\n",
    "| ----------- | ----------- |\n",
    "| subnum | Subject Number |\n",
    "| day | day number |\n",
    "| week | week number |\n",
    "| stimNum  | stimulus number, each stimulus has a identification number |\n",
    "| stimLettNum | number of the combination of letters in the stimulus, each letter combination has a identification number |\n",
    "| type  | stimulus' type:   0  == regular exposure; 1  == hypertrained |\n",
    "| orientation  | orientation angle of the grid |\n",
    "| filling  | amount of angle filled with color |\n",
    "| shape | shape number |\n",
    "| valueO | value in weight of the orientation |\n",
    "| valueF | value in weight of the filling |\n",
    "| valueS | value in weight of the shape |\n",
    "| session | session number |\n",
    "| yesChosen  | 1 if yes is chosen 0 otherwise |\n",
    "| response | number of response button for left arrow or right arrow |\n",
    "| payoff | payoff from trial |\n",
    "| possiblePayoff | possible payoff from stimulus if yes chosen |\n",
    "| reference | value of reference amount (if no chosen) can be 0 50 or -50 |\n",
    "| rt | response time |\n",
    "| fmri | 1 if the subject was in the scanner during that trial, 0 otherwise |\n",
    "| startFix | start fixation time when stimulus appears |\n",
    "| evtimeON | time of the eye tracker on | \n",
    "| evtimeOFF | time eye tracker off | \n",
    "| crossON | time when the fixation cross is in the middle |\n",
    "\n",
    "Not in the data that's read in even though it's listed above\n",
    "\n",
    "| Column      | \n",
    "| ----------- | \n",
    "| stimLettNum |\n",
    "\n",
    "Additional columns without descriptions\n",
    "\n",
    "| Column      | \n",
    "| ----------- | \n",
    "| inizialTime | \n",
    "| endTime | \n",
    "| inizialTimeResp | \n",
    "| endTimeResp | "
   ]
  },
  {
   "cell_type": "code",
   "execution_count": null,
   "id": "99715c22",
   "metadata": {},
   "outputs": [],
   "source": [
    "names(data_yn)"
   ]
  },
  {
   "cell_type": "markdown",
   "id": "67222af2",
   "metadata": {},
   "source": [
    "## Visits and number of trials\n",
    "\n",
    "6 unique subjects"
   ]
  },
  {
   "cell_type": "code",
   "execution_count": null,
   "id": "3650d7a9",
   "metadata": {},
   "outputs": [],
   "source": [
    "unique(data_yn$subnum)"
   ]
  },
  {
   "cell_type": "markdown",
   "id": "7965c0e9",
   "metadata": {},
   "source": [
    "Up to 11 sessions per subject"
   ]
  },
  {
   "cell_type": "code",
   "execution_count": null,
   "id": "c6f5c053",
   "metadata": {},
   "outputs": [],
   "source": [
    "unique(data_yn$day)"
   ]
  },
  {
   "cell_type": "markdown",
   "id": "6187794a",
   "metadata": {},
   "source": [
    "All subjects have 800 trials (4 blocks) of the YN task on each day **except for subject 621 on the 11th day**."
   ]
  },
  {
   "cell_type": "code",
   "execution_count": null,
   "id": "976c6427",
   "metadata": {},
   "outputs": [],
   "source": [
    "with(data_yn %>% filter(session != -99), table(subnum, day))"
   ]
  },
  {
   "cell_type": "markdown",
   "id": "a0405233",
   "metadata": {},
   "source": [
    "All subjects are **missing a fourth session in the last week** (what should have been visit 12)"
   ]
  },
  {
   "cell_type": "code",
   "execution_count": null,
   "id": "46806cac",
   "metadata": {},
   "outputs": [],
   "source": [
    "with(data_yn, table(subnum, week))"
   ]
  },
  {
   "cell_type": "markdown",
   "id": "41a4e909",
   "metadata": {},
   "source": [
    "## Unique stims\n",
    "\n",
    "There are 726 unique stimuli used (6 shapes x 11 orientations x 11 filling weights)"
   ]
  },
  {
   "cell_type": "code",
   "execution_count": null,
   "id": "1bea25a3",
   "metadata": {},
   "outputs": [],
   "source": [
    "length(unique(data_yn$stimNum))"
   ]
  },
  {
   "cell_type": "markdown",
   "id": "de3b9e63",
   "metadata": {},
   "source": [
    "How many unique stimuli does each subject see? Only one subjects sees all stims. Others see almost all of them."
   ]
  },
  {
   "cell_type": "code",
   "execution_count": null,
   "id": "fa488fe8",
   "metadata": {},
   "outputs": [],
   "source": [
    "data_yn %>%\n",
    "  group_by(subnum) %>%\n",
    "  summarise(num_unique_stims = length(unique(stimNum)))"
   ]
  },
  {
   "cell_type": "markdown",
   "id": "27199dc2",
   "metadata": {},
   "source": [
    "## Stim types\n",
    "\n",
    "On each day each subject encounters 480 HT stimuli and 320 RE stimuli"
   ]
  },
  {
   "cell_type": "code",
   "execution_count": null,
   "id": "5b21648f",
   "metadata": {},
   "outputs": [],
   "source": [
    "with(data_yn, table(subnum, day, type))"
   ]
  },
  {
   "cell_type": "markdown",
   "id": "708ee67a",
   "metadata": {},
   "source": [
    "Each subject has their unique set of 12 HT stimuli."
   ]
  },
  {
   "cell_type": "code",
   "execution_count": null,
   "id": "9ff3c01d",
   "metadata": {},
   "outputs": [],
   "source": [
    "data_yn %>%\n",
    "  filter(type == 1) %>%\n",
    "  group_by(subnum) %>%\n",
    "  summarise(ht_stims = unique(stimNum), .groups=\"keep\")"
   ]
  },
  {
   "cell_type": "markdown",
   "id": "ff9bd622",
   "metadata": {},
   "source": [
    "## Stims by features\n",
    "\n",
    "Possible values for the orientation attribute:"
   ]
  },
  {
   "cell_type": "code",
   "execution_count": null,
   "id": "c46f30b5",
   "metadata": {},
   "outputs": [],
   "source": [
    "sort(unique(data_yn$orientation))"
   ]
  },
  {
   "cell_type": "markdown",
   "id": "2d725392",
   "metadata": {},
   "source": [
    "0 and 90 are the most common orientations"
   ]
  },
  {
   "cell_type": "code",
   "execution_count": null,
   "id": "bdebfc06",
   "metadata": {},
   "outputs": [],
   "source": [
    "table(data_yn$orientation)"
   ]
  },
  {
   "cell_type": "markdown",
   "id": "00334a65",
   "metadata": {},
   "source": [
    "Subjects have differing frequencies of each orientation"
   ]
  },
  {
   "cell_type": "code",
   "execution_count": null,
   "id": "df4a5769",
   "metadata": {},
   "outputs": [],
   "source": [
    "with(data_yn, table(subnum, orientation))"
   ]
  },
  {
   "cell_type": "markdown",
   "id": "71ee9be0",
   "metadata": {},
   "source": [
    "Possible values for the the filling weight:"
   ]
  },
  {
   "cell_type": "code",
   "execution_count": null,
   "id": "6d88c0ca",
   "metadata": {},
   "outputs": [],
   "source": [
    "sort(unique(data_yn$filling))"
   ]
  },
  {
   "cell_type": "markdown",
   "id": "39ce667c",
   "metadata": {},
   "source": [
    "**There are 9 unique filling values (not 11)**"
   ]
  },
  {
   "cell_type": "code",
   "execution_count": null,
   "id": "6de4ee91",
   "metadata": {},
   "outputs": [],
   "source": [
    "length(unique(data_yn$filling))"
   ]
  },
  {
   "cell_type": "markdown",
   "id": "c9d00979",
   "metadata": {},
   "source": [
    "0 is the most common filling weight followed by |0.4|"
   ]
  },
  {
   "cell_type": "code",
   "execution_count": null,
   "id": "5439293b",
   "metadata": {},
   "outputs": [],
   "source": [
    "table(data_yn$filling)"
   ]
  },
  {
   "cell_type": "markdown",
   "id": "46bf3b5f",
   "metadata": {},
   "source": [
    "Subjects have differing frequencies of each filling weight. 0 is most common for all but the rest of the order is not the same across subjects."
   ]
  },
  {
   "cell_type": "code",
   "execution_count": null,
   "id": "804abb68",
   "metadata": {},
   "outputs": [],
   "source": [
    "with(data_yn, table(subnum, filling))"
   ]
  },
  {
   "cell_type": "markdown",
   "id": "fb09bf4e",
   "metadata": {},
   "source": [
    "Number of stims with each orientation and filling combination"
   ]
  },
  {
   "cell_type": "code",
   "execution_count": null,
   "id": "55319120",
   "metadata": {},
   "outputs": [],
   "source": [
    "with(data_yn, table(orientation, filling))"
   ]
  },
  {
   "cell_type": "markdown",
   "id": "f5bf572b",
   "metadata": {},
   "source": [
    "Possible values for the stim shape"
   ]
  },
  {
   "cell_type": "code",
   "execution_count": null,
   "id": "b2050fa5",
   "metadata": {},
   "outputs": [],
   "source": [
    "unique(data_yn$shape)"
   ]
  },
  {
   "cell_type": "markdown",
   "id": "14361d79",
   "metadata": {},
   "source": [
    "Frequency of each shape across all data"
   ]
  },
  {
   "cell_type": "code",
   "execution_count": null,
   "id": "4fb06587",
   "metadata": {},
   "outputs": [],
   "source": [
    "table(data_yn$shape)"
   ]
  },
  {
   "cell_type": "markdown",
   "id": "4c9272ef",
   "metadata": {},
   "source": [
    "Subjects see each shape with different frequencies."
   ]
  },
  {
   "cell_type": "code",
   "execution_count": null,
   "id": "a06e0f76",
   "metadata": {},
   "outputs": [],
   "source": [
    "with(data_yn, table(subnum, shape))"
   ]
  },
  {
   "cell_type": "markdown",
   "id": "d3e3a4e4",
   "metadata": {},
   "source": [
    "Number of stimuli in each combination of orientation, filling weight and shape"
   ]
  },
  {
   "cell_type": "code",
   "execution_count": null,
   "id": "de06510e",
   "metadata": {},
   "outputs": [],
   "source": [
    "with(data_yn, table(orientation, filling, shape))"
   ]
  },
  {
   "cell_type": "markdown",
   "id": "15952c43",
   "metadata": {},
   "source": [
    "Possible values for the value weight of each orientation"
   ]
  },
  {
   "cell_type": "code",
   "execution_count": null,
   "id": "2e60011c",
   "metadata": {},
   "outputs": [],
   "source": [
    "unique(data_yn$valueO)"
   ]
  },
  {
   "cell_type": "markdown",
   "id": "274482fe",
   "metadata": {},
   "source": [
    "Frequency of each orientation value weight"
   ]
  },
  {
   "cell_type": "code",
   "execution_count": null,
   "id": "c39aa81a",
   "metadata": {},
   "outputs": [],
   "source": [
    "table(data_yn$valueO)"
   ]
  },
  {
   "cell_type": "markdown",
   "id": "d4afe63b",
   "metadata": {},
   "source": [
    "75 degrees has a value of 0. The further away the orientation from 75 the larger the gain/loss."
   ]
  },
  {
   "cell_type": "code",
   "execution_count": null,
   "id": "b7683c97",
   "metadata": {},
   "outputs": [],
   "source": [
    "with(data_yn, table(valueO, orientation))"
   ]
  },
  {
   "cell_type": "markdown",
   "id": "6fc4af86",
   "metadata": {},
   "source": [
    "Whether an orientation will have a positive or negative value weight varies for each subject."
   ]
  },
  {
   "cell_type": "code",
   "execution_count": null,
   "id": "74f3d727",
   "metadata": {},
   "outputs": [],
   "source": [
    "with(data_yn, table(valueO, orientation, subnum))"
   ]
  },
  {
   "cell_type": "markdown",
   "id": "77556ea4",
   "metadata": {},
   "source": [
    "Possible values for the value weight of each filling weight"
   ]
  },
  {
   "cell_type": "code",
   "execution_count": null,
   "id": "197cf9c6",
   "metadata": {},
   "outputs": [],
   "source": [
    "unique(data_yn$valueF)"
   ]
  },
  {
   "cell_type": "markdown",
   "id": "3edd23dd",
   "metadata": {},
   "source": [
    "Frequency of each filling value weight"
   ]
  },
  {
   "cell_type": "code",
   "execution_count": null,
   "id": "57a579c2",
   "metadata": {},
   "outputs": [],
   "source": [
    "table(data_yn$valueF)"
   ]
  },
  {
   "cell_type": "markdown",
   "id": "5cf3c889",
   "metadata": {},
   "source": [
    "Filling weight 0 has 0 value and the further away from 0 has larger gain/loss. All filling weights are associated with one absolute value except for filling weight |0.4| which can have a value of |0.4| or |0.6|."
   ]
  },
  {
   "cell_type": "code",
   "execution_count": null,
   "id": "943cdd07",
   "metadata": {},
   "outputs": [],
   "source": [
    "with(data_yn, table(valueF, filling))"
   ]
  },
  {
   "cell_type": "markdown",
   "id": "024f0d49",
   "metadata": {},
   "source": [
    "Whether a filling will have a positive or negative value weight varies for each subject."
   ]
  },
  {
   "cell_type": "code",
   "execution_count": null,
   "id": "48bd1fdd",
   "metadata": {},
   "outputs": [],
   "source": [
    "with(data_yn, table(valueF, filling, subnum))"
   ]
  },
  {
   "cell_type": "markdown",
   "id": "662b13b0",
   "metadata": {},
   "source": [
    "Possible values for the value weight of each shape"
   ]
  },
  {
   "cell_type": "code",
   "execution_count": null,
   "id": "9e4a8eeb",
   "metadata": {},
   "outputs": [],
   "source": [
    "unique(data_yn$valueS)"
   ]
  },
  {
   "cell_type": "markdown",
   "id": "f726ae7b",
   "metadata": {},
   "source": [
    "Frequency of each shape value weight"
   ]
  },
  {
   "cell_type": "code",
   "execution_count": null,
   "id": "61b54a35",
   "metadata": {},
   "outputs": [],
   "source": [
    "table(data_yn$valueS)"
   ]
  },
  {
   "cell_type": "markdown",
   "id": "fcd93cf9",
   "metadata": {},
   "source": [
    "Whether a shape will have a positive or negative value weight varies for each subject."
   ]
  },
  {
   "cell_type": "code",
   "execution_count": null,
   "id": "1c589f20",
   "metadata": {},
   "outputs": [],
   "source": [
    "with(data_yn, table(valueS, shape, subnum))"
   ]
  },
  {
   "cell_type": "markdown",
   "id": "cb2a7b04",
   "metadata": {},
   "source": [
    "## Session (Run)\n",
    "\n",
    "There is an error in the session column."
   ]
  },
  {
   "cell_type": "code",
   "execution_count": null,
   "id": "4f29a3ff",
   "metadata": {},
   "outputs": [],
   "source": [
    "unique(data_yn$session)"
   ]
  },
  {
   "cell_type": "markdown",
   "id": "d74411c6",
   "metadata": {},
   "source": [
    "One session 3 is mis-assigned to -99."
   ]
  },
  {
   "cell_type": "code",
   "execution_count": null,
   "id": "4ffd00c7",
   "metadata": {},
   "outputs": [],
   "source": [
    "table(data_yn$session)"
   ]
  },
  {
   "cell_type": "markdown",
   "id": "0a943b2a",
   "metadata": {},
   "source": [
    "**Subject 621 does not have session 3 on day 11.**"
   ]
  },
  {
   "cell_type": "code",
   "execution_count": null,
   "id": "59c90fde",
   "metadata": {},
   "outputs": [],
   "source": [
    "with(data_yn, table(subnum, session))"
   ]
  },
  {
   "cell_type": "code",
   "execution_count": null,
   "id": "20f98ad2",
   "metadata": {},
   "outputs": [],
   "source": [
    "data_yn_clean = data_yn %>%\n",
    "  filter(session != -99)"
   ]
  },
  {
   "cell_type": "markdown",
   "id": "e4f8966f",
   "metadata": {},
   "source": [
    "What exactly are these sessions compared with `day` and `week` columns? They are runs. Subjects complete 4 runs of 200 trials per visit."
   ]
  },
  {
   "cell_type": "code",
   "execution_count": null,
   "id": "ca5c5f81",
   "metadata": {},
   "outputs": [],
   "source": [
    "with(data_yn_clean, table(session, week))"
   ]
  },
  {
   "cell_type": "code",
   "execution_count": null,
   "id": "fc928c25",
   "metadata": {},
   "outputs": [],
   "source": [
    "with(data_yn, table(session, day))"
   ]
  },
  {
   "cell_type": "markdown",
   "id": "b325bb66",
   "metadata": {},
   "source": [
    "## Choice\n",
    "\n",
    "Choice data is missing for one run so looking at choice only in dataset that excludes run 3 of day 11 for subnum 621.  \n",
    "\n",
    "In the remaining data the only values for whether \"Yes\" was chosen are:  "
   ]
  },
  {
   "cell_type": "code",
   "execution_count": null,
   "id": "58a5476a",
   "metadata": {},
   "outputs": [],
   "source": [
    "unique(data_yn_clean$yesChosen)"
   ]
  },
  {
   "cell_type": "markdown",
   "id": "aff328d5",
   "metadata": {},
   "source": [
    "Response buttons"
   ]
  },
  {
   "cell_type": "code",
   "execution_count": null,
   "id": "57c9f17d",
   "metadata": {},
   "outputs": [],
   "source": [
    "unique(data_yn_clean$response)"
   ]
  },
  {
   "cell_type": "code",
   "execution_count": null,
   "id": "a9a7b7c4",
   "metadata": {},
   "outputs": [],
   "source": [
    "with(data_yn_clean, table(fmri,response))"
   ]
  },
  {
   "cell_type": "markdown",
   "id": "e7d2c5a2",
   "metadata": {},
   "source": [
    "Yes button counterbalanced across subjects."
   ]
  },
  {
   "cell_type": "code",
   "execution_count": null,
   "id": "b474b05e",
   "metadata": {},
   "outputs": [],
   "source": [
    "with(data_yn_clean, table(yesChosen,response, subnum))"
   ]
  },
  {
   "cell_type": "markdown",
   "id": "b55fca37",
   "metadata": {},
   "source": [
    "## Payoff\n",
    "\n",
    "The actual payoffs are higher than the possiblePayoffs presumably because subjects initially reject gambling and learn about the possible payoffs of the stimuli and then choose to play gambles with positive expected value."
   ]
  },
  {
   "cell_type": "code",
   "execution_count": null,
   "id": "6731eafd",
   "metadata": {},
   "outputs": [],
   "source": [
    "summary(data_yn_clean$payoff)"
   ]
  },
  {
   "cell_type": "code",
   "execution_count": null,
   "id": "b54438b6",
   "metadata": {},
   "outputs": [],
   "source": [
    "summary(data_yn_clean$possiblePayoff)"
   ]
  },
  {
   "cell_type": "markdown",
   "id": "b592c603",
   "metadata": {},
   "source": [
    "## Reference value\n",
    "\n",
    "Frequency of the reference value for when subject chooses \"No\" for a stim:"
   ]
  },
  {
   "cell_type": "code",
   "execution_count": null,
   "id": "c8179151",
   "metadata": {},
   "outputs": [],
   "source": [
    "with(data_yn_clean, table(subnum, reference))"
   ]
  },
  {
   "cell_type": "code",
   "execution_count": null,
   "id": "eb77dfc3",
   "metadata": {},
   "outputs": [],
   "source": [
    "with(data_yn_clean, table(subnum, day, reference))"
   ]
  },
  {
   "cell_type": "code",
   "execution_count": null,
   "id": "6369a363",
   "metadata": {},
   "outputs": [],
   "source": [
    "with(data_yn_clean, table(subnum, session, reference))"
   ]
  },
  {
   "cell_type": "markdown",
   "id": "97cf0d8d",
   "metadata": {},
   "source": [
    "There are the same number of trials for each reference value in the scanner across subjects but these are not equally distributed across subjects. A third of the subjects have seen all reference values in the scanner while the other two thirds have either not seen the 50 or -50 in the scanner."
   ]
  },
  {
   "cell_type": "code",
   "execution_count": null,
   "id": "0aaff884",
   "metadata": {},
   "outputs": [],
   "source": [
    "with(data_yn_clean, table(subnum, reference, fmri))"
   ]
  },
  {
   "cell_type": "markdown",
   "id": "aec03ff4",
   "metadata": {},
   "source": [
    "## fMRI trials\n",
    "\n",
    "Number of trials for each run of the task in and out of the scanner across subjects"
   ]
  },
  {
   "cell_type": "code",
   "execution_count": null,
   "id": "250de224",
   "metadata": {},
   "outputs": [],
   "source": [
    "with(data_yn_clean, table(subnum, session, fmri))"
   ]
  },
  {
   "cell_type": "markdown",
   "id": "6e35443a",
   "metadata": {},
   "source": [
    "All subjects have 400 trials (2 runs) per each of the 3 fmri visits"
   ]
  },
  {
   "cell_type": "code",
   "execution_count": null,
   "id": "145d82e2",
   "metadata": {},
   "outputs": [],
   "source": [
    "with(data_yn_clean, table(subnum, day, fmri))"
   ]
  },
  {
   "cell_type": "markdown",
   "id": "3fc04bd7",
   "metadata": {},
   "source": [
    "Subjects completed 2nd to 4th sesssions in the scanner, never the first session. **But I'm not sure if subjects who completed sessions 2 and 4 were taken out of the scanner for session 3.**"
   ]
  },
  {
   "cell_type": "code",
   "execution_count": null,
   "id": "65ddc3fb",
   "metadata": {},
   "outputs": [],
   "source": [
    "with(data_yn_clean %>% filter(fmri==1), table(subnum, session, day))"
   ]
  },
  {
   "cell_type": "markdown",
   "id": "82a69e25",
   "metadata": {},
   "source": [
    "## RT\n",
    "\n",
    "Any negative RTs? No."
   ]
  },
  {
   "cell_type": "code",
   "execution_count": null,
   "id": "60043f8c",
   "metadata": {},
   "outputs": [],
   "source": [
    "sum(data_yn_clean$rt< 0)"
   ]
  },
  {
   "cell_type": "markdown",
   "id": "ee6973c8",
   "metadata": {},
   "source": [
    "Distribution of the RTs."
   ]
  },
  {
   "cell_type": "code",
   "execution_count": null,
   "id": "b5c331d8",
   "metadata": {},
   "outputs": [],
   "source": [
    "summary(data_yn_clean$rt)"
   ]
  },
  {
   "cell_type": "markdown",
   "id": "7d9fe4c1",
   "metadata": {},
   "source": [
    "There are some trials with very long RTs"
   ]
  },
  {
   "cell_type": "code",
   "execution_count": null,
   "id": "f06a0d23",
   "metadata": {},
   "outputs": [],
   "source": [
    "data_yn_clean %>%\n",
    "  filter(rt>5) %>%\n",
    "  ggplot(aes(rt))+\n",
    "  geom_histogram(alpha=0.5, bins=30)+\n",
    "  theme(panel.grid = element_blank())+\n",
    "  facet_wrap(~subnum)+\n",
    "  xlab(\"\")+\n",
    "  labs(title=\"RT>5s trials\")"
   ]
  },
  {
   "cell_type": "markdown",
   "id": "33b88add",
   "metadata": {},
   "source": [
    "Number of trials with longer than 5 s RTs for each subject across visits."
   ]
  },
  {
   "cell_type": "code",
   "execution_count": null,
   "id": "db5dfc74",
   "metadata": {},
   "outputs": [],
   "source": [
    "with(data_yn_clean %>% filter(rt>5), table(subnum, day))"
   ]
  },
  {
   "cell_type": "markdown",
   "id": "3f155088",
   "metadata": {},
   "source": [
    "Proportion of all trials with RT > 5s"
   ]
  },
  {
   "cell_type": "code",
   "execution_count": null,
   "id": "405368f5",
   "metadata": {},
   "outputs": [],
   "source": [
    "nrow(data_yn_clean %>% filter(rt>5))/nrow(data_yn_clean)"
   ]
  },
  {
   "cell_type": "markdown",
   "id": "2c8e1c9a",
   "metadata": {},
   "source": [
    "What proportion of slow trials is from each subject?"
   ]
  },
  {
   "cell_type": "code",
   "execution_count": null,
   "id": "d686c09a",
   "metadata": {},
   "outputs": [],
   "source": [
    "round(with(data_yn_clean %>% filter(rt>5), table(subnum))/nrow(data_yn_clean %>% filter(rt>5)), 3)"
   ]
  },
  {
   "cell_type": "markdown",
   "id": "ec4409d3",
   "metadata": {},
   "source": [
    "## Blank columns"
   ]
  },
  {
   "cell_type": "code",
   "execution_count": null,
   "id": "167a9039",
   "metadata": {},
   "outputs": [],
   "source": [
    "for (i in 1:length(names(data_yn))){\n",
    "  cur_col = names(data_yn)[i]\n",
    "  if(unique(data_yn[,cur_col])[1] == \"-99\" && length(unique(data_yn[,cur_col]))==1){\n",
    "    print(cur_col)\n",
    "  }\n",
    "}"
   ]
  },
  {
   "cell_type": "markdown",
   "id": "e0ec0e8a",
   "metadata": {},
   "source": [
    "Drop the above columns without data"
   ]
  },
  {
   "cell_type": "code",
   "execution_count": null,
   "id": "bd104064",
   "metadata": {},
   "outputs": [],
   "source": [
    "data_yn_clean = data_yn_clean %>%\n",
    "  select(-inizialTime, -inizialTimeResp, -endTime, -endTimeResp)"
   ]
  },
  {
   "cell_type": "markdown",
   "id": "ed92dfad",
   "metadata": {},
   "source": [
    "## Eyetracking columns with little description\n",
    "\n",
    "This is probably when each trial began but I don't know what it is in reference to."
   ]
  },
  {
   "cell_type": "code",
   "execution_count": null,
   "id": "2f362683",
   "metadata": {},
   "outputs": [],
   "source": [
    "length(unique(data_yn_clean$startFix))"
   ]
  },
  {
   "cell_type": "markdown",
   "id": "5d044081",
   "metadata": {},
   "source": [
    "These are presumably eye-tracking data for fmri trial but no idea what units they are in or what the reference is. I'll keep them but can't use them for any analysis yet."
   ]
  },
  {
   "cell_type": "code",
   "execution_count": null,
   "id": "ae8d364d",
   "metadata": {},
   "outputs": [],
   "source": [
    "length(unique(data_yn_clean$evtimeON))"
   ]
  },
  {
   "cell_type": "code",
   "execution_count": null,
   "id": "08370e02",
   "metadata": {},
   "outputs": [],
   "source": [
    "length(unique(data_yn_clean$evtimeOFF))"
   ]
  },
  {
   "cell_type": "code",
   "execution_count": null,
   "id": "1588c309",
   "metadata": {},
   "outputs": [],
   "source": [
    "length(unique(data_yn_clean$crossON))"
   ]
  },
  {
   "cell_type": "markdown",
   "id": "8c4f243d",
   "metadata": {},
   "source": [
    "# BC Task"
   ]
  },
  {
   "cell_type": "code",
   "execution_count": null,
   "id": "066a8a2c",
   "metadata": {},
   "outputs": [],
   "source": [
    "data_bc = read.csv(paste0(helpers_path, '/inputs/data_choiceBC.csv'))"
   ]
  },
  {
   "cell_type": "markdown",
   "id": "deffc46b",
   "metadata": {},
   "source": [
    "Columns according to a readme file:\n",
    "\n",
    "| Column      | Description |\n",
    "| ----------- | ----------- |\n",
    "| subnum | Subject Number |\n",
    "| day | day number | \n",
    "| week | week number | \n",
    "| stimNumLeft | stimulus on the left number, each stimulus has a identification number | \n",
    "| stimNumRight | stimulus on the right number, each stimulus has a identification number | \n",
    "| stimLettNumLeft | number of the combination of letters in the stimulus on the left, each letter combination has a identification number | \n",
    "| stimLettNumRight | number of the combination of letters in the stimulus on the right, each letter combination has a identification number | \n",
    "| TypeLeft | stimulus' type on the left:   0  == regular exposure; 1  == hypertrained | \n",
    "| TypeRight | type of stimulus on the right | \n",
    "| OrientationLeft | orientation angle of the grid for stimulus of the left | \n",
    "| FillingLeft | amount of angle filled with color for stimulus of the left | \n",
    "| ShapeLeft | shape in the stimulus of the left | \n",
    "| valueOLeft | value in weight of the orientation for stimulus of the left | \n",
    "| valueFLeft | value in weight of the filling for stimulus of the left | \n",
    "| valueSLeft | value in weight of the shape on the right |  \n",
    "| OrientationRight | orientation angle of the grid for stimulus of the right | \n",
    "| FillingRight | amount of angle filled with color for stimulus of the right | \n",
    "| ShapeRight | shape in the stimulus of the right | \n",
    "| valueORight | value in weight of the orientation for stimulus of the right | \n",
    "| valueFRight | value in weight of the filling for stimulus of the right | \n",
    "| valueSRight | value in weight of the shape on the right |  \n",
    "| leftChosen | 1 if left option is chosen 0 otherwise | \n",
    "| Response | number of response button for left arrow or right arrow | \n",
    "| Payoff | payoff from trial | \n",
    "| possiblePayoffLeft | possible payoff from stimulus on the left | \n",
    "| possiblePayoffRight | possible payoff from stimulus on the right | \n",
    "| Rt | response time |  \n",
    "| fmri | 1 if the subject was in the scanner during that trial, 0 otherwise | \n",
    "| startFix | start fixation time when stimulus appears |\n",
    "| evtimeON | time of the eye tracker on | \n",
    "| evtimeOFF | time eye tracker off | \n",
    "| crossON | time when the fixation cross is in the middle |\n",
    "\n",
    "Additional columns without descriptions\n",
    "\n",
    "| Column      | \n",
    "| ----------- | \n",
    "| inizialTime | \n",
    "| endTime | \n",
    "| inizialTimeResp | \n",
    "| endTimeResp | "
   ]
  },
  {
   "cell_type": "code",
   "execution_count": null,
   "id": "6b6b3225",
   "metadata": {},
   "outputs": [],
   "source": [
    "names(data_bc)"
   ]
  },
  {
   "cell_type": "markdown",
   "id": "3acc0cbf",
   "metadata": {},
   "source": [
    "## Visits and number of trials\n",
    "\n",
    "6 unique subjects"
   ]
  },
  {
   "cell_type": "code",
   "execution_count": null,
   "id": "b79dfd81",
   "metadata": {},
   "outputs": [],
   "source": [
    "unique(data_bc$subnum)"
   ]
  },
  {
   "cell_type": "markdown",
   "id": "93c62dc6",
   "metadata": {},
   "source": [
    "Up to 11 sessions per subject"
   ]
  },
  {
   "cell_type": "code",
   "execution_count": null,
   "id": "321cafba",
   "metadata": {},
   "outputs": [],
   "source": [
    "sort(unique(data_bc$day))"
   ]
  },
  {
   "cell_type": "markdown",
   "id": "bffc2191",
   "metadata": {},
   "source": [
    "All subjects have 200 trials of the BC task on each day"
   ]
  },
  {
   "cell_type": "code",
   "execution_count": null,
   "id": "00caa568",
   "metadata": {},
   "outputs": [],
   "source": [
    "with(data_bc, table(subnum, day))"
   ]
  },
  {
   "cell_type": "markdown",
   "id": "eba6dd64",
   "metadata": {},
   "source": [
    "All subjects are missing a fourth session in the third week (what should have been visit 12)"
   ]
  },
  {
   "cell_type": "code",
   "execution_count": null,
   "id": "32512b67",
   "metadata": {},
   "outputs": [],
   "source": [
    "with(data_bc, table(subnum, week))"
   ]
  },
  {
   "cell_type": "markdown",
   "id": "88cb71b5",
   "metadata": {},
   "source": [
    "## Unique stims\n",
    "\n",
    "There are 726 unique stimuli used (6 shapes x 11 orientations x 11 filling weights) on each side"
   ]
  },
  {
   "cell_type": "code",
   "execution_count": null,
   "id": "32f023af",
   "metadata": {},
   "outputs": [],
   "source": [
    "length(unique(data_bc$stimNumLef))"
   ]
  },
  {
   "cell_type": "code",
   "execution_count": null,
   "id": "bdab0de9",
   "metadata": {},
   "outputs": [],
   "source": [
    "length(unique(data_bc$stimNumRight))"
   ]
  },
  {
   "cell_type": "markdown",
   "id": "c3c895fe",
   "metadata": {},
   "source": [
    "How many unique stimuli does each subject see? "
   ]
  },
  {
   "cell_type": "code",
   "execution_count": null,
   "id": "0b77107e",
   "metadata": {},
   "outputs": [],
   "source": [
    "data_bc %>%\n",
    "  group_by(subnum) %>%\n",
    "  summarise(num_unique_left_stims = length(unique(stimNumLef)),\n",
    "            num_unique_right_stims = length(unique(stimNumRight)))"
   ]
  },
  {
   "cell_type": "markdown",
   "id": "36c4a729",
   "metadata": {},
   "source": [
    "## Redundant stim num columns"
   ]
  },
  {
   "cell_type": "code",
   "execution_count": null,
   "id": "4375ef77",
   "metadata": {},
   "outputs": [],
   "source": [
    "sum(data_bc$stimLettNumLeft == data_bc$stimNumLef) == nrow(data_bc)"
   ]
  },
  {
   "cell_type": "code",
   "execution_count": null,
   "id": "9928879c",
   "metadata": {},
   "outputs": [],
   "source": [
    "sum(data_bc$stimLettNumRight == data_bc$stimNumRight) == nrow(data_bc)"
   ]
  },
  {
   "cell_type": "markdown",
   "id": "76c4aac1",
   "metadata": {},
   "source": [
    "Drop redundant columns and fix column name"
   ]
  },
  {
   "cell_type": "code",
   "execution_count": null,
   "id": "b2e27613",
   "metadata": {},
   "outputs": [],
   "source": [
    "data_bc_clean = data_bc %>%\n",
    "  select(-stimLettNumLeft, -stimLettNumRight) %>%\n",
    "  rename(stimNumLeft = stimNumLef)"
   ]
  },
  {
   "cell_type": "markdown",
   "id": "b0765557",
   "metadata": {},
   "source": [
    "## Stim types\n",
    "\n",
    "On each day each subject encounters 66 HT stimuli and 134 RE stimuli"
   ]
  },
  {
   "cell_type": "code",
   "execution_count": null,
   "id": "a9df0a30",
   "metadata": {},
   "outputs": [],
   "source": [
    "with(data_bc, table(subnum, day, typeLeft))\n",
    "# with(data_bc, table(subnum, day, typeRight)) #same as above since pairs are of same type"
   ]
  },
  {
   "cell_type": "markdown",
   "id": "c10ba481",
   "metadata": {},
   "source": [
    "Are pairs of same type (ie. choice is either between *two* HT stimuli or *two* RE stimuli)? Yes."
   ]
  },
  {
   "cell_type": "code",
   "execution_count": null,
   "id": "c701feb9",
   "metadata": {},
   "outputs": [],
   "source": [
    "with(data_bc, sum(typeLeft == typeRight)) == nrow(data_bc)"
   ]
  },
  {
   "cell_type": "markdown",
   "id": "7d072933",
   "metadata": {},
   "source": [
    "## Choice\n",
    "\n",
    "Possible values for `leftChosen` column. Checking if there are missing trials."
   ]
  },
  {
   "cell_type": "code",
   "execution_count": null,
   "id": "ade7234a",
   "metadata": {},
   "outputs": [],
   "source": [
    "unique(data_bc$leftChosen)"
   ]
  },
  {
   "cell_type": "markdown",
   "id": "53587981",
   "metadata": {},
   "source": [
    "Possible response buttons in and out of the scanner."
   ]
  },
  {
   "cell_type": "code",
   "execution_count": null,
   "id": "c9f3db53",
   "metadata": {},
   "outputs": [],
   "source": [
    "unique(data_bc$response)"
   ]
  },
  {
   "cell_type": "code",
   "execution_count": null,
   "id": "ee43bcaa",
   "metadata": {},
   "outputs": [],
   "source": [
    "with(data_bc, table(response, fmri))"
   ]
  },
  {
   "cell_type": "markdown",
   "id": "704e2a6e",
   "metadata": {},
   "source": [
    "Left-right buttons same across subjects"
   ]
  },
  {
   "cell_type": "code",
   "execution_count": null,
   "id": "4672a60d",
   "metadata": {},
   "outputs": [],
   "source": [
    "with(data_bc, table(response, leftChosen, fmri))"
   ]
  },
  {
   "cell_type": "markdown",
   "id": "85ce9fa4",
   "metadata": {},
   "source": [
    "## Payoff\n",
    "\n",
    "Distribution of the earned payoff compared to the possible pay off of each stimuli."
   ]
  },
  {
   "cell_type": "code",
   "execution_count": null,
   "id": "e9cbb019",
   "metadata": {},
   "outputs": [],
   "source": [
    "summary(data_bc$payoff)"
   ]
  },
  {
   "cell_type": "code",
   "execution_count": null,
   "id": "bcce5a1b",
   "metadata": {},
   "outputs": [],
   "source": [
    "summary(data_bc$possiblePayoffleft)"
   ]
  },
  {
   "cell_type": "code",
   "execution_count": null,
   "id": "cef0f779",
   "metadata": {},
   "outputs": [],
   "source": [
    "summary(data_bc$possiblePayoffright)"
   ]
  },
  {
   "cell_type": "markdown",
   "id": "2b2c2fb9",
   "metadata": {},
   "source": [
    "## fMRI trials"
   ]
  },
  {
   "cell_type": "code",
   "execution_count": null,
   "id": "666924ca",
   "metadata": {},
   "outputs": [],
   "source": [
    "with(data_bc, table(subnum, day, fmri))"
   ]
  },
  {
   "cell_type": "markdown",
   "id": "cace4ed2",
   "metadata": {},
   "source": [
    "## RT\n",
    "\n",
    "Are there negative RTs? No."
   ]
  },
  {
   "cell_type": "code",
   "execution_count": null,
   "id": "173344ef",
   "metadata": {},
   "outputs": [],
   "source": [
    "sum(data_bc$rt< 0)"
   ]
  },
  {
   "cell_type": "markdown",
   "id": "ef4cf16d",
   "metadata": {},
   "source": [
    "There are again some trials with very long RTs"
   ]
  },
  {
   "cell_type": "code",
   "execution_count": null,
   "id": "05f043c6",
   "metadata": {},
   "outputs": [],
   "source": [
    "summary(data_bc$rt)"
   ]
  },
  {
   "cell_type": "markdown",
   "id": "f61b2493",
   "metadata": {},
   "source": [
    "There are some trials with very long RTs"
   ]
  },
  {
   "cell_type": "code",
   "execution_count": null,
   "id": "3f2443eb",
   "metadata": {},
   "outputs": [],
   "source": [
    "data_bc %>%\n",
    "  filter(rt>5) %>%\n",
    "  ggplot(aes(rt))+\n",
    "  geom_histogram(alpha=0.5, bins=30)+\n",
    "  theme(panel.grid = element_blank())+\n",
    "  facet_wrap(~subnum)+\n",
    "  xlab(\"\")+\n",
    "  labs(title=\"RT>5s trials\")"
   ]
  },
  {
   "cell_type": "markdown",
   "id": "258d72b4",
   "metadata": {},
   "source": [
    "Number of trials with longer than 5 s RTs for each subject across visits."
   ]
  },
  {
   "cell_type": "code",
   "execution_count": null,
   "id": "db30de21",
   "metadata": {},
   "outputs": [],
   "source": [
    "with(data_bc %>% filter(rt>5), table(subnum, day))"
   ]
  },
  {
   "cell_type": "markdown",
   "id": "3205a597",
   "metadata": {},
   "source": [
    "Proportion of all trials with RT > 5s"
   ]
  },
  {
   "cell_type": "code",
   "execution_count": null,
   "id": "d6f2e0d1",
   "metadata": {},
   "outputs": [],
   "source": [
    "nrow(data_bc %>% filter(rt>5))/nrow(data_bc)"
   ]
  },
  {
   "cell_type": "markdown",
   "id": "ce18f5b2",
   "metadata": {},
   "source": [
    "What proportion of slow trials is from each subject? Subjects that has the most slow trials in the YN task also are the ones that have the most slow trials in the BC task as well."
   ]
  },
  {
   "cell_type": "code",
   "execution_count": null,
   "id": "9ebcf085",
   "metadata": {},
   "outputs": [],
   "source": [
    "round(with(data_bc%>% filter(rt>5), table(subnum))/nrow(data_bc %>% filter(rt>5)), 3)"
   ]
  },
  {
   "cell_type": "markdown",
   "id": "1a2c36e3",
   "metadata": {},
   "source": [
    "## Blank columns"
   ]
  },
  {
   "cell_type": "code",
   "execution_count": null,
   "id": "e9c872fe",
   "metadata": {},
   "outputs": [],
   "source": [
    "for (i in 1:length(names(data_bc))){\n",
    "  cur_col = names(data_bc)[i]\n",
    "  if(unique(data_bc[,cur_col])[1] == \"-99\" && length(unique(data_bc[,cur_col]))==1){\n",
    "    print(cur_col)\n",
    "  }\n",
    "}"
   ]
  },
  {
   "cell_type": "markdown",
   "id": "505e8189",
   "metadata": {},
   "source": [
    "Drop blank columns"
   ]
  },
  {
   "cell_type": "code",
   "execution_count": null,
   "id": "0e725ea8",
   "metadata": {},
   "outputs": [],
   "source": [
    "data_bc_clean = data_bc_clean %>%\n",
    "  select(-inizialTime, -inizialTimeResp, -endTime, -endTimeResp)"
   ]
  },
  {
   "cell_type": "markdown",
   "id": "9aed99ca",
   "metadata": {},
   "source": [
    "## Eyetracking columns with little description\n",
    "\n",
    "This is probably when each trial began but I don't know what it is in reference to."
   ]
  },
  {
   "cell_type": "code",
   "execution_count": null,
   "id": "dc067762",
   "metadata": {},
   "outputs": [],
   "source": [
    "length(unique(data_bc_clean$startFix))"
   ]
  },
  {
   "cell_type": "markdown",
   "id": "b7b7d0c2",
   "metadata": {},
   "source": [
    "These are presumably eye-tracking data for fmri trial but no idea what units they are in or what the reference is. I'll keep them but can't use them for any analysis yet."
   ]
  },
  {
   "cell_type": "code",
   "execution_count": null,
   "id": "a2f9199a",
   "metadata": {},
   "outputs": [],
   "source": [
    "length(unique(data_bc_clean$evtimeON))"
   ]
  },
  {
   "cell_type": "code",
   "execution_count": null,
   "id": "ddfbd68a",
   "metadata": {},
   "outputs": [],
   "source": [
    "length(unique(data_bc_clean$evtimeOFF))"
   ]
  },
  {
   "cell_type": "code",
   "execution_count": null,
   "id": "efe2e1ba",
   "metadata": {},
   "outputs": [],
   "source": [
    "length(unique(data_bc_clean$crossON))"
   ]
  }
 ],
 "metadata": {
  "jupytext": {
   "cell_metadata_filter": "tags,-all",
   "main_language": "R",
   "notebook_metadata_filter": "-all"
  }
 },
 "nbformat": 4,
 "nbformat_minor": 5
}
