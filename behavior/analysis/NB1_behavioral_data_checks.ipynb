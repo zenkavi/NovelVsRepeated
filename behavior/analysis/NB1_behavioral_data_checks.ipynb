{
 "cells": [
  {
   "cell_type": "raw",
   "id": "2ccc4660",
   "metadata": {},
   "source": [
    "---\n",
    "title: \"Novel vs. repeated choice project: Behavioral data checks\"\n",
    "output: \n",
    "  html_document:\n",
    "    toc: true\n",
    "    toc_float: true\n",
    "    code_folding: 'hide'\n",
    "---"
   ]
  },
  {
   "cell_type": "markdown",
   "id": "376f424f",
   "metadata": {},
   "source": [
    "# Set up environment and load in data"
   ]
  },
  {
   "cell_type": "code",
   "execution_count": 3,
   "id": "a4f81050",
   "metadata": {
    "tags": [
     "remove_cell"
    ],
    "vscode": {
     "languageId": "r"
    }
   },
   "outputs": [],
   "source": [
    "library(tidyverse)\n",
    "library(here)\n",
    "theme_set(theme_bw())\n",
    "helpers_path = here()"
   ]
  },
  {
   "cell_type": "markdown",
   "id": "b778342d",
   "metadata": {},
   "source": [
    "# YN Task"
   ]
  },
  {
   "cell_type": "code",
   "execution_count": 4,
   "id": "eee01acb",
   "metadata": {
    "vscode": {
     "languageId": "r"
    }
   },
   "outputs": [],
   "source": [
    "data_yn = read.csv(paste0(helpers_path, '/inputs/data_choiceYN.csv'))"
   ]
  },
  {
   "cell_type": "markdown",
   "id": "66d28865",
   "metadata": {},
   "source": [
    "Columns according to a readme file:\n",
    "\n",
    "| Column      | Description |\n",
    "| ----------- | ----------- |\n",
    "| subnum | Subject Number |\n",
    "| day | day number |\n",
    "| week | week number |\n",
    "| stimNum  | stimulus number, each stimulus has a identification number |\n",
    "| stimLettNum | number of the combination of letters in the stimulus, each letter combination has a identification number |\n",
    "| type  | stimulus' type:   0  == regular exposure; 1  == hypertrained |\n",
    "| orientation  | orientation angle of the grid |\n",
    "| filling  | amount of angle filled with color |\n",
    "| shape | shape number |\n",
    "| valueO | value in weight of the orientation |\n",
    "| valueF | value in weight of the filling |\n",
    "| valueS | value in weight of the shape |\n",
    "| session | session number |\n",
    "| yesChosen  | 1 if yes is chosen 0 otherwise |\n",
    "| response | number of response button for left arrow or right arrow |\n",
    "| payoff | payoff from trial |\n",
    "| possiblePayoff | possible payoff from stimulus if yes chosen |\n",
    "| reference | value of reference amount (if no chosen) can be 0 50 or -50 |\n",
    "| rt | response time |\n",
    "| fmri | 1 if the subject was in the scanner during that trial, 0 otherwise |\n",
    "| startFix | start fixation time when stimulus appears |\n",
    "| evtimeON | time of the eye tracker on | \n",
    "| evtimeOFF | time eye tracker off | \n",
    "| crossON | time when the fixation cross is in the middle |\n",
    "\n",
    "Not in the data that's read in even though it's listed above\n",
    "\n",
    "| Column      | \n",
    "| ----------- | \n",
    "| stimLettNum |\n",
    "\n",
    "Additional columns without descriptions\n",
    "\n",
    "| Column      | \n",
    "| ----------- | \n",
    "| inizialTime | \n",
    "| endTime | \n",
    "| inizialTimeResp | \n",
    "| endTimeResp | "
   ]
  },
  {
   "cell_type": "code",
   "execution_count": 5,
   "id": "99715c22",
   "metadata": {
    "vscode": {
     "languageId": "r"
    }
   },
   "outputs": [
    {
     "data": {
      "text/html": [
       "<style>\n",
       ".list-inline {list-style: none; margin:0; padding: 0}\n",
       ".list-inline>li {display: inline-block}\n",
       ".list-inline>li:not(:last-child)::after {content: \"\\00b7\"; padding: 0 .5ex}\n",
       "</style>\n",
       "<ol class=list-inline><li>'subnum'</li><li>'day'</li><li>'week'</li><li>'stimNum'</li><li>'type'</li><li>'orientation'</li><li>'filling'</li><li>'shape'</li><li>'valueO'</li><li>'valueF'</li><li>'valueS'</li><li>'session'</li><li>'yesChosen'</li><li>'response'</li><li>'payoff'</li><li>'possiblePayoff'</li><li>'reference'</li><li>'inizialTime'</li><li>'endTime'</li><li>'inizialTimeResp'</li><li>'endTimeResp'</li><li>'rt'</li><li>'startFix'</li><li>'evtimeON'</li><li>'evtimeOFF'</li><li>'crossON'</li><li>'fmri'</li></ol>\n"
      ],
      "text/latex": [
       "\\begin{enumerate*}\n",
       "\\item 'subnum'\n",
       "\\item 'day'\n",
       "\\item 'week'\n",
       "\\item 'stimNum'\n",
       "\\item 'type'\n",
       "\\item 'orientation'\n",
       "\\item 'filling'\n",
       "\\item 'shape'\n",
       "\\item 'valueO'\n",
       "\\item 'valueF'\n",
       "\\item 'valueS'\n",
       "\\item 'session'\n",
       "\\item 'yesChosen'\n",
       "\\item 'response'\n",
       "\\item 'payoff'\n",
       "\\item 'possiblePayoff'\n",
       "\\item 'reference'\n",
       "\\item 'inizialTime'\n",
       "\\item 'endTime'\n",
       "\\item 'inizialTimeResp'\n",
       "\\item 'endTimeResp'\n",
       "\\item 'rt'\n",
       "\\item 'startFix'\n",
       "\\item 'evtimeON'\n",
       "\\item 'evtimeOFF'\n",
       "\\item 'crossON'\n",
       "\\item 'fmri'\n",
       "\\end{enumerate*}\n"
      ],
      "text/markdown": [
       "1. 'subnum'\n",
       "2. 'day'\n",
       "3. 'week'\n",
       "4. 'stimNum'\n",
       "5. 'type'\n",
       "6. 'orientation'\n",
       "7. 'filling'\n",
       "8. 'shape'\n",
       "9. 'valueO'\n",
       "10. 'valueF'\n",
       "11. 'valueS'\n",
       "12. 'session'\n",
       "13. 'yesChosen'\n",
       "14. 'response'\n",
       "15. 'payoff'\n",
       "16. 'possiblePayoff'\n",
       "17. 'reference'\n",
       "18. 'inizialTime'\n",
       "19. 'endTime'\n",
       "20. 'inizialTimeResp'\n",
       "21. 'endTimeResp'\n",
       "22. 'rt'\n",
       "23. 'startFix'\n",
       "24. 'evtimeON'\n",
       "25. 'evtimeOFF'\n",
       "26. 'crossON'\n",
       "27. 'fmri'\n",
       "\n",
       "\n"
      ],
      "text/plain": [
       " [1] \"subnum\"          \"day\"             \"week\"            \"stimNum\"        \n",
       " [5] \"type\"            \"orientation\"     \"filling\"         \"shape\"          \n",
       " [9] \"valueO\"          \"valueF\"          \"valueS\"          \"session\"        \n",
       "[13] \"yesChosen\"       \"response\"        \"payoff\"          \"possiblePayoff\" \n",
       "[17] \"reference\"       \"inizialTime\"     \"endTime\"         \"inizialTimeResp\"\n",
       "[21] \"endTimeResp\"     \"rt\"              \"startFix\"        \"evtimeON\"       \n",
       "[25] \"evtimeOFF\"       \"crossON\"         \"fmri\"           "
      ]
     },
     "metadata": {},
     "output_type": "display_data"
    }
   ],
   "source": [
    "names(data_yn)"
   ]
  },
  {
   "cell_type": "markdown",
   "id": "67222af2",
   "metadata": {},
   "source": [
    "## Visits and number of trials\n",
    "\n",
    "6 unique subjects"
   ]
  },
  {
   "cell_type": "code",
   "execution_count": 6,
   "id": "3650d7a9",
   "metadata": {
    "vscode": {
     "languageId": "r"
    }
   },
   "outputs": [
    {
     "data": {
      "text/html": [
       "<style>\n",
       ".list-inline {list-style: none; margin:0; padding: 0}\n",
       ".list-inline>li {display: inline-block}\n",
       ".list-inline>li:not(:last-child)::after {content: \"\\00b7\"; padding: 0 .5ex}\n",
       "</style>\n",
       "<ol class=list-inline><li>601</li><li>609</li><li>611</li><li>619</li><li>621</li><li>629</li></ol>\n"
      ],
      "text/latex": [
       "\\begin{enumerate*}\n",
       "\\item 601\n",
       "\\item 609\n",
       "\\item 611\n",
       "\\item 619\n",
       "\\item 621\n",
       "\\item 629\n",
       "\\end{enumerate*}\n"
      ],
      "text/markdown": [
       "1. 601\n",
       "2. 609\n",
       "3. 611\n",
       "4. 619\n",
       "5. 621\n",
       "6. 629\n",
       "\n",
       "\n"
      ],
      "text/plain": [
       "[1] 601 609 611 619 621 629"
      ]
     },
     "metadata": {},
     "output_type": "display_data"
    }
   ],
   "source": [
    "unique(data_yn$subnum)"
   ]
  },
  {
   "cell_type": "markdown",
   "id": "7965c0e9",
   "metadata": {},
   "source": [
    "Up to 11 sessions per subject"
   ]
  },
  {
   "cell_type": "code",
   "execution_count": 7,
   "id": "c6f5c053",
   "metadata": {
    "vscode": {
     "languageId": "r"
    }
   },
   "outputs": [
    {
     "data": {
      "text/html": [
       "<style>\n",
       ".list-inline {list-style: none; margin:0; padding: 0}\n",
       ".list-inline>li {display: inline-block}\n",
       ".list-inline>li:not(:last-child)::after {content: \"\\00b7\"; padding: 0 .5ex}\n",
       "</style>\n",
       "<ol class=list-inline><li>1</li><li>10</li><li>11</li><li>2</li><li>3</li><li>4</li><li>5</li><li>6</li><li>7</li><li>8</li><li>9</li></ol>\n"
      ],
      "text/latex": [
       "\\begin{enumerate*}\n",
       "\\item 1\n",
       "\\item 10\n",
       "\\item 11\n",
       "\\item 2\n",
       "\\item 3\n",
       "\\item 4\n",
       "\\item 5\n",
       "\\item 6\n",
       "\\item 7\n",
       "\\item 8\n",
       "\\item 9\n",
       "\\end{enumerate*}\n"
      ],
      "text/markdown": [
       "1. 1\n",
       "2. 10\n",
       "3. 11\n",
       "4. 2\n",
       "5. 3\n",
       "6. 4\n",
       "7. 5\n",
       "8. 6\n",
       "9. 7\n",
       "10. 8\n",
       "11. 9\n",
       "\n",
       "\n"
      ],
      "text/plain": [
       " [1]  1 10 11  2  3  4  5  6  7  8  9"
      ]
     },
     "metadata": {},
     "output_type": "display_data"
    }
   ],
   "source": [
    "unique(data_yn$day)"
   ]
  },
  {
   "cell_type": "markdown",
   "id": "6187794a",
   "metadata": {},
   "source": [
    "All subjects have 800 trials (4 blocks) of the YN task on each day **except for subject 621 on the 11th day**."
   ]
  },
  {
   "cell_type": "code",
   "execution_count": 8,
   "id": "976c6427",
   "metadata": {
    "vscode": {
     "languageId": "r"
    }
   },
   "outputs": [
    {
     "data": {
      "text/plain": [
       "      day\n",
       "subnum   1   2   3   4   5   6   7   8   9  10  11\n",
       "   601 800 800 800 800 800 800 800 800 800 800 800\n",
       "   609 800 800 800 800 800 800 800 800 800 800 800\n",
       "   611 800 800 800 800 800 800 800 800 800 800 800\n",
       "   619 800 800 800 800 800 800 800 800 800 800 800\n",
       "   621 800 800 800 800 800 800 800 800 800 800 600\n",
       "   629 800 800 800 800 800 800 800 800 800 800 800"
      ]
     },
     "metadata": {},
     "output_type": "display_data"
    }
   ],
   "source": [
    "with(data_yn %>% filter(session != -99), table(subnum, day))"
   ]
  },
  {
   "cell_type": "markdown",
   "id": "a0405233",
   "metadata": {},
   "source": [
    "All subjects are **missing a fourth session in the last week** (what should have been visit 12)"
   ]
  },
  {
   "cell_type": "code",
   "execution_count": 9,
   "id": "46806cac",
   "metadata": {
    "vscode": {
     "languageId": "r"
    }
   },
   "outputs": [
    {
     "data": {
      "text/plain": [
       "      week\n",
       "subnum    1    2    3\n",
       "   601 3200 3200 2400\n",
       "   609 3200 3200 2400\n",
       "   611 3200 3200 2400\n",
       "   619 3200 3200 2400\n",
       "   621 3200 3200 2400\n",
       "   629 3200 3200 2400"
      ]
     },
     "metadata": {},
     "output_type": "display_data"
    }
   ],
   "source": [
    "with(data_yn, table(subnum, week))"
   ]
  },
  {
   "cell_type": "markdown",
   "id": "41a4e909",
   "metadata": {},
   "source": [
    "## Unique stims\n",
    "\n",
    "There are 726 unique stimuli used (6 shapes x 11 orientations x 11 filling weights)"
   ]
  },
  {
   "cell_type": "code",
   "execution_count": 10,
   "id": "1bea25a3",
   "metadata": {
    "vscode": {
     "languageId": "r"
    }
   },
   "outputs": [
    {
     "data": {
      "text/html": [
       "726"
      ],
      "text/latex": [
       "726"
      ],
      "text/markdown": [
       "726"
      ],
      "text/plain": [
       "[1] 726"
      ]
     },
     "metadata": {},
     "output_type": "display_data"
    }
   ],
   "source": [
    "length(unique(data_yn$stimNum))"
   ]
  },
  {
   "cell_type": "markdown",
   "id": "de3b9e63",
   "metadata": {},
   "source": [
    "How many unique stimuli does each subject see? Only one subjects sees all stims. Others see almost all of them."
   ]
  },
  {
   "cell_type": "code",
   "execution_count": 11,
   "id": "fa488fe8",
   "metadata": {
    "vscode": {
     "languageId": "r"
    }
   },
   "outputs": [
    {
     "data": {
      "text/html": [
       "<table class=\"dataframe\">\n",
       "<caption>A tibble: 6 x 2</caption>\n",
       "<thead>\n",
       "\t<tr><th scope=col>subnum</th><th scope=col>num_unique_stims</th></tr>\n",
       "\t<tr><th scope=col>&lt;int&gt;</th><th scope=col>&lt;int&gt;</th></tr>\n",
       "</thead>\n",
       "<tbody>\n",
       "\t<tr><td>601</td><td>724</td></tr>\n",
       "\t<tr><td>609</td><td>726</td></tr>\n",
       "\t<tr><td>611</td><td>725</td></tr>\n",
       "\t<tr><td>619</td><td>722</td></tr>\n",
       "\t<tr><td>621</td><td>725</td></tr>\n",
       "\t<tr><td>629</td><td>725</td></tr>\n",
       "</tbody>\n",
       "</table>\n"
      ],
      "text/latex": [
       "A tibble: 6 x 2\n",
       "\\begin{tabular}{ll}\n",
       " subnum & num\\_unique\\_stims\\\\\n",
       " <int> & <int>\\\\\n",
       "\\hline\n",
       "\t 601 & 724\\\\\n",
       "\t 609 & 726\\\\\n",
       "\t 611 & 725\\\\\n",
       "\t 619 & 722\\\\\n",
       "\t 621 & 725\\\\\n",
       "\t 629 & 725\\\\\n",
       "\\end{tabular}\n"
      ],
      "text/markdown": [
       "\n",
       "A tibble: 6 x 2\n",
       "\n",
       "| subnum &lt;int&gt; | num_unique_stims &lt;int&gt; |\n",
       "|---|---|\n",
       "| 601 | 724 |\n",
       "| 609 | 726 |\n",
       "| 611 | 725 |\n",
       "| 619 | 722 |\n",
       "| 621 | 725 |\n",
       "| 629 | 725 |\n",
       "\n"
      ],
      "text/plain": [
       "  subnum num_unique_stims\n",
       "1 601    724             \n",
       "2 609    726             \n",
       "3 611    725             \n",
       "4 619    722             \n",
       "5 621    725             \n",
       "6 629    725             "
      ]
     },
     "metadata": {},
     "output_type": "display_data"
    }
   ],
   "source": [
    "data_yn %>%\n",
    "  group_by(subnum) %>%\n",
    "  summarise(num_unique_stims = length(unique(stimNum)))"
   ]
  },
  {
   "cell_type": "markdown",
   "id": "27199dc2",
   "metadata": {},
   "source": [
    "## Stim types\n",
    "\n",
    "On each day each subject encounters 480 HT stimuli and 320 RE stimuli"
   ]
  },
  {
   "cell_type": "code",
   "execution_count": 12,
   "id": "5b21648f",
   "metadata": {
    "vscode": {
     "languageId": "r"
    }
   },
   "outputs": [
    {
     "data": {
      "text/plain": [
       ", , type = 0\n",
       "\n",
       "      day\n",
       "subnum   1   2   3   4   5   6   7   8   9  10  11\n",
       "   601 320 320 320 320 320 320 320 320 320 320 320\n",
       "   609 320 320 320 320 320 320 320 320 320 320 320\n",
       "   611 320 320 320 320 320 320 320 320 320 320 320\n",
       "   619 320 320 320 320 320 320 320 320 320 320 320\n",
       "   621 320 320 320 320 320 320 320 320 320 320 320\n",
       "   629 320 320 320 320 320 320 320 320 320 320 320\n",
       "\n",
       ", , type = 1\n",
       "\n",
       "      day\n",
       "subnum   1   2   3   4   5   6   7   8   9  10  11\n",
       "   601 480 480 480 480 480 480 480 480 480 480 480\n",
       "   609 480 480 480 480 480 480 480 480 480 480 480\n",
       "   611 480 480 480 480 480 480 480 480 480 480 480\n",
       "   619 480 480 480 480 480 480 480 480 480 480 480\n",
       "   621 480 480 480 480 480 480 480 480 480 480 480\n",
       "   629 480 480 480 480 480 480 480 480 480 480 480\n"
      ]
     },
     "metadata": {},
     "output_type": "display_data"
    }
   ],
   "source": [
    "with(data_yn, table(subnum, day, type))"
   ]
  },
  {
   "cell_type": "markdown",
   "id": "708ee67a",
   "metadata": {},
   "source": [
    "Each subject has their unique set of 12 HT stimuli."
   ]
  },
  {
   "cell_type": "code",
   "execution_count": 13,
   "id": "9ff3c01d",
   "metadata": {
    "vscode": {
     "languageId": "r"
    }
   },
   "outputs": [
    {
     "name": "stderr",
     "output_type": "stream",
     "text": [
      "Warning message:\n",
      "\"\u001b[1m\u001b[22mReturning more (or less) than 1 row per `summarise()` group was deprecated in\n",
      "dplyr 1.1.0.\n",
      "\u001b[36mi\u001b[39m Please use `reframe()` instead.\n",
      "\u001b[36mi\u001b[39m When switching from `summarise()` to `reframe()`, remember that `reframe()`\n",
      "  always returns an ungrouped data frame and adjust accordingly.\"\n"
     ]
    },
    {
     "data": {
      "text/html": [
       "<table class=\"dataframe\">\n",
       "<caption>A grouped_df: 72 x 2</caption>\n",
       "<thead>\n",
       "\t<tr><th scope=col>subnum</th><th scope=col>ht_stims</th></tr>\n",
       "\t<tr><th scope=col>&lt;int&gt;</th><th scope=col>&lt;int&gt;</th></tr>\n",
       "</thead>\n",
       "<tbody>\n",
       "\t<tr><td>601</td><td>371</td></tr>\n",
       "\t<tr><td>601</td><td>123</td></tr>\n",
       "\t<tr><td>601</td><td>333</td></tr>\n",
       "\t<tr><td>601</td><td>645</td></tr>\n",
       "\t<tr><td>601</td><td>372</td></tr>\n",
       "\t<tr><td>601</td><td>698</td></tr>\n",
       "\t<tr><td>601</td><td>620</td></tr>\n",
       "\t<tr><td>601</td><td>100</td></tr>\n",
       "\t<tr><td>601</td><td>670</td></tr>\n",
       "\t<tr><td>601</td><td>158</td></tr>\n",
       "\t<tr><td>601</td><td>332</td></tr>\n",
       "\t<tr><td>601</td><td> 85</td></tr>\n",
       "\t<tr><td>609</td><td>666</td></tr>\n",
       "\t<tr><td>609</td><td>316</td></tr>\n",
       "\t<tr><td>609</td><td>332</td></tr>\n",
       "\t<tr><td>609</td><td>561</td></tr>\n",
       "\t<tr><td>609</td><td>370</td></tr>\n",
       "\t<tr><td>609</td><td>336</td></tr>\n",
       "\t<tr><td>609</td><td>660</td></tr>\n",
       "\t<tr><td>609</td><td>369</td></tr>\n",
       "\t<tr><td>609</td><td>  9</td></tr>\n",
       "\t<tr><td>609</td><td> 84</td></tr>\n",
       "\t<tr><td>609</td><td>128</td></tr>\n",
       "\t<tr><td>609</td><td>131</td></tr>\n",
       "\t<tr><td>611</td><td>503</td></tr>\n",
       "\t<tr><td>611</td><td>519</td></tr>\n",
       "\t<tr><td>611</td><td>367</td></tr>\n",
       "\t<tr><td>611</td><td>370</td></tr>\n",
       "\t<tr><td>611</td><td>335</td></tr>\n",
       "\t<tr><td>611</td><td>586</td></tr>\n",
       "\t<tr><td>...</td><td>...</td></tr>\n",
       "\t<tr><td>619</td><td>244</td></tr>\n",
       "\t<tr><td>619</td><td>336</td></tr>\n",
       "\t<tr><td>619</td><td> 78</td></tr>\n",
       "\t<tr><td>619</td><td>383</td></tr>\n",
       "\t<tr><td>619</td><td>370</td></tr>\n",
       "\t<tr><td>619</td><td>121</td></tr>\n",
       "\t<tr><td>621</td><td>355</td></tr>\n",
       "\t<tr><td>621</td><td>369</td></tr>\n",
       "\t<tr><td>621</td><td>402</td></tr>\n",
       "\t<tr><td>621</td><td>348</td></tr>\n",
       "\t<tr><td>621</td><td> 66</td></tr>\n",
       "\t<tr><td>621</td><td>362</td></tr>\n",
       "\t<tr><td>621</td><td>334</td></tr>\n",
       "\t<tr><td>621</td><td>627</td></tr>\n",
       "\t<tr><td>621</td><td>680</td></tr>\n",
       "\t<tr><td>621</td><td>307</td></tr>\n",
       "\t<tr><td>621</td><td>371</td></tr>\n",
       "\t<tr><td>621</td><td>331</td></tr>\n",
       "\t<tr><td>629</td><td>371</td></tr>\n",
       "\t<tr><td>629</td><td>188</td></tr>\n",
       "\t<tr><td>629</td><td>333</td></tr>\n",
       "\t<tr><td>629</td><td>372</td></tr>\n",
       "\t<tr><td>629</td><td>267</td></tr>\n",
       "\t<tr><td>629</td><td>185</td></tr>\n",
       "\t<tr><td>629</td><td>491</td></tr>\n",
       "\t<tr><td>629</td><td>331</td></tr>\n",
       "\t<tr><td>629</td><td>175</td></tr>\n",
       "\t<tr><td>629</td><td>457</td></tr>\n",
       "\t<tr><td>629</td><td>481</td></tr>\n",
       "\t<tr><td>629</td><td>600</td></tr>\n",
       "</tbody>\n",
       "</table>\n"
      ],
      "text/latex": [
       "A grouped\\_df: 72 x 2\n",
       "\\begin{tabular}{ll}\n",
       " subnum & ht\\_stims\\\\\n",
       " <int> & <int>\\\\\n",
       "\\hline\n",
       "\t 601 & 371\\\\\n",
       "\t 601 & 123\\\\\n",
       "\t 601 & 333\\\\\n",
       "\t 601 & 645\\\\\n",
       "\t 601 & 372\\\\\n",
       "\t 601 & 698\\\\\n",
       "\t 601 & 620\\\\\n",
       "\t 601 & 100\\\\\n",
       "\t 601 & 670\\\\\n",
       "\t 601 & 158\\\\\n",
       "\t 601 & 332\\\\\n",
       "\t 601 &  85\\\\\n",
       "\t 609 & 666\\\\\n",
       "\t 609 & 316\\\\\n",
       "\t 609 & 332\\\\\n",
       "\t 609 & 561\\\\\n",
       "\t 609 & 370\\\\\n",
       "\t 609 & 336\\\\\n",
       "\t 609 & 660\\\\\n",
       "\t 609 & 369\\\\\n",
       "\t 609 &   9\\\\\n",
       "\t 609 &  84\\\\\n",
       "\t 609 & 128\\\\\n",
       "\t 609 & 131\\\\\n",
       "\t 611 & 503\\\\\n",
       "\t 611 & 519\\\\\n",
       "\t 611 & 367\\\\\n",
       "\t 611 & 370\\\\\n",
       "\t 611 & 335\\\\\n",
       "\t 611 & 586\\\\\n",
       "\t ... & ...\\\\\n",
       "\t 619 & 244\\\\\n",
       "\t 619 & 336\\\\\n",
       "\t 619 &  78\\\\\n",
       "\t 619 & 383\\\\\n",
       "\t 619 & 370\\\\\n",
       "\t 619 & 121\\\\\n",
       "\t 621 & 355\\\\\n",
       "\t 621 & 369\\\\\n",
       "\t 621 & 402\\\\\n",
       "\t 621 & 348\\\\\n",
       "\t 621 &  66\\\\\n",
       "\t 621 & 362\\\\\n",
       "\t 621 & 334\\\\\n",
       "\t 621 & 627\\\\\n",
       "\t 621 & 680\\\\\n",
       "\t 621 & 307\\\\\n",
       "\t 621 & 371\\\\\n",
       "\t 621 & 331\\\\\n",
       "\t 629 & 371\\\\\n",
       "\t 629 & 188\\\\\n",
       "\t 629 & 333\\\\\n",
       "\t 629 & 372\\\\\n",
       "\t 629 & 267\\\\\n",
       "\t 629 & 185\\\\\n",
       "\t 629 & 491\\\\\n",
       "\t 629 & 331\\\\\n",
       "\t 629 & 175\\\\\n",
       "\t 629 & 457\\\\\n",
       "\t 629 & 481\\\\\n",
       "\t 629 & 600\\\\\n",
       "\\end{tabular}\n"
      ],
      "text/markdown": [
       "\n",
       "A grouped_df: 72 x 2\n",
       "\n",
       "| subnum &lt;int&gt; | ht_stims &lt;int&gt; |\n",
       "|---|---|\n",
       "| 601 | 371 |\n",
       "| 601 | 123 |\n",
       "| 601 | 333 |\n",
       "| 601 | 645 |\n",
       "| 601 | 372 |\n",
       "| 601 | 698 |\n",
       "| 601 | 620 |\n",
       "| 601 | 100 |\n",
       "| 601 | 670 |\n",
       "| 601 | 158 |\n",
       "| 601 | 332 |\n",
       "| 601 |  85 |\n",
       "| 609 | 666 |\n",
       "| 609 | 316 |\n",
       "| 609 | 332 |\n",
       "| 609 | 561 |\n",
       "| 609 | 370 |\n",
       "| 609 | 336 |\n",
       "| 609 | 660 |\n",
       "| 609 | 369 |\n",
       "| 609 |   9 |\n",
       "| 609 |  84 |\n",
       "| 609 | 128 |\n",
       "| 609 | 131 |\n",
       "| 611 | 503 |\n",
       "| 611 | 519 |\n",
       "| 611 | 367 |\n",
       "| 611 | 370 |\n",
       "| 611 | 335 |\n",
       "| 611 | 586 |\n",
       "| ... | ... |\n",
       "| 619 | 244 |\n",
       "| 619 | 336 |\n",
       "| 619 |  78 |\n",
       "| 619 | 383 |\n",
       "| 619 | 370 |\n",
       "| 619 | 121 |\n",
       "| 621 | 355 |\n",
       "| 621 | 369 |\n",
       "| 621 | 402 |\n",
       "| 621 | 348 |\n",
       "| 621 |  66 |\n",
       "| 621 | 362 |\n",
       "| 621 | 334 |\n",
       "| 621 | 627 |\n",
       "| 621 | 680 |\n",
       "| 621 | 307 |\n",
       "| 621 | 371 |\n",
       "| 621 | 331 |\n",
       "| 629 | 371 |\n",
       "| 629 | 188 |\n",
       "| 629 | 333 |\n",
       "| 629 | 372 |\n",
       "| 629 | 267 |\n",
       "| 629 | 185 |\n",
       "| 629 | 491 |\n",
       "| 629 | 331 |\n",
       "| 629 | 175 |\n",
       "| 629 | 457 |\n",
       "| 629 | 481 |\n",
       "| 629 | 600 |\n",
       "\n"
      ],
      "text/plain": [
       "    subnum ht_stims\n",
       "1   601    371     \n",
       "2   601    123     \n",
       "3   601    333     \n",
       "4   601    645     \n",
       "5   601    372     \n",
       "6   601    698     \n",
       "7   601    620     \n",
       "8   601    100     \n",
       "9   601    670     \n",
       "10  601    158     \n",
       "11  601    332     \n",
       "12  601     85     \n",
       "13  609    666     \n",
       "14  609    316     \n",
       "15  609    332     \n",
       "16  609    561     \n",
       "17  609    370     \n",
       "18  609    336     \n",
       "19  609    660     \n",
       "20  609    369     \n",
       "21  609      9     \n",
       "22  609     84     \n",
       "23  609    128     \n",
       "24  609    131     \n",
       "25  611    503     \n",
       "26  611    519     \n",
       "27  611    367     \n",
       "28  611    370     \n",
       "29  611    335     \n",
       "30  611    586     \n",
       "... ...    ...     \n",
       "43  619    244     \n",
       "44  619    336     \n",
       "45  619     78     \n",
       "46  619    383     \n",
       "47  619    370     \n",
       "48  619    121     \n",
       "49  621    355     \n",
       "50  621    369     \n",
       "51  621    402     \n",
       "52  621    348     \n",
       "53  621     66     \n",
       "54  621    362     \n",
       "55  621    334     \n",
       "56  621    627     \n",
       "57  621    680     \n",
       "58  621    307     \n",
       "59  621    371     \n",
       "60  621    331     \n",
       "61  629    371     \n",
       "62  629    188     \n",
       "63  629    333     \n",
       "64  629    372     \n",
       "65  629    267     \n",
       "66  629    185     \n",
       "67  629    491     \n",
       "68  629    331     \n",
       "69  629    175     \n",
       "70  629    457     \n",
       "71  629    481     \n",
       "72  629    600     "
      ]
     },
     "metadata": {},
     "output_type": "display_data"
    }
   ],
   "source": [
    "data_yn %>%\n",
    "  filter(type == 1) %>%\n",
    "  group_by(subnum) %>%\n",
    "  summarise(ht_stims = unique(stimNum), .groups=\"keep\")"
   ]
  },
  {
   "cell_type": "markdown",
   "id": "ff9bd622",
   "metadata": {},
   "source": [
    "## Stims by features\n",
    "\n",
    "Possible values for the orientation attribute:"
   ]
  },
  {
   "cell_type": "code",
   "execution_count": 14,
   "id": "c46f30b5",
   "metadata": {
    "vscode": {
     "languageId": "r"
    }
   },
   "outputs": [
    {
     "data": {
      "text/html": [
       "<style>\n",
       ".list-inline {list-style: none; margin:0; padding: 0}\n",
       ".list-inline>li {display: inline-block}\n",
       ".list-inline>li:not(:last-child)::after {content: \"\\00b7\"; padding: 0 .5ex}\n",
       "</style>\n",
       "<ol class=list-inline><li>0</li><li>15</li><li>30</li><li>45</li><li>60</li><li>75</li><li>90</li><li>105</li><li>120</li><li>135</li><li>150</li></ol>\n"
      ],
      "text/latex": [
       "\\begin{enumerate*}\n",
       "\\item 0\n",
       "\\item 15\n",
       "\\item 30\n",
       "\\item 45\n",
       "\\item 60\n",
       "\\item 75\n",
       "\\item 90\n",
       "\\item 105\n",
       "\\item 120\n",
       "\\item 135\n",
       "\\item 150\n",
       "\\end{enumerate*}\n"
      ],
      "text/markdown": [
       "1. 0\n",
       "2. 15\n",
       "3. 30\n",
       "4. 45\n",
       "5. 60\n",
       "6. 75\n",
       "7. 90\n",
       "8. 105\n",
       "9. 120\n",
       "10. 135\n",
       "11. 150\n",
       "\n",
       "\n"
      ],
      "text/plain": [
       " [1]   0  15  30  45  60  75  90 105 120 135 150"
      ]
     },
     "metadata": {},
     "output_type": "display_data"
    }
   ],
   "source": [
    "sort(unique(data_yn$orientation))"
   ]
  },
  {
   "cell_type": "markdown",
   "id": "2d725392",
   "metadata": {},
   "source": [
    "0 and 90 are the most common orientations"
   ]
  },
  {
   "cell_type": "code",
   "execution_count": 15,
   "id": "bdebfc06",
   "metadata": {
    "vscode": {
     "languageId": "r"
    }
   },
   "outputs": [
    {
     "data": {
      "text/plain": [
       "\n",
       "   0   15   30   45   60   75   90  105  120  135  150 \n",
       "9367 3261 3719 4122 3711 3720 8034 3256 4519 5015 4076 "
      ]
     },
     "metadata": {},
     "output_type": "display_data"
    }
   ],
   "source": [
    "table(data_yn$orientation)"
   ]
  },
  {
   "cell_type": "markdown",
   "id": "00334a65",
   "metadata": {},
   "source": [
    "Subjects have differing frequencies of each orientation"
   ]
  },
  {
   "cell_type": "code",
   "execution_count": 16,
   "id": "df4a5769",
   "metadata": {
    "vscode": {
     "languageId": "r"
    }
   },
   "outputs": [
    {
     "data": {
      "text/plain": [
       "      orientation\n",
       "subnum    0   15   30   45   60   75   90  105  120  135  150\n",
       "   601 1197  752  320  773 1194  750 1633  337  760  757  327\n",
       "   609 1627  787  756  302  335  789 1195  313  754  313 1629\n",
       "   611 1623  339  309 1207  326  335 1641  322  770 1627  301\n",
       "   619 1206  759 1200  332  322  337 1180  774 1194 1204  292\n",
       "   621 1624  308  788  763  776 1188 1188  757  308  337  763\n",
       "   629 2090  316  346  745  758  321 1197  753  733  777  764"
      ]
     },
     "metadata": {},
     "output_type": "display_data"
    }
   ],
   "source": [
    "with(data_yn, table(subnum, orientation))"
   ]
  },
  {
   "cell_type": "markdown",
   "id": "71ee9be0",
   "metadata": {},
   "source": [
    "Possible values for the the filling weight:"
   ]
  },
  {
   "cell_type": "code",
   "execution_count": 17,
   "id": "6d88c0ca",
   "metadata": {
    "vscode": {
     "languageId": "r"
    }
   },
   "outputs": [
    {
     "data": {
      "text/html": [
       "<style>\n",
       ".list-inline {list-style: none; margin:0; padding: 0}\n",
       ".list-inline>li {display: inline-block}\n",
       ".list-inline>li:not(:last-child)::after {content: \"\\00b7\"; padding: 0 .5ex}\n",
       "</style>\n",
       "<ol class=list-inline><li>-0.85</li><li>-0.6</li><li>-0.4</li><li>-0.2</li><li>0</li><li>0.2</li><li>0.4</li><li>0.6</li><li>0.85</li></ol>\n"
      ],
      "text/latex": [
       "\\begin{enumerate*}\n",
       "\\item -0.85\n",
       "\\item -0.6\n",
       "\\item -0.4\n",
       "\\item -0.2\n",
       "\\item 0\n",
       "\\item 0.2\n",
       "\\item 0.4\n",
       "\\item 0.6\n",
       "\\item 0.85\n",
       "\\end{enumerate*}\n"
      ],
      "text/markdown": [
       "1. -0.85\n",
       "2. -0.6\n",
       "3. -0.4\n",
       "4. -0.2\n",
       "5. 0\n",
       "6. 0.2\n",
       "7. 0.4\n",
       "8. 0.6\n",
       "9. 0.85\n",
       "\n",
       "\n"
      ],
      "text/plain": [
       "[1] -0.85 -0.60 -0.40 -0.20  0.00  0.20  0.40  0.60  0.85"
      ]
     },
     "metadata": {},
     "output_type": "display_data"
    }
   ],
   "source": [
    "sort(unique(data_yn$filling))"
   ]
  },
  {
   "cell_type": "markdown",
   "id": "39ce667c",
   "metadata": {},
   "source": [
    "**There are 9 unique filling values (not 11)**"
   ]
  },
  {
   "cell_type": "code",
   "execution_count": 18,
   "id": "6de4ee91",
   "metadata": {
    "vscode": {
     "languageId": "r"
    }
   },
   "outputs": [
    {
     "data": {
      "text/html": [
       "9"
      ],
      "text/latex": [
       "9"
      ],
      "text/markdown": [
       "9"
      ],
      "text/plain": [
       "[1] 9"
      ]
     },
     "metadata": {},
     "output_type": "display_data"
    }
   ],
   "source": [
    "length(unique(data_yn$filling))"
   ]
  },
  {
   "cell_type": "markdown",
   "id": "c9d00979",
   "metadata": {},
   "source": [
    "0 is the most common filling weight followed by |0.4|"
   ]
  },
  {
   "cell_type": "code",
   "execution_count": 19,
   "id": "5439293b",
   "metadata": {
    "vscode": {
     "languageId": "r"
    }
   },
   "outputs": [
    {
     "data": {
      "text/plain": [
       "\n",
       "-0.85  -0.6  -0.4  -0.2     0   0.2   0.4   0.6  0.85 \n",
       " 3254  5850  6926  3715 14130  2824  7396  4561  4144 "
      ]
     },
     "metadata": {},
     "output_type": "display_data"
    }
   ],
   "source": [
    "table(data_yn$filling)"
   ]
  },
  {
   "cell_type": "markdown",
   "id": "46bf3b5f",
   "metadata": {},
   "source": [
    "Subjects have differing frequencies of each filling weight. 0 is most common for all but the rest of the order is not the same across subjects."
   ]
  },
  {
   "cell_type": "code",
   "execution_count": 20,
   "id": "804abb68",
   "metadata": {
    "vscode": {
     "languageId": "r"
    }
   },
   "outputs": [
    {
     "data": {
      "text/plain": [
       "      filling\n",
       "subnum -0.85 -0.6 -0.4 -0.2    0  0.2  0.4  0.6 0.85\n",
       "   601   337 1619 1083  321 2068  344  645 1182 1201\n",
       "   609   751 1617  653  761 2071  333 1098  766  750\n",
       "   611   764  740 1072  775 2073  335 2383  342  316\n",
       "   619   335 1192 1535  306 2492  324 1088  755  773\n",
       "   621   747  354  616  760 3370  758  673  751  771\n",
       "   629   320  328 1967  792 2056  730 1509  765  333"
      ]
     },
     "metadata": {},
     "output_type": "display_data"
    }
   ],
   "source": [
    "with(data_yn, table(subnum, filling))"
   ]
  },
  {
   "cell_type": "markdown",
   "id": "fb09bf4e",
   "metadata": {},
   "source": [
    "Number of stims with each orientation and filling combination"
   ]
  },
  {
   "cell_type": "code",
   "execution_count": 21,
   "id": "55319120",
   "metadata": {
    "vscode": {
     "languageId": "r"
    }
   },
   "outputs": [
    {
     "data": {
      "text/plain": [
       "           filling\n",
       "orientation -0.85 -0.6 -0.4 -0.2    0  0.2  0.4  0.6 0.85\n",
       "        0     182  189  342  614 5404  613  805  605  613\n",
       "        15    611  615  349  178  169  165  388  175  611\n",
       "        30    173  624  781  181  602  178  365  620  195\n",
       "        45    622  613  354  612  160  181  788  183  609\n",
       "        60    183  170  796  208  617  182  789  604  162\n",
       "        75    182  619  354  184  613  180  785  620  183\n",
       "        90    162  171  351  167 5403  179  793  186  622\n",
       "        105   183  152 1251  616  181  178  341  186  168\n",
       "        120   162  176 1225  609  608  168  348  607  616\n",
       "        135   184 1495  777  174  183  186 1655  180  181\n",
       "        150   610 1026  346  172  190  614  339  595  184"
      ]
     },
     "metadata": {},
     "output_type": "display_data"
    }
   ],
   "source": [
    "with(data_yn, table(orientation, filling))"
   ]
  },
  {
   "cell_type": "markdown",
   "id": "f5bf572b",
   "metadata": {},
   "source": [
    "Possible values for the stim shape"
   ]
  },
  {
   "cell_type": "code",
   "execution_count": 22,
   "id": "b2050fa5",
   "metadata": {
    "vscode": {
     "languageId": "r"
    }
   },
   "outputs": [
    {
     "data": {
      "text/html": [
       "<style>\n",
       ".list-inline {list-style: none; margin:0; padding: 0}\n",
       ".list-inline>li {display: inline-block}\n",
       ".list-inline>li:not(:last-child)::after {content: \"\\00b7\"; padding: 0 .5ex}\n",
       "</style>\n",
       "<ol class=list-inline><li>5</li><li>6</li><li>2</li><li>4</li><li>1</li><li>3</li></ol>\n"
      ],
      "text/latex": [
       "\\begin{enumerate*}\n",
       "\\item 5\n",
       "\\item 6\n",
       "\\item 2\n",
       "\\item 4\n",
       "\\item 1\n",
       "\\item 3\n",
       "\\end{enumerate*}\n"
      ],
      "text/markdown": [
       "1. 5\n",
       "2. 6\n",
       "3. 2\n",
       "4. 4\n",
       "5. 1\n",
       "6. 3\n",
       "\n",
       "\n"
      ],
      "text/plain": [
       "[1] 5 6 2 4 1 3"
      ]
     },
     "metadata": {},
     "output_type": "display_data"
    }
   ],
   "source": [
    "unique(data_yn$shape)"
   ]
  },
  {
   "cell_type": "markdown",
   "id": "14361d79",
   "metadata": {},
   "source": [
    "Frequency of each shape across all data"
   ]
  },
  {
   "cell_type": "code",
   "execution_count": 23,
   "id": "4fb06587",
   "metadata": {
    "vscode": {
     "languageId": "r"
    }
   },
   "outputs": [
    {
     "data": {
      "text/plain": [
       "\n",
       "   1    2    3    4    5    6 \n",
       "8389 7954 9171 8739 8849 9698 "
      ]
     },
     "metadata": {},
     "output_type": "display_data"
    }
   ],
   "source": [
    "table(data_yn$shape)"
   ]
  },
  {
   "cell_type": "markdown",
   "id": "4c9272ef",
   "metadata": {},
   "source": [
    "Subjects see each shape with different frequencies."
   ]
  },
  {
   "cell_type": "code",
   "execution_count": 24,
   "id": "a06e0f76",
   "metadata": {
    "vscode": {
     "languageId": "r"
    }
   },
   "outputs": [
    {
     "data": {
      "text/plain": [
       "      shape\n",
       "subnum    1    2    3    4    5    6\n",
       "   601 1018 2355 1895 1452 1045 1035\n",
       "   609  598 1465 1854 1472 1083 2328\n",
       "   611 1039 1014 1478 1889 2337 1043\n",
       "   619 1501  608 1020 2324 1464 1883\n",
       "   621 1881 1482 1451 1053 1027 1906\n",
       "   629 2352 1030 1473  549 1893 1503"
      ]
     },
     "metadata": {},
     "output_type": "display_data"
    }
   ],
   "source": [
    "with(data_yn, table(subnum, shape))"
   ]
  },
  {
   "cell_type": "markdown",
   "id": "d3e3a4e4",
   "metadata": {},
   "source": [
    "Number of stimuli in each combination of orientation, filling weight and shape"
   ]
  },
  {
   "cell_type": "code",
   "execution_count": 25,
   "id": "de06510e",
   "metadata": {
    "vscode": {
     "languageId": "r"
    }
   },
   "outputs": [
    {
     "data": {
      "text/plain": [
       ", , shape = 1\n",
       "\n",
       "           filling\n",
       "orientation -0.85 -0.6 -0.4 -0.2    0  0.2  0.4  0.6 0.85\n",
       "        0      26   34   55   30  899   27   59   37   29\n",
       "        15     29   31   60   23   22   36   63   32   29\n",
       "        30     32   27   58   26   31   29   59   25   31\n",
       "        45     30  468   63   36   31   29  493   35   29\n",
       "        60     31   29   60   29  466   27   57   30   31\n",
       "        75     27   36   60   28   28   34   62   34   31\n",
       "        90     27   29   67   25  467   34   54   32   30\n",
       "        105    37   32  501  470   33   32   52   28   26\n",
       "        120    27   26   61   30   31   25   62   32   31\n",
       "        135    29  465   55   27   41   34  487   34   30\n",
       "        150    28   22   52   28   29  466   52   25   31\n",
       "\n",
       ", , shape = 2\n",
       "\n",
       "           filling\n",
       "orientation -0.85 -0.6 -0.4 -0.2    0  0.2  0.4  0.6 0.85\n",
       "        0      29   28   58   35 1337   34   68   24   31\n",
       "        15     33   35   60   34   33   27   71   33   31\n",
       "        30     30   30   54   28   28   26   55   32   38\n",
       "        45     25   29   59   32   24   33   54   28  464\n",
       "        60     34   32  497   37   26   31   60  467   27\n",
       "        75     32   33   56   36  462   28   65   26   31\n",
       "        90     33   24   62   32   34   30   67   27  466\n",
       "        105    31   17   73   25   24   21   57   33   30\n",
       "        120    21   37   63   33   24   25   58   34   27\n",
       "        135    30   34  489   32   23   27   52   34   30\n",
       "        150    27  466   54   28   26   28   62   28   26\n",
       "\n",
       ", , shape = 3\n",
       "\n",
       "           filling\n",
       "orientation -0.85 -0.6 -0.4 -0.2    0  0.2  0.4  0.6 0.85\n",
       "        0      24   34   47  462 1335   29   66   29   29\n",
       "        15    461   26   49   29   28   22   63   29   29\n",
       "        30     27   38   52   25   23   36   57   27   32\n",
       "        45    469   26   56   31   31   34   53   31   32\n",
       "        60     25   26   62   37   33   32   61   29   28\n",
       "        75     34   27   56   28   33   31  491  467   29\n",
       "        90     27   30   60   25  900   30   52   30   32\n",
       "        105    28   28   55   32   33   32   55   29   30\n",
       "        120    27   27   61   23   30   37   60  462   33\n",
       "        135    28  468   59   25   30   26  504   20   32\n",
       "        150    22   27   61   29   29   31   54   22   36\n",
       "\n",
       ", , shape = 4\n",
       "\n",
       "           filling\n",
       "orientation -0.85 -0.6 -0.4 -0.2    0  0.2  0.4  0.6 0.85\n",
       "        0      27   25   57   26  463   33   58   24   30\n",
       "        15     24   27   54   28   23   25   62   28  466\n",
       "        30     31   27   49   33   27   33   60  471   34\n",
       "        45     38   25   54   25   17   25   57   27   33\n",
       "        60     33   31   56   35   30   29   52   31   22\n",
       "        75     31  460   53   30   34   27   58   28   31\n",
       "        90     26   35   56   25 1330   27   67   33   30\n",
       "        105    35   26  498   30   33   36   53   30   26\n",
       "        120    31   30  501  460   32   36   57   24  466\n",
       "        135    29   29   51   32   30   33  493   33   28\n",
       "        150    33   30   57   30   32   36   54   27   32\n",
       "\n",
       ", , shape = 5\n",
       "\n",
       "           filling\n",
       "orientation -0.85 -0.6 -0.4 -0.2    0  0.2  0.4  0.6 0.85\n",
       "        0      36   37   60   28  470   28  496   28   29\n",
       "        15     34   30   62   33   32   23   74   26   29\n",
       "        30     29   30   64   33   29   25   65   32   31\n",
       "        45     32   32   57   26   22   32   67   34   24\n",
       "        60     30   23   56   39   31   36  499   22   29\n",
       "        75     35   29   60   33   32   27   56   32   40\n",
       "        90     24   26   44   27 1774   32  497   33   36\n",
       "        105    27   25   62   26   34   27   55   33   27\n",
       "        120    30   27  491   35  463   21   56   26   32\n",
       "        135    34  472   56   26   29   34   60   29   32\n",
       "        150    32  458   61   27   37   27   62   28   27\n",
       "\n",
       ", , shape = 6\n",
       "\n",
       "           filling\n",
       "orientation -0.85 -0.6 -0.4 -0.2    0  0.2  0.4  0.6 0.85\n",
       "        0      40   31   65   33  900  462   58  463  465\n",
       "        15     30  466   64   31   31   32   55   27   27\n",
       "        30     24  472  504   36  464   29   69   33   29\n",
       "        45     28   33   65  462   35   28   64   28   27\n",
       "        60     30   29   65   31   31   27   60   25   25\n",
       "        75     23   34   69   29   24   33   53   33   21\n",
       "        90     25   27   62   33  898   26   56   31   28\n",
       "        105    25   24   62   33   24   30   69   33   29\n",
       "        120    26   29   48   28   28   24   55   29   27\n",
       "        135    34   27   67   32   30   32   59   30   29\n",
       "        150   468   23   61   30   37   26   55  465   32\n"
      ]
     },
     "metadata": {},
     "output_type": "display_data"
    }
   ],
   "source": [
    "with(data_yn, table(orientation, filling, shape))"
   ]
  },
  {
   "cell_type": "markdown",
   "id": "15952c43",
   "metadata": {},
   "source": [
    "Possible values for the value weight of each orientation"
   ]
  },
  {
   "cell_type": "code",
   "execution_count": 26,
   "id": "2e60011c",
   "metadata": {
    "vscode": {
     "languageId": "r"
    }
   },
   "outputs": [
    {
     "data": {
      "text/html": [
       "<style>\n",
       ".list-inline {list-style: none; margin:0; padding: 0}\n",
       ".list-inline>li {display: inline-block}\n",
       ".list-inline>li:not(:last-child)::after {content: \"\\00b7\"; padding: 0 .5ex}\n",
       "</style>\n",
       "<ol class=list-inline><li>-0.4</li><li>-1</li><li>-0.2</li><li>0.6</li><li>-0.8</li><li>0.4</li><li>1</li><li>-0.6</li><li>0.2</li><li>0</li><li>0.8</li></ol>\n"
      ],
      "text/latex": [
       "\\begin{enumerate*}\n",
       "\\item -0.4\n",
       "\\item -1\n",
       "\\item -0.2\n",
       "\\item 0.6\n",
       "\\item -0.8\n",
       "\\item 0.4\n",
       "\\item 1\n",
       "\\item -0.6\n",
       "\\item 0.2\n",
       "\\item 0\n",
       "\\item 0.8\n",
       "\\end{enumerate*}\n"
      ],
      "text/markdown": [
       "1. -0.4\n",
       "2. -1\n",
       "3. -0.2\n",
       "4. 0.6\n",
       "5. -0.8\n",
       "6. 0.4\n",
       "7. 1\n",
       "8. -0.6\n",
       "9. 0.2\n",
       "10. 0\n",
       "11. 0.8\n",
       "\n",
       "\n"
      ],
      "text/plain": [
       " [1] -0.4 -1.0 -0.2  0.6 -0.8  0.4  1.0 -0.6  0.2  0.0  0.8"
      ]
     },
     "metadata": {},
     "output_type": "display_data"
    }
   ],
   "source": [
    "unique(data_yn$valueO)"
   ]
  },
  {
   "cell_type": "markdown",
   "id": "274482fe",
   "metadata": {},
   "source": [
    "Frequency of each orientation value weight"
   ]
  },
  {
   "cell_type": "code",
   "execution_count": 27,
   "id": "c39aa81a",
   "metadata": {
    "vscode": {
     "languageId": "r"
    }
   },
   "outputs": [
    {
     "data": {
      "text/plain": [
       "\n",
       "  -1 -0.8 -0.6 -0.4 -0.2    0  0.2  0.4  0.6  0.8    1 \n",
       "6314 4583 4140 2795 5877 3720 5868 4583 4098 3693 7129 "
      ]
     },
     "metadata": {},
     "output_type": "display_data"
    }
   ],
   "source": [
    "table(data_yn$valueO)"
   ]
  },
  {
   "cell_type": "markdown",
   "id": "d4afe63b",
   "metadata": {},
   "source": [
    "75 degrees has a value of 0. The further away the orientation from 75 the larger the gain/loss."
   ]
  },
  {
   "cell_type": "code",
   "execution_count": 28,
   "id": "b7683c97",
   "metadata": {
    "vscode": {
     "languageId": "r"
    }
   },
   "outputs": [
    {
     "data": {
      "text/plain": [
       "      orientation\n",
       "valueO    0   15   30   45   60   75   90  105  120  135  150\n",
       "  -1   4923    0    0    0    0    0    0    0    0    0 1391\n",
       "  -0.8    0 1862    0    0    0    0    0    0    0 2721    0\n",
       "  -0.6    0    0 2302    0    0    0    0    0 1838    0    0\n",
       "  -0.4    0    0    0 1379    0    0    0 1416    0    0    0\n",
       "  -0.2    0    0    0    0 1415    0 4462    0    0    0    0\n",
       "  0       0    0    0    0    0 3720    0    0    0    0    0\n",
       "  0.2     0    0    0    0 2296    0 3572    0    0    0    0\n",
       "  0.4     0    0    0 2743    0    0    0 1840    0    0    0\n",
       "  0.6     0    0 1417    0    0    0    0    0 2681    0    0\n",
       "  0.8     0 1399    0    0    0    0    0    0    0 2294    0\n",
       "  1    4444    0    0    0    0    0    0    0    0    0 2685"
      ]
     },
     "metadata": {},
     "output_type": "display_data"
    }
   ],
   "source": [
    "with(data_yn, table(valueO, orientation))"
   ]
  },
  {
   "cell_type": "markdown",
   "id": "6fc4af86",
   "metadata": {},
   "source": [
    "Whether an orientation will have a positive or negative value weight varies for each subject."
   ]
  },
  {
   "cell_type": "code",
   "execution_count": 29,
   "id": "74f3d727",
   "metadata": {
    "vscode": {
     "languageId": "r"
    }
   },
   "outputs": [
    {
     "data": {
      "text/plain": [
       ", , subnum = 601\n",
       "\n",
       "      orientation\n",
       "valueO    0   15   30   45   60   75   90  105  120  135  150\n",
       "  -1      0    0    0    0    0    0    0    0    0    0  327\n",
       "  -0.8    0    0    0    0    0    0    0    0    0  757    0\n",
       "  -0.6    0    0    0    0    0    0    0    0  760    0    0\n",
       "  -0.4    0    0    0    0    0    0    0  337    0    0    0\n",
       "  -0.2    0    0    0    0    0    0 1633    0    0    0    0\n",
       "  0       0    0    0    0    0  750    0    0    0    0    0\n",
       "  0.2     0    0    0    0 1194    0    0    0    0    0    0\n",
       "  0.4     0    0    0  773    0    0    0    0    0    0    0\n",
       "  0.6     0    0  320    0    0    0    0    0    0    0    0\n",
       "  0.8     0  752    0    0    0    0    0    0    0    0    0\n",
       "  1    1197    0    0    0    0    0    0    0    0    0    0\n",
       "\n",
       ", , subnum = 609\n",
       "\n",
       "      orientation\n",
       "valueO    0   15   30   45   60   75   90  105  120  135  150\n",
       "  -1   1627    0    0    0    0    0    0    0    0    0    0\n",
       "  -0.8    0  787    0    0    0    0    0    0    0    0    0\n",
       "  -0.6    0    0  756    0    0    0    0    0    0    0    0\n",
       "  -0.4    0    0    0  302    0    0    0    0    0    0    0\n",
       "  -0.2    0    0    0    0  335    0    0    0    0    0    0\n",
       "  0       0    0    0    0    0  789    0    0    0    0    0\n",
       "  0.2     0    0    0    0    0    0 1195    0    0    0    0\n",
       "  0.4     0    0    0    0    0    0    0  313    0    0    0\n",
       "  0.6     0    0    0    0    0    0    0    0  754    0    0\n",
       "  0.8     0    0    0    0    0    0    0    0    0  313    0\n",
       "  1       0    0    0    0    0    0    0    0    0    0 1629\n",
       "\n",
       ", , subnum = 611\n",
       "\n",
       "      orientation\n",
       "valueO    0   15   30   45   60   75   90  105  120  135  150\n",
       "  -1      0    0    0    0    0    0    0    0    0    0  301\n",
       "  -0.8    0    0    0    0    0    0    0    0    0 1627    0\n",
       "  -0.6    0    0    0    0    0    0    0    0  770    0    0\n",
       "  -0.4    0    0    0    0    0    0    0  322    0    0    0\n",
       "  -0.2    0    0    0    0    0    0 1641    0    0    0    0\n",
       "  0       0    0    0    0    0  335    0    0    0    0    0\n",
       "  0.2     0    0    0    0  326    0    0    0    0    0    0\n",
       "  0.4     0    0    0 1207    0    0    0    0    0    0    0\n",
       "  0.6     0    0  309    0    0    0    0    0    0    0    0\n",
       "  0.8     0  339    0    0    0    0    0    0    0    0    0\n",
       "  1    1623    0    0    0    0    0    0    0    0    0    0\n",
       "\n",
       ", , subnum = 619\n",
       "\n",
       "      orientation\n",
       "valueO    0   15   30   45   60   75   90  105  120  135  150\n",
       "  -1   1206    0    0    0    0    0    0    0    0    0    0\n",
       "  -0.8    0  759    0    0    0    0    0    0    0    0    0\n",
       "  -0.6    0    0 1200    0    0    0    0    0    0    0    0\n",
       "  -0.4    0    0    0  332    0    0    0    0    0    0    0\n",
       "  -0.2    0    0    0    0  322    0    0    0    0    0    0\n",
       "  0       0    0    0    0    0  337    0    0    0    0    0\n",
       "  0.2     0    0    0    0    0    0 1180    0    0    0    0\n",
       "  0.4     0    0    0    0    0    0    0  774    0    0    0\n",
       "  0.6     0    0    0    0    0    0    0    0 1194    0    0\n",
       "  0.8     0    0    0    0    0    0    0    0    0 1204    0\n",
       "  1       0    0    0    0    0    0    0    0    0    0  292\n",
       "\n",
       ", , subnum = 621\n",
       "\n",
       "      orientation\n",
       "valueO    0   15   30   45   60   75   90  105  120  135  150\n",
       "  -1      0    0    0    0    0    0    0    0    0    0  763\n",
       "  -0.8    0    0    0    0    0    0    0    0    0  337    0\n",
       "  -0.6    0    0    0    0    0    0    0    0  308    0    0\n",
       "  -0.4    0    0    0    0    0    0    0  757    0    0    0\n",
       "  -0.2    0    0    0    0    0    0 1188    0    0    0    0\n",
       "  0       0    0    0    0    0 1188    0    0    0    0    0\n",
       "  0.2     0    0    0    0  776    0    0    0    0    0    0\n",
       "  0.4     0    0    0  763    0    0    0    0    0    0    0\n",
       "  0.6     0    0  788    0    0    0    0    0    0    0    0\n",
       "  0.8     0  308    0    0    0    0    0    0    0    0    0\n",
       "  1    1624    0    0    0    0    0    0    0    0    0    0\n",
       "\n",
       ", , subnum = 629\n",
       "\n",
       "      orientation\n",
       "valueO    0   15   30   45   60   75   90  105  120  135  150\n",
       "  -1   2090    0    0    0    0    0    0    0    0    0    0\n",
       "  -0.8    0  316    0    0    0    0    0    0    0    0    0\n",
       "  -0.6    0    0  346    0    0    0    0    0    0    0    0\n",
       "  -0.4    0    0    0  745    0    0    0    0    0    0    0\n",
       "  -0.2    0    0    0    0  758    0    0    0    0    0    0\n",
       "  0       0    0    0    0    0  321    0    0    0    0    0\n",
       "  0.2     0    0    0    0    0    0 1197    0    0    0    0\n",
       "  0.4     0    0    0    0    0    0    0  753    0    0    0\n",
       "  0.6     0    0    0    0    0    0    0    0  733    0    0\n",
       "  0.8     0    0    0    0    0    0    0    0    0  777    0\n",
       "  1       0    0    0    0    0    0    0    0    0    0  764\n"
      ]
     },
     "metadata": {},
     "output_type": "display_data"
    }
   ],
   "source": [
    "with(data_yn, table(valueO, orientation, subnum))"
   ]
  },
  {
   "cell_type": "markdown",
   "id": "77556ea4",
   "metadata": {},
   "source": [
    "Possible values for the value weight of each filling weight"
   ]
  },
  {
   "cell_type": "code",
   "execution_count": 30,
   "id": "197cf9c6",
   "metadata": {
    "vscode": {
     "languageId": "r"
    }
   },
   "outputs": [
    {
     "data": {
      "text/html": [
       "<style>\n",
       ".list-inline {list-style: none; margin:0; padding: 0}\n",
       ".list-inline>li {display: inline-block}\n",
       ".list-inline>li:not(:last-child)::after {content: \"\\00b7\"; padding: 0 .5ex}\n",
       "</style>\n",
       "<ol class=list-inline><li>0.4</li><li>0.8</li><li>-0.8</li><li>1</li><li>-1</li><li>0</li><li>-0.4</li><li>-0.6</li><li>-0.2</li><li>0.6</li><li>0.2</li></ol>\n"
      ],
      "text/latex": [
       "\\begin{enumerate*}\n",
       "\\item 0.4\n",
       "\\item 0.8\n",
       "\\item -0.8\n",
       "\\item 1\n",
       "\\item -1\n",
       "\\item 0\n",
       "\\item -0.4\n",
       "\\item -0.6\n",
       "\\item -0.2\n",
       "\\item 0.6\n",
       "\\item 0.2\n",
       "\\end{enumerate*}\n"
      ],
      "text/markdown": [
       "1. 0.4\n",
       "2. 0.8\n",
       "3. -0.8\n",
       "4. 1\n",
       "5. -1\n",
       "6. 0\n",
       "7. -0.4\n",
       "8. -0.6\n",
       "9. -0.2\n",
       "10. 0.6\n",
       "11. 0.2\n",
       "\n",
       "\n"
      ],
      "text/plain": [
       " [1]  0.4  0.8 -0.8  1.0 -1.0  0.0 -0.4 -0.6 -0.2  0.6  0.2"
      ]
     },
     "metadata": {},
     "output_type": "display_data"
    }
   ],
   "source": [
    "unique(data_yn$valueF)"
   ]
  },
  {
   "cell_type": "markdown",
   "id": "3edd23dd",
   "metadata": {},
   "source": [
    "Frequency of each filling value weight"
   ]
  },
  {
   "cell_type": "code",
   "execution_count": 31,
   "id": "57a579c2",
   "metadata": {
    "vscode": {
     "languageId": "r"
    }
   },
   "outputs": [
    {
     "data": {
      "text/plain": [
       "\n",
       "   -1  -0.8  -0.6  -0.4  -0.2     0   0.2   0.4   0.6   0.8     1 \n",
       " 2818  5038  3672  4552  2785 14130  3754  2390  3708  5373  4580 "
      ]
     },
     "metadata": {},
     "output_type": "display_data"
    }
   ],
   "source": [
    "table(data_yn$valueF)"
   ]
  },
  {
   "cell_type": "markdown",
   "id": "5cf3c889",
   "metadata": {},
   "source": [
    "Filling weight 0 has 0 value and the further away from 0 has larger gain/loss. All filling weights are associated with one absolute value except for filling weight |0.4| which can have a value of |0.4| or |0.6|."
   ]
  },
  {
   "cell_type": "code",
   "execution_count": 32,
   "id": "943cdd07",
   "metadata": {
    "vscode": {
     "languageId": "r"
    }
   },
   "outputs": [
    {
     "data": {
      "text/plain": [
       "      filling\n",
       "valueF -0.85  -0.6  -0.4  -0.2     0   0.2   0.4   0.6  0.85\n",
       "  -1    1419     0     0     0     0     0     0     0  1399\n",
       "  -0.8     0  3165     0     0     0     0     0  1873     0\n",
       "  -0.6     0     0  1847     0     0     0  1825     0     0\n",
       "  -0.4     0     0  1387     0     0     0  3165     0     0\n",
       "  -0.2     0     0     0  1387     0  1398     0     0     0\n",
       "  0        0     0     0     0 14130     0     0     0     0\n",
       "  0.2      0     0     0  2328     0  1426     0     0     0\n",
       "  0.4      0     0  1411     0     0     0   979     0     0\n",
       "  0.6      0     0  2281     0     0     0  1427     0     0\n",
       "  0.8      0  2685     0     0     0     0     0  2688     0\n",
       "  1     1835     0     0     0     0     0     0     0  2745"
      ]
     },
     "metadata": {},
     "output_type": "display_data"
    }
   ],
   "source": [
    "with(data_yn, table(valueF, filling))"
   ]
  },
  {
   "cell_type": "markdown",
   "id": "024f0d49",
   "metadata": {},
   "source": [
    "Whether a filling will have a positive or negative value weight varies for each subject."
   ]
  },
  {
   "cell_type": "code",
   "execution_count": 33,
   "id": "48bd1fdd",
   "metadata": {
    "vscode": {
     "languageId": "r"
    }
   },
   "outputs": [
    {
     "data": {
      "text/plain": [
       ", , subnum = 601\n",
       "\n",
       "      filling\n",
       "valueF -0.85 -0.6 -0.4 -0.2    0  0.2  0.4  0.6 0.85\n",
       "  -1     337    0    0    0    0    0    0    0    0\n",
       "  -0.8     0 1619    0    0    0    0    0    0    0\n",
       "  -0.6     0    0  773    0    0    0    0    0    0\n",
       "  -0.4     0    0  310    0    0    0    0    0    0\n",
       "  -0.2     0    0    0  321    0    0    0    0    0\n",
       "  0        0    0    0    0 2068    0    0    0    0\n",
       "  0.2      0    0    0    0    0  344    0    0    0\n",
       "  0.4      0    0    0    0    0    0  329    0    0\n",
       "  0.6      0    0    0    0    0    0  316    0    0\n",
       "  0.8      0    0    0    0    0    0    0 1182    0\n",
       "  1        0    0    0    0    0    0    0    0 1201\n",
       "\n",
       ", , subnum = 609\n",
       "\n",
       "      filling\n",
       "valueF -0.85 -0.6 -0.4 -0.2    0  0.2  0.4  0.6 0.85\n",
       "  -1       0    0    0    0    0    0    0    0  750\n",
       "  -0.8     0    0    0    0    0    0    0  766    0\n",
       "  -0.6     0    0    0    0    0    0  775    0    0\n",
       "  -0.4     0    0    0    0    0    0  323    0    0\n",
       "  -0.2     0    0    0    0    0  333    0    0    0\n",
       "  0        0    0    0    0 2071    0    0    0    0\n",
       "  0.2      0    0    0  761    0    0    0    0    0\n",
       "  0.4      0    0  318    0    0    0    0    0    0\n",
       "  0.6      0    0  335    0    0    0    0    0    0\n",
       "  0.8      0 1617    0    0    0    0    0    0    0\n",
       "  1      751    0    0    0    0    0    0    0    0\n",
       "\n",
       ", , subnum = 611\n",
       "\n",
       "      filling\n",
       "valueF -0.85 -0.6 -0.4 -0.2    0  0.2  0.4  0.6 0.85\n",
       "  -1       0    0    0    0    0    0    0    0  316\n",
       "  -0.8     0    0    0    0    0    0    0  342    0\n",
       "  -0.6     0    0    0    0    0    0  734    0    0\n",
       "  -0.4     0    0    0    0    0    0 1649    0    0\n",
       "  -0.2     0    0    0    0    0  335    0    0    0\n",
       "  0        0    0    0    0 2073    0    0    0    0\n",
       "  0.2      0    0    0  775    0    0    0    0    0\n",
       "  0.4      0    0  757    0    0    0    0    0    0\n",
       "  0.6      0    0  315    0    0    0    0    0    0\n",
       "  0.8      0  740    0    0    0    0    0    0    0\n",
       "  1      764    0    0    0    0    0    0    0    0\n",
       "\n",
       ", , subnum = 619\n",
       "\n",
       "      filling\n",
       "valueF -0.85 -0.6 -0.4 -0.2    0  0.2  0.4  0.6 0.85\n",
       "  -1     335    0    0    0    0    0    0    0    0\n",
       "  -0.8     0 1192    0    0    0    0    0    0    0\n",
       "  -0.6     0    0  764    0    0    0    0    0    0\n",
       "  -0.4     0    0  771    0    0    0    0    0    0\n",
       "  -0.2     0    0    0  306    0    0    0    0    0\n",
       "  0        0    0    0    0 2492    0    0    0    0\n",
       "  0.2      0    0    0    0    0  324    0    0    0\n",
       "  0.4      0    0    0    0    0    0  319    0    0\n",
       "  0.6      0    0    0    0    0    0  769    0    0\n",
       "  0.8      0    0    0    0    0    0    0  755    0\n",
       "  1        0    0    0    0    0    0    0    0  773\n",
       "\n",
       ", , subnum = 621\n",
       "\n",
       "      filling\n",
       "valueF -0.85 -0.6 -0.4 -0.2    0  0.2  0.4  0.6 0.85\n",
       "  -1     747    0    0    0    0    0    0    0    0\n",
       "  -0.8     0  354    0    0    0    0    0    0    0\n",
       "  -0.6     0    0  310    0    0    0    0    0    0\n",
       "  -0.4     0    0  306    0    0    0    0    0    0\n",
       "  -0.2     0    0    0  760    0    0    0    0    0\n",
       "  0        0    0    0    0 3370    0    0    0    0\n",
       "  0.2      0    0    0    0    0  758    0    0    0\n",
       "  0.4      0    0    0    0    0    0  331    0    0\n",
       "  0.6      0    0    0    0    0    0  342    0    0\n",
       "  0.8      0    0    0    0    0    0    0  751    0\n",
       "  1        0    0    0    0    0    0    0    0  771\n",
       "\n",
       ", , subnum = 629\n",
       "\n",
       "      filling\n",
       "valueF -0.85 -0.6 -0.4 -0.2    0  0.2  0.4  0.6 0.85\n",
       "  -1       0    0    0    0    0    0    0    0  333\n",
       "  -0.8     0    0    0    0    0    0    0  765    0\n",
       "  -0.6     0    0    0    0    0    0  316    0    0\n",
       "  -0.4     0    0    0    0    0    0 1193    0    0\n",
       "  -0.2     0    0    0    0    0  730    0    0    0\n",
       "  0        0    0    0    0 2056    0    0    0    0\n",
       "  0.2      0    0    0  792    0    0    0    0    0\n",
       "  0.4      0    0  336    0    0    0    0    0    0\n",
       "  0.6      0    0 1631    0    0    0    0    0    0\n",
       "  0.8      0  328    0    0    0    0    0    0    0\n",
       "  1      320    0    0    0    0    0    0    0    0\n"
      ]
     },
     "metadata": {},
     "output_type": "display_data"
    }
   ],
   "source": [
    "with(data_yn, table(valueF, filling, subnum))"
   ]
  },
  {
   "cell_type": "markdown",
   "id": "662b13b0",
   "metadata": {},
   "source": [
    "Possible values for the value weight of each shape"
   ]
  },
  {
   "cell_type": "code",
   "execution_count": 34,
   "id": "9e4a8eeb",
   "metadata": {
    "vscode": {
     "languageId": "r"
    }
   },
   "outputs": [
    {
     "data": {
      "text/html": [
       "<style>\n",
       ".list-inline {list-style: none; margin:0; padding: 0}\n",
       ".list-inline>li {display: inline-block}\n",
       ".list-inline>li:not(:last-child)::after {content: \"\\00b7\"; padding: 0 .5ex}\n",
       "</style>\n",
       "<ol class=list-inline><li>0.2</li><li>-1</li><li>-0.2</li><li>0.6</li><li>1</li><li>-0.6</li></ol>\n"
      ],
      "text/latex": [
       "\\begin{enumerate*}\n",
       "\\item 0.2\n",
       "\\item -1\n",
       "\\item -0.2\n",
       "\\item 0.6\n",
       "\\item 1\n",
       "\\item -0.6\n",
       "\\end{enumerate*}\n"
      ],
      "text/markdown": [
       "1. 0.2\n",
       "2. -1\n",
       "3. -0.2\n",
       "4. 0.6\n",
       "5. 1\n",
       "6. -0.6\n",
       "\n",
       "\n"
      ],
      "text/plain": [
       "[1]  0.2 -1.0 -0.2  0.6  1.0 -0.6"
      ]
     },
     "metadata": {},
     "output_type": "display_data"
    }
   ],
   "source": [
    "unique(data_yn$valueS)"
   ]
  },
  {
   "cell_type": "markdown",
   "id": "f726ae7b",
   "metadata": {},
   "source": [
    "Frequency of each shape value weight"
   ]
  },
  {
   "cell_type": "code",
   "execution_count": 35,
   "id": "61b54a35",
   "metadata": {
    "vscode": {
     "languageId": "r"
    }
   },
   "outputs": [
    {
     "data": {
      "text/plain": [
       "\n",
       "  -1 -0.6 -0.2  0.2  0.6    1 \n",
       "9299 9561 9234 6633 9710 8363 "
      ]
     },
     "metadata": {},
     "output_type": "display_data"
    }
   ],
   "source": [
    "table(data_yn$valueS)"
   ]
  },
  {
   "cell_type": "markdown",
   "id": "fcd93cf9",
   "metadata": {},
   "source": [
    "Whether a shape will have a positive or negative value weight varies for each subject."
   ]
  },
  {
   "cell_type": "code",
   "execution_count": 36,
   "id": "1c589f20",
   "metadata": {
    "vscode": {
     "languageId": "r"
    }
   },
   "outputs": [
    {
     "data": {
      "text/plain": [
       ", , subnum = 601\n",
       "\n",
       "      shape\n",
       "valueS    1    2    3    4    5    6\n",
       "  -1      0    0    0    0    0 1035\n",
       "  -0.6    0    0 1895    0    0    0\n",
       "  -0.2    0 2355    0    0    0    0\n",
       "  0.2     0    0    0    0 1045    0\n",
       "  0.6     0    0    0 1452    0    0\n",
       "  1    1018    0    0    0    0    0\n",
       "\n",
       ", , subnum = 609\n",
       "\n",
       "      shape\n",
       "valueS    1    2    3    4    5    6\n",
       "  -1      0    0    0    0 1083    0\n",
       "  -0.6    0    0    0    0    0 2328\n",
       "  -0.2  598    0    0    0    0    0\n",
       "  0.2     0    0    0 1472    0    0\n",
       "  0.6     0 1465    0    0    0    0\n",
       "  1       0    0 1854    0    0    0\n",
       "\n",
       ", , subnum = 611\n",
       "\n",
       "      shape\n",
       "valueS    1    2    3    4    5    6\n",
       "  -1      0    0    0 1889    0    0\n",
       "  -0.6    0 1014    0    0    0    0\n",
       "  -0.2    0    0    0    0    0 1043\n",
       "  0.2  1039    0    0    0    0    0\n",
       "  0.6     0    0    0    0 2337    0\n",
       "  1       0    0 1478    0    0    0\n",
       "\n",
       ", , subnum = 619\n",
       "\n",
       "      shape\n",
       "valueS    1    2    3    4    5    6\n",
       "  -1      0    0    0    0    0 1883\n",
       "  -0.6    0    0    0 2324    0    0\n",
       "  -0.2    0    0    0    0 1464    0\n",
       "  0.2     0    0 1020    0    0    0\n",
       "  0.6  1501    0    0    0    0    0\n",
       "  1       0  608    0    0    0    0\n",
       "\n",
       ", , subnum = 621\n",
       "\n",
       "      shape\n",
       "valueS    1    2    3    4    5    6\n",
       "  -1      0    0    0    0    0 1906\n",
       "  -0.6    0    0 1451    0    0    0\n",
       "  -0.2 1881    0    0    0    0    0\n",
       "  0.2     0    0    0    0 1027    0\n",
       "  0.6     0 1482    0    0    0    0\n",
       "  1       0    0    0 1053    0    0\n",
       "\n",
       ", , subnum = 629\n",
       "\n",
       "      shape\n",
       "valueS    1    2    3    4    5    6\n",
       "  -1      0    0    0    0    0 1503\n",
       "  -0.6    0    0    0  549    0    0\n",
       "  -0.2    0    0    0    0 1893    0\n",
       "  0.2     0 1030    0    0    0    0\n",
       "  0.6     0    0 1473    0    0    0\n",
       "  1    2352    0    0    0    0    0\n"
      ]
     },
     "metadata": {},
     "output_type": "display_data"
    }
   ],
   "source": [
    "with(data_yn, table(valueS, shape, subnum))"
   ]
  },
  {
   "cell_type": "markdown",
   "id": "cb2a7b04",
   "metadata": {},
   "source": [
    "## Session (Run)\n",
    "\n",
    "There is an error in the session column."
   ]
  },
  {
   "cell_type": "code",
   "execution_count": 37,
   "id": "4f29a3ff",
   "metadata": {
    "vscode": {
     "languageId": "r"
    }
   },
   "outputs": [
    {
     "data": {
      "text/html": [
       "<style>\n",
       ".list-inline {list-style: none; margin:0; padding: 0}\n",
       ".list-inline>li {display: inline-block}\n",
       ".list-inline>li:not(:last-child)::after {content: \"\\00b7\"; padding: 0 .5ex}\n",
       "</style>\n",
       "<ol class=list-inline><li>1</li><li>2</li><li>3</li><li>4</li><li>-99</li></ol>\n"
      ],
      "text/latex": [
       "\\begin{enumerate*}\n",
       "\\item 1\n",
       "\\item 2\n",
       "\\item 3\n",
       "\\item 4\n",
       "\\item -99\n",
       "\\end{enumerate*}\n"
      ],
      "text/markdown": [
       "1. 1\n",
       "2. 2\n",
       "3. 3\n",
       "4. 4\n",
       "5. -99\n",
       "\n",
       "\n"
      ],
      "text/plain": [
       "[1]   1   2   3   4 -99"
      ]
     },
     "metadata": {},
     "output_type": "display_data"
    }
   ],
   "source": [
    "unique(data_yn$session)"
   ]
  },
  {
   "cell_type": "markdown",
   "id": "d74411c6",
   "metadata": {},
   "source": [
    "One session 3 is mis-assigned to -99."
   ]
  },
  {
   "cell_type": "code",
   "execution_count": 38,
   "id": "4ffd00c7",
   "metadata": {
    "vscode": {
     "languageId": "r"
    }
   },
   "outputs": [
    {
     "data": {
      "text/plain": [
       "\n",
       "  -99     1     2     3     4 \n",
       "  200 13200 13200 13000 13200 "
      ]
     },
     "metadata": {},
     "output_type": "display_data"
    }
   ],
   "source": [
    "table(data_yn$session)"
   ]
  },
  {
   "cell_type": "markdown",
   "id": "0a943b2a",
   "metadata": {},
   "source": [
    "**Subject 621 does not have session 3 on day 11.**"
   ]
  },
  {
   "cell_type": "code",
   "execution_count": 39,
   "id": "59c90fde",
   "metadata": {
    "vscode": {
     "languageId": "r"
    }
   },
   "outputs": [
    {
     "data": {
      "text/plain": [
       "      session\n",
       "subnum  -99    1    2    3    4\n",
       "   601    0 2200 2200 2200 2200\n",
       "   609    0 2200 2200 2200 2200\n",
       "   611    0 2200 2200 2200 2200\n",
       "   619    0 2200 2200 2200 2200\n",
       "   621  200 2200 2200 2000 2200\n",
       "   629    0 2200 2200 2200 2200"
      ]
     },
     "metadata": {},
     "output_type": "display_data"
    }
   ],
   "source": [
    "with(data_yn, table(subnum, session))"
   ]
  },
  {
   "cell_type": "code",
   "execution_count": 40,
   "id": "20f98ad2",
   "metadata": {
    "vscode": {
     "languageId": "r"
    }
   },
   "outputs": [],
   "source": [
    "data_yn_clean = data_yn %>%\n",
    "  filter(session != -99)"
   ]
  },
  {
   "cell_type": "markdown",
   "id": "e4f8966f",
   "metadata": {},
   "source": [
    "What exactly are these sessions compared with `day` and `week` columns? They are runs. Subjects complete 4 runs of 200 trials per visit."
   ]
  },
  {
   "cell_type": "code",
   "execution_count": 41,
   "id": "ca5c5f81",
   "metadata": {
    "vscode": {
     "languageId": "r"
    }
   },
   "outputs": [
    {
     "data": {
      "text/plain": [
       "       week\n",
       "session    1    2    3\n",
       "      1 4800 4800 3600\n",
       "      2 4800 4800 3600\n",
       "      3 4800 4800 3400\n",
       "      4 4800 4800 3600"
      ]
     },
     "metadata": {},
     "output_type": "display_data"
    }
   ],
   "source": [
    "with(data_yn_clean, table(session, week))"
   ]
  },
  {
   "cell_type": "code",
   "execution_count": 42,
   "id": "fc928c25",
   "metadata": {
    "vscode": {
     "languageId": "r"
    }
   },
   "outputs": [
    {
     "data": {
      "text/plain": [
       "       day\n",
       "session    1    2    3    4    5    6    7    8    9   10   11\n",
       "    -99    0    0    0    0    0    0    0    0    0    0  200\n",
       "    1   1200 1200 1200 1200 1200 1200 1200 1200 1200 1200 1200\n",
       "    2   1200 1200 1200 1200 1200 1200 1200 1200 1200 1200 1200\n",
       "    3   1200 1200 1200 1200 1200 1200 1200 1200 1200 1200 1000\n",
       "    4   1200 1200 1200 1200 1200 1200 1200 1200 1200 1200 1200"
      ]
     },
     "metadata": {},
     "output_type": "display_data"
    }
   ],
   "source": [
    "with(data_yn, table(session, day))"
   ]
  },
  {
   "cell_type": "markdown",
   "id": "b325bb66",
   "metadata": {},
   "source": [
    "## Choice\n",
    "\n",
    "Choice data is missing for one run so looking at choice only in dataset that excludes run 3 of day 11 for subnum 621.  \n",
    "\n",
    "In the remaining data the only values for whether \"Yes\" was chosen are:  "
   ]
  },
  {
   "cell_type": "code",
   "execution_count": 43,
   "id": "58a5476a",
   "metadata": {
    "vscode": {
     "languageId": "r"
    }
   },
   "outputs": [
    {
     "data": {
      "text/html": [
       "<style>\n",
       ".list-inline {list-style: none; margin:0; padding: 0}\n",
       ".list-inline>li {display: inline-block}\n",
       ".list-inline>li:not(:last-child)::after {content: \"\\00b7\"; padding: 0 .5ex}\n",
       "</style>\n",
       "<ol class=list-inline><li>1</li><li>0</li></ol>\n"
      ],
      "text/latex": [
       "\\begin{enumerate*}\n",
       "\\item 1\n",
       "\\item 0\n",
       "\\end{enumerate*}\n"
      ],
      "text/markdown": [
       "1. 1\n",
       "2. 0\n",
       "\n",
       "\n"
      ],
      "text/plain": [
       "[1] 1 0"
      ]
     },
     "metadata": {},
     "output_type": "display_data"
    }
   ],
   "source": [
    "unique(data_yn_clean$yesChosen)"
   ]
  },
  {
   "cell_type": "markdown",
   "id": "aff328d5",
   "metadata": {},
   "source": [
    "Response buttons"
   ]
  },
  {
   "cell_type": "code",
   "execution_count": 44,
   "id": "57c9f17d",
   "metadata": {
    "vscode": {
     "languageId": "r"
    }
   },
   "outputs": [
    {
     "data": {
      "text/html": [
       "<style>\n",
       ".list-inline {list-style: none; margin:0; padding: 0}\n",
       ".list-inline>li {display: inline-block}\n",
       ".list-inline>li:not(:last-child)::after {content: \"\\00b7\"; padding: 0 .5ex}\n",
       "</style>\n",
       "<ol class=list-inline><li>39</li><li>37</li><li>49</li><li>51</li></ol>\n"
      ],
      "text/latex": [
       "\\begin{enumerate*}\n",
       "\\item 39\n",
       "\\item 37\n",
       "\\item 49\n",
       "\\item 51\n",
       "\\end{enumerate*}\n"
      ],
      "text/markdown": [
       "1. 39\n",
       "2. 37\n",
       "3. 49\n",
       "4. 51\n",
       "\n",
       "\n"
      ],
      "text/plain": [
       "[1] 39 37 49 51"
      ]
     },
     "metadata": {},
     "output_type": "display_data"
    }
   ],
   "source": [
    "unique(data_yn_clean$response)"
   ]
  },
  {
   "cell_type": "code",
   "execution_count": 45,
   "id": "a9a7b7c4",
   "metadata": {
    "vscode": {
     "languageId": "r"
    }
   },
   "outputs": [
    {
     "data": {
      "text/plain": [
       "    response\n",
       "fmri    37    39    49    51\n",
       "   0 22754 22646     0     0\n",
       "   1     0     0  4049  3151"
      ]
     },
     "metadata": {},
     "output_type": "display_data"
    }
   ],
   "source": [
    "with(data_yn_clean, table(fmri,response))"
   ]
  },
  {
   "cell_type": "markdown",
   "id": "e7d2c5a2",
   "metadata": {},
   "source": [
    "Yes button counterbalanced across subjects."
   ]
  },
  {
   "cell_type": "code",
   "execution_count": 46,
   "id": "b474b05e",
   "metadata": {
    "vscode": {
     "languageId": "r"
    }
   },
   "outputs": [
    {
     "data": {
      "text/plain": [
       ", , subnum = 601\n",
       "\n",
       "         response\n",
       "yesChosen   37   39   49   51\n",
       "        0 4209    0    0  422\n",
       "        1    0 3391  778    0\n",
       "\n",
       ", , subnum = 609\n",
       "\n",
       "         response\n",
       "yesChosen   37   39   49   51\n",
       "        0 3713    0    0  400\n",
       "        1    0 3887  800    0\n",
       "\n",
       ", , subnum = 611\n",
       "\n",
       "         response\n",
       "yesChosen   37   39   49   51\n",
       "        0 3585    0    0  760\n",
       "        1    0 4015  440    0\n",
       "\n",
       ", , subnum = 619\n",
       "\n",
       "         response\n",
       "yesChosen   37   39   49   51\n",
       "        0    0 4327  739    0\n",
       "        1 3273    0    0  461\n",
       "\n",
       ", , subnum = 621\n",
       "\n",
       "         response\n",
       "yesChosen   37   39   49   51\n",
       "        0    0 3205  765    0\n",
       "        1 4195    0    0  435\n",
       "\n",
       ", , subnum = 629\n",
       "\n",
       "         response\n",
       "yesChosen   37   39   49   51\n",
       "        0    0 3821  527    0\n",
       "        1 3779    0    0  673\n"
      ]
     },
     "metadata": {},
     "output_type": "display_data"
    }
   ],
   "source": [
    "with(data_yn_clean, table(yesChosen,response, subnum))"
   ]
  },
  {
   "cell_type": "markdown",
   "id": "b55fca37",
   "metadata": {},
   "source": [
    "## Payoff\n",
    "\n",
    "The actual payoffs are higher than the possiblePayoffs presumably because subjects initially reject gambling and learn about the possible payoffs of the stimuli and then choose to play gambles with positive expected value."
   ]
  },
  {
   "cell_type": "code",
   "execution_count": 47,
   "id": "6731eafd",
   "metadata": {
    "vscode": {
     "languageId": "r"
    }
   },
   "outputs": [
    {
     "data": {
      "text/plain": [
       "   Min. 1st Qu.  Median    Mean 3rd Qu.    Max. \n",
       "-143.00    0.00   25.00   26.98   50.00  160.00 "
      ]
     },
     "metadata": {},
     "output_type": "display_data"
    }
   ],
   "source": [
    "summary(data_yn_clean$payoff)"
   ]
  },
  {
   "cell_type": "code",
   "execution_count": 48,
   "id": "b54438b6",
   "metadata": {
    "vscode": {
     "languageId": "r"
    }
   },
   "outputs": [
    {
     "data": {
      "text/plain": [
       "     Min.   1st Qu.    Median      Mean   3rd Qu.      Max. \n",
       "-168.0000  -35.0000    2.0000    0.7748   40.0000  160.0000 "
      ]
     },
     "metadata": {},
     "output_type": "display_data"
    }
   ],
   "source": [
    "summary(data_yn_clean$possiblePayoff)"
   ]
  },
  {
   "cell_type": "markdown",
   "id": "b592c603",
   "metadata": {},
   "source": [
    "## Reference value\n",
    "\n",
    "Frequency of the reference value for when subject chooses \"No\" for a stim:"
   ]
  },
  {
   "cell_type": "code",
   "execution_count": 49,
   "id": "c8179151",
   "metadata": {
    "vscode": {
     "languageId": "r"
    }
   },
   "outputs": [
    {
     "data": {
      "text/plain": [
       "      reference\n",
       "subnum  -50    0   50\n",
       "   601 2200 4400 2200\n",
       "   609 2200 4400 2200\n",
       "   611 2200 4400 2200\n",
       "   619 2200 4400 2200\n",
       "   621 2000 4400 2200\n",
       "   629 2200 4400 2200"
      ]
     },
     "metadata": {},
     "output_type": "display_data"
    }
   ],
   "source": [
    "with(data_yn_clean, table(subnum, reference))"
   ]
  },
  {
   "cell_type": "code",
   "execution_count": 50,
   "id": "eb77dfc3",
   "metadata": {
    "vscode": {
     "languageId": "r"
    }
   },
   "outputs": [
    {
     "data": {
      "text/plain": [
       ", , reference = -50\n",
       "\n",
       "      day\n",
       "subnum   1   2   3   4   5   6   7   8   9  10  11\n",
       "   601 200 200 200 200 200 200 200 200 200 200 200\n",
       "   609 200 200 200 200 200 200 200 200 200 200 200\n",
       "   611 200 200 200 200 200 200 200 200 200 200 200\n",
       "   619 200 200 200 200 200 200 200 200 200 200 200\n",
       "   621 200 200 200 200 200 200 200 200 200 200   0\n",
       "   629 200 200 200 200 200 200 200 200 200 200 200\n",
       "\n",
       ", , reference = 0\n",
       "\n",
       "      day\n",
       "subnum   1   2   3   4   5   6   7   8   9  10  11\n",
       "   601 400 400 400 400 400 400 400 400 400 400 400\n",
       "   609 400 400 400 400 400 400 400 400 400 400 400\n",
       "   611 400 400 400 400 400 400 400 400 400 400 400\n",
       "   619 400 400 400 400 400 400 400 400 400 400 400\n",
       "   621 400 400 400 400 400 400 400 400 400 400 400\n",
       "   629 400 400 400 400 400 400 400 400 400 400 400\n",
       "\n",
       ", , reference = 50\n",
       "\n",
       "      day\n",
       "subnum   1   2   3   4   5   6   7   8   9  10  11\n",
       "   601 200 200 200 200 200 200 200 200 200 200 200\n",
       "   609 200 200 200 200 200 200 200 200 200 200 200\n",
       "   611 200 200 200 200 200 200 200 200 200 200 200\n",
       "   619 200 200 200 200 200 200 200 200 200 200 200\n",
       "   621 200 200 200 200 200 200 200 200 200 200 200\n",
       "   629 200 200 200 200 200 200 200 200 200 200 200\n"
      ]
     },
     "metadata": {},
     "output_type": "display_data"
    }
   ],
   "source": [
    "with(data_yn_clean, table(subnum, day, reference))"
   ]
  },
  {
   "cell_type": "code",
   "execution_count": 51,
   "id": "6369a363",
   "metadata": {
    "vscode": {
     "languageId": "r"
    }
   },
   "outputs": [
    {
     "data": {
      "text/plain": [
       ", , reference = -50\n",
       "\n",
       "      session\n",
       "subnum    1    2    3    4\n",
       "   601    0    0 2200    0\n",
       "   609    0    0 2200    0\n",
       "   611    0    0 2200    0\n",
       "   619    0    0 2200    0\n",
       "   621    0    0 2000    0\n",
       "   629    0    0 2200    0\n",
       "\n",
       ", , reference = 0\n",
       "\n",
       "      session\n",
       "subnum    1    2    3    4\n",
       "   601 2200    0    0 2200\n",
       "   609 2200    0    0 2200\n",
       "   611 2200    0    0 2200\n",
       "   619 2200    0    0 2200\n",
       "   621 2200    0    0 2200\n",
       "   629 2200    0    0 2200\n",
       "\n",
       ", , reference = 50\n",
       "\n",
       "      session\n",
       "subnum    1    2    3    4\n",
       "   601    0 2200    0    0\n",
       "   609    0 2200    0    0\n",
       "   611    0 2200    0    0\n",
       "   619    0 2200    0    0\n",
       "   621    0 2200    0    0\n",
       "   629    0 2200    0    0\n"
      ]
     },
     "metadata": {},
     "output_type": "display_data"
    }
   ],
   "source": [
    "with(data_yn_clean, table(subnum, session, reference))"
   ]
  },
  {
   "cell_type": "markdown",
   "id": "97cf0d8d",
   "metadata": {},
   "source": [
    "There are the same number of trials for each reference value in the scanner across subjects but these are not equally distributed across subjects. A third of the subjects have seen all reference values in the scanner while the other two thirds have either not seen the 50 or -50 in the scanner."
   ]
  },
  {
   "cell_type": "code",
   "execution_count": 52,
   "id": "0aaff884",
   "metadata": {
    "vscode": {
     "languageId": "r"
    }
   },
   "outputs": [
    {
     "data": {
      "text/plain": [
       ", , fmri = 0\n",
       "\n",
       "      reference\n",
       "subnum  -50    0   50\n",
       "   601 1600 3800 2200\n",
       "   609 1600 3800 2200\n",
       "   611 2200 3800 1600\n",
       "   619 2000 3800 1800\n",
       "   621 2000 3800 1600\n",
       "   629 1800 3800 2000\n",
       "\n",
       ", , fmri = 1\n",
       "\n",
       "      reference\n",
       "subnum  -50    0   50\n",
       "   601  600  600    0\n",
       "   609  600  600    0\n",
       "   611    0  600  600\n",
       "   619  200  600  400\n",
       "   621    0  600  600\n",
       "   629  400  600  200\n"
      ]
     },
     "metadata": {},
     "output_type": "display_data"
    }
   ],
   "source": [
    "with(data_yn_clean, table(subnum, reference, fmri))"
   ]
  },
  {
   "cell_type": "markdown",
   "id": "aec03ff4",
   "metadata": {},
   "source": [
    "## fMRI trials\n",
    "\n",
    "Number of trials for each run of the task in and out of the scanner across subjects"
   ]
  },
  {
   "cell_type": "code",
   "execution_count": 53,
   "id": "250de224",
   "metadata": {
    "vscode": {
     "languageId": "r"
    }
   },
   "outputs": [
    {
     "data": {
      "text/plain": [
       ", , fmri = 0\n",
       "\n",
       "      session\n",
       "subnum    1    2    3    4\n",
       "   601 2200 2200 1600 1600\n",
       "   609 2200 2200 1600 1600\n",
       "   611 2200 1600 2200 1600\n",
       "   619 2200 1800 2000 1600\n",
       "   621 2200 1600 2000 1600\n",
       "   629 2200 2000 1800 1600\n",
       "\n",
       ", , fmri = 1\n",
       "\n",
       "      session\n",
       "subnum    1    2    3    4\n",
       "   601    0    0  600  600\n",
       "   609    0    0  600  600\n",
       "   611    0  600    0  600\n",
       "   619    0  400  200  600\n",
       "   621    0  600    0  600\n",
       "   629    0  200  400  600\n"
      ]
     },
     "metadata": {},
     "output_type": "display_data"
    }
   ],
   "source": [
    "with(data_yn_clean, table(subnum, session, fmri))"
   ]
  },
  {
   "cell_type": "markdown",
   "id": "6e35443a",
   "metadata": {},
   "source": [
    "All subjects have 400 trials (2 runs) per each of the 3 fmri visits"
   ]
  },
  {
   "cell_type": "code",
   "execution_count": 54,
   "id": "145d82e2",
   "metadata": {
    "vscode": {
     "languageId": "r"
    }
   },
   "outputs": [
    {
     "data": {
      "text/plain": [
       ", , fmri = 0\n",
       "\n",
       "      day\n",
       "subnum   1   2   3   4   5   6   7   8   9  10  11\n",
       "   601 800 800 400 800 800 800 400 800 800 800 400\n",
       "   609 800 800 400 800 800 800 400 800 800 800 400\n",
       "   611 800 800 400 800 800 800 400 800 800 800 400\n",
       "   619 800 800 400 800 800 800 400 800 800 800 400\n",
       "   621 800 800 400 800 800 800 400 800 800 800 200\n",
       "   629 800 800 400 800 800 800 400 800 800 800 400\n",
       "\n",
       ", , fmri = 1\n",
       "\n",
       "      day\n",
       "subnum   1   2   3   4   5   6   7   8   9  10  11\n",
       "   601   0   0 400   0   0   0 400   0   0   0 400\n",
       "   609   0   0 400   0   0   0 400   0   0   0 400\n",
       "   611   0   0 400   0   0   0 400   0   0   0 400\n",
       "   619   0   0 400   0   0   0 400   0   0   0 400\n",
       "   621   0   0 400   0   0   0 400   0   0   0 400\n",
       "   629   0   0 400   0   0   0 400   0   0   0 400\n"
      ]
     },
     "metadata": {},
     "output_type": "display_data"
    }
   ],
   "source": [
    "with(data_yn_clean, table(subnum, day, fmri))"
   ]
  },
  {
   "cell_type": "markdown",
   "id": "3fc04bd7",
   "metadata": {},
   "source": [
    "Subjects completed 2nd to 4th sesssions in the scanner, never the first session. **But I'm not sure if subjects who completed sessions 2 and 4 were taken out of the scanner for session 3.**"
   ]
  },
  {
   "cell_type": "code",
   "execution_count": 55,
   "id": "65ddc3fb",
   "metadata": {
    "vscode": {
     "languageId": "r"
    }
   },
   "outputs": [
    {
     "data": {
      "text/plain": [
       ", , day = 3\n",
       "\n",
       "      session\n",
       "subnum   2   3   4\n",
       "   601   0 200 200\n",
       "   609   0 200 200\n",
       "   611 200   0 200\n",
       "   619 200   0 200\n",
       "   621 200   0 200\n",
       "   629   0 200 200\n",
       "\n",
       ", , day = 7\n",
       "\n",
       "      session\n",
       "subnum   2   3   4\n",
       "   601   0 200 200\n",
       "   609   0 200 200\n",
       "   611 200   0 200\n",
       "   619 200   0 200\n",
       "   621 200   0 200\n",
       "   629   0 200 200\n",
       "\n",
       ", , day = 11\n",
       "\n",
       "      session\n",
       "subnum   2   3   4\n",
       "   601   0 200 200\n",
       "   609   0 200 200\n",
       "   611 200   0 200\n",
       "   619   0 200 200\n",
       "   621 200   0 200\n",
       "   629 200   0 200\n"
      ]
     },
     "metadata": {},
     "output_type": "display_data"
    }
   ],
   "source": [
    "with(data_yn_clean %>% filter(fmri==1), table(subnum, session, day))"
   ]
  },
  {
   "cell_type": "markdown",
   "id": "82a69e25",
   "metadata": {},
   "source": [
    "## RT\n",
    "\n",
    "Any negative RTs? No."
   ]
  },
  {
   "cell_type": "code",
   "execution_count": 56,
   "id": "60043f8c",
   "metadata": {
    "vscode": {
     "languageId": "r"
    }
   },
   "outputs": [
    {
     "data": {
      "text/html": [
       "0"
      ],
      "text/latex": [
       "0"
      ],
      "text/markdown": [
       "0"
      ],
      "text/plain": [
       "[1] 0"
      ]
     },
     "metadata": {},
     "output_type": "display_data"
    }
   ],
   "source": [
    "sum(data_yn_clean$rt< 0)"
   ]
  },
  {
   "cell_type": "markdown",
   "id": "ee6973c8",
   "metadata": {},
   "source": [
    "Distribution of the RTs."
   ]
  },
  {
   "cell_type": "code",
   "execution_count": 57,
   "id": "b5c331d8",
   "metadata": {
    "vscode": {
     "languageId": "r"
    }
   },
   "outputs": [
    {
     "data": {
      "text/plain": [
       "   Min. 1st Qu.  Median    Mean 3rd Qu.    Max. \n",
       " 0.0009  0.5291  0.6551  0.9094  0.9261 55.7349 "
      ]
     },
     "metadata": {},
     "output_type": "display_data"
    }
   ],
   "source": [
    "summary(data_yn_clean$rt)"
   ]
  },
  {
   "cell_type": "markdown",
   "id": "7d9fe4c1",
   "metadata": {},
   "source": [
    "There are some trials with very long RTs"
   ]
  },
  {
   "cell_type": "code",
   "execution_count": 58,
   "id": "f06a0d23",
   "metadata": {
    "vscode": {
     "languageId": "r"
    }
   },
   "outputs": [
    {
     "data": {
      "image/png": "[encoded data removed]",
      "text/plain": [
       "plot without title"
      ]
     },
     "metadata": {
      "image/png": {
       "height": 420,
       "width": 420
      }
     },
     "output_type": "display_data"
    }
   ],
   "source": [
    "data_yn_clean %>%\n",
    "  filter(rt>5) %>%\n",
    "  ggplot(aes(rt))+\n",
    "  geom_histogram(alpha=0.5, bins=30)+\n",
    "  theme(panel.grid = element_blank())+\n",
    "  facet_wrap(~subnum)+\n",
    "  xlab(\"\")+\n",
    "  labs(title=\"RT>5s trials\")"
   ]
  },
  {
   "cell_type": "markdown",
   "id": "33b88add",
   "metadata": {},
   "source": [
    "Number of trials with longer than 5 s RTs for each subject across visits."
   ]
  },
  {
   "cell_type": "code",
   "execution_count": 59,
   "id": "db5dfc74",
   "metadata": {
    "vscode": {
     "languageId": "r"
    }
   },
   "outputs": [
    {
     "data": {
      "text/plain": [
       "      day\n",
       "subnum  1  2  3  4  5  6  7  8  9 10 11\n",
       "   601  9  1  1  2  1  0  1  2  0  1  2\n",
       "   609  0  1  3  2  3  2 16 13 36 13 24\n",
       "   611 28  0  0  0  0  0 12  0  0  0  1\n",
       "   619  3  1  3  1  2  1 13  0  2  6  8\n",
       "   621 51 13  3 10  3  0  1  1  4  1  3\n",
       "   629 33  7 11  4 11  8  7 15 13  8  3"
      ]
     },
     "metadata": {},
     "output_type": "display_data"
    }
   ],
   "source": [
    "with(data_yn_clean %>% filter(rt>5), table(subnum, day))"
   ]
  },
  {
   "cell_type": "markdown",
   "id": "3f155088",
   "metadata": {},
   "source": [
    "Proportion of all trials with RT > 5s"
   ]
  },
  {
   "cell_type": "code",
   "execution_count": 60,
   "id": "405368f5",
   "metadata": {
    "vscode": {
     "languageId": "r"
    }
   },
   "outputs": [
    {
     "data": {
      "text/html": [
       "0.00806083650190114"
      ],
      "text/latex": [
       "0.00806083650190114"
      ],
      "text/markdown": [
       "0.00806083650190114"
      ],
      "text/plain": [
       "[1] 0.008060837"
      ]
     },
     "metadata": {},
     "output_type": "display_data"
    }
   ],
   "source": [
    "nrow(data_yn_clean %>% filter(rt>5))/nrow(data_yn_clean)"
   ]
  },
  {
   "cell_type": "markdown",
   "id": "2c8e1c9a",
   "metadata": {},
   "source": [
    "What proportion of slow trials is from each subject?"
   ]
  },
  {
   "cell_type": "code",
   "execution_count": 61,
   "id": "d686c09a",
   "metadata": {
    "vscode": {
     "languageId": "r"
    }
   },
   "outputs": [
    {
     "data": {
      "text/plain": [
       "subnum\n",
       "  601   609   611   619   621   629 \n",
       "0.047 0.267 0.097 0.094 0.212 0.283 "
      ]
     },
     "metadata": {},
     "output_type": "display_data"
    }
   ],
   "source": [
    "round(with(data_yn_clean %>% filter(rt>5), table(subnum))/nrow(data_yn_clean %>% filter(rt>5)), 3)"
   ]
  },
  {
   "cell_type": "markdown",
   "id": "ec4409d3",
   "metadata": {},
   "source": [
    "## Blank columns"
   ]
  },
  {
   "cell_type": "code",
   "execution_count": 62,
   "id": "167a9039",
   "metadata": {
    "vscode": {
     "languageId": "r"
    }
   },
   "outputs": [
    {
     "name": "stdout",
     "output_type": "stream",
     "text": [
      "[1] \"inizialTime\"\n",
      "[1] \"endTime\"\n",
      "[1] \"inizialTimeResp\"\n",
      "[1] \"endTimeResp\"\n"
     ]
    }
   ],
   "source": [
    "for (i in 1:length(names(data_yn))){\n",
    "  cur_col = names(data_yn)[i]\n",
    "  if(unique(data_yn[,cur_col])[1] == \"-99\" && length(unique(data_yn[,cur_col]))==1){\n",
    "    print(cur_col)\n",
    "  }\n",
    "}"
   ]
  },
  {
   "cell_type": "markdown",
   "id": "e0ec0e8a",
   "metadata": {},
   "source": [
    "Drop the above columns without data"
   ]
  },
  {
   "cell_type": "code",
   "execution_count": 63,
   "id": "bd104064",
   "metadata": {
    "vscode": {
     "languageId": "r"
    }
   },
   "outputs": [],
   "source": [
    "data_yn_clean = data_yn_clean %>%\n",
    "  select(-inizialTime, -inizialTimeResp, -endTime, -endTimeResp)"
   ]
  },
  {
   "cell_type": "markdown",
   "id": "ed92dfad",
   "metadata": {},
   "source": [
    "## Eyetracking columns with little description\n",
    "\n",
    "This is probably when each trial began but I don't know what it is in reference to."
   ]
  },
  {
   "cell_type": "code",
   "execution_count": 64,
   "id": "2f362683",
   "metadata": {
    "vscode": {
     "languageId": "r"
    }
   },
   "outputs": [
    {
     "data": {
      "text/html": [
       "52600"
      ],
      "text/latex": [
       "52600"
      ],
      "text/markdown": [
       "52600"
      ],
      "text/plain": [
       "[1] 52600"
      ]
     },
     "metadata": {},
     "output_type": "display_data"
    }
   ],
   "source": [
    "length(unique(data_yn_clean$startFix))"
   ]
  },
  {
   "cell_type": "markdown",
   "id": "5d044081",
   "metadata": {},
   "source": [
    "These are presumably eye-tracking data for fmri trial but no idea what units they are in or what the reference is. I'll keep them but can't use them for any analysis yet."
   ]
  },
  {
   "cell_type": "code",
   "execution_count": 65,
   "id": "ae8d364d",
   "metadata": {
    "vscode": {
     "languageId": "r"
    }
   },
   "outputs": [
    {
     "data": {
      "text/html": [
       "7197"
      ],
      "text/latex": [
       "7197"
      ],
      "text/markdown": [
       "7197"
      ],
      "text/plain": [
       "[1] 7197"
      ]
     },
     "metadata": {},
     "output_type": "display_data"
    }
   ],
   "source": [
    "length(unique(data_yn_clean$evtimeON))"
   ]
  },
  {
   "cell_type": "code",
   "execution_count": 66,
   "id": "08370e02",
   "metadata": {
    "vscode": {
     "languageId": "r"
    }
   },
   "outputs": [
    {
     "data": {
      "text/html": [
       "7201"
      ],
      "text/latex": [
       "7201"
      ],
      "text/markdown": [
       "7201"
      ],
      "text/plain": [
       "[1] 7201"
      ]
     },
     "metadata": {},
     "output_type": "display_data"
    }
   ],
   "source": [
    "length(unique(data_yn_clean$evtimeOFF))"
   ]
  },
  {
   "cell_type": "code",
   "execution_count": 67,
   "id": "1588c309",
   "metadata": {
    "vscode": {
     "languageId": "r"
    }
   },
   "outputs": [
    {
     "data": {
      "text/html": [
       "7201"
      ],
      "text/latex": [
       "7201"
      ],
      "text/markdown": [
       "7201"
      ],
      "text/plain": [
       "[1] 7201"
      ]
     },
     "metadata": {},
     "output_type": "display_data"
    }
   ],
   "source": [
    "length(unique(data_yn_clean$crossON))"
   ]
  },
  {
   "cell_type": "markdown",
   "id": "8c4f243d",
   "metadata": {},
   "source": [
    "# BC Task"
   ]
  },
  {
   "cell_type": "code",
   "execution_count": 68,
   "id": "066a8a2c",
   "metadata": {
    "vscode": {
     "languageId": "r"
    }
   },
   "outputs": [],
   "source": [
    "data_bc = read.csv(paste0(helpers_path, '/inputs/data_choiceBC.csv'))"
   ]
  },
  {
   "cell_type": "markdown",
   "id": "deffc46b",
   "metadata": {},
   "source": [
    "Columns according to a readme file:\n",
    "\n",
    "| Column      | Description |\n",
    "| ----------- | ----------- |\n",
    "| subnum | Subject Number |\n",
    "| day | day number | \n",
    "| week | week number | \n",
    "| stimNumLeft | stimulus on the left number, each stimulus has a identification number | \n",
    "| stimNumRight | stimulus on the right number, each stimulus has a identification number | \n",
    "| stimLettNumLeft | number of the combination of letters in the stimulus on the left, each letter combination has a identification number | \n",
    "| stimLettNumRight | number of the combination of letters in the stimulus on the right, each letter combination has a identification number | \n",
    "| TypeLeft | stimulus' type on the left:   0  == regular exposure; 1  == hypertrained | \n",
    "| TypeRight | type of stimulus on the right | \n",
    "| OrientationLeft | orientation angle of the grid for stimulus of the left | \n",
    "| FillingLeft | amount of angle filled with color for stimulus of the left | \n",
    "| ShapeLeft | shape in the stimulus of the left | \n",
    "| valueOLeft | value in weight of the orientation for stimulus of the left | \n",
    "| valueFLeft | value in weight of the filling for stimulus of the left | \n",
    "| valueSLeft | value in weight of the shape on the right |  \n",
    "| OrientationRight | orientation angle of the grid for stimulus of the right | \n",
    "| FillingRight | amount of angle filled with color for stimulus of the right | \n",
    "| ShapeRight | shape in the stimulus of the right | \n",
    "| valueORight | value in weight of the orientation for stimulus of the right | \n",
    "| valueFRight | value in weight of the filling for stimulus of the right | \n",
    "| valueSRight | value in weight of the shape on the right |  \n",
    "| leftChosen | 1 if left option is chosen 0 otherwise | \n",
    "| Response | number of response button for left arrow or right arrow | \n",
    "| Payoff | payoff from trial | \n",
    "| possiblePayoffLeft | possible payoff from stimulus on the left | \n",
    "| possiblePayoffRight | possible payoff from stimulus on the right | \n",
    "| Rt | response time |  \n",
    "| fmri | 1 if the subject was in the scanner during that trial, 0 otherwise | \n",
    "| startFix | start fixation time when stimulus appears |\n",
    "| evtimeON | time of the eye tracker on | \n",
    "| evtimeOFF | time eye tracker off | \n",
    "| crossON | time when the fixation cross is in the middle |\n",
    "\n",
    "Additional columns without descriptions\n",
    "\n",
    "| Column      | \n",
    "| ----------- | \n",
    "| inizialTime | \n",
    "| endTime | \n",
    "| inizialTimeResp | \n",
    "| endTimeResp | "
   ]
  },
  {
   "cell_type": "code",
   "execution_count": 69,
   "id": "6b6b3225",
   "metadata": {
    "vscode": {
     "languageId": "r"
    }
   },
   "outputs": [
    {
     "data": {
      "text/html": [
       "<style>\n",
       ".list-inline {list-style: none; margin:0; padding: 0}\n",
       ".list-inline>li {display: inline-block}\n",
       ".list-inline>li:not(:last-child)::after {content: \"\\00b7\"; padding: 0 .5ex}\n",
       "</style>\n",
       "<ol class=list-inline><li>'subnum'</li><li>'day'</li><li>'week'</li><li>'stimNumLef'</li><li>'stimNumRight'</li><li>'stimLettNumLeft'</li><li>'stimLettNumRight'</li><li>'typeLeft'</li><li>'typeRight'</li><li>'orientationLeft'</li><li>'fillingLeft'</li><li>'shapeLeft'</li><li>'orientationRight'</li><li>'fillingRight'</li><li>'shapeRight'</li><li>'valueOleft'</li><li>'valueFleft'</li><li>'valueSleft'</li><li>'valueOright'</li><li>'valueFright'</li><li>'valueSright'</li><li>'leftChosen'</li><li>'response'</li><li>'payoff'</li><li>'possiblePayoffleft'</li><li>'possiblePayoffright'</li><li>'inizialTime'</li><li>'endTime'</li><li>'inizialTimeResp'</li><li>'endTimeResp'</li><li>'rt'</li><li>'startFix'</li><li>'evtimeON'</li><li>'evtimeOFF'</li><li>'crossON'</li><li>'fmri'</li></ol>\n"
      ],
      "text/latex": [
       "\\begin{enumerate*}\n",
       "\\item 'subnum'\n",
       "\\item 'day'\n",
       "\\item 'week'\n",
       "\\item 'stimNumLef'\n",
       "\\item 'stimNumRight'\n",
       "\\item 'stimLettNumLeft'\n",
       "\\item 'stimLettNumRight'\n",
       "\\item 'typeLeft'\n",
       "\\item 'typeRight'\n",
       "\\item 'orientationLeft'\n",
       "\\item 'fillingLeft'\n",
       "\\item 'shapeLeft'\n",
       "\\item 'orientationRight'\n",
       "\\item 'fillingRight'\n",
       "\\item 'shapeRight'\n",
       "\\item 'valueOleft'\n",
       "\\item 'valueFleft'\n",
       "\\item 'valueSleft'\n",
       "\\item 'valueOright'\n",
       "\\item 'valueFright'\n",
       "\\item 'valueSright'\n",
       "\\item 'leftChosen'\n",
       "\\item 'response'\n",
       "\\item 'payoff'\n",
       "\\item 'possiblePayoffleft'\n",
       "\\item 'possiblePayoffright'\n",
       "\\item 'inizialTime'\n",
       "\\item 'endTime'\n",
       "\\item 'inizialTimeResp'\n",
       "\\item 'endTimeResp'\n",
       "\\item 'rt'\n",
       "\\item 'startFix'\n",
       "\\item 'evtimeON'\n",
       "\\item 'evtimeOFF'\n",
       "\\item 'crossON'\n",
       "\\item 'fmri'\n",
       "\\end{enumerate*}\n"
      ],
      "text/markdown": [
       "1. 'subnum'\n",
       "2. 'day'\n",
       "3. 'week'\n",
       "4. 'stimNumLef'\n",
       "5. 'stimNumRight'\n",
       "6. 'stimLettNumLeft'\n",
       "7. 'stimLettNumRight'\n",
       "8. 'typeLeft'\n",
       "9. 'typeRight'\n",
       "10. 'orientationLeft'\n",
       "11. 'fillingLeft'\n",
       "12. 'shapeLeft'\n",
       "13. 'orientationRight'\n",
       "14. 'fillingRight'\n",
       "15. 'shapeRight'\n",
       "16. 'valueOleft'\n",
       "17. 'valueFleft'\n",
       "18. 'valueSleft'\n",
       "19. 'valueOright'\n",
       "20. 'valueFright'\n",
       "21. 'valueSright'\n",
       "22. 'leftChosen'\n",
       "23. 'response'\n",
       "24. 'payoff'\n",
       "25. 'possiblePayoffleft'\n",
       "26. 'possiblePayoffright'\n",
       "27. 'inizialTime'\n",
       "28. 'endTime'\n",
       "29. 'inizialTimeResp'\n",
       "30. 'endTimeResp'\n",
       "31. 'rt'\n",
       "32. 'startFix'\n",
       "33. 'evtimeON'\n",
       "34. 'evtimeOFF'\n",
       "35. 'crossON'\n",
       "36. 'fmri'\n",
       "\n",
       "\n"
      ],
      "text/plain": [
       " [1] \"subnum\"              \"day\"                 \"week\"               \n",
       " [4] \"stimNumLef\"          \"stimNumRight\"        \"stimLettNumLeft\"    \n",
       " [7] \"stimLettNumRight\"    \"typeLeft\"            \"typeRight\"          \n",
       "[10] \"orientationLeft\"     \"fillingLeft\"         \"shapeLeft\"          \n",
       "[13] \"orientationRight\"    \"fillingRight\"        \"shapeRight\"         \n",
       "[16] \"valueOleft\"          \"valueFleft\"          \"valueSleft\"         \n",
       "[19] \"valueOright\"         \"valueFright\"         \"valueSright\"        \n",
       "[22] \"leftChosen\"          \"response\"            \"payoff\"             \n",
       "[25] \"possiblePayoffleft\"  \"possiblePayoffright\" \"inizialTime\"        \n",
       "[28] \"endTime\"             \"inizialTimeResp\"     \"endTimeResp\"        \n",
       "[31] \"rt\"                  \"startFix\"            \"evtimeON\"           \n",
       "[34] \"evtimeOFF\"           \"crossON\"             \"fmri\"               "
      ]
     },
     "metadata": {},
     "output_type": "display_data"
    }
   ],
   "source": [
    "names(data_bc)"
   ]
  },
  {
   "cell_type": "markdown",
   "id": "3acc0cbf",
   "metadata": {},
   "source": [
    "## Visits and number of trials\n",
    "\n",
    "6 unique subjects"
   ]
  },
  {
   "cell_type": "code",
   "execution_count": 70,
   "id": "b79dfd81",
   "metadata": {
    "vscode": {
     "languageId": "r"
    }
   },
   "outputs": [
    {
     "data": {
      "text/html": [
       "<style>\n",
       ".list-inline {list-style: none; margin:0; padding: 0}\n",
       ".list-inline>li {display: inline-block}\n",
       ".list-inline>li:not(:last-child)::after {content: \"\\00b7\"; padding: 0 .5ex}\n",
       "</style>\n",
       "<ol class=list-inline><li>601</li><li>609</li><li>611</li><li>619</li><li>621</li><li>629</li></ol>\n"
      ],
      "text/latex": [
       "\\begin{enumerate*}\n",
       "\\item 601\n",
       "\\item 609\n",
       "\\item 611\n",
       "\\item 619\n",
       "\\item 621\n",
       "\\item 629\n",
       "\\end{enumerate*}\n"
      ],
      "text/markdown": [
       "1. 601\n",
       "2. 609\n",
       "3. 611\n",
       "4. 619\n",
       "5. 621\n",
       "6. 629\n",
       "\n",
       "\n"
      ],
      "text/plain": [
       "[1] 601 609 611 619 621 629"
      ]
     },
     "metadata": {},
     "output_type": "display_data"
    }
   ],
   "source": [
    "unique(data_bc$subnum)"
   ]
  },
  {
   "cell_type": "markdown",
   "id": "93c62dc6",
   "metadata": {},
   "source": [
    "Up to 11 sessions per subject"
   ]
  },
  {
   "cell_type": "code",
   "execution_count": 71,
   "id": "321cafba",
   "metadata": {
    "vscode": {
     "languageId": "r"
    }
   },
   "outputs": [
    {
     "data": {
      "text/html": [
       "<style>\n",
       ".list-inline {list-style: none; margin:0; padding: 0}\n",
       ".list-inline>li {display: inline-block}\n",
       ".list-inline>li:not(:last-child)::after {content: \"\\00b7\"; padding: 0 .5ex}\n",
       "</style>\n",
       "<ol class=list-inline><li>1</li><li>2</li><li>3</li><li>4</li><li>5</li><li>6</li><li>7</li><li>8</li><li>9</li><li>10</li><li>11</li></ol>\n"
      ],
      "text/latex": [
       "\\begin{enumerate*}\n",
       "\\item 1\n",
       "\\item 2\n",
       "\\item 3\n",
       "\\item 4\n",
       "\\item 5\n",
       "\\item 6\n",
       "\\item 7\n",
       "\\item 8\n",
       "\\item 9\n",
       "\\item 10\n",
       "\\item 11\n",
       "\\end{enumerate*}\n"
      ],
      "text/markdown": [
       "1. 1\n",
       "2. 2\n",
       "3. 3\n",
       "4. 4\n",
       "5. 5\n",
       "6. 6\n",
       "7. 7\n",
       "8. 8\n",
       "9. 9\n",
       "10. 10\n",
       "11. 11\n",
       "\n",
       "\n"
      ],
      "text/plain": [
       " [1]  1  2  3  4  5  6  7  8  9 10 11"
      ]
     },
     "metadata": {},
     "output_type": "display_data"
    }
   ],
   "source": [
    "sort(unique(data_bc$day))"
   ]
  },
  {
   "cell_type": "markdown",
   "id": "bffc2191",
   "metadata": {},
   "source": [
    "All subjects have 200 trials of the BC task on each day"
   ]
  },
  {
   "cell_type": "code",
   "execution_count": 72,
   "id": "00caa568",
   "metadata": {
    "vscode": {
     "languageId": "r"
    }
   },
   "outputs": [
    {
     "data": {
      "text/plain": [
       "      day\n",
       "subnum   1   2   3   4   5   6   7   8   9  10  11\n",
       "   601 200 200 200 200 200 200 200 200 200 200 200\n",
       "   609 200 200 200 200 200 200 200 200 200 200 200\n",
       "   611 200 200 200 200 200 200 200 200 200 200 200\n",
       "   619 200 200 200 200 200 200 200 200 200 200 200\n",
       "   621 200 200 200 200 200 200 200 200 200 200 200\n",
       "   629 200 200 200 200 200 200 200 200 200 200 200"
      ]
     },
     "metadata": {},
     "output_type": "display_data"
    }
   ],
   "source": [
    "with(data_bc, table(subnum, day))"
   ]
  },
  {
   "cell_type": "markdown",
   "id": "eba6dd64",
   "metadata": {},
   "source": [
    "All subjects are missing a fourth session in the third week (what should have been visit 12)"
   ]
  },
  {
   "cell_type": "code",
   "execution_count": 73,
   "id": "32512b67",
   "metadata": {
    "vscode": {
     "languageId": "r"
    }
   },
   "outputs": [
    {
     "data": {
      "text/plain": [
       "      week\n",
       "subnum   1   2   3\n",
       "   601 800 800 600\n",
       "   609 800 800 600\n",
       "   611 800 800 600\n",
       "   619 800 800 600\n",
       "   621 800 800 600\n",
       "   629 800 800 600"
      ]
     },
     "metadata": {},
     "output_type": "display_data"
    }
   ],
   "source": [
    "with(data_bc, table(subnum, week))"
   ]
  },
  {
   "cell_type": "markdown",
   "id": "88cb71b5",
   "metadata": {},
   "source": [
    "## Unique stims\n",
    "\n",
    "There are 726 unique stimuli used (6 shapes x 11 orientations x 11 filling weights) on each side"
   ]
  },
  {
   "cell_type": "code",
   "execution_count": 74,
   "id": "32f023af",
   "metadata": {
    "vscode": {
     "languageId": "r"
    }
   },
   "outputs": [
    {
     "data": {
      "text/html": [
       "726"
      ],
      "text/latex": [
       "726"
      ],
      "text/markdown": [
       "726"
      ],
      "text/plain": [
       "[1] 726"
      ]
     },
     "metadata": {},
     "output_type": "display_data"
    }
   ],
   "source": [
    "length(unique(data_bc$stimNumLef))"
   ]
  },
  {
   "cell_type": "code",
   "execution_count": 75,
   "id": "bdab0de9",
   "metadata": {
    "vscode": {
     "languageId": "r"
    }
   },
   "outputs": [
    {
     "data": {
      "text/html": [
       "726"
      ],
      "text/latex": [
       "726"
      ],
      "text/markdown": [
       "726"
      ],
      "text/plain": [
       "[1] 726"
      ]
     },
     "metadata": {},
     "output_type": "display_data"
    }
   ],
   "source": [
    "length(unique(data_bc$stimNumRight))"
   ]
  },
  {
   "cell_type": "markdown",
   "id": "c3c895fe",
   "metadata": {},
   "source": [
    "How many unique stimuli does each subject see? "
   ]
  },
  {
   "cell_type": "code",
   "execution_count": 76,
   "id": "0b77107e",
   "metadata": {
    "vscode": {
     "languageId": "r"
    }
   },
   "outputs": [
    {
     "data": {
      "text/html": [
       "<table class=\"dataframe\">\n",
       "<caption>A tibble: 6 x 3</caption>\n",
       "<thead>\n",
       "\t<tr><th scope=col>subnum</th><th scope=col>num_unique_left_stims</th><th scope=col>num_unique_right_stims</th></tr>\n",
       "\t<tr><th scope=col>&lt;int&gt;</th><th scope=col>&lt;int&gt;</th><th scope=col>&lt;int&gt;</th></tr>\n",
       "</thead>\n",
       "<tbody>\n",
       "\t<tr><td>601</td><td>625</td><td>628</td></tr>\n",
       "\t<tr><td>609</td><td>619</td><td>622</td></tr>\n",
       "\t<tr><td>611</td><td>610</td><td>630</td></tr>\n",
       "\t<tr><td>619</td><td>625</td><td>622</td></tr>\n",
       "\t<tr><td>621</td><td>632</td><td>604</td></tr>\n",
       "\t<tr><td>629</td><td>635</td><td>628</td></tr>\n",
       "</tbody>\n",
       "</table>\n"
      ],
      "text/latex": [
       "A tibble: 6 x 3\n",
       "\\begin{tabular}{lll}\n",
       " subnum & num\\_unique\\_left\\_stims & num\\_unique\\_right\\_stims\\\\\n",
       " <int> & <int> & <int>\\\\\n",
       "\\hline\n",
       "\t 601 & 625 & 628\\\\\n",
       "\t 609 & 619 & 622\\\\\n",
       "\t 611 & 610 & 630\\\\\n",
       "\t 619 & 625 & 622\\\\\n",
       "\t 621 & 632 & 604\\\\\n",
       "\t 629 & 635 & 628\\\\\n",
       "\\end{tabular}\n"
      ],
      "text/markdown": [
       "\n",
       "A tibble: 6 x 3\n",
       "\n",
       "| subnum &lt;int&gt; | num_unique_left_stims &lt;int&gt; | num_unique_right_stims &lt;int&gt; |\n",
       "|---|---|---|\n",
       "| 601 | 625 | 628 |\n",
       "| 609 | 619 | 622 |\n",
       "| 611 | 610 | 630 |\n",
       "| 619 | 625 | 622 |\n",
       "| 621 | 632 | 604 |\n",
       "| 629 | 635 | 628 |\n",
       "\n"
      ],
      "text/plain": [
       "  subnum num_unique_left_stims num_unique_right_stims\n",
       "1 601    625                   628                   \n",
       "2 609    619                   622                   \n",
       "3 611    610                   630                   \n",
       "4 619    625                   622                   \n",
       "5 621    632                   604                   \n",
       "6 629    635                   628                   "
      ]
     },
     "metadata": {},
     "output_type": "display_data"
    }
   ],
   "source": [
    "data_bc %>%\n",
    "  group_by(subnum) %>%\n",
    "  summarise(num_unique_left_stims = length(unique(stimNumLef)),\n",
    "            num_unique_right_stims = length(unique(stimNumRight)))"
   ]
  },
  {
   "cell_type": "markdown",
   "id": "36c4a729",
   "metadata": {},
   "source": [
    "## Redundant stim num columns"
   ]
  },
  {
   "cell_type": "code",
   "execution_count": 77,
   "id": "4375ef77",
   "metadata": {
    "vscode": {
     "languageId": "r"
    }
   },
   "outputs": [
    {
     "data": {
      "text/html": [
       "TRUE"
      ],
      "text/latex": [
       "TRUE"
      ],
      "text/markdown": [
       "TRUE"
      ],
      "text/plain": [
       "[1] TRUE"
      ]
     },
     "metadata": {},
     "output_type": "display_data"
    }
   ],
   "source": [
    "sum(data_bc$stimLettNumLeft == data_bc$stimNumLef) == nrow(data_bc)"
   ]
  },
  {
   "cell_type": "code",
   "execution_count": 78,
   "id": "9928879c",
   "metadata": {
    "vscode": {
     "languageId": "r"
    }
   },
   "outputs": [
    {
     "data": {
      "text/html": [
       "TRUE"
      ],
      "text/latex": [
       "TRUE"
      ],
      "text/markdown": [
       "TRUE"
      ],
      "text/plain": [
       "[1] TRUE"
      ]
     },
     "metadata": {},
     "output_type": "display_data"
    }
   ],
   "source": [
    "sum(data_bc$stimLettNumRight == data_bc$stimNumRight) == nrow(data_bc)"
   ]
  },
  {
   "cell_type": "markdown",
   "id": "76c4aac1",
   "metadata": {},
   "source": [
    "Drop redundant columns and fix column name"
   ]
  },
  {
   "cell_type": "code",
   "execution_count": 79,
   "id": "b2e27613",
   "metadata": {
    "vscode": {
     "languageId": "r"
    }
   },
   "outputs": [],
   "source": [
    "data_bc_clean = data_bc %>%\n",
    "  select(-stimLettNumLeft, -stimLettNumRight) %>%\n",
    "  rename(stimNumLeft = stimNumLef)"
   ]
  },
  {
   "cell_type": "markdown",
   "id": "b0765557",
   "metadata": {},
   "source": [
    "## Stim types\n",
    "\n",
    "On each day each subject encounters 66 HT stimuli and 134 RE stimuli"
   ]
  },
  {
   "cell_type": "code",
   "execution_count": 80,
   "id": "a9df0a30",
   "metadata": {
    "vscode": {
     "languageId": "r"
    }
   },
   "outputs": [
    {
     "data": {
      "text/plain": [
       ", , typeLeft = 0\n",
       "\n",
       "      day\n",
       "subnum   1   2   3   4   5   6   7   8   9  10  11\n",
       "   601 134 134 134 134 134 134 134 134 134 134 134\n",
       "   609 134 134 134 134 134 134 134 134 134 134 134\n",
       "   611 134 134 134 134 134 134 134 134 134 134 134\n",
       "   619 134 134 134 134 134 134 134 134 134 134 134\n",
       "   621 134 134 134 134 134 134 134 134 134 134 134\n",
       "   629 134 134 134 134 134 134 134 134 134 134 134\n",
       "\n",
       ", , typeLeft = 1\n",
       "\n",
       "      day\n",
       "subnum   1   2   3   4   5   6   7   8   9  10  11\n",
       "   601  66  66  66  66  66  66  66  66  66  66  66\n",
       "   609  66  66  66  66  66  66  66  66  66  66  66\n",
       "   611  66  66  66  66  66  66  66  66  66  66  66\n",
       "   619  66  66  66  66  66  66  66  66  66  66  66\n",
       "   621  66  66  66  66  66  66  66  66  66  66  66\n",
       "   629  66  66  66  66  66  66  66  66  66  66  66\n"
      ]
     },
     "metadata": {},
     "output_type": "display_data"
    }
   ],
   "source": [
    "with(data_bc, table(subnum, day, typeLeft))\n",
    "# with(data_bc, table(subnum, day, typeRight)) #same as above since pairs are of same type"
   ]
  },
  {
   "cell_type": "markdown",
   "id": "c10ba481",
   "metadata": {},
   "source": [
    "Are pairs of same type (ie. choice is either between *two* HT stimuli or *two* RE stimuli)? Yes."
   ]
  },
  {
   "cell_type": "code",
   "execution_count": 81,
   "id": "c701feb9",
   "metadata": {
    "vscode": {
     "languageId": "r"
    }
   },
   "outputs": [
    {
     "data": {
      "text/html": [
       "TRUE"
      ],
      "text/latex": [
       "TRUE"
      ],
      "text/markdown": [
       "TRUE"
      ],
      "text/plain": [
       "[1] TRUE"
      ]
     },
     "metadata": {},
     "output_type": "display_data"
    }
   ],
   "source": [
    "with(data_bc, sum(typeLeft == typeRight)) == nrow(data_bc)"
   ]
  },
  {
   "cell_type": "markdown",
   "id": "7d072933",
   "metadata": {},
   "source": [
    "## Choice\n",
    "\n",
    "Possible values for `leftChosen` column. Checking if there are missing trials."
   ]
  },
  {
   "cell_type": "code",
   "execution_count": 82,
   "id": "ade7234a",
   "metadata": {
    "vscode": {
     "languageId": "r"
    }
   },
   "outputs": [
    {
     "data": {
      "text/html": [
       "<style>\n",
       ".list-inline {list-style: none; margin:0; padding: 0}\n",
       ".list-inline>li {display: inline-block}\n",
       ".list-inline>li:not(:last-child)::after {content: \"\\00b7\"; padding: 0 .5ex}\n",
       "</style>\n",
       "<ol class=list-inline><li>0</li><li>1</li></ol>\n"
      ],
      "text/latex": [
       "\\begin{enumerate*}\n",
       "\\item 0\n",
       "\\item 1\n",
       "\\end{enumerate*}\n"
      ],
      "text/markdown": [
       "1. 0\n",
       "2. 1\n",
       "\n",
       "\n"
      ],
      "text/plain": [
       "[1] 0 1"
      ]
     },
     "metadata": {},
     "output_type": "display_data"
    }
   ],
   "source": [
    "unique(data_bc$leftChosen)"
   ]
  },
  {
   "cell_type": "markdown",
   "id": "53587981",
   "metadata": {},
   "source": [
    "Possible response buttons in and out of the scanner."
   ]
  },
  {
   "cell_type": "code",
   "execution_count": 83,
   "id": "c9f3db53",
   "metadata": {
    "vscode": {
     "languageId": "r"
    }
   },
   "outputs": [
    {
     "data": {
      "text/html": [
       "<style>\n",
       ".list-inline {list-style: none; margin:0; padding: 0}\n",
       ".list-inline>li {display: inline-block}\n",
       ".list-inline>li:not(:last-child)::after {content: \"\\00b7\"; padding: 0 .5ex}\n",
       "</style>\n",
       "<ol class=list-inline><li>39</li><li>37</li><li>51</li><li>49</li></ol>\n"
      ],
      "text/latex": [
       "\\begin{enumerate*}\n",
       "\\item 39\n",
       "\\item 37\n",
       "\\item 51\n",
       "\\item 49\n",
       "\\end{enumerate*}\n"
      ],
      "text/markdown": [
       "1. 39\n",
       "2. 37\n",
       "3. 51\n",
       "4. 49\n",
       "\n",
       "\n"
      ],
      "text/plain": [
       "[1] 39 37 51 49"
      ]
     },
     "metadata": {},
     "output_type": "display_data"
    }
   ],
   "source": [
    "unique(data_bc$response)"
   ]
  },
  {
   "cell_type": "code",
   "execution_count": 84,
   "id": "ee43bcaa",
   "metadata": {
    "vscode": {
     "languageId": "r"
    }
   },
   "outputs": [
    {
     "data": {
      "text/plain": [
       "        fmri\n",
       "response    0    1\n",
       "      37 5689    0\n",
       "      39 5711    0\n",
       "      49    0  955\n",
       "      51    0  845"
      ]
     },
     "metadata": {},
     "output_type": "display_data"
    }
   ],
   "source": [
    "with(data_bc, table(response, fmri))"
   ]
  },
  {
   "cell_type": "markdown",
   "id": "704e2a6e",
   "metadata": {},
   "source": [
    "Left-right buttons same across subjects"
   ]
  },
  {
   "cell_type": "code",
   "execution_count": 85,
   "id": "4672a60d",
   "metadata": {
    "vscode": {
     "languageId": "r"
    }
   },
   "outputs": [
    {
     "data": {
      "text/plain": [
       ", , fmri = 0\n",
       "\n",
       "        leftChosen\n",
       "response    0    1\n",
       "      37    0 5689\n",
       "      39 5711    0\n",
       "      49    0    0\n",
       "      51    0    0\n",
       "\n",
       ", , fmri = 1\n",
       "\n",
       "        leftChosen\n",
       "response    0    1\n",
       "      37    0    0\n",
       "      39    0    0\n",
       "      49  955    0\n",
       "      51    0  845\n"
      ]
     },
     "metadata": {},
     "output_type": "display_data"
    }
   ],
   "source": [
    "with(data_bc, table(response, leftChosen, fmri))"
   ]
  },
  {
   "cell_type": "markdown",
   "id": "85ce9fa4",
   "metadata": {},
   "source": [
    "## Payoff\n",
    "\n",
    "Distribution of the earned payoff compared to the possible pay off of each stimuli."
   ]
  },
  {
   "cell_type": "code",
   "execution_count": 86,
   "id": "e9cbb019",
   "metadata": {
    "vscode": {
     "languageId": "r"
    }
   },
   "outputs": [
    {
     "data": {
      "text/plain": [
       "   Min. 1st Qu.  Median    Mean 3rd Qu.    Max. \n",
       "-144.00   -2.00   30.00   31.65   64.00  160.00 "
      ]
     },
     "metadata": {},
     "output_type": "display_data"
    }
   ],
   "source": [
    "summary(data_bc$payoff)"
   ]
  },
  {
   "cell_type": "code",
   "execution_count": 87,
   "id": "bcce5a1b",
   "metadata": {
    "vscode": {
     "languageId": "r"
    }
   },
   "outputs": [
    {
     "data": {
      "text/plain": [
       "     Min.   1st Qu.    Median      Mean   3rd Qu.      Max. \n",
       "-163.0000  -37.0000    1.0000    0.3267   39.2500  157.0000 "
      ]
     },
     "metadata": {},
     "output_type": "display_data"
    }
   ],
   "source": [
    "summary(data_bc$possiblePayoffleft)"
   ]
  },
  {
   "cell_type": "code",
   "execution_count": 88,
   "id": "cef0f779",
   "metadata": {
    "vscode": {
     "languageId": "r"
    }
   },
   "outputs": [
    {
     "data": {
      "text/plain": [
       "     Min.   1st Qu.    Median      Mean   3rd Qu.      Max. \n",
       "-166.0000  -38.0000    1.0000   -0.0422   39.0000  160.0000 "
      ]
     },
     "metadata": {},
     "output_type": "display_data"
    }
   ],
   "source": [
    "summary(data_bc$possiblePayoffright)"
   ]
  },
  {
   "cell_type": "markdown",
   "id": "2b2c2fb9",
   "metadata": {},
   "source": [
    "## fMRI trials"
   ]
  },
  {
   "cell_type": "code",
   "execution_count": 89,
   "id": "666924ca",
   "metadata": {
    "vscode": {
     "languageId": "r"
    }
   },
   "outputs": [
    {
     "data": {
      "text/plain": [
       ", , fmri = 0\n",
       "\n",
       "      day\n",
       "subnum   1   2   3   4   5   6   7   8   9  10  11\n",
       "   601 200 200 100 200 200 200 100 200 200 200 100\n",
       "   609 200 200 100 200 200 200 100 200 200 200 100\n",
       "   611 200 200 100 200 200 200 100 200 200 200 100\n",
       "   619 200 200 100 200 200 200 100 200 200 200 100\n",
       "   621 200 200 100 200 200 200 100 200 200 200 100\n",
       "   629 200 200 100 200 200 200 100 200 200 200 100\n",
       "\n",
       ", , fmri = 1\n",
       "\n",
       "      day\n",
       "subnum   1   2   3   4   5   6   7   8   9  10  11\n",
       "   601   0   0 100   0   0   0 100   0   0   0 100\n",
       "   609   0   0 100   0   0   0 100   0   0   0 100\n",
       "   611   0   0 100   0   0   0 100   0   0   0 100\n",
       "   619   0   0 100   0   0   0 100   0   0   0 100\n",
       "   621   0   0 100   0   0   0 100   0   0   0 100\n",
       "   629   0   0 100   0   0   0 100   0   0   0 100\n"
      ]
     },
     "metadata": {},
     "output_type": "display_data"
    }
   ],
   "source": [
    "with(data_bc, table(subnum, day, fmri))"
   ]
  },
  {
   "cell_type": "markdown",
   "id": "cace4ed2",
   "metadata": {},
   "source": [
    "## RT\n",
    "\n",
    "Are there negative RTs? No."
   ]
  },
  {
   "cell_type": "code",
   "execution_count": 90,
   "id": "173344ef",
   "metadata": {
    "vscode": {
     "languageId": "r"
    }
   },
   "outputs": [
    {
     "data": {
      "text/html": [
       "0"
      ],
      "text/latex": [
       "0"
      ],
      "text/markdown": [
       "0"
      ],
      "text/plain": [
       "[1] 0"
      ]
     },
     "metadata": {},
     "output_type": "display_data"
    }
   ],
   "source": [
    "sum(data_bc$rt< 0)"
   ]
  },
  {
   "cell_type": "markdown",
   "id": "ef4cf16d",
   "metadata": {},
   "source": [
    "There are again some trials with very long RTs"
   ]
  },
  {
   "cell_type": "code",
   "execution_count": 91,
   "id": "05f043c6",
   "metadata": {
    "vscode": {
     "languageId": "r"
    }
   },
   "outputs": [
    {
     "data": {
      "text/plain": [
       "   Min. 1st Qu.  Median    Mean 3rd Qu.    Max. \n",
       " 0.3471  0.7920  1.1906  1.6509  1.9140 68.5435 "
      ]
     },
     "metadata": {},
     "output_type": "display_data"
    }
   ],
   "source": [
    "summary(data_bc$rt)"
   ]
  },
  {
   "cell_type": "markdown",
   "id": "f61b2493",
   "metadata": {},
   "source": [
    "There are some trials with very long RTs"
   ]
  },
  {
   "cell_type": "code",
   "execution_count": 92,
   "id": "3f2443eb",
   "metadata": {
    "vscode": {
     "languageId": "r"
    }
   },
   "outputs": [
    {
     "data": {
      "image/png": "[encoded data removed]",
      "text/plain": [
       "plot without title"
      ]
     },
     "metadata": {
      "image/png": {
       "height": 420,
       "width": 420
      }
     },
     "output_type": "display_data"
    }
   ],
   "source": [
    "data_bc %>%\n",
    "  filter(rt>5) %>%\n",
    "  ggplot(aes(rt))+\n",
    "  geom_histogram(alpha=0.5, bins=30)+\n",
    "  theme(panel.grid = element_blank())+\n",
    "  facet_wrap(~subnum)+\n",
    "  xlab(\"\")+\n",
    "  labs(title=\"RT>5s trials\")"
   ]
  },
  {
   "cell_type": "markdown",
   "id": "258d72b4",
   "metadata": {},
   "source": [
    "Number of trials with longer than 5 s RTs for each subject across visits."
   ]
  },
  {
   "cell_type": "code",
   "execution_count": 93,
   "id": "db30de21",
   "metadata": {
    "vscode": {
     "languageId": "r"
    }
   },
   "outputs": [
    {
     "data": {
      "text/plain": [
       "      day\n",
       "subnum  1  2  3  4  5  6  7  8  9 10 11\n",
       "   601  2  0  0  4  1  5  2  0  1  0  4\n",
       "   609  8 12  9 11  3  3 19 10 17 12 14\n",
       "   611  8 11  5  2  0  0  1  0  0  1  0\n",
       "   619  7  1  1  0  3  3  6  1  3  3  0\n",
       "   621 22 33  7 15 11 12  5  8 14  5  9\n",
       "   629 22  7  6  4  7 15  4  4  6  3  3"
      ]
     },
     "metadata": {},
     "output_type": "display_data"
    }
   ],
   "source": [
    "with(data_bc %>% filter(rt>5), table(subnum, day))"
   ]
  },
  {
   "cell_type": "markdown",
   "id": "3205a597",
   "metadata": {},
   "source": [
    "Proportion of all trials with RT > 5s"
   ]
  },
  {
   "cell_type": "code",
   "execution_count": 94,
   "id": "d6f2e0d1",
   "metadata": {
    "vscode": {
     "languageId": "r"
    }
   },
   "outputs": [
    {
     "data": {
      "text/html": [
       "0.0314393939393939"
      ],
      "text/latex": [
       "0.0314393939393939"
      ],
      "text/markdown": [
       "0.0314393939393939"
      ],
      "text/plain": [
       "[1] 0.03143939"
      ]
     },
     "metadata": {},
     "output_type": "display_data"
    }
   ],
   "source": [
    "nrow(data_bc %>% filter(rt>5))/nrow(data_bc)"
   ]
  },
  {
   "cell_type": "markdown",
   "id": "ce18f5b2",
   "metadata": {},
   "source": [
    "What proportion of slow trials is from each subject? Subjects that has the most slow trials in the YN task also are the ones that have the most slow trials in the BC task as well."
   ]
  },
  {
   "cell_type": "code",
   "execution_count": 95,
   "id": "9ebcf085",
   "metadata": {
    "vscode": {
     "languageId": "r"
    }
   },
   "outputs": [
    {
     "data": {
      "text/plain": [
       "subnum\n",
       "  601   609   611   619   621   629 \n",
       "0.046 0.284 0.067 0.067 0.340 0.195 "
      ]
     },
     "metadata": {},
     "output_type": "display_data"
    }
   ],
   "source": [
    "round(with(data_bc%>% filter(rt>5), table(subnum))/nrow(data_bc %>% filter(rt>5)), 3)"
   ]
  },
  {
   "cell_type": "markdown",
   "id": "1a2c36e3",
   "metadata": {},
   "source": [
    "## Blank columns"
   ]
  },
  {
   "cell_type": "code",
   "execution_count": 96,
   "id": "e9c872fe",
   "metadata": {
    "vscode": {
     "languageId": "r"
    }
   },
   "outputs": [
    {
     "name": "stdout",
     "output_type": "stream",
     "text": [
      "[1] \"inizialTime\"\n",
      "[1] \"endTime\"\n",
      "[1] \"inizialTimeResp\"\n",
      "[1] \"endTimeResp\"\n"
     ]
    }
   ],
   "source": [
    "for (i in 1:length(names(data_bc))){\n",
    "  cur_col = names(data_bc)[i]\n",
    "  if(unique(data_bc[,cur_col])[1] == \"-99\" && length(unique(data_bc[,cur_col]))==1){\n",
    "    print(cur_col)\n",
    "  }\n",
    "}"
   ]
  },
  {
   "cell_type": "markdown",
   "id": "505e8189",
   "metadata": {},
   "source": [
    "Drop blank columns"
   ]
  },
  {
   "cell_type": "code",
   "execution_count": 97,
   "id": "0e725ea8",
   "metadata": {
    "vscode": {
     "languageId": "r"
    }
   },
   "outputs": [],
   "source": [
    "data_bc_clean = data_bc_clean %>%\n",
    "  select(-inizialTime, -inizialTimeResp, -endTime, -endTimeResp)"
   ]
  },
  {
   "cell_type": "markdown",
   "id": "9aed99ca",
   "metadata": {},
   "source": [
    "## Eyetracking columns with little description\n",
    "\n",
    "This is probably when each trial began but I don't know what it is in reference to."
   ]
  },
  {
   "cell_type": "code",
   "execution_count": 98,
   "id": "dc067762",
   "metadata": {
    "vscode": {
     "languageId": "r"
    }
   },
   "outputs": [
    {
     "data": {
      "text/html": [
       "13200"
      ],
      "text/latex": [
       "13200"
      ],
      "text/markdown": [
       "13200"
      ],
      "text/plain": [
       "[1] 13200"
      ]
     },
     "metadata": {},
     "output_type": "display_data"
    }
   ],
   "source": [
    "length(unique(data_bc_clean$startFix))"
   ]
  },
  {
   "cell_type": "markdown",
   "id": "b7b7d0c2",
   "metadata": {},
   "source": [
    "These are presumably eye-tracking data for fmri trial but no idea what units they are in or what the reference is. I'll keep them but can't use them for any analysis yet."
   ]
  },
  {
   "cell_type": "code",
   "execution_count": 99,
   "id": "a2f9199a",
   "metadata": {
    "vscode": {
     "languageId": "r"
    }
   },
   "outputs": [
    {
     "data": {
      "text/html": [
       "1801"
      ],
      "text/latex": [
       "1801"
      ],
      "text/markdown": [
       "1801"
      ],
      "text/plain": [
       "[1] 1801"
      ]
     },
     "metadata": {},
     "output_type": "display_data"
    }
   ],
   "source": [
    "length(unique(data_bc_clean$evtimeON))"
   ]
  },
  {
   "cell_type": "code",
   "execution_count": 100,
   "id": "ddfbd68a",
   "metadata": {
    "vscode": {
     "languageId": "r"
    }
   },
   "outputs": [
    {
     "data": {
      "text/html": [
       "1801"
      ],
      "text/latex": [
       "1801"
      ],
      "text/markdown": [
       "1801"
      ],
      "text/plain": [
       "[1] 1801"
      ]
     },
     "metadata": {},
     "output_type": "display_data"
    }
   ],
   "source": [
    "length(unique(data_bc_clean$evtimeOFF))"
   ]
  },
  {
   "cell_type": "code",
   "execution_count": 101,
   "id": "efe2e1ba",
   "metadata": {
    "vscode": {
     "languageId": "r"
    }
   },
   "outputs": [
    {
     "data": {
      "text/html": [
       "1801"
      ],
      "text/latex": [
       "1801"
      ],
      "text/markdown": [
       "1801"
      ],
      "text/plain": [
       "[1] 1801"
      ]
     },
     "metadata": {},
     "output_type": "display_data"
    }
   ],
   "source": [
    "length(unique(data_bc_clean$crossON))"
   ]
  }
 ],
 "metadata": {
  "jupytext": {
   "cell_metadata_filter": "tags,-all",
   "main_language": "R",
   "notebook_metadata_filter": "-all"
  },
  "kernelspec": {
   "display_name": "R",
   "language": "R",
   "name": "ir"
  },
  "language_info": {
   "codemirror_mode": "r",
   "file_extension": ".r",
   "mimetype": "text/x-r-source",
   "name": "R",
   "pygments_lexer": "r",
   "version": "4.2.0"
  }
 },
 "nbformat": 4,
 "nbformat_minor": 5
}
