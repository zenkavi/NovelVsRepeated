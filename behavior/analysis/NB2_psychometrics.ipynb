{
 "cells": [
  {
   "cell_type": "raw",
   "id": "1406f5e5",
   "metadata": {},
   "source": [
    "---\n",
    "title: \"Novel vs. repeated choice project: Psychometrics\"\n",
    "output: \n",
    "  html_document:\n",
    "    toc: true\n",
    "    toc_float: true\n",
    "    code_folding: 'hide'\n",
    "---"
   ]
  },
  {
   "cell_type": "markdown",
   "id": "825720c0",
   "metadata": {},
   "source": [
    "# Set up environment and load in data"
   ]
  },
  {
   "cell_type": "code",
   "execution_count": null,
   "id": "12d8131c",
   "metadata": {
    "tags": [
     "remove_cell"
    ]
   },
   "outputs": [],
   "source": [
    "library(tidyverse)\n",
    "library(here)\n",
    "theme_set(theme_bw())\n",
    "helpers_path = paste0(here(),'/analysis/helpers/')\n",
    "source(paste0(helpers_path, '01_clean_behavioral_data.R'))\n",
    "fig_out_path = paste0(here(), '/outputs/fig/')"
   ]
  },
  {
   "cell_type": "markdown",
   "id": "5705b358",
   "metadata": {},
   "source": [
    "Add columns that will be used for plots below."
   ]
  },
  {
   "cell_type": "code",
   "execution_count": null,
   "id": "8540395e",
   "metadata": {},
   "outputs": [],
   "source": [
    "data_yn_clean = data_yn_clean %>%\n",
    "  mutate(correct = ifelse(possiblePayoff>reference & yesChosen == 1, 1, ifelse(possiblePayoff < reference & yesChosen == 0, 1, 0))) %>%\n",
    "  mutate(type = ifelse(type == 1, \"HT\", \"RE\"),\n",
    "         week = ifelse(week == 1, \"Week 1\", ifelse(week == 2, \"Week 2\", ifelse(week == 3, \"Week 3\", NA))),\n",
    "         week = factor(week, levels = c(\"Week 1\", \"Week 2\", \"Week 3\"))) %>%\n",
    "  mutate(val_diff = possiblePayoff - reference,\n",
    "         val_diff_bin = round(val_diff/50),\n",
    "         val_diff_bin_str = paste0(val_diff_bin*50-25,\":\",val_diff_bin*50+25),\n",
    "         val_diff_bin_str = factor(val_diff_bin_str, levels = c(\"-225:-175\", \"-175:-125\", \"-125:-75\", \"-75:-25\", \"-25:25\", \"25:75\", \"75:125\", \"125:175\", \"175:225\")))\n",
    "\n",
    "data_bc_clean = data_bc_clean %>%\n",
    "  mutate(correct = ifelse(possiblePayoffleft>possiblePayoffright & leftChosen == 1, 1, ifelse(possiblePayoffleft<possiblePayoffright & leftChosen == 0, 1, 0))) %>%\n",
    "  mutate(type = ifelse(typeLeft == 1, \"HT\", \"RE\"),\n",
    "         week = ifelse(week == 1, \"Week 1\", ifelse(week == 2, \"Week 2\", ifelse(week == 3, \"Week 3\", NA))),\n",
    "         week = factor(week, levels = c(\"Week 1\", \"Week 2\", \"Week 3\"))) %>%\n",
    "  mutate(val_diff = possiblePayoffleft - possiblePayoffright,\n",
    "         val_diff_bin = round(val_diff/50),\n",
    "         val_diff_bin_str = paste0(val_diff_bin*50-25,\":\",val_diff_bin*50+25),\n",
    "         val_diff_bin_str = factor(val_diff_bin_str, levels = c(\"-275:-225\",\"-225:-175\", \"-175:-125\", \"-125:-75\", \"-75:-25\", \"-25:25\", \"25:75\", \"75:125\", \"125:175\", \"175:225\", \"225:275\"))) %>%\n",
    "  filter(!is.na(val_diff_bin_str))"
   ]
  },
  {
   "cell_type": "markdown",
   "id": "189914d2",
   "metadata": {},
   "source": [
    "# Accuracy over days\n",
    "\n",
    "## YN Task"
   ]
  },
  {
   "cell_type": "code",
   "execution_count": null,
   "id": "ef1462cf",
   "metadata": {},
   "outputs": [],
   "source": [
    "p = data_yn_clean %>%\n",
    "  group_by(subnum, day, type) %>%\n",
    "  summarise(mean_correct = mean(correct),\n",
    "            .groups=\"keep\") %>%\n",
    "  ungroup() %>%\n",
    "  group_by(day, type) %>%\n",
    "  summarise(sem_correct = sd(mean_correct)/sqrt(n()),\n",
    "            mean_correct = mean(mean_correct), .groups=\"keep\") %>%\n",
    "  ggplot(aes(day, mean_correct, color=type))+\n",
    "  geom_point(size = 2.5)+\n",
    "  geom_errorbar(aes(ymin=mean_correct-sem_correct, ymax=mean_correct+sem_correct), width=0, size = 1)+\n",
    "  geom_line()+\n",
    "  labs(x = \"Day\", y = \"Accuracy\", title=\"Y/N Task\", color=\"\")+\n",
    "  theme(panel.grid = element_blank(),\n",
    "        legend.position = \"bottom\",\n",
    "        legend.box.margin=margin(t = -10))+\n",
    "  scale_x_continuous(breaks=seq(1,11,1))+\n",
    "  scale_color_brewer(palette = \"Dark2\")+\n",
    " scale_y_continuous(breaks=seq(.75,1,.1), limits = c(.75,1))\n",
    "\n",
    "p\n",
    "# ggsave(file=paste0(fig_out_path, 'yn_group_accuracyOverDays.jpg'), p, height = 5, width=8, units=\"in\")"
   ]
  },
  {
   "cell_type": "code",
   "execution_count": null,
   "id": "cef3eb8b",
   "metadata": {},
   "outputs": [],
   "source": [
    "p = data_yn_clean %>%\n",
    "  group_by(subnum, day, type) %>%\n",
    "  summarise(mean_correct = mean(correct),\n",
    "            sem_correct = sd(correct)/sqrt(n()),\n",
    "            .groups=\"keep\") %>%\n",
    "  ggplot(aes(day, mean_correct, color=type))+\n",
    "  geom_point()+\n",
    "  geom_errorbar(aes(ymin=mean_correct-sem_correct, ymax=mean_correct+sem_correct), width=0)+\n",
    "  geom_line()+\n",
    "  facet_wrap(~subnum)+\n",
    "  labs(x = \"Day\", y = \"Accuracy\", title=\"Y/N Task\", color=\"\")+\n",
    "  theme(panel.grid = element_blank(),\n",
    "        legend.position = \"bottom\",\n",
    "        legend.box.margin=margin(t = -10))+\n",
    "  scale_x_continuous(breaks=seq(1,11,1))+\n",
    "  scale_color_brewer(palette = \"Dark2\")\n",
    "p\n",
    "# ggsave(file=paste0(fig_out_path, 'yn_accuracyOverDays.jpg'), p, height = 5, width=8, units=\"in\")"
   ]
  },
  {
   "cell_type": "markdown",
   "id": "055cdb59",
   "metadata": {},
   "source": [
    "## BC Task"
   ]
  },
  {
   "cell_type": "code",
   "execution_count": null,
   "id": "f6802b44",
   "metadata": {},
   "outputs": [],
   "source": [
    "p = data_bc_clean %>%\n",
    "  group_by(subnum, day, type) %>%\n",
    "  summarise(mean_correct = mean(correct),\n",
    "            .groups=\"keep\") %>%\n",
    "  ungroup() %>%\n",
    "  group_by(day, type) %>%\n",
    "  summarise(sem_correct = sd(mean_correct)/sqrt(n()),\n",
    "            mean_correct = mean(mean_correct), .groups=\"keep\") %>%\n",
    "  ggplot(aes(day, mean_correct, color=type))+\n",
    "  geom_point(size = 2.5)+\n",
    "  geom_errorbar(aes(ymin=mean_correct-sem_correct, ymax=mean_correct+sem_correct), width=0, size = 1)+\n",
    "  geom_line()+\n",
    "  labs(x = \"Day\", y = \"Accuracy\", title=\"BC Task\", color=\"\")+\n",
    "  theme(panel.grid = element_blank(),\n",
    "        legend.position = \"bottom\",\n",
    "        legend.box.margin=margin(t = -10))+\n",
    "  scale_x_continuous(breaks=seq(1,11,1))+\n",
    "  scale_color_brewer(palette = \"Dark2\")+\n",
    " scale_y_continuous(breaks=seq(.75,1,.1), limits = c(.75,1))\n",
    "\n",
    "p\n",
    "# ggsave(file=paste0(fig_out_path, 'bc_group_accuracyOverDays.jpg'), p, height = 5, width=8, units=\"in\")"
   ]
  },
  {
   "cell_type": "code",
   "execution_count": null,
   "id": "1bcf2f70",
   "metadata": {},
   "outputs": [],
   "source": [
    "p = data_bc_clean %>%\n",
    "  group_by(subnum, day, type) %>%\n",
    "  summarise(mean_correct = mean(correct),\n",
    "            sem_correct = sd(correct)/sqrt(n()),\n",
    "            .groups=\"keep\") %>%\n",
    "  ggplot(aes(day, mean_correct, color=type))+\n",
    "  geom_point()+\n",
    "  geom_errorbar(aes(ymin=mean_correct-sem_correct, ymax=mean_correct+sem_correct), width=0)+\n",
    "  geom_line()+\n",
    "  facet_wrap(~subnum)+\n",
    "  labs(x = \"Day\", y = \"Accuracy\", title=\"BC Task\", color=\"\")+\n",
    "  theme(panel.grid = element_blank(),\n",
    "        legend.position = \"bottom\",\n",
    "        legend.box.margin=margin(t = -10))+\n",
    "  scale_x_continuous(breaks=seq(1,11,1))+\n",
    "  scale_color_brewer(palette = \"Dark2\")\n",
    "\n",
    "p\n",
    "# ggsave(file=paste0(fig_out_path, 'bc_accuracyOverDays.jpg'), p, height = 5, width=8, units=\"in\")"
   ]
  },
  {
   "cell_type": "markdown",
   "id": "d6bd5eb9",
   "metadata": {},
   "source": [
    "# Accuracy depending on value difference\n",
    "\n",
    "## YN Task"
   ]
  },
  {
   "cell_type": "code",
   "execution_count": null,
   "id": "0a4935c3",
   "metadata": {},
   "outputs": [],
   "source": [
    "p = data_yn_clean %>%\n",
    "  group_by(subnum, week, val_diff_bin_str, type) %>%\n",
    "  summarise(mean_correct = mean(correct),\n",
    "            .groups=\"keep\") %>%\n",
    "  ungroup() %>%\n",
    "  group_by(week, val_diff_bin_str, type) %>%\n",
    "  summarise(sem_correct = sd(mean_correct)/sqrt(n()),\n",
    "            mean_correct = mean(mean_correct), .groups=\"keep\") %>%\n",
    "  ggplot(aes(val_diff_bin_str, mean_correct, color=type))+\n",
    "  geom_point(size = 2.5)+\n",
    "  # geom_jitter(width=.2)+\n",
    "  geom_errorbar(aes(ymin=mean_correct-sem_correct, ymax=mean_correct+sem_correct), width=0, size = 1)+\n",
    "  geom_line(aes(group=type))+\n",
    "  facet_grid(.~week)+\n",
    "  labs(x = \"Value Stim - Value Reference\", y = \"Accuracy\", title=\"Y/N Task\", color=\"\")+\n",
    "  theme(panel.grid = element_blank(),\n",
    "        legend.position = \"bottom\",\n",
    "        axis.text.x = element_text(angle = 15, margin = margin(t = 5)),\n",
    "        legend.box.margin=margin(t = -10))+\n",
    "  scale_color_brewer(palette = \"Dark2\")+\n",
    "  scale_x_discrete(labels=c(\"-225:-175\", \"\", \"-125:-75\", \"\", \"-25:25\", \"\", \"75:125\", \"\", \"175:225\"))+\n",
    "  scale_y_continuous(breaks = seq(.6,1,.2), limits = c(.6, 1))\n",
    "\n",
    "p\n",
    "# ggsave(file=paste0(fig_out_path, 'yn_group_accuracyByValDiff.jpg'), p, height = 3, width=9, units=\"in\")"
   ]
  },
  {
   "cell_type": "code",
   "execution_count": null,
   "id": "28f34e45",
   "metadata": {},
   "outputs": [],
   "source": [
    "p = data_yn_clean %>%\n",
    "  group_by(subnum, week, val_diff_bin_str, type) %>%\n",
    "  summarise(mean_correct = mean(correct),\n",
    "            sem_correct = sd(correct)/sqrt(n()),\n",
    "            .groups=\"keep\") %>%\n",
    "  ggplot(aes(val_diff_bin_str, mean_correct, color=type))+\n",
    "  geom_point()+\n",
    "  # geom_jitter(width=.2)+\n",
    "  geom_errorbar(aes(ymin=mean_correct-sem_correct, ymax=mean_correct+sem_correct), width=0)+\n",
    "  geom_line(aes(group=type))+\n",
    "  facet_grid(subnum~week)+\n",
    "  labs(x = \"Value Stim - Value Reference\", y = \"Accuracy\", title=\"Y/N Task\", color=\"\")+\n",
    "  theme(panel.grid = element_blank(),\n",
    "        legend.position = \"bottom\",\n",
    "        axis.text.x = element_text(angle = 15, margin = margin(t = 5)),\n",
    "        legend.box.margin=margin(t = -10))+\n",
    "  scale_color_brewer(palette = \"Dark2\")+\n",
    "  scale_x_discrete(labels=c(\"-225:-175\", \"\", \"-125:-75\", \"\", \"-25:25\", \"\", \"75:125\", \"\", \"175:225\"))+\n",
    "  scale_y_continuous(breaks = seq(.6,1,.2), limits = c(.6, 1))\n",
    "\n",
    "p\n",
    "# ggsave(file=paste0(fig_out_path, 'yn_accuracyByValDiff.jpg'), p, height = 7, width=8, units=\"in\")"
   ]
  },
  {
   "cell_type": "markdown",
   "id": "d4d1b17d",
   "metadata": {},
   "source": [
    "## BC Task"
   ]
  },
  {
   "cell_type": "code",
   "execution_count": null,
   "id": "74d6541c",
   "metadata": {},
   "outputs": [],
   "source": [
    "p = data_bc_clean %>%\n",
    "  group_by(subnum, week, val_diff_bin_str, type) %>%\n",
    "  summarise(mean_correct = mean(correct),\n",
    "            .groups=\"keep\") %>%\n",
    "  ungroup() %>%\n",
    "  group_by(week, val_diff_bin_str, type) %>%\n",
    "  summarise(sem_correct = sd(mean_correct)/sqrt(n()),\n",
    "            mean_correct = mean(mean_correct), .groups=\"keep\") %>%\n",
    "  ggplot(aes(val_diff_bin_str, mean_correct, color=type))+\n",
    "  geom_point(size = 2.5)+\n",
    "  geom_errorbar(aes(ymin=mean_correct-sem_correct, ymax=mean_correct+sem_correct), width=0, size=1)+\n",
    "  geom_line(aes(group=type))+\n",
    "  facet_grid(.~week)+\n",
    "  labs(x = \"Value Left - Value Right\", y = \"Accuracy\", title=\"BC Task\", color=\"\")+\n",
    "  theme(panel.grid = element_blank(),\n",
    "        legend.position = \"bottom\",\n",
    "        axis.text.x = element_text(angle = 15, margin = margin(t = 5)),\n",
    "        legend.box.margin=margin(t = -10))+\n",
    "  scale_color_brewer(palette = \"Dark2\")+\n",
    "  scale_x_discrete(labels=c(\"\",\"-225:-175\", \"\", \"-125:-75\", \"\", \"-25:25\", \"\", \"75:125\", \"\", \"175:225\",\"\"))+\n",
    "  scale_y_continuous(breaks = seq(.6,1,.2), limits = c(.6, 1))\n",
    "\n",
    "p\n",
    "# ggsave(file=paste0(fig_out_path, 'bc_group_accuracyByValDiff.jpg'), p, height = 3, width=9, units=\"in\")\n"
   ]
  },
  {
   "cell_type": "code",
   "execution_count": null,
   "id": "f676cb33",
   "metadata": {},
   "outputs": [],
   "source": [
    "p = data_bc_clean %>%\n",
    "  filter(abs(val_diff_bin) != 6) %>%\n",
    "  group_by(subnum, week, val_diff_bin_str, type) %>%\n",
    "  summarise(mean_correct = mean(correct),\n",
    "            sem_correct = sd(correct)/sqrt(n()),\n",
    "            .groups=\"keep\") %>%\n",
    "  ggplot(aes(val_diff_bin_str, mean_correct, color=type))+\n",
    "  geom_point()+\n",
    "  # geom_jitter(width=.2)+\n",
    "  geom_errorbar(aes(ymin=mean_correct-sem_correct, ymax=mean_correct+sem_correct), width=0)+\n",
    "  geom_line(aes(group=type))+\n",
    "  facet_grid(subnum~week)+\n",
    "  labs(x = \"Value Left - Value Right\", y = \"Accuracy\", title=\"BC Task\", color=\"\")+\n",
    "  theme(panel.grid = element_blank(),\n",
    "        legend.position = \"bottom\",\n",
    "        axis.text.x = element_text(angle = 15, margin = margin(t = 5)),\n",
    "        legend.box.margin=margin(t = -10))+\n",
    "  scale_color_brewer(palette = \"Dark2\")+\n",
    "  scale_x_discrete(labels=c(\"\",\"-225:-175\", \"\", \"-125:-75\", \"\", \"-25:25\", \"\", \"75:125\", \"\", \"175:225\",\"\"))+\n",
    "  scale_y_continuous(breaks = seq(.25,1,.25))\n",
    "\n",
    "p\n",
    "# ggsave(file=paste0(fig_out_path, 'bc_accuracyByValDiff.jpg'), p, height = 7, width=8, units=\"in\")\n"
   ]
  },
  {
   "cell_type": "markdown",
   "id": "eeed2e20",
   "metadata": {},
   "source": [
    "# Yes/Left depending on value difference\n",
    "\n",
    "## YN Task"
   ]
  },
  {
   "cell_type": "code",
   "execution_count": null,
   "id": "9eae6046",
   "metadata": {},
   "outputs": [],
   "source": [
    "p = data_yn_clean %>%\n",
    "  group_by(subnum, week, val_diff_bin_str, type) %>%\n",
    "  summarise(mean_yes = mean(yesChosen),\n",
    "            .groups=\"keep\") %>%\n",
    "  ungroup() %>%\n",
    "  group_by(week, val_diff_bin_str, type) %>%\n",
    "  summarise(sem_yes = sd(mean_yes)/sqrt(n()),\n",
    "            mean_yes = mean(mean_yes), .groups=\"keep\") %>%\n",
    "  ggplot(aes(val_diff_bin_str, mean_yes, color=type))+\n",
    "  geom_hline(aes(yintercept=.5), color=\"gray\")+\n",
    "  geom_vline(aes(xintercept=5), color=\"gray\")+\n",
    "  geom_point(size = 2.5)+\n",
    "  geom_errorbar(aes(ymin=mean_yes-sem_yes, ymax=mean_yes+sem_yes), width=0, size = 1)+\n",
    "  geom_line(aes(group=type))+\n",
    "  facet_grid(.~week)+\n",
    "  labs(x = \"Value Stim - Value Reference\", y = \"p(Yes)\", title=\"Y/N Task\", color=\"\")+\n",
    "  theme(panel.grid = element_blank(),\n",
    "        legend.position = \"bottom\",\n",
    "        axis.text.x = element_text(angle = 15, margin = margin(t = 5)),\n",
    "        legend.box.margin=margin(t = -10))+\n",
    "  scale_color_brewer(palette = \"Dark2\")+\n",
    "  scale_x_discrete(labels=c(\"-225:-175\", \"\", \"-125:-75\", \"\", \"-25:25\", \"\", \"75:125\", \"\", \"175:225\"))+\n",
    "  scale_y_continuous(breaks = seq(0,1,.5))\n",
    "\n",
    "p\n",
    "# ggsave(file=paste0(fig_out_path, 'yn_group_pYesByValDiff.jpg'), p, height = 3, width = 9, units=\"in\")"
   ]
  },
  {
   "cell_type": "code",
   "execution_count": null,
   "id": "888ac78f",
   "metadata": {},
   "outputs": [],
   "source": [
    "p = data_yn_clean %>%\n",
    "  group_by(subnum, day, val_diff_bin_str, type) %>%\n",
    "  summarise(mean_yes = mean(yesChosen),\n",
    "            .groups=\"keep\") %>%\n",
    "  ungroup() %>%\n",
    "  group_by(day, val_diff_bin_str, type) %>%\n",
    "  summarise(sem_yes = sd(mean_yes)/sqrt(n()),\n",
    "            mean_yes = mean(mean_yes), .groups=\"keep\") %>%\n",
    "  mutate(day = paste0(\"Day \", day),\n",
    "         day = factor(day, levels = c(\"Day 1\", \"Day 2\", \"Day 3\", \"Day 4\", \"Day 5\", \"Day 6\", \"Day 7\", \"Day 8\", \"Day 9\", \"Day 10\", \"Day 11\"))) %>%\n",
    "  ggplot(aes(val_diff_bin_str, mean_yes, color=type))+\n",
    "  geom_hline(aes(yintercept=.5), color=\"gray\")+\n",
    "  geom_vline(aes(xintercept=5), color=\"gray\")+\n",
    "  geom_point(size = 2.5)+\n",
    "  geom_errorbar(aes(ymin=mean_yes-sem_yes, ymax=mean_yes+sem_yes), width=0, size = 1)+\n",
    "  geom_line(aes(group=type))+\n",
    "  facet_wrap(~day)+\n",
    "  labs(x = \"Value Stim - Value Reference\", y = \"p(Yes)\", title=\"Y/N Task\", color=\"\")+\n",
    "  theme(panel.grid = element_blank(),\n",
    "        legend.position = \"bottom\",\n",
    "        axis.text.x = element_text(angle = 15, margin = margin(t = 5)),\n",
    "        legend.box.margin=margin(t = -10))+\n",
    "  scale_color_brewer(palette = \"Dark2\")+\n",
    "  scale_x_discrete(labels=c(\"-225:-175\", \"\", \"-125:-75\", \"\", \"-25:25\", \"\", \"75:125\", \"\", \"175:225\"))+\n",
    "  scale_y_continuous(breaks = seq(0,1,.5))\n",
    "\n",
    "p\n",
    "# ggsave(file=paste0(fig_out_path, 'yn_group_pYesByValDiffByDay.jpg'), p, height = 6, width = 10, units=\"in\")"
   ]
  },
  {
   "cell_type": "code",
   "execution_count": null,
   "id": "82539d3e",
   "metadata": {},
   "outputs": [],
   "source": [
    "p = data_yn_clean %>%\n",
    "  group_by(subnum, week, val_diff_bin_str, type) %>%\n",
    "  summarise(mean_yes = mean(yesChosen),\n",
    "            sem_yes = sd(yesChosen)/sqrt(n()),\n",
    "            .groups=\"keep\") %>%\n",
    "  ggplot(aes(val_diff_bin_str, mean_yes, color=type))+\n",
    "  # geom_point()+\n",
    "  geom_jitter(width=.2)+\n",
    "  geom_errorbar(aes(ymin=mean_yes-sem_yes, ymax=mean_yes+sem_yes), width=0)+\n",
    "  geom_line(aes(group=type))+\n",
    "  facet_grid(subnum~week)+\n",
    "  geom_hline(aes(yintercept=.5), color=\"gray\", linetype = \"longdash\")+\n",
    "  geom_vline(aes(xintercept=5), color=\"gray\", linetype = \"longdash\")+\n",
    "  labs(x = \"Value Stim - Value Reference\", y = \"p(Yes)\", title=\"Y/N Task\", color=\"\")+\n",
    "  theme(panel.grid = element_blank(),\n",
    "        legend.position = \"bottom\",\n",
    "        axis.text.x = element_text(angle = 15, margin = margin(t = 5)),\n",
    "        legend.box.margin=margin(t = -10))+\n",
    "  scale_color_brewer(palette = \"Dark2\")+\n",
    "  scale_x_discrete(labels=c(\"-225:-175\", \"\", \"-125:-75\", \"\", \"-25:25\", \"\", \"75:125\", \"\", \"175:225\"))+\n",
    "  scale_y_continuous(breaks = seq(0,1,.5))\n",
    "\n",
    "p\n",
    "# ggsave(file=paste0(fig_out_path, 'yn_pYesByValDiff.jpg'), p, height = 7, width=8, units=\"in\")"
   ]
  },
  {
   "cell_type": "code",
   "execution_count": null,
   "id": "36f70311",
   "metadata": {},
   "outputs": [],
   "source": [
    "p = data_yn_clean %>%\n",
    "  filter(fmri==1) %>%\n",
    "  group_by(subnum, day, val_diff_bin_str, type) %>%\n",
    "  summarise(mean_yes = mean(yesChosen),\n",
    "            sem_yes = sd(yesChosen)/sqrt(n()),\n",
    "            .groups=\"keep\") %>%\n",
    "  mutate(day = paste0(\"Day \", day),\n",
    "         day = factor(day, levels  = c(\"Day 3\", \"Day 7\", \"Day 11\"))) %>%\n",
    "  ggplot(aes(val_diff_bin_str, mean_yes, color=type))+\n",
    "  # geom_point()+\n",
    "  geom_jitter(width=.2)+\n",
    "  geom_errorbar(aes(ymin=mean_yes-sem_yes, ymax=mean_yes+sem_yes), width=0)+\n",
    "  geom_line(aes(group=type))+\n",
    "  facet_grid(subnum~day)+\n",
    "  geom_hline(aes(yintercept=.5), color=\"gray\", linetype = \"longdash\")+\n",
    "  geom_vline(aes(xintercept=5), color=\"gray\", linetype = \"longdash\")+\n",
    "  labs(x = \"Value Stim - Value Reference\", y = \"p(Yes)\", title=\"Y/N Task (fMRI sessions)\", color=\"\")+\n",
    "  theme(panel.grid = element_blank(),\n",
    "        legend.position = \"bottom\",\n",
    "        axis.text.x = element_text(angle = 15, margin = margin(t = 5)),\n",
    "        legend.box.margin=margin(t = -10))+\n",
    "  scale_color_brewer(palette = \"Dark2\")+\n",
    "  scale_x_discrete(labels=c(\"-225:-175\", \"\", \"-125:-75\", \"\", \"-25:25\", \"\", \"75:125\", \"\", \"175:225\"))+\n",
    "  scale_y_continuous(breaks = seq(0,1,.5))\n",
    "\n",
    "p\n",
    "# ggsave(file=paste0(fig_out_path, 'yn_pYesByValDiffMRI.jpg'), p, height = 7, width=8, units=\"in\")"
   ]
  },
  {
   "cell_type": "markdown",
   "id": "17822ea4",
   "metadata": {},
   "source": [
    "## BC Task"
   ]
  },
  {
   "cell_type": "code",
   "execution_count": null,
   "id": "749221d9",
   "metadata": {},
   "outputs": [],
   "source": [
    "p = data_bc_clean %>%\n",
    "  filter(abs(val_diff_bin) != 6) %>%\n",
    "  group_by(subnum, week, val_diff_bin_str, type) %>%\n",
    "  summarise(mean_left = mean(leftChosen),.groups=\"keep\") %>%\n",
    "  ungroup() %>%\n",
    "  group_by(week, val_diff_bin_str, type) %>%\n",
    "  summarise(sem_left = sd(mean_left)/sqrt(n()),\n",
    "            mean_left = mean(mean_left), .groups=\"keep\") %>%\n",
    "  ggplot(aes(val_diff_bin_str, mean_left, color=type))+\n",
    "  geom_hline(aes(yintercept=.5), color=\"gray\")+\n",
    "  geom_vline(aes(xintercept=6), color=\"gray\")+\n",
    "  geom_point(size = 2.5)+\n",
    "  geom_errorbar(aes(ymin=mean_left-sem_left, ymax=mean_left+sem_left), width=0, size = 1)+\n",
    "  geom_line(aes(group=type))+\n",
    "  facet_grid(.~week)+\n",
    "  labs(x = \"Value Left - Value Right\", y = \"p(Left)\", title=\"BC Task\", color=\"\")+\n",
    "  theme(panel.grid = element_blank(),\n",
    "        legend.position = \"bottom\",\n",
    "        axis.text.x = element_text(angle = 15, margin = margin(t = 5)),\n",
    "        legend.box.margin=margin(t = -10))+\n",
    "  scale_color_brewer(palette = \"Dark2\")+\n",
    "  scale_x_discrete(labels=c(\"\",\"-225:-175\", \"\", \"-125:-75\", \"\", \"-25:25\", \"\", \"75:125\", \"\", \"175:225\",\"\"))+\n",
    "  scale_y_continuous(breaks = seq(0,1,.5))\n",
    "\n",
    "p\n",
    "# ggsave(file=paste0(fig_out_path, 'bc_group_pLeftByValDiff.jpg'), p, height = 3, width=9, units=\"in\")"
   ]
  },
  {
   "cell_type": "code",
   "execution_count": null,
   "id": "600d585a",
   "metadata": {},
   "outputs": [],
   "source": [
    "p = data_bc_clean %>%\n",
    "  filter(abs(val_diff_bin) != 6) %>%\n",
    "  group_by(subnum, day, val_diff_bin_str, type) %>%\n",
    "  summarise(mean_left = mean(leftChosen),.groups=\"keep\") %>%\n",
    "  ungroup() %>%\n",
    "  group_by(day, val_diff_bin_str, type) %>%\n",
    "  summarise(sem_left = sd(mean_left)/sqrt(n()),\n",
    "            mean_left = mean(mean_left), .groups=\"keep\") %>%\n",
    "    mutate(day = paste0(\"Day \", day),\n",
    "         day = factor(day, levels = c(\"Day 1\", \"Day 2\", \"Day 3\", \"Day 4\", \"Day 5\", \"Day 6\", \"Day 7\", \"Day 8\", \"Day 9\", \"Day 10\", \"Day 11\"))) %>%\n",
    "  ggplot(aes(val_diff_bin_str, mean_left, color=type))+\n",
    "  geom_hline(aes(yintercept=.5), color=\"gray\")+\n",
    "  geom_vline(aes(xintercept=6), color=\"gray\")+\n",
    "  geom_point(size = 2.5)+\n",
    "  geom_errorbar(aes(ymin=mean_left-sem_left, ymax=mean_left+sem_left), width=0, size = 1)+\n",
    "  geom_line(aes(group=type))+\n",
    "  facet_wrap(~day)+\n",
    "  labs(x = \"Value Left - Value Right\", y = \"p(Left)\", title=\"BC Task\", color=\"\")+\n",
    "  theme(panel.grid = element_blank(),\n",
    "        legend.position = \"bottom\",\n",
    "        axis.text.x = element_text(angle = 15, margin = margin(t = 5)),\n",
    "        legend.box.margin=margin(t = -10))+\n",
    "  scale_color_brewer(palette = \"Dark2\")+\n",
    "  scale_x_discrete(labels=c(\"\",\"-225:-175\", \"\", \"-125:-75\", \"\", \"-25:25\", \"\", \"75:125\", \"\", \"175:225\",\"\"))+\n",
    "  scale_y_continuous(breaks = seq(0,1,.5))\n",
    "\n",
    "p\n",
    "# ggsave(file=paste0(fig_out_path, 'bc_group_pLeftByValDiffByDay.jpg'), p, height = 6, width = 10, units=\"in\")"
   ]
  },
  {
   "cell_type": "code",
   "execution_count": null,
   "id": "4dbfa795",
   "metadata": {},
   "outputs": [],
   "source": [
    "p = data_bc_clean %>%\n",
    "  filter(abs(val_diff_bin) != 6) %>%\n",
    "  group_by(subnum, week, val_diff_bin_str, type) %>%\n",
    "  summarise(mean_left = mean(leftChosen),\n",
    "            sem_left = sd(leftChosen)/sqrt(n()),\n",
    "            .groups=\"keep\") %>%\n",
    "  ggplot(aes(val_diff_bin_str, mean_left, color=type))+\n",
    "  # geom_point()+\n",
    "  geom_jitter(width=.2)+\n",
    "  geom_errorbar(aes(ymin=mean_left-sem_left, ymax=mean_left+sem_left), width=0)+\n",
    "  geom_line(aes(group=type))+\n",
    "  facet_grid(subnum~week)+\n",
    "  geom_hline(aes(yintercept=.5), color=\"gray\", linetype = \"longdash\")+\n",
    "  geom_vline(aes(xintercept=6), color=\"gray\", linetype = \"longdash\")+\n",
    "  labs(x = \"Value Left - Value Right\", y = \"p(Left)\", title=\"BC Task\", color=\"\")+\n",
    "  theme(panel.grid = element_blank(),\n",
    "        legend.position = \"bottom\",\n",
    "        axis.text.x = element_text(angle = 15, margin = margin(t = 5)),\n",
    "        legend.box.margin=margin(t = -10))+\n",
    "  scale_color_brewer(palette = \"Dark2\")+\n",
    "  scale_x_discrete(labels=c(\"\",\"-225:-175\", \"\", \"-125:-75\", \"\", \"-25:25\", \"\", \"75:125\", \"\", \"175:225\",\"\"))+\n",
    "  scale_y_continuous(breaks = seq(0,1,.5))\n",
    "\n",
    "p\n",
    "# ggsave(file=paste0(fig_out_path, 'bc_pLeftByValDiff.jpg'), p, height = 7, width=8, units=\"in\")"
   ]
  },
  {
   "cell_type": "code",
   "execution_count": null,
   "id": "e8761a4d",
   "metadata": {},
   "outputs": [],
   "source": [
    "p = data_bc_clean %>%\n",
    "  filter(abs(val_diff_bin) != 6) %>%\n",
    "  filter(fmri==1) %>%\n",
    "  group_by(subnum, day, val_diff_bin_str, type) %>%\n",
    "  summarise(mean_left = mean(leftChosen),\n",
    "            sem_left = sd(leftChosen)/sqrt(n()),\n",
    "            .groups=\"keep\") %>%\n",
    "  mutate(day = paste0(\"Day \", day),\n",
    "         day = factor(day, levels  = c(\"Day 3\", \"Day 7\", \"Day 11\"))) %>%\n",
    "  ggplot(aes(val_diff_bin_str, mean_left, color=type))+\n",
    "  # geom_point()+\n",
    "  geom_jitter(width=.2)+\n",
    "  geom_errorbar(aes(ymin=mean_left-sem_left, ymax=mean_left+sem_left), width=0)+\n",
    "  geom_line(aes(group=type))+\n",
    "  facet_grid(subnum~day)+\n",
    "  geom_hline(aes(yintercept=.5), color=\"gray\", linetype = \"longdash\")+\n",
    "  geom_vline(aes(xintercept=6), color=\"gray\", linetype = \"longdash\")+\n",
    "  labs(x = \"Value Left - Value Right\", y = \"p(Left)\", title=\"BC Task (fMRI sessions)\", color=\"\")+\n",
    "  theme(panel.grid = element_blank(),\n",
    "        legend.position = \"bottom\",\n",
    "        axis.text.x = element_text(angle = 15, margin = margin(t = 5)),\n",
    "        legend.box.margin=margin(t = -10))+\n",
    "  scale_color_brewer(palette = \"Dark2\")+\n",
    "  scale_x_discrete(labels=c(\"\",\"-225:-175\", \"\", \"-125:-75\", \"\", \"-25:25\", \"\", \"75:125\", \"\", \"175:225\",\"\"))+\n",
    "  scale_y_continuous(breaks = seq(0,1,.5))\n",
    "\n",
    "p\n",
    "# ggsave(file=paste0(fig_out_path, 'bc_pLeftByValDiffMRI.jpg'), p, height = 7, width=8, units=\"in\")"
   ]
  },
  {
   "cell_type": "markdown",
   "id": "f43057ff",
   "metadata": {},
   "source": [
    "# RT over days\n",
    "\n",
    "## YN Task"
   ]
  },
  {
   "cell_type": "code",
   "execution_count": null,
   "id": "d6c43d9e",
   "metadata": {},
   "outputs": [],
   "source": [
    "p = data_yn_clean %>%\n",
    "  group_by(subnum, day, type) %>%\n",
    "  summarise(mean_log_rt = mean(log(rt)), .groups=\"keep\") %>%\n",
    "  ungroup() %>%\n",
    "  group_by(day, type) %>%\n",
    "  summarise(.groups = \"keep\",\n",
    "            sem_log_rt = sd(mean_log_rt)/sqrt(n()),\n",
    "            mean_log_rt = mean(mean_log_rt)) %>%\n",
    "  ggplot(aes(day, mean_log_rt, color=type))+\n",
    "  geom_point(size = 2.5)+\n",
    "  geom_errorbar(aes(ymin=mean_log_rt-sem_log_rt, ymax=mean_log_rt+sem_log_rt), width=0, size = 1)+\n",
    "  geom_line()+\n",
    "  # facet_wrap(~subnum)+\n",
    "  labs(x = \"Day\", y = \"Mean Log RT\", title=\"Y/N Task\", color=\"\")+\n",
    "  theme(panel.grid = element_blank(),\n",
    "        legend.position = \"bottom\",\n",
    "        legend.box.margin=margin(t = -10))+\n",
    "  scale_x_continuous(breaks=seq(1,11,1))+\n",
    "  scale_color_brewer(palette = \"Dark2\")\n",
    "\n",
    "p\n",
    "# ggsave(file=paste0(fig_out_path, 'yn_group_RTOverDays.jpg'), p, height = 3, width = 5, units=\"in\")"
   ]
  },
  {
   "cell_type": "code",
   "execution_count": null,
   "id": "3fa4aa12",
   "metadata": {},
   "outputs": [],
   "source": [
    "p = data_yn_clean %>%\n",
    "  group_by(subnum, day, type) %>%\n",
    "  summarise(mean_log_rt = mean(log(rt)),\n",
    "            sem_log_rt = sd(log(rt))/sqrt(n()),\n",
    "            .groups=\"keep\") %>%\n",
    "  ggplot(aes(day, mean_log_rt, color=type))+\n",
    "  geom_point()+\n",
    "  geom_errorbar(aes(ymin=mean_log_rt-sem_log_rt, ymax=mean_log_rt+sem_log_rt), width=0)+\n",
    "  geom_line()+\n",
    "  facet_wrap(~subnum)+\n",
    "  labs(x = \"Day\", y = \"Mean Log RT\", title=\"Y/N Task\", color=\"\")+\n",
    "  theme(panel.grid = element_blank(),\n",
    "        legend.position = \"bottom\",\n",
    "        legend.box.margin=margin(t = -10))+\n",
    "  scale_x_continuous(breaks=seq(1,11,1))+\n",
    "  scale_color_brewer(palette = \"Dark2\")\n",
    "\n",
    "p\n",
    "# ggsave(file=paste0(fig_out_path, 'yn_RTOverDays.jpg'), p, height = 5, width=8, units=\"in\")"
   ]
  },
  {
   "cell_type": "markdown",
   "id": "c961eac1",
   "metadata": {},
   "source": [
    "## BC Task"
   ]
  },
  {
   "cell_type": "code",
   "execution_count": null,
   "id": "0a90e38c",
   "metadata": {},
   "outputs": [],
   "source": [
    "p = data_bc_clean %>%\n",
    "  group_by(subnum, day, type) %>%\n",
    "  summarise(mean_log_rt = mean(log(rt)),.groups=\"keep\") %>%\n",
    "  ungroup() %>%\n",
    "  group_by(day, type) %>%\n",
    "  summarise(sem_log_rt = sd(mean_log_rt)/sqrt(n()),\n",
    "            mean_log_rt = mean(mean_log_rt), .groups=\"keep\") %>%\n",
    "  ggplot(aes(day, mean_log_rt, color=type))+\n",
    "  geom_point(size = 2.5)+\n",
    "  geom_errorbar(aes(ymin=mean_log_rt-sem_log_rt, ymax=mean_log_rt+sem_log_rt), width=0, size = 1)+\n",
    "  geom_line()+\n",
    "  labs(x = \"Day\", y = \"Mean Log RT\", title=\"BC Task\", color=\"\")+\n",
    "  theme(panel.grid = element_blank(),\n",
    "        legend.position = \"bottom\",\n",
    "        legend.box.margin=margin(t = -10))+\n",
    "  scale_x_continuous(breaks=seq(1,11,1))+\n",
    "  scale_color_brewer(palette = \"Dark2\")\n",
    "\n",
    "p\n",
    "# ggsave(file=paste0(fig_out_path, 'bc_group_RTOverDays.jpg'), p, height = 3, width = 5, units=\"in\")"
   ]
  },
  {
   "cell_type": "code",
   "execution_count": null,
   "id": "2999ee7d",
   "metadata": {},
   "outputs": [],
   "source": [
    "p = data_bc_clean %>%\n",
    "  group_by(subnum, day, type) %>%\n",
    "  summarise(mean_log_rt = mean(log(rt)),\n",
    "            sem_log_rt = sd(log(rt))/sqrt(n()),\n",
    "            .groups=\"keep\") %>%\n",
    "  ggplot(aes(day, mean_log_rt, color=type))+\n",
    "  geom_point()+\n",
    "  geom_errorbar(aes(ymin=mean_log_rt-sem_log_rt, ymax=mean_log_rt+sem_log_rt), width=0)+\n",
    "  geom_line()+\n",
    "  facet_wrap(~subnum)+\n",
    "  labs(x = \"Day\", y = \"Mean Log RT\", title=\"BC Task\", color=\"\")+\n",
    "  theme(panel.grid = element_blank(),\n",
    "        legend.position = \"bottom\",\n",
    "        legend.box.margin=margin(t = -10))+\n",
    "  scale_x_continuous(breaks=seq(1,11,1))+\n",
    "  scale_color_brewer(palette = \"Dark2\")\n",
    "\n",
    "p\n",
    "# ggsave(file=paste0(fig_out_path, 'bc_RTOverDays.jpg'), p, height = 5, width=8, units=\"in\")"
   ]
  },
  {
   "cell_type": "markdown",
   "id": "c90405c7",
   "metadata": {},
   "source": [
    "# RT depending on value difference\n",
    "\n",
    "## YN Task"
   ]
  },
  {
   "cell_type": "code",
   "execution_count": null,
   "id": "d9085f82",
   "metadata": {},
   "outputs": [],
   "source": [
    "p = data_yn_clean %>%\n",
    "  group_by(subnum, week, val_diff_bin_str, type) %>%\n",
    "  summarise(mean_log_rt = mean(log(rt)),\n",
    "            .groups=\"keep\") %>%\n",
    "  ungroup() %>%\n",
    "  group_by(week, val_diff_bin_str, type) %>%\n",
    "  summarise(sem_log_rt = sd(mean_log_rt)/sqrt(n()),\n",
    "            mean_log_rt = mean(mean_log_rt), .groups = \"keep\") %>%\n",
    "  ggplot(aes(val_diff_bin_str, mean_log_rt, color=type))+\n",
    "  geom_point(size = 2.5)+\n",
    "  geom_errorbar(aes(ymin=mean_log_rt-sem_log_rt, ymax=mean_log_rt+sem_log_rt), width=0, size = 1)+\n",
    "  geom_line(aes(group=type))+\n",
    "  facet_grid(.~week)+\n",
    "  labs(x = \"Value Stim - Value Reference\", y = \"Mean Log RT\", title=\"Y/N Task\", color=\"\")+\n",
    "  theme(panel.grid = element_blank(),\n",
    "        legend.position = \"bottom\",\n",
    "        axis.text.x = element_text(angle = 15, margin = margin(t = 5)),\n",
    "        legend.box.margin=margin(t = -10))+\n",
    "  scale_color_brewer(palette = \"Dark2\")+\n",
    "  scale_x_discrete(labels=c(\"-225:-175\", \"\", \"-125:-75\", \"\", \"-25:25\", \"\", \"75:125\", \"\", \"175:225\"))+\n",
    "  scale_y_continuous(breaks = seq(-1,.5,.5))\n",
    "\n",
    "p\n",
    "# ggsave(file=paste0(fig_out_path, 'yn_group_RTOverValDiff.jpg'), p, height = 3, width=9, units=\"in\")"
   ]
  },
  {
   "cell_type": "code",
   "execution_count": null,
   "id": "fe6e8495",
   "metadata": {},
   "outputs": [],
   "source": [
    "p = data_yn_clean %>%\n",
    "  group_by(subnum, week, val_diff_bin_str, type) %>%\n",
    "  summarise(mean_log_rt = mean(log(rt)),\n",
    "            sem_log_rt = sd(log(rt))/sqrt(n()),\n",
    "            .groups=\"keep\") %>%\n",
    "  ggplot(aes(val_diff_bin_str, mean_log_rt, color=type))+\n",
    "  # geom_point()+\n",
    "  geom_jitter(width=.2)+\n",
    "  geom_errorbar(aes(ymin=mean_log_rt-sem_log_rt, ymax=mean_log_rt+sem_log_rt), width=0)+\n",
    "  geom_line(aes(group=type))+\n",
    "  facet_grid(subnum~week)+\n",
    "  labs(x = \"Value Stim - Value Reference\", y = \"Mean Log RT\", title=\"Y/N Task\", color=\"\")+\n",
    "  theme(panel.grid = element_blank(),\n",
    "        legend.position = \"bottom\",\n",
    "        axis.text.x = element_text(angle = 15, margin = margin(t = 5)),\n",
    "        legend.box.margin=margin(t = -10))+\n",
    "  scale_color_brewer(palette = \"Dark2\")+\n",
    "  scale_x_discrete(labels=c(\"-225:-175\", \"\", \"-125:-75\", \"\", \"-25:25\", \"\", \"75:125\", \"\", \"175:225\"))+\n",
    "  scale_y_continuous(breaks = seq(-1,.5,.5))\n",
    "\n",
    "p\n",
    "# ggsave(file=paste0(fig_out_path, 'yn_RTOverValDiff.jpg'), p, height = 5, width=8, units=\"in\")"
   ]
  },
  {
   "cell_type": "markdown",
   "id": "ea689735",
   "metadata": {},
   "source": [
    "## BC Task"
   ]
  },
  {
   "cell_type": "code",
   "execution_count": null,
   "id": "ff6ec415",
   "metadata": {},
   "outputs": [],
   "source": [
    "p = data_bc_clean %>%\n",
    "  filter(abs(val_diff_bin) != 6) %>%\n",
    "  group_by(subnum, week, val_diff_bin_str, type) %>%\n",
    "  summarise(mean_log_rt = mean(log(rt)),\n",
    "            .groups=\"keep\") %>%\n",
    "  ungroup() %>%\n",
    "  group_by(week, val_diff_bin_str, type) %>%\n",
    "  summarise(sem_log_rt = sd(mean_log_rt)/sqrt(n()),\n",
    "            mean_log_rt = mean(mean_log_rt), .groups = \"keep\") %>%\n",
    "  ggplot(aes(val_diff_bin_str, mean_log_rt, color=type))+\n",
    "  geom_point(size = 2.5)+\n",
    "  geom_errorbar(aes(ymin=mean_log_rt-sem_log_rt, ymax=mean_log_rt+sem_log_rt), width=0, size = 1)+\n",
    "  geom_line(aes(group=type))+\n",
    "  facet_grid(.~week)+\n",
    "  labs(x = \"Value Left - Value Right\", y = \"Mean Log RT\", title=\"BC Task\", color=\"\")+\n",
    "  theme(panel.grid = element_blank(),\n",
    "        legend.position = \"bottom\",\n",
    "        axis.text.x = element_text(angle = 15, margin = margin(t = 5)),\n",
    "        legend.box.margin=margin(t = -10))+\n",
    "  scale_color_brewer(palette = \"Dark2\")+\n",
    "  scale_x_discrete(labels=c(\"\",\"-225:-175\", \"\", \"-125:-75\", \"\", \"-25:25\", \"\", \"75:125\", \"\", \"175:225\",\"\"))+\n",
    "  scale_y_continuous(breaks = seq(-1,.5,.5))\n",
    "\n",
    "p\n",
    "# ggsave(file=paste0(fig_out_path, 'bc_group_RTOverValDiff.jpg'), p, height = 3, width=9, units=\"in\")"
   ]
  },
  {
   "cell_type": "code",
   "execution_count": null,
   "id": "d24daffc",
   "metadata": {},
   "outputs": [],
   "source": [
    "p = data_bc_clean %>%\n",
    "  filter(abs(val_diff_bin) != 6) %>%\n",
    "  group_by(subnum, week, val_diff_bin_str, type) %>%\n",
    "  summarise(mean_log_rt = mean(log(rt)),\n",
    "            sem_log_rt = sd(log(rt))/sqrt(n()),\n",
    "            .groups=\"keep\") %>%\n",
    "  ggplot(aes(val_diff_bin_str, mean_log_rt, color=type))+\n",
    "  geom_point()+\n",
    "  geom_errorbar(aes(ymin=mean_log_rt-sem_log_rt, ymax=mean_log_rt+sem_log_rt), width=0)+\n",
    "  geom_line(aes(group=type))+\n",
    "  facet_grid(subnum~week)+\n",
    "  labs(x = \"Value Left - Value Right\", y = \"Mean Log RT\", title=\"BC Task\", color=\"\")+\n",
    "  theme(panel.grid = element_blank(),\n",
    "        legend.position = \"bottom\",\n",
    "        axis.text.x = element_text(angle = 15, margin = margin(t = 5)),\n",
    "        legend.box.margin=margin(t = -10))+\n",
    "  scale_color_brewer(palette = \"Dark2\")+\n",
    "  scale_x_discrete(labels=c(\"\",\"-225:-175\", \"\", \"-125:-75\", \"\", \"-25:25\", \"\", \"75:125\", \"\", \"175:225\",\"\"))+\n",
    "  scale_y_continuous(breaks = seq(-1,.5,.5))\n",
    "\n",
    "p\n",
    "# ggsave(file=paste0(fig_out_path, 'bc_RTOverValDiff.jpg'), p, height = 5, width=8, units=\"in\")"
   ]
  },
  {
   "cell_type": "markdown",
   "id": "4377ad3b",
   "metadata": {},
   "source": [
    "# Fixation Cross Free RT\n",
    "\n",
    "What does the distribution of free RTs during the fixation look like?\n",
    "\n",
    "## YN Task\n",
    "\n",
    "For task_beah (non-fmri sessions) `startFix` is when the fixation comes on"
   ]
  },
  {
   "cell_type": "code",
   "execution_count": null,
   "id": "5d04b8ae",
   "metadata": {},
   "outputs": [],
   "source": [
    "yn_fix_rt_data = data_yn_clean %>%\n",
    "  filter(fmri == 0) %>%\n",
    "  select(-evtimeON, -evtimeOFF, -fmri, -response, -valueO, -valueF, -valueS, -stimNum, -crossON) %>%\n",
    "  group_by(subnum, day, session) %>%\n",
    "  mutate(trialNum = 1:n(),\n",
    "         startFixDiff = c(diff(startFix), NA), \n",
    "         rewardTime = ifelse(session == 1 & trialNum < 16, 2.4, ifelse(session == 1 & trialNum > 15 & trialNum < 36, 1.5, 1))) %>%\n",
    "  filter(!is.na(startFixDiff)) %>%\n",
    "  mutate(fixRt = startFixDiff - (rt+rewardTime))"
   ]
  },
  {
   "cell_type": "markdown",
   "id": "fd4c1014",
   "metadata": {},
   "source": [
    "There are some very long RTs during the fixation cross"
   ]
  },
  {
   "cell_type": "code",
   "execution_count": null,
   "id": "016fccfa",
   "metadata": {},
   "outputs": [],
   "source": [
    "summary(yn_fix_rt_data$fixRt)"
   ]
  },
  {
   "cell_type": "markdown",
   "id": "bc946914",
   "metadata": {},
   "source": [
    "But less than 2% of all trials have fixations RTs slower than 1 second."
   ]
  },
  {
   "cell_type": "code",
   "execution_count": null,
   "id": "605c5b8a",
   "metadata": {},
   "outputs": [],
   "source": [
    "sum(yn_fix_rt_data$fixRt>1)/nrow(yn_fix_rt_data)"
   ]
  },
  {
   "cell_type": "markdown",
   "id": "6fca9db4",
   "metadata": {},
   "source": [
    "Excluding slow fixation RTs for the plot"
   ]
  },
  {
   "cell_type": "code",
   "execution_count": null,
   "id": "426850b3",
   "metadata": {},
   "outputs": [],
   "source": [
    "yn_fix_rt_data %>%\n",
    "  filter(fixRt < 1) %>%\n",
    "  ggplot(aes(fixRt))+\n",
    "  geom_histogram(alpha=.5, bins=30)+\n",
    "  facet_wrap(~subnum)+\n",
    "  theme(panel.grid = element_blank(),\n",
    "        axis.text.y = element_blank(),\n",
    "        axis.ticks.y = element_blank())+\n",
    "  labs(y=\"\", x = \"Fixation Cross RT\", title = \"Y/N Task\")\n"
   ]
  },
  {
   "cell_type": "code",
   "execution_count": null,
   "id": "6d661c08",
   "metadata": {},
   "outputs": [],
   "source": [
    "p = yn_fix_rt_data %>%\n",
    "  filter(fixRt < 1) %>%\n",
    "  ungroup() %>%\n",
    "  group_by(subnum, day) %>%\n",
    "  summarise(.groups=\"keep\",\n",
    "            mean_log_fix_rt = mean(log(fixRt)),\n",
    "            sem_log_fix_rt = sd(log(fixRt))/sqrt(n())) %>%\n",
    "  mutate(subnum = as.factor(subnum)) %>%\n",
    "  ggplot(aes(day, mean_log_fix_rt, color=subnum))+\n",
    "  geom_point(size = 2.5)+\n",
    "  geom_errorbar(aes(ymin=mean_log_fix_rt - sem_log_fix_rt, ymax = mean_log_fix_rt + sem_log_fix_rt), width= 0, size=1)+\n",
    "  geom_line()+\n",
    "  labs(x=\"Day\", y = \"Mean Log Fixation Cross RT\", title = \"Y/N Task\")+\n",
    "  scale_x_continuous(breaks=seq(1,11,1))+\n",
    "  theme(panel.grid = element_blank(),\n",
    "        legend.position = \"bottom\",\n",
    "        axis.text.x = element_text(margin = margin(t = 5)),\n",
    "        legend.box.margin=margin(t = -10))+\n",
    "  scale_color_brewer(palette = \"Dark2\")\n",
    "\n",
    "p\n",
    "# ggsave(file=paste0(fig_out_path, 'yn_fixRTOverDays.jpg'), p, height = 3, width=5, units=\"in\")"
   ]
  },
  {
   "cell_type": "markdown",
   "id": "45ef9a4c",
   "metadata": {},
   "source": [
    "## BC Task"
   ]
  },
  {
   "cell_type": "code",
   "execution_count": null,
   "id": "fe0babd3",
   "metadata": {},
   "outputs": [],
   "source": [
    "bc_fix_rt_data = data_bc_clean %>%\n",
    "  filter(fmri == 0) %>%\n",
    "  select(subnum, day, rt, startFix) %>%\n",
    "  group_by(subnum, day) %>%\n",
    "  mutate(trialNum = 1:n(),\n",
    "         startFixDiff = c(diff(startFix), NA), \n",
    "         rewardTime = 1.1) %>%\n",
    "  filter(!is.na(startFixDiff)) %>%\n",
    "  mutate(fixRt = startFixDiff - (rt+rewardTime))"
   ]
  },
  {
   "cell_type": "code",
   "execution_count": null,
   "id": "d6a93f27",
   "metadata": {},
   "outputs": [],
   "source": [
    "summary(bc_fix_rt_data$fixRt)"
   ]
  },
  {
   "cell_type": "markdown",
   "id": "76c37694",
   "metadata": {},
   "source": [
    "But less than 2% of all trials have fixations RTs slower than 1 second."
   ]
  },
  {
   "cell_type": "code",
   "execution_count": null,
   "id": "0a3f5b83",
   "metadata": {},
   "outputs": [],
   "source": [
    "sum(bc_fix_rt_data$fixRt>1)/nrow(bc_fix_rt_data)"
   ]
  },
  {
   "cell_type": "markdown",
   "id": "f3ec95c5",
   "metadata": {},
   "source": [
    "Excluding slow fixation RTs for the plot"
   ]
  },
  {
   "cell_type": "code",
   "execution_count": null,
   "id": "253accd6",
   "metadata": {},
   "outputs": [],
   "source": [
    "bc_fix_rt_data %>%\n",
    "  filter(fixRt < 1) %>%\n",
    "  ggplot(aes(fixRt))+\n",
    "  geom_histogram(alpha=.5, bins=30)+\n",
    "  facet_wrap(~subnum)+\n",
    "  theme(panel.grid = element_blank(),\n",
    "        axis.text.y = element_blank(),\n",
    "        axis.ticks.y = element_blank())+\n",
    "  labs(y=\"\", x = \"Fixation Cross RT\", title = \"BC Task\")\n"
   ]
  },
  {
   "cell_type": "code",
   "execution_count": null,
   "id": "9fdfac81",
   "metadata": {
    "lines_to_next_cell": 0
   },
   "outputs": [],
   "source": [
    "p = bc_fix_rt_data %>%\n",
    "  filter(fixRt < 1) %>%\n",
    "  ungroup() %>%\n",
    "  group_by(subnum, day) %>%\n",
    "  summarise(.groups=\"keep\",\n",
    "            mean_log_fix_rt = mean(log(fixRt)),\n",
    "            sem_log_fix_rt = sd(log(fixRt))/sqrt(n())) %>%\n",
    "  mutate(subnum = as.factor(subnum)) %>%\n",
    "  ggplot(aes(day, mean_log_fix_rt, color=subnum))+\n",
    "  geom_point(size = 2.5)+\n",
    "  geom_errorbar(aes(ymin=mean_log_fix_rt - sem_log_fix_rt, ymax = mean_log_fix_rt + sem_log_fix_rt), width= 0, size = 1)+\n",
    "  geom_line()+\n",
    "  theme(panel.grid = element_blank())+\n",
    "  labs(x=\"Day\", y = \"Mean Log Fixation Cross RT\", title = \"BC Task\")+\n",
    "  scale_x_continuous(breaks=seq(1,11,1))+\n",
    "  theme(panel.grid = element_blank(),\n",
    "        legend.position = \"bottom\",\n",
    "        axis.text.x = element_text(angle = 15, margin = margin(t = 5)),\n",
    "        legend.box.margin=margin(t = -10))+\n",
    "  scale_color_brewer(palette = \"Dark2\")\n",
    "\n",
    "p\n",
    "# ggsave(file=paste0(fig_out_path, 'bc_fixRTOverDays.jpg'), p, height = 3, width=5, units=\"in\")\n"
   ]
  },
  {
   "cell_type": "markdown",
   "id": "908820c2",
   "metadata": {},
   "source": [
    "\n",
    "\n"
   ]
  }
 ],
 "metadata": {
  "jupytext": {
   "cell_metadata_filter": "tags,-all",
   "main_language": "R",
   "notebook_metadata_filter": "-all"
  }
 },
 "nbformat": 4,
 "nbformat_minor": 5
}
