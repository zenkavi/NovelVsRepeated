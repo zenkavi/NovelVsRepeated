{
 "cells": [
  {
   "cell_type": "raw",
   "id": "43b068b2",
   "metadata": {},
   "source": [
    "---\n",
    "title: \"Novel vs. repeated choice project: Manual RLDDM fitting to determine parameter space\"\n",
    "output: \n",
    "  html_document:\n",
    "    toc: true\n",
    "    toc_float: true\n",
    "    code_folding: 'hide'\n",
    "---"
   ]
  },
  {
   "cell_type": "markdown",
   "id": "6d1a2fd5",
   "metadata": {},
   "source": [
    "Set up environment and load in data"
   ]
  },
  {
   "cell_type": "code",
   "execution_count": null,
   "id": "9bbc3c5a",
   "metadata": {
    "message": false,
    "tags": [
     "remove_cell"
    ]
   },
   "outputs": [],
   "source": [
    "library(tidyverse)\n",
    "library(brms)\n",
    "library(here)\n",
    "library(grid)\n",
    "library(gridExtra)\n",
    "library(lemon)\n",
    "theme_set(theme_bw())\n",
    "helpers_path = paste0(here(),'/analysis/helpers/')\n",
    "inputs_path = paste0(here(),'/inputs/')\n",
    "source(paste0(helpers_path, '01_clean_behavioral_data.R'))\n",
    "fig_out_path = paste0(here(), '/outputs/fig/')\n",
    "rm(data_bc_clean)"
   ]
  },
  {
   "cell_type": "code",
   "execution_count": null,
   "id": "f2f17528",
   "metadata": {
    "lines_to_next_cell": 2
   },
   "outputs": [],
   "source": [
    "data_yn_clean = data_yn_clean %>%\n",
    "  mutate(correct = ifelse(possiblePayoff>reference & yesChosen == 1, 1, ifelse(possiblePayoff < reference & yesChosen == 0, 1, 0))) %>%\n",
    "  mutate(type_chr = ifelse(type == 1, \"Over Exposure\", \"Regular Exposure\"),\n",
    "         week = ifelse(week == 1, \"Week 1\", ifelse(week == 2, \"Week 2\", ifelse(week == 3, \"Week 3\", NA))),\n",
    "         week = factor(week, levels = c(\"Week 1\", \"Week 2\", \"Week 3\"))) %>%\n",
    "  mutate(val_diff = possiblePayoff - reference,\n",
    "         abs_val_diff = abs(possiblePayoff - reference),\n",
    "         val_diff_bin = round(val_diff/50),\n",
    "         val_diff_bin_str = paste0(val_diff_bin*50-25,\":\",val_diff_bin*50+25),\n",
    "         val_diff_bin_str = factor(val_diff_bin_str, levels = c(\"-225:-175\", \"-175:-125\", \"-125:-75\", \"-75:-25\", \"-25:25\", \"25:75\", \"75:125\", \"125:175\", \"175:225\")),\n",
    "         time_bin = ifelse(day == 1, \"Day 1\", ifelse(day == 2, \"Day 2\", ifelse(day == 3, \"Day 3\", ifelse((day > 3) & (day < 8), \"Week 2\", \"Week 3\"))))) %>%\n",
    "  mutate(subject = recode(subnum, \n",
    "                    `601` = \"Subject 1\", \n",
    "                    `609` = \"Subject 2\",\n",
    "                    `611` = \"Subject 3\",\n",
    "                    `619` = \"Subject 4\",\n",
    "                    `621` = \"Subject 5\",\n",
    "                    `629` = \"Subject 6\"))"
   ]
  },
  {
   "cell_type": "code",
   "execution_count": null,
   "id": "997971e6",
   "metadata": {
    "lines_to_next_cell": 2
   },
   "outputs": [],
   "source": [
    "data_yn_clean = data_yn_clean %>%\n",
    "  mutate(abs_val_diff_bin_str =  paste0(abs(val_diff_bin)*50-25,\":\",abs(val_diff_bin)*50+25),\n",
    "         abs_val_diff_bin_str = ifelse(abs_val_diff_bin_str ==  \"-25:25\", \"0:25\", abs_val_diff_bin_str),\n",
    "         abs_val_diff_bin_str = factor(abs_val_diff_bin_str, levels = c(\"0:25\", \"25:75\", \"75:125\", \"125:175\", \"175:225\", \"225:275\")))"
   ]
  },
  {
   "cell_type": "code",
   "execution_count": null,
   "id": "3cab38ab",
   "metadata": {},
   "outputs": [],
   "source": [
    "source(paste0(helpers_path, \"rlddm/yn_rlddm.R\"))"
   ]
  },
  {
   "cell_type": "markdown",
   "id": "30895cda",
   "metadata": {},
   "source": [
    "The true noise level is 10 so don't go below that?"
   ]
  },
  {
   "cell_type": "code",
   "execution_count": null,
   "id": "bd4e486a",
   "metadata": {},
   "outputs": [],
   "source": [
    "cur_subnum = 601\n",
    "init_attr_values = list(val_shape = rep(0, 6), val_orientation = rep(0, 11), val_filling = rep(0, 9))\n",
    "init_ht_values = list()\n",
    "  \n",
    "stims = data_yn_clean %>% filter((subnum == cur_subnum) & (day %in% c(1)))\n",
    "sim_data_d1 = sim_task(stims, init_ht_values, init_attr_values, \n",
    "                       d = .0007, sigma = .025, alpha = .04, theta = .03, \n",
    "                       oe_noise = 3, re_noise = 30, \n",
    "                       nonDecisionTime = 400, bias = 0)\n",
    "sim_data_d1$out$day = 1\n",
    "\n",
    "stims = data_yn_clean %>% filter((subnum == cur_subnum) & (day %in% c(2)))\n",
    "sim_data_d2 = sim_task(stims, sim_data_d1$values$ht_vals, sim_data_d1$values, \n",
    "                       d = .0007, sigma = .025, alpha = .04, theta = 0.05,\n",
    "                       oe_noise = 3, re_noise = 25, nonDecisionTime = 400, bias = 0)\n",
    "sim_data_d2$out$day = 2\n",
    "\n",
    "stims = data_yn_clean %>% filter((subnum == cur_subnum) & (day %in% c(3)))\n",
    "sim_data_d3 = sim_task(stims, sim_data_d2$values$ht_vals, sim_data_d2$values, \n",
    "                       d = .0007, sigma = .025, alpha = 0.04, theta = 0.05, \n",
    "                       oe_noise = 3, re_noise = 15, nonDecisionTime = 400, bias = 0)\n",
    "sim_data_d3$out$day = 3\n"
   ]
  },
  {
   "cell_type": "code",
   "execution_count": null,
   "id": "556a5dc7",
   "metadata": {},
   "outputs": [],
   "source": [
    "sim_data = rbind(sim_data_d1$out, sim_data_d2$out, sim_data_d3$out) %>%\n",
    "  # filter(type == 1) %>%\n",
    "  mutate(type_chr = ifelse(type == 1, \"Over Exposure\", \"Regular Exposure\"),\n",
    "         val_diff = possiblePayoff - reference,\n",
    "         abs_val_diff = abs(possiblePayoff - reference),\n",
    "         val_diff_bin = round(val_diff/50),\n",
    "         val_diff_bin_str = paste0(val_diff_bin*50-25,\":\",val_diff_bin*50+25),\n",
    "         val_diff_bin_str = factor(val_diff_bin_str, levels = c(\"-225:-175\", \"-175:-125\", \"-125:-75\", \"-75:-25\", \"-25:25\", \"25:75\", \"75:125\", \"125:175\", \"175:225\")),\n",
    "         yesChosen = ifelse(choice == \"yes\", 1, 0)) %>%\n",
    "    mutate(day = paste0(\"Day \", day),\n",
    "         day = factor(day, levels = c(\"Day 1\", \"Day 2\", \"Day 3\")))\n"
   ]
  },
  {
   "cell_type": "code",
   "execution_count": null,
   "id": "b43bfe90",
   "metadata": {},
   "outputs": [],
   "source": [
    "sim_data %>%\n",
    "  ggplot(aes(possiblePayoff, stim_ev))+\n",
    "  geom_point()+\n",
    "  geom_abline(aes(slope = 1, intercept = 0))+\n",
    "  scale_color_brewer(palette = \"Dark2\")+\n",
    "  theme(legend.position = \"bottom\",\n",
    "        panel.grid = element_blank())+\n",
    "  facet_grid(type_chr ~ day)+\n",
    "  labs(color = \"\", x = \"True value\", y = \"Learned value\")\n",
    "\n",
    "ggsave(file=paste0(fig_out_path, 'isdn_yn_true_vs_sim_vals_example.jpg'), height = 4.5, width = 8, units=\"in\")"
   ]
  },
  {
   "cell_type": "code",
   "execution_count": null,
   "id": "71b6e39d",
   "metadata": {},
   "outputs": [],
   "source": [
    "sim_data %>%\n",
    "  group_by(type_chr, day) %>%\n",
    "  summarise(val_cor = cor(possiblePayoff, stim_ev), .groups = \"keep\")"
   ]
  },
  {
   "cell_type": "code",
   "execution_count": null,
   "id": "2132b512",
   "metadata": {},
   "outputs": [],
   "source": [
    "sim_data %>%\n",
    "  ggplot()+\n",
    "  geom_hline(aes(yintercept =.5), color=\"gray\")+\n",
    "  geom_vline(aes(xintercept = 0), color=\"gray\")+\n",
    "  geom_line(aes(val_diff, yesChosen, color = type_chr), stat=\"smooth\", method = \"glm\", method.args = list(family = \"binomial\"), formula = \"y ~ x\", se = FALSE, linewidth = 1.5, fullrange = T) +\n",
    "  facet_grid(. ~ day) +\n",
    "  labs(x = \"Value Stim - Value Reference\", y = \"p(Yes)\", title=\"\", color = \"\")+\n",
    "  theme(panel.grid = element_blank(),\n",
    "        legend.position = \"bottom\",\n",
    "        axis.text = element_text(size = 14),\n",
    "        strip.text = element_text(size = 14),\n",
    "        axis.title = element_text(size = 16),\n",
    "        legend.text = element_text(size = 14),\n",
    "        legend.box.margin=margin(t = -10),\n",
    "        legend.spacing.y = unit(-0.25, \"cm\"),\n",
    "        legend.box=\"vertical\")+\n",
    "  scale_color_brewer(palette = \"Dark2\")+\n",
    "  scale_alpha_manual(values = c(1, .7, .7, .7, .7))+\n",
    "  scale_y_continuous(breaks = seq(0,1,.5))+\n",
    "  scale_x_continuous(breaks = c(-200, -100, 0, 100, 200),\n",
    "                     labels = c(\"\", \"-100\", \"0\", \"\", \"200\"))"
   ]
  },
  {
   "cell_type": "code",
   "execution_count": null,
   "id": "4d671987",
   "metadata": {},
   "outputs": [],
   "source": [
    "sim_data %>%\n",
    "  ggplot() +\n",
    "  geom_hline(aes(yintercept =.5), color=\"gray\")+\n",
    "  geom_vline(aes(xintercept = 0), color=\"gray\")+\n",
    "  geom_line(aes(val_diff, yesChosen, color = day), stat=\"smooth\", method = \"glm\", method.args = list(family = \"binomial\"), formula = \"y ~ x\", se = FALSE, linewidth = 1.5, fullrange = T) +\n",
    "  facet_grid(type_chr ~ .) +\n",
    "  labs(x = \"Value Stim - Value Reference\", y = \"p(Yes)\", title=\"\", color = \"\")+\n",
    "  theme(panel.grid = element_blank(),\n",
    "        legend.position = \"bottom\",\n",
    "        axis.text = element_text(size = 14),\n",
    "        strip.text = element_text(size = 14),\n",
    "        axis.title = element_text(size = 16),\n",
    "        legend.text = element_text(size = 14),\n",
    "        legend.box.margin=margin(t = -10),\n",
    "        legend.spacing.y = unit(-0.25, \"cm\"),\n",
    "        legend.box=\"vertical\")+\n",
    "  scale_color_manual(values = c(\"#6e016b\", \"#238b45\", \"#41ae76\"),\n",
    "                     breaks = c(\"Day 1\", \"Day 2\", \"Day 3\"))+\n",
    "  scale_y_continuous(breaks = seq(0,1,.5))+\n",
    "  scale_x_continuous(breaks = c(-200, -100, 0, 100, 200),\n",
    "                     labels = c(\"\", \"-100\", \"0\", \"\", \"200\"))\n",
    "\n",
    "# scale_color_manual(values = c(\"#6e016b\", \"#238b45\", \"#41ae76\", \"#66c2a4\", \"#99d8c9\"),\n",
    "                     # breaks = c(\"Day 1\", \"Day 2\", \"Day 3\", \"Week 2\", \"Week 3\"))"
   ]
  },
  {
   "cell_type": "code",
   "execution_count": null,
   "id": "2f697ea4",
   "metadata": {
    "lines_to_next_cell": 0
   },
   "outputs": [],
   "source": [
    "sim_data %>%\n",
    "  select(val_diff, yesChosen, type_chr, day) %>%\n",
    "  mutate(data_type = \"sim\") %>%\n",
    "  rbind(data_yn_clean %>%\n",
    "          filter((subnum == cur_subnum) & (day %in% c(1, 2, 3))) %>%\n",
    "          select(val_diff, yesChosen, type_chr, day) %>%\n",
    "          mutate(data_type = \"true\",\n",
    "                 day = paste0(\"Day \", day),\n",
    "                 day = factor(day, levels = c(\"Day 1\", \"Day 2\", \"Day 3\")))) %>%\n",
    "  mutate(data_type = factor(data_type, levels = c(\"true\", \"sim\"))) %>%\n",
    "  ggplot() +\n",
    "  geom_hline(aes(yintercept =.5), color=\"gray\")+\n",
    "  geom_vline(aes(xintercept = 0), color=\"gray\")+\n",
    "  geom_line(aes(val_diff, yesChosen, color = day, linetype = data_type), stat=\"smooth\", method = \"glm\", method.args = list(family = \"binomial\"), formula = \"y ~ x\", se = FALSE, linewidth = 1.5, fullrange = T) +\n",
    "  facet_grid(type_chr ~ day) +\n",
    "  labs(x = \"Value Stim - Value Reference\", y = \"p(Yes)\", title=\"\", color = \"\", linetype = \"\")+\n",
    "  theme(panel.grid = element_blank(),\n",
    "        legend.position = \"bottom\",\n",
    "        axis.text = element_text(size = 14),\n",
    "        strip.text = element_text(size = 14),\n",
    "        axis.title = element_text(size = 16),\n",
    "        legend.text = element_text(size = 14),\n",
    "        legend.box.margin=margin(t = -10),\n",
    "        legend.spacing.y = unit(-0.25, \"cm\"),\n",
    "        legend.box=\"vertical\")+\n",
    "  scale_color_manual(values = c(\"#6e016b\", \"#238b45\", \"#41ae76\"),\n",
    "                     breaks = c(\"Day 1\", \"Day 2\", \"Day 3\"))+\n",
    "  scale_y_continuous(breaks = seq(0,1,.5))+\n",
    "  scale_x_continuous(breaks = c(-200, -100, 0, 100, 200),\n",
    "                     labels = c(\"\", \"-100\", \"0\", \"\", \"200\"))\n",
    "\n",
    "ggsave(file=paste0(fig_out_path, 'isdn_yn_true_vs_sim_logit_example.jpg'), height = 5.5, width = 8, units=\"in\")"
   ]
  },
  {
   "cell_type": "code",
   "execution_count": null,
   "id": "dae5f7d2",
   "metadata": {},
   "outputs": [],
   "source": [
    "sim_data %>%\n",
    "  select(val_diff, yesChosen, type_chr, day) %>%\n",
    "  mutate(data_type = \"sim\") %>%\n",
    "  rbind(data_yn_clean %>%\n",
    "          filter((subnum == cur_subnum) & (day %in% c(1, 2, 3))) %>%\n",
    "          select(val_diff, yesChosen, type_chr, day) %>%\n",
    "          mutate(data_type = \"true\",\n",
    "                 day = paste0(\"Day \", day),\n",
    "                 day = factor(day, levels = c(\"Day 1\", \"Day 2\", \"Day 3\")))) %>%\n",
    "  mutate(data_type = factor(data_type, levels = c(\"true\", \"sim\"))) %>%\n",
    "  ggplot() +\n",
    "  geom_hline(aes(yintercept =.5), color=\"gray\")+\n",
    "  geom_vline(aes(xintercept = 0), color=\"gray\")+\n",
    "  geom_line(aes(val_diff, yesChosen, color = day, linetype = data_type), stat=\"smooth\", method = \"glm\", method.args = list(family = \"binomial\"), formula = \"y ~ x\", se = FALSE, linewidth = 1.5, fullrange = T) +\n",
    "  facet_grid(type_chr ~ data_type) +\n",
    "  labs(x = \"Value Stim - Value Reference\", y = \"p(Yes)\", title=\"\", color = \"\", linetype = \"\")+\n",
    "  theme(panel.grid = element_blank(),\n",
    "        legend.position = \"bottom\",\n",
    "        axis.text = element_text(size = 14),\n",
    "        strip.text = element_text(size = 14),\n",
    "        axis.title = element_text(size = 16),\n",
    "        legend.text = element_text(size = 14),\n",
    "        legend.box.margin=margin(t = -10),\n",
    "        legend.spacing.y = unit(-0.25, \"cm\"),\n",
    "        legend.box=\"vertical\")+\n",
    "  scale_color_manual(values = c(\"#6e016b\", \"#238b45\", \"#41ae76\"),\n",
    "                     breaks = c(\"Day 1\", \"Day 2\", \"Day 3\"))+\n",
    "  scale_y_continuous(breaks = seq(0,1,.5))+\n",
    "  scale_x_continuous(breaks = c(-200, -100, 0, 100, 200),\n",
    "                     labels = c(\"\", \"-100\", \"0\", \"\", \"200\"))"
   ]
  },
  {
   "cell_type": "code",
   "execution_count": null,
   "id": "b440f28e",
   "metadata": {},
   "outputs": [],
   "source": [
    "sim_data %>%\n",
    "  mutate(rt = reactionTime) %>%\n",
    "  select(abs_val_diff, rt, type_chr, day) %>%\n",
    "  mutate(data_type = \"sim\") %>%\n",
    "  rbind(data_yn_clean %>%\n",
    "          filter((subnum == cur_subnum) & (day %in% c(1, 2, 3))) %>%\n",
    "          select(abs_val_diff, rt, type_chr, day) %>%\n",
    "          mutate(data_type = \"true\",\n",
    "                 day = paste0(\"Day \", day),\n",
    "                 day = factor(day, levels = c(\"Day 1\", \"Day 2\", \"Day 3\")))) %>%\n",
    "  mutate(data_type = factor(data_type, levels = c(\"true\", \"sim\"))) %>%\n",
    "  ggplot() +\n",
    "  geom_hline(aes(yintercept = 1), color = \"gray\") + \n",
    "  geom_line(aes(abs_val_diff, rt, color = day, linetype = data_type), stat=\"smooth\", method = \"lm\", formula = \"y ~ x\", se = FALSE, linewidth = 1.5)+\n",
    "  facet_grid(type_chr ~ day) +\n",
    "  labs(x = \"|Value Stim - Value Reference|\", y = \"RT (secs)\", title=\"\", color = \"\", linetype = \"\")+\n",
    "  theme(panel.grid = element_blank(),\n",
    "        legend.position = \"bottom\",\n",
    "        axis.text = element_text(size = 14),\n",
    "        strip.text = element_text(size = 14),\n",
    "        axis.title = element_text(size = 16),\n",
    "        legend.text = element_text(size = 14),\n",
    "        legend.box.margin=margin(t = -10),\n",
    "        legend.spacing.y = unit(-0.25, \"cm\"),\n",
    "        legend.box=\"vertical\")+\n",
    "  scale_color_manual(values = c(\"#6e016b\", \"#238b45\", \"#41ae76\"),\n",
    "                     breaks = c(\"Day 1\", \"Day 2\", \"Day 3\"))+\n",
    "  scale_alpha_manual(values = c(1, .7, .7, .7, .7))+\n",
    "  # scale_y_continuous(trans = \"log\", breaks = c(0.1, .5, 1, 1.5), limits = c(0.001,8))+\n",
    "  scale_y_continuous(trans = \"log\", breaks = c(0.1, .5, 1, 1.5))+\n",
    "  scale_x_continuous(breaks = c(0, 100, 200),\n",
    "                     labels = c(\"0\", \"100\", \"\"))\n",
    "\n",
    "ggsave(file=paste0(fig_out_path, 'isdn_yn_true_vs_sim_rt_example.jpg'), height = 5.5, width = 8, units=\"in\")"
   ]
  }
 ],
 "metadata": {
  "jupytext": {
   "cell_metadata_filter": "tags,message,-all",
   "main_language": "R",
   "notebook_metadata_filter": "-all"
  }
 },
 "nbformat": 4,
 "nbformat_minor": 5
}
