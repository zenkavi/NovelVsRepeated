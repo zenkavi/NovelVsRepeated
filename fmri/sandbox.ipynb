{
 "cells": [
  {
   "cell_type": "code",
   "execution_count": 1,
   "id": "d110ccc2-1a89-4dc7-a570-402fe9479973",
   "metadata": {},
   "outputs": [
    {
     "name": "stderr",
     "output_type": "stream",
     "text": [
      "/Users/zeynepenkavi/.pyenv/versions/3.8.3/envs/py-nvr-fmri/lib/python3.8/site-packages/nilearn/datasets/__init__.py:86: FutureWarning: Fetchers from the nilearn.datasets module will be updated in version 0.9 to return python strings instead of bytes and Pandas dataframes instead of Numpy arrays.\n",
      "  warn(\"Fetchers from the nilearn.datasets module will be \"\n"
     ]
    }
   ],
   "source": [
    "import os\n",
    "import shutil\n",
    "import glob\n",
    "import json\n",
    "import random\n",
    "import scipy.io as sio\n",
    "import pandas as pd\n",
    "import numpy as np\n",
    "import re\n",
    "import nibabel as nib\n",
    "from nilearn.plotting import plot_stat_map\n",
    "import pickle"
   ]
  },
  {
   "cell_type": "code",
   "execution_count": 2,
   "id": "84cb3797-0d06-46ca-81c5-688f83a0f216",
   "metadata": {},
   "outputs": [],
   "source": [
    "os.chdir('/Users/zeynepenkavi/Documents/RangelLab/NovelVsRepeated/fmri/analysis/01_level1/cluster_scripts')"
   ]
  },
  {
   "cell_type": "code",
   "execution_count": 3,
   "id": "cebb7092-4480-41f5-a0e4-a99a881cbdd4",
   "metadata": {},
   "outputs": [],
   "source": [
    "subnum = '601'\n",
    "session = '02'\n",
    "task = 'binaryChoice'\n",
    "runnum = '03'\n",
    "\n",
    "data_path = '/Users/zeynepenkavi/Downloads/overtrained_decisions_bidsfmri'\n",
    "mnum = 'model2'\n",
    "out_path = '/Users/zeynepenkavi/Downloads/overtrained_decisions_bidsfmri/derivatives/nilearn/glm/level1/%s/%s'%(task, mnum)"
   ]
  },
  {
   "cell_type": "markdown",
   "id": "25ea6200-1fd1-4f50-9dc7-0cd0991be50f",
   "metadata": {},
   "source": [
    "Can you load in a pickled level 1 glm object and compute contrasts using it? Yes!"
   ]
  },
  {
   "cell_type": "code",
   "execution_count": 4,
   "id": "f692df08-06d2-4ac9-9029-010489a1b70d",
   "metadata": {},
   "outputs": [],
   "source": [
    "fn = os.path.join(out_path, 'sub-%s/ses-%s/sub-%s_ses-%s_task-%s_%s_level1_glm.pkl' %(subnum, session, subnum, session, task, mnum))\n",
    "# f = open(fn, 'wb')\n",
    "# pickle.dump(fmri_glm, f)\n",
    "# f.close()\n",
    "\n",
    "f = open(fn, 'rb')\n",
    "fmri_glm = pickle.load(f)\n",
    "\n",
    "f.close()\n"
   ]
  },
  {
   "cell_type": "code",
   "execution_count": 6,
   "id": "c214e080-d461-4a36-b627-1c8696290b89",
   "metadata": {},
   "outputs": [
    {
     "data": {
      "text/plain": [
       "FirstLevelModel(hrf_model='spm',\n",
       "                mask_img=<nibabel.nifti1.Nifti1Image object at 0x10df59be0>,\n",
       "                signal_scaling=True, smoothing_fwhm=5, subject_label='601',\n",
       "                t_r=2.44994)"
      ]
     },
     "execution_count": 6,
     "metadata": {},
     "output_type": "execute_result"
    }
   ],
   "source": [
    "fmri_glm"
   ]
  },
  {
   "cell_type": "code",
   "execution_count": 8,
   "id": "334cdc5d-1ecc-4a39-843d-581339110b4a",
   "metadata": {},
   "outputs": [],
   "source": [
    "run_design_matrix = pd.read_csv(os.path.join(out_path, 'sub-%s/ses-%s/sub-%s_ses-%s_task-%s_run-%s_%s_level1_design_matrix.csv' %(subnum, session, subnum, session, task, runnum, mnum)))"
   ]
  },
  {
   "cell_type": "code",
   "execution_count": 9,
   "id": "272672b4-8c33-409f-bb62-087d3f86c965",
   "metadata": {},
   "outputs": [
    {
     "data": {
      "text/html": [
       "<div>\n",
       "<style scoped>\n",
       "    .dataframe tbody tr th:only-of-type {\n",
       "        vertical-align: middle;\n",
       "    }\n",
       "\n",
       "    .dataframe tbody tr th {\n",
       "        vertical-align: top;\n",
       "    }\n",
       "\n",
       "    .dataframe thead th {\n",
       "        text-align: right;\n",
       "    }\n",
       "</style>\n",
       "<table border=\"1\" class=\"dataframe\">\n",
       "  <thead>\n",
       "    <tr style=\"text-align: right;\">\n",
       "      <th></th>\n",
       "      <th>choiceCorrect_st</th>\n",
       "      <th>condition_ev</th>\n",
       "      <th>cross_ev</th>\n",
       "      <th>reward_ev</th>\n",
       "      <th>reward_par</th>\n",
       "      <th>stim_ev</th>\n",
       "      <th>valChosenPlusUnchosen_par</th>\n",
       "      <th>trans_x</th>\n",
       "      <th>trans_x_derivative1</th>\n",
       "      <th>trans_x_derivative1_power2</th>\n",
       "      <th>...</th>\n",
       "      <th>scrub</th>\n",
       "      <th>drift_1</th>\n",
       "      <th>drift_2</th>\n",
       "      <th>drift_3</th>\n",
       "      <th>drift_4</th>\n",
       "      <th>drift_5</th>\n",
       "      <th>drift_6</th>\n",
       "      <th>drift_7</th>\n",
       "      <th>drift_8</th>\n",
       "      <th>constant</th>\n",
       "    </tr>\n",
       "  </thead>\n",
       "  <tbody>\n",
       "    <tr>\n",
       "      <th>0</th>\n",
       "      <td>0.0</td>\n",
       "      <td>0.000000</td>\n",
       "      <td>0.000000</td>\n",
       "      <td>0.000000</td>\n",
       "      <td>0.000000</td>\n",
       "      <td>0.000000</td>\n",
       "      <td>0.000000</td>\n",
       "      <td>-0.000623</td>\n",
       "      <td>0.000000</td>\n",
       "      <td>0.000000e+00</td>\n",
       "      <td>...</td>\n",
       "      <td>0.0</td>\n",
       "      <td>0.105405</td>\n",
       "      <td>0.105393</td>\n",
       "      <td>0.105373</td>\n",
       "      <td>0.105345</td>\n",
       "      <td>0.105309</td>\n",
       "      <td>0.105265</td>\n",
       "      <td>0.105213</td>\n",
       "      <td>0.105152</td>\n",
       "      <td>1.0</td>\n",
       "    </tr>\n",
       "    <tr>\n",
       "      <th>1</th>\n",
       "      <td>0.0</td>\n",
       "      <td>0.000000</td>\n",
       "      <td>0.000000</td>\n",
       "      <td>0.000000</td>\n",
       "      <td>0.000000</td>\n",
       "      <td>0.000000</td>\n",
       "      <td>0.000000</td>\n",
       "      <td>0.015547</td>\n",
       "      <td>0.016170</td>\n",
       "      <td>2.614577e-04</td>\n",
       "      <td>...</td>\n",
       "      <td>0.0</td>\n",
       "      <td>0.105373</td>\n",
       "      <td>0.105265</td>\n",
       "      <td>0.105084</td>\n",
       "      <td>0.104832</td>\n",
       "      <td>0.104507</td>\n",
       "      <td>0.104111</td>\n",
       "      <td>0.103644</td>\n",
       "      <td>0.103106</td>\n",
       "      <td>1.0</td>\n",
       "    </tr>\n",
       "    <tr>\n",
       "      <th>2</th>\n",
       "      <td>0.0</td>\n",
       "      <td>0.000000</td>\n",
       "      <td>0.000000</td>\n",
       "      <td>0.000000</td>\n",
       "      <td>0.000000</td>\n",
       "      <td>0.000000</td>\n",
       "      <td>0.000000</td>\n",
       "      <td>-0.000140</td>\n",
       "      <td>-0.015688</td>\n",
       "      <td>2.460983e-04</td>\n",
       "      <td>...</td>\n",
       "      <td>0.0</td>\n",
       "      <td>0.105309</td>\n",
       "      <td>0.105008</td>\n",
       "      <td>0.104507</td>\n",
       "      <td>0.103808</td>\n",
       "      <td>0.102911</td>\n",
       "      <td>0.101818</td>\n",
       "      <td>0.100531</td>\n",
       "      <td>0.099052</td>\n",
       "      <td>1.0</td>\n",
       "    </tr>\n",
       "    <tr>\n",
       "      <th>3</th>\n",
       "      <td>0.0</td>\n",
       "      <td>0.000000</td>\n",
       "      <td>0.000000</td>\n",
       "      <td>0.000000</td>\n",
       "      <td>0.000000</td>\n",
       "      <td>0.000000</td>\n",
       "      <td>0.000000</td>\n",
       "      <td>-0.017625</td>\n",
       "      <td>-0.017485</td>\n",
       "      <td>3.057105e-04</td>\n",
       "      <td>...</td>\n",
       "      <td>0.0</td>\n",
       "      <td>0.105213</td>\n",
       "      <td>0.104624</td>\n",
       "      <td>0.103644</td>\n",
       "      <td>0.102278</td>\n",
       "      <td>0.100531</td>\n",
       "      <td>0.098408</td>\n",
       "      <td>0.095918</td>\n",
       "      <td>0.093071</td>\n",
       "      <td>1.0</td>\n",
       "    </tr>\n",
       "    <tr>\n",
       "      <th>4</th>\n",
       "      <td>0.0</td>\n",
       "      <td>0.000000</td>\n",
       "      <td>0.000000</td>\n",
       "      <td>0.000000</td>\n",
       "      <td>0.000000</td>\n",
       "      <td>0.000000</td>\n",
       "      <td>0.000000</td>\n",
       "      <td>-0.017579</td>\n",
       "      <td>0.000046</td>\n",
       "      <td>2.152960e-09</td>\n",
       "      <td>...</td>\n",
       "      <td>0.0</td>\n",
       "      <td>0.105084</td>\n",
       "      <td>0.104111</td>\n",
       "      <td>0.102497</td>\n",
       "      <td>0.100250</td>\n",
       "      <td>0.097385</td>\n",
       "      <td>0.093920</td>\n",
       "      <td>0.089876</td>\n",
       "      <td>0.085278</td>\n",
       "      <td>1.0</td>\n",
       "    </tr>\n",
       "    <tr>\n",
       "      <th>...</th>\n",
       "      <td>...</td>\n",
       "      <td>...</td>\n",
       "      <td>...</td>\n",
       "      <td>...</td>\n",
       "      <td>...</td>\n",
       "      <td>...</td>\n",
       "      <td>...</td>\n",
       "      <td>...</td>\n",
       "      <td>...</td>\n",
       "      <td>...</td>\n",
       "      <td>...</td>\n",
       "      <td>...</td>\n",
       "      <td>...</td>\n",
       "      <td>...</td>\n",
       "      <td>...</td>\n",
       "      <td>...</td>\n",
       "      <td>...</td>\n",
       "      <td>...</td>\n",
       "      <td>...</td>\n",
       "      <td>...</td>\n",
       "      <td>...</td>\n",
       "    </tr>\n",
       "    <tr>\n",
       "      <th>175</th>\n",
       "      <td>0.0</td>\n",
       "      <td>0.000000</td>\n",
       "      <td>0.292601</td>\n",
       "      <td>0.270791</td>\n",
       "      <td>3.338848</td>\n",
       "      <td>0.436607</td>\n",
       "      <td>-1.450109</td>\n",
       "      <td>0.083744</td>\n",
       "      <td>0.001937</td>\n",
       "      <td>3.750807e-06</td>\n",
       "      <td>...</td>\n",
       "      <td>0.0</td>\n",
       "      <td>-0.105084</td>\n",
       "      <td>0.104111</td>\n",
       "      <td>-0.102497</td>\n",
       "      <td>0.100250</td>\n",
       "      <td>-0.097385</td>\n",
       "      <td>0.093920</td>\n",
       "      <td>-0.089876</td>\n",
       "      <td>0.085278</td>\n",
       "      <td>1.0</td>\n",
       "    </tr>\n",
       "    <tr>\n",
       "      <th>176</th>\n",
       "      <td>0.0</td>\n",
       "      <td>0.000000</td>\n",
       "      <td>0.139074</td>\n",
       "      <td>0.328911</td>\n",
       "      <td>6.044869</td>\n",
       "      <td>0.532015</td>\n",
       "      <td>7.280852</td>\n",
       "      <td>0.083882</td>\n",
       "      <td>0.000138</td>\n",
       "      <td>1.909924e-08</td>\n",
       "      <td>...</td>\n",
       "      <td>0.0</td>\n",
       "      <td>-0.105213</td>\n",
       "      <td>0.104624</td>\n",
       "      <td>-0.103644</td>\n",
       "      <td>0.102278</td>\n",
       "      <td>-0.100531</td>\n",
       "      <td>0.098408</td>\n",
       "      <td>-0.095918</td>\n",
       "      <td>0.093071</td>\n",
       "      <td>1.0</td>\n",
       "    </tr>\n",
       "    <tr>\n",
       "      <th>177</th>\n",
       "      <td>0.0</td>\n",
       "      <td>0.000000</td>\n",
       "      <td>0.081329</td>\n",
       "      <td>0.338700</td>\n",
       "      <td>9.741295</td>\n",
       "      <td>0.579971</td>\n",
       "      <td>12.576969</td>\n",
       "      <td>0.083730</td>\n",
       "      <td>-0.000152</td>\n",
       "      <td>2.310400e-08</td>\n",
       "      <td>...</td>\n",
       "      <td>0.0</td>\n",
       "      <td>-0.105309</td>\n",
       "      <td>0.105008</td>\n",
       "      <td>-0.104507</td>\n",
       "      <td>0.103808</td>\n",
       "      <td>-0.102911</td>\n",
       "      <td>0.101818</td>\n",
       "      <td>-0.100531</td>\n",
       "      <td>0.099052</td>\n",
       "      <td>1.0</td>\n",
       "    </tr>\n",
       "    <tr>\n",
       "      <th>178</th>\n",
       "      <td>0.0</td>\n",
       "      <td>0.006167</td>\n",
       "      <td>0.091260</td>\n",
       "      <td>0.325335</td>\n",
       "      <td>6.633975</td>\n",
       "      <td>0.583404</td>\n",
       "      <td>-15.676551</td>\n",
       "      <td>0.090016</td>\n",
       "      <td>0.006287</td>\n",
       "      <td>3.952260e-05</td>\n",
       "      <td>...</td>\n",
       "      <td>0.0</td>\n",
       "      <td>-0.105373</td>\n",
       "      <td>0.105265</td>\n",
       "      <td>-0.105084</td>\n",
       "      <td>0.104832</td>\n",
       "      <td>-0.104507</td>\n",
       "      <td>0.104111</td>\n",
       "      <td>-0.103644</td>\n",
       "      <td>0.103106</td>\n",
       "      <td>1.0</td>\n",
       "    </tr>\n",
       "    <tr>\n",
       "      <th>179</th>\n",
       "      <td>0.0</td>\n",
       "      <td>0.209182</td>\n",
       "      <td>0.157321</td>\n",
       "      <td>0.306119</td>\n",
       "      <td>-2.189888</td>\n",
       "      <td>0.531266</td>\n",
       "      <td>-39.786428</td>\n",
       "      <td>0.072278</td>\n",
       "      <td>-0.017738</td>\n",
       "      <td>3.146508e-04</td>\n",
       "      <td>...</td>\n",
       "      <td>0.0</td>\n",
       "      <td>-0.105405</td>\n",
       "      <td>0.105393</td>\n",
       "      <td>-0.105373</td>\n",
       "      <td>0.105345</td>\n",
       "      <td>-0.105309</td>\n",
       "      <td>0.105265</td>\n",
       "      <td>-0.105213</td>\n",
       "      <td>0.105152</td>\n",
       "      <td>1.0</td>\n",
       "    </tr>\n",
       "  </tbody>\n",
       "</table>\n",
       "<p>180 rows × 43 columns</p>\n",
       "</div>"
      ],
      "text/plain": [
       "     choiceCorrect_st  condition_ev  cross_ev  reward_ev  reward_par  \\\n",
       "0                 0.0      0.000000  0.000000   0.000000    0.000000   \n",
       "1                 0.0      0.000000  0.000000   0.000000    0.000000   \n",
       "2                 0.0      0.000000  0.000000   0.000000    0.000000   \n",
       "3                 0.0      0.000000  0.000000   0.000000    0.000000   \n",
       "4                 0.0      0.000000  0.000000   0.000000    0.000000   \n",
       "..                ...           ...       ...        ...         ...   \n",
       "175               0.0      0.000000  0.292601   0.270791    3.338848   \n",
       "176               0.0      0.000000  0.139074   0.328911    6.044869   \n",
       "177               0.0      0.000000  0.081329   0.338700    9.741295   \n",
       "178               0.0      0.006167  0.091260   0.325335    6.633975   \n",
       "179               0.0      0.209182  0.157321   0.306119   -2.189888   \n",
       "\n",
       "      stim_ev  valChosenPlusUnchosen_par   trans_x  trans_x_derivative1  \\\n",
       "0    0.000000                   0.000000 -0.000623             0.000000   \n",
       "1    0.000000                   0.000000  0.015547             0.016170   \n",
       "2    0.000000                   0.000000 -0.000140            -0.015688   \n",
       "3    0.000000                   0.000000 -0.017625            -0.017485   \n",
       "4    0.000000                   0.000000 -0.017579             0.000046   \n",
       "..        ...                        ...       ...                  ...   \n",
       "175  0.436607                  -1.450109  0.083744             0.001937   \n",
       "176  0.532015                   7.280852  0.083882             0.000138   \n",
       "177  0.579971                  12.576969  0.083730            -0.000152   \n",
       "178  0.583404                 -15.676551  0.090016             0.006287   \n",
       "179  0.531266                 -39.786428  0.072278            -0.017738   \n",
       "\n",
       "     trans_x_derivative1_power2  ...  scrub   drift_1   drift_2   drift_3  \\\n",
       "0                  0.000000e+00  ...    0.0  0.105405  0.105393  0.105373   \n",
       "1                  2.614577e-04  ...    0.0  0.105373  0.105265  0.105084   \n",
       "2                  2.460983e-04  ...    0.0  0.105309  0.105008  0.104507   \n",
       "3                  3.057105e-04  ...    0.0  0.105213  0.104624  0.103644   \n",
       "4                  2.152960e-09  ...    0.0  0.105084  0.104111  0.102497   \n",
       "..                          ...  ...    ...       ...       ...       ...   \n",
       "175                3.750807e-06  ...    0.0 -0.105084  0.104111 -0.102497   \n",
       "176                1.909924e-08  ...    0.0 -0.105213  0.104624 -0.103644   \n",
       "177                2.310400e-08  ...    0.0 -0.105309  0.105008 -0.104507   \n",
       "178                3.952260e-05  ...    0.0 -0.105373  0.105265 -0.105084   \n",
       "179                3.146508e-04  ...    0.0 -0.105405  0.105393 -0.105373   \n",
       "\n",
       "      drift_4   drift_5   drift_6   drift_7   drift_8  constant  \n",
       "0    0.105345  0.105309  0.105265  0.105213  0.105152       1.0  \n",
       "1    0.104832  0.104507  0.104111  0.103644  0.103106       1.0  \n",
       "2    0.103808  0.102911  0.101818  0.100531  0.099052       1.0  \n",
       "3    0.102278  0.100531  0.098408  0.095918  0.093071       1.0  \n",
       "4    0.100250  0.097385  0.093920  0.089876  0.085278       1.0  \n",
       "..        ...       ...       ...       ...       ...       ...  \n",
       "175  0.100250 -0.097385  0.093920 -0.089876  0.085278       1.0  \n",
       "176  0.102278 -0.100531  0.098408 -0.095918  0.093071       1.0  \n",
       "177  0.103808 -0.102911  0.101818 -0.100531  0.099052       1.0  \n",
       "178  0.104832 -0.104507  0.104111 -0.103644  0.103106       1.0  \n",
       "179  0.105345 -0.105309  0.105265 -0.105213  0.105152       1.0  \n",
       "\n",
       "[180 rows x 43 columns]"
      ]
     },
     "execution_count": 9,
     "metadata": {},
     "output_type": "execute_result"
    }
   ],
   "source": [
    "run_design_matrix"
   ]
  },
  {
   "cell_type": "code",
   "execution_count": 11,
   "id": "f638effd-57b5-4fea-95c1-e1e5bfc55054",
   "metadata": {},
   "outputs": [],
   "source": [
    "from level1_utils import make_contrasts"
   ]
  },
  {
   "cell_type": "code",
   "execution_count": 12,
   "id": "2d78a010-9a5c-4a89-8d1b-0d0927def818",
   "metadata": {},
   "outputs": [],
   "source": [
    "contrasts = make_contrasts(run_design_matrix, mnum)"
   ]
  },
  {
   "cell_type": "code",
   "execution_count": 13,
   "id": "c2c3183b-32bd-434d-a320-67fcccf2786b",
   "metadata": {},
   "outputs": [
    {
     "data": {
      "text/plain": [
       "{'choiceCorrect_st': array([1., 0., 0., 0., 0., 0., 0., 0., 0., 0., 0., 0., 0., 0., 0., 0., 0.,\n",
       "        0., 0., 0., 0., 0., 0., 0., 0., 0., 0., 0., 0., 0., 0., 0., 0., 0.,\n",
       "        0., 0., 0., 0., 0., 0., 0., 0., 0.]),\n",
       " 'condition_ev': array([0., 1., 0., 0., 0., 0., 0., 0., 0., 0., 0., 0., 0., 0., 0., 0., 0.,\n",
       "        0., 0., 0., 0., 0., 0., 0., 0., 0., 0., 0., 0., 0., 0., 0., 0., 0.,\n",
       "        0., 0., 0., 0., 0., 0., 0., 0., 0.]),\n",
       " 'cross_ev': array([0., 0., 1., 0., 0., 0., 0., 0., 0., 0., 0., 0., 0., 0., 0., 0., 0.,\n",
       "        0., 0., 0., 0., 0., 0., 0., 0., 0., 0., 0., 0., 0., 0., 0., 0., 0.,\n",
       "        0., 0., 0., 0., 0., 0., 0., 0., 0.]),\n",
       " 'reward_ev': array([0., 0., 0., 1., 0., 0., 0., 0., 0., 0., 0., 0., 0., 0., 0., 0., 0.,\n",
       "        0., 0., 0., 0., 0., 0., 0., 0., 0., 0., 0., 0., 0., 0., 0., 0., 0.,\n",
       "        0., 0., 0., 0., 0., 0., 0., 0., 0.]),\n",
       " 'reward_par': array([0., 0., 0., 0., 1., 0., 0., 0., 0., 0., 0., 0., 0., 0., 0., 0., 0.,\n",
       "        0., 0., 0., 0., 0., 0., 0., 0., 0., 0., 0., 0., 0., 0., 0., 0., 0.,\n",
       "        0., 0., 0., 0., 0., 0., 0., 0., 0.]),\n",
       " 'stim_ev': array([0., 0., 0., 0., 0., 1., 0., 0., 0., 0., 0., 0., 0., 0., 0., 0., 0.,\n",
       "        0., 0., 0., 0., 0., 0., 0., 0., 0., 0., 0., 0., 0., 0., 0., 0., 0.,\n",
       "        0., 0., 0., 0., 0., 0., 0., 0., 0.]),\n",
       " 'valChosenPlusUnchosen_par': array([0., 0., 0., 0., 0., 0., 1., 0., 0., 0., 0., 0., 0., 0., 0., 0., 0.,\n",
       "        0., 0., 0., 0., 0., 0., 0., 0., 0., 0., 0., 0., 0., 0., 0., 0., 0.,\n",
       "        0., 0., 0., 0., 0., 0., 0., 0., 0.])}"
      ]
     },
     "execution_count": 13,
     "metadata": {},
     "output_type": "execute_result"
    }
   ],
   "source": [
    "contrasts"
   ]
  },
  {
   "cell_type": "code",
   "execution_count": 19,
   "id": "38d1264d-c065-4082-9d68-504d6945fd13",
   "metadata": {},
   "outputs": [],
   "source": [
    "contrast_val = contrasts['valChosenPlusUnchosen_par']\n",
    "output_type = 'z_score'\n",
    "contrast_map = fmri_glm.compute_contrast(contrast_val, output_type= output_type)"
   ]
  },
  {
   "cell_type": "code",
   "execution_count": 20,
   "id": "58b0dc31-77f8-4f5a-b149-fbe81d14beb1",
   "metadata": {},
   "outputs": [
    {
     "data": {
      "text/plain": [
       "<nilearn.plotting.displays.OrthoSlicer at 0x12d9d3ac0>"
      ]
     },
     "execution_count": 20,
     "metadata": {},
     "output_type": "execute_result"
    },
    {
     "data": {
      "image/png": "[encoded data removed]",
      "text/plain": [
       "<Figure size 525.6x187.2 with 5 Axes>"
      ]
     },
     "metadata": {},
     "output_type": "display_data"
    }
   ],
   "source": [
    "plot_stat_map(contrast_map, threshold=2.5)"
   ]
  },
  {
   "cell_type": "markdown",
   "id": "a048ecc4-6039-4926-9b67-aa1e8da9c62d",
   "metadata": {},
   "source": [
    "Is there any other fit index info in the fmri glm object?\n",
    "\n",
    "**NOT if ran and saved with `minimize_memory = True`**\n",
    "\n",
    "```\n",
    "ValueError: To access voxelwise attributes like R-squared, residuals, and predictions, the `FirstLevelModel`-object needs to store there attributes. To do so, set `minimize_memory` to `False` when initializing the `FirstLevelModel`-object.\n",
    "```"
   ]
  },
  {
   "cell_type": "code",
   "execution_count": 26,
   "id": "80dc229c-b888-4058-9fb4-56c6a30fdc9b",
   "metadata": {},
   "outputs": [
    {
     "ename": "ValueError",
     "evalue": "To access voxelwise attributes like R-squared, residuals, and predictions, the `FirstLevelModel`-object needs to store there attributes. To do so, set `minimize_memory` to `False` when initializing the `FirstLevelModel`-object.",
     "output_type": "error",
     "traceback": [
      "\u001b[0;31m---------------------------------------------------------------------------\u001b[0m",
      "\u001b[0;31mValueError\u001b[0m                                Traceback (most recent call last)",
      "\u001b[0;32m/var/folders/10/zpzbg__x3hlc56gwq9zf6r600000gn/T/ipykernel_15502/3046761050.py\u001b[0m in \u001b[0;36m<module>\u001b[0;34m\u001b[0m\n\u001b[0;32m----> 1\u001b[0;31m \u001b[0mfmri_glm\u001b[0m\u001b[0;34m.\u001b[0m\u001b[0mr_square\u001b[0m\u001b[0;34m\u001b[0m\u001b[0;34m\u001b[0m\u001b[0m\n\u001b[0m",
      "\u001b[0;32m~/.pyenv/versions/3.8.3/envs/py-nvr-fmri/lib/python3.8/site-packages/nibabel/onetime.py\u001b[0m in \u001b[0;36m__get__\u001b[0;34m(self, obj, type)\u001b[0m\n\u001b[1;32m    140\u001b[0m         \u001b[0;31m# Errors in the following line are errors in setting a\u001b[0m\u001b[0;34m\u001b[0m\u001b[0;34m\u001b[0m\u001b[0;34m\u001b[0m\u001b[0m\n\u001b[1;32m    141\u001b[0m         \u001b[0;31m# OneTimeProperty\u001b[0m\u001b[0;34m\u001b[0m\u001b[0;34m\u001b[0m\u001b[0;34m\u001b[0m\u001b[0m\n\u001b[0;32m--> 142\u001b[0;31m         \u001b[0mval\u001b[0m \u001b[0;34m=\u001b[0m \u001b[0mself\u001b[0m\u001b[0;34m.\u001b[0m\u001b[0mgetter\u001b[0m\u001b[0;34m(\u001b[0m\u001b[0mobj\u001b[0m\u001b[0;34m)\u001b[0m\u001b[0;34m\u001b[0m\u001b[0;34m\u001b[0m\u001b[0m\n\u001b[0m\u001b[1;32m    143\u001b[0m \u001b[0;34m\u001b[0m\u001b[0m\n\u001b[1;32m    144\u001b[0m         \u001b[0msetattr\u001b[0m\u001b[0;34m(\u001b[0m\u001b[0mobj\u001b[0m\u001b[0;34m,\u001b[0m \u001b[0mself\u001b[0m\u001b[0;34m.\u001b[0m\u001b[0mname\u001b[0m\u001b[0;34m,\u001b[0m \u001b[0mval\u001b[0m\u001b[0;34m)\u001b[0m\u001b[0;34m\u001b[0m\u001b[0;34m\u001b[0m\u001b[0m\n",
      "\u001b[0;32m~/.pyenv/versions/3.8.3/envs/py-nvr-fmri/lib/python3.8/site-packages/nilearn/glm/first_level/first_level.py\u001b[0m in \u001b[0;36mr_square\u001b[0;34m(self)\u001b[0m\n\u001b[1;32m    796\u001b[0m \u001b[0;34m\u001b[0m\u001b[0m\n\u001b[1;32m    797\u001b[0m         \"\"\"\n\u001b[0;32m--> 798\u001b[0;31m         return self._get_voxelwise_model_attribute('r_square',\n\u001b[0m\u001b[1;32m    799\u001b[0m                                                    \u001b[0mresult_as_time_series\u001b[0m\u001b[0;34m=\u001b[0m\u001b[0;32mFalse\u001b[0m\u001b[0;34m\u001b[0m\u001b[0;34m\u001b[0m\u001b[0m\n\u001b[1;32m    800\u001b[0m                                                    )\n",
      "\u001b[0;32m~/.pyenv/versions/3.8.3/envs/py-nvr-fmri/lib/python3.8/site-packages/nilearn/glm/first_level/first_level.py\u001b[0m in \u001b[0;36m_get_voxelwise_model_attribute\u001b[0;34m(self, attribute, result_as_time_series)\u001b[0m\n\u001b[1;32m    724\u001b[0m \u001b[0;34m\u001b[0m\u001b[0m\n\u001b[1;32m    725\u001b[0m         \u001b[0;32mif\u001b[0m \u001b[0mself\u001b[0m\u001b[0;34m.\u001b[0m\u001b[0mminimize_memory\u001b[0m\u001b[0;34m:\u001b[0m\u001b[0;34m\u001b[0m\u001b[0;34m\u001b[0m\u001b[0m\n\u001b[0;32m--> 726\u001b[0;31m             raise ValueError(\n\u001b[0m\u001b[1;32m    727\u001b[0m                 \u001b[0;34m'To access voxelwise attributes like '\u001b[0m\u001b[0;34m\u001b[0m\u001b[0;34m\u001b[0m\u001b[0m\n\u001b[1;32m    728\u001b[0m                 \u001b[0;34m'R-squared, residuals, and predictions, '\u001b[0m\u001b[0;34m\u001b[0m\u001b[0;34m\u001b[0m\u001b[0m\n",
      "\u001b[0;31mValueError\u001b[0m: To access voxelwise attributes like R-squared, residuals, and predictions, the `FirstLevelModel`-object needs to store there attributes. To do so, set `minimize_memory` to `False` when initializing the `FirstLevelModel`-object."
     ]
    }
   ],
   "source": [
    "fmri_glm.r_square"
   ]
  },
  {
   "cell_type": "markdown",
   "id": "0ab0b925-7089-4386-9ada-ddc28f3b1e83",
   "metadata": {},
   "source": [
    "Can you refit a level 1 using a saved pkl object? Yes!"
   ]
  },
  {
   "cell_type": "code",
   "execution_count": 30,
   "id": "b09366f3-592a-496f-839b-0be046f37723",
   "metadata": {},
   "outputs": [
    {
     "data": {
      "text/plain": [
       "FirstLevelModel(hrf_model='spm',\n",
       "                mask_img=<nibabel.nifti1.Nifti1Image object at 0x10df59be0>,\n",
       "                minimize_memory=False, signal_scaling=True, smoothing_fwhm=5,\n",
       "                subject_label='601', t_r=2.44994)"
      ]
     },
     "execution_count": 30,
     "metadata": {},
     "output_type": "execute_result"
    }
   ],
   "source": [
    "fmri_glm.set_params(minimize_memory=False)"
   ]
  },
  {
   "cell_type": "code",
   "execution_count": 32,
   "id": "67616231-77b5-4514-98b8-fb4ed8eadf80",
   "metadata": {},
   "outputs": [],
   "source": [
    "fmri_img = glob.glob(os.path.join(data_path,\"derivatives/sub-%s/ses-%s/func/sub-%s_ses-%s_task-%s_run-*_space-MNI152NLin2009cAsym_res-2_desc-preproc_bold.nii.gz\"%(subnum, session, subnum, session, task)))"
   ]
  },
  {
   "cell_type": "code",
   "execution_count": 33,
   "id": "71c90c80-f7fd-4114-a08d-0d07e921e03b",
   "metadata": {},
   "outputs": [],
   "source": [
    "fmri_glm = fmri_glm.fit(fmri_img, design_matrices = run_design_matrix)"
   ]
  },
  {
   "cell_type": "code",
   "execution_count": 44,
   "id": "87486d5d-9ffd-44eb-add5-ca052d575e8e",
   "metadata": {},
   "outputs": [
    {
     "data": {
      "text/plain": [
       "<nilearn.plotting.displays.OrthoSlicer at 0x12e668250>"
      ]
     },
     "execution_count": 44,
     "metadata": {},
     "output_type": "execute_result"
    },
    {
     "data": {
      "image/png": "[encoded data removed]",
      "text/plain": [
       "<Figure size 525.6x187.2 with 5 Axes>"
      ]
     },
     "metadata": {},
     "output_type": "display_data"
    }
   ],
   "source": [
    "plot_stat_map(fmri_glm.r_square[0], threshold=.7)"
   ]
  },
  {
   "cell_type": "code",
   "execution_count": 46,
   "id": "70fe09a1-830c-4db4-a83c-5ec4be5a402d",
   "metadata": {},
   "outputs": [
    {
     "data": {
      "text/plain": [
       "(97, 115, 97, 1)"
      ]
     },
     "execution_count": 46,
     "metadata": {},
     "output_type": "execute_result"
    }
   ],
   "source": [
    "fmri_glm.r_square[0].get_fdata().shape"
   ]
  },
  {
   "cell_type": "code",
   "execution_count": 55,
   "id": "f5fd2cf7-06b4-474e-bf9b-a28752d3cea9",
   "metadata": {},
   "outputs": [
    {
     "data": {
      "text/plain": [
       "(97, 115, 97, 180)"
      ]
     },
     "execution_count": 55,
     "metadata": {},
     "output_type": "execute_result"
    }
   ],
   "source": [
    "fmri_glm.predicted[0].get_fdata().shape"
   ]
  },
  {
   "cell_type": "code",
   "execution_count": 56,
   "id": "5fa0bfa7-8f73-4f72-8ccf-231487681e86",
   "metadata": {},
   "outputs": [
    {
     "data": {
      "text/plain": [
       "array([-1., -1.,  1.,  1.,  0.,  0.,  0.,  0.,  0.,  0.])"
      ]
     },
     "execution_count": 56,
     "metadata": {},
     "output_type": "execute_result"
    }
   ],
   "source": [
    "np.hstack(([-1, -1, 1, 1], np.zeros(6)))"
   ]
  },
  {
   "cell_type": "code",
   "execution_count": null,
   "id": "5ff67c1c-9e92-4346-b7a4-f7b0078c160b",
   "metadata": {},
   "outputs": [],
   "source": []
  },
  {
   "cell_type": "code",
   "execution_count": null,
   "id": "bb9b212e-e4b7-4d90-a4a3-6c6f0f179311",
   "metadata": {},
   "outputs": [],
   "source": []
  },
  {
   "cell_type": "markdown",
   "id": "4f2a3ae7-f266-4007-b319-1eed4ce993d4",
   "metadata": {},
   "source": [
    "View value regressor across sessiosns for one subject"
   ]
  },
  {
   "cell_type": "code",
   "execution_count": null,
   "id": "465341f6-27be-47b0-9658-a18371603d6a",
   "metadata": {},
   "outputs": [],
   "source": [
    "# reg = 'reward_par'\n",
    "mnum = 'model2'\n",
    "reg = 'valChosenPlusUnchosen_par' #model2\n",
    "# mnum = 'model1'\n",
    "# reg = 'valChosenMinusUnchosen_par' #model1"
   ]
  },
  {
   "cell_type": "code",
   "execution_count": null,
   "id": "17c72439-8229-41ee-9a0a-74d1ed79913c",
   "metadata": {},
   "outputs": [],
   "source": [
    "from nilearn.plotting import view_img"
   ]
  },
  {
   "cell_type": "code",
   "execution_count": null,
   "id": "136a7244-fcdf-4f5b-9f0b-5bdf297b9f62",
   "metadata": {},
   "outputs": [],
   "source": [
    "session = '01'\n",
    "contrasts_path = os.path.join(out_path, \"sub-%s/ses-%s/contrasts\"%(subnum, session))\n",
    "cmap = os.path.join(contrasts_path, 'sub-%s_ses-%s_task-%s_%s_%s_tmap.nii.gz'%(subnum, session, task, mnum, reg))\n",
    "view_img(cmap, threshold=2.3, title = \"ses-%s %s\"%(session, reg))"
   ]
  },
  {
   "cell_type": "code",
   "execution_count": null,
   "id": "28a25629-49c1-4e0a-8483-d990ca614640",
   "metadata": {},
   "outputs": [],
   "source": [
    "session = '02'\n",
    "contrasts_path = os.path.join(out_path, \"sub-%s/ses-%s/contrasts\"%(subnum, session))\n",
    "cmap = os.path.join(contrasts_path, 'sub-%s_ses-%s_task-%s_%s_%s_tmap.nii.gz'%(subnum, session, task, mnum, reg))\n",
    "view_img(cmap, threshold=2.3, title = \"ses-%s %s\"%(session, reg))"
   ]
  },
  {
   "cell_type": "code",
   "execution_count": null,
   "id": "1df70f1a-1bbe-40b0-8343-e2536223442a",
   "metadata": {},
   "outputs": [],
   "source": [
    "session = '03'\n",
    "contrasts_path = os.path.join(out_path, \"sub-%s/ses-%s/contrasts\"%(subnum, session))\n",
    "cmap = os.path.join(contrasts_path, 'sub-%s_ses-%s_task-%s_%s_%s_tmap.nii.gz'%(subnum, session, task, mnum, reg))\n",
    "view_img(cmap, threshold=2.3, title = \"ses-%s %s\"%(session, reg))"
   ]
  },
  {
   "cell_type": "code",
   "execution_count": null,
   "id": "3d615898-bd1e-4361-b570-c42d1953893c",
   "metadata": {},
   "outputs": [],
   "source": []
  }
 ],
 "metadata": {
  "kernelspec": {
   "display_name": "Python 3 (ipykernel)",
   "language": "python",
   "name": "python3"
  },
  "language_info": {
   "codemirror_mode": {
    "name": "ipython",
    "version": 3
   },
   "file_extension": ".py",
   "mimetype": "text/x-python",
   "name": "python",
   "nbconvert_exporter": "python",
   "pygments_lexer": "ipython3",
   "version": "3.8.3"
  }
 },
 "nbformat": 4,
 "nbformat_minor": 5
}
