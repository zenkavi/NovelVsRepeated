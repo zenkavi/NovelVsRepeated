{
 "cells": [
  {
   "cell_type": "code",
   "execution_count": 1,
   "id": "d110ccc2-1a89-4dc7-a570-402fe9479973",
   "metadata": {},
   "outputs": [
    {
     "name": "stderr",
     "output_type": "stream",
     "text": [
      "/Users/zeynepenkavi/.pyenv/versions/3.8.3/envs/py-nvr-fmri/lib/python3.8/site-packages/nilearn/datasets/__init__.py:86: FutureWarning: Fetchers from the nilearn.datasets module will be updated in version 0.9 to return python strings instead of bytes and Pandas dataframes instead of Numpy arrays.\n",
      "  warn(\"Fetchers from the nilearn.datasets module will be \"\n"
     ]
    }
   ],
   "source": [
    "import os\n",
    "import glob\n",
    "import pandas as pd\n",
    "import numpy as np\n",
    "import nibabel as nib\n",
    "from nilearn.plotting import plot_stat_map\n",
    "import matplotlib.pyplot as plt\n"
   ]
  },
  {
   "cell_type": "code",
   "execution_count": 2,
   "id": "84cb3797-0d06-46ca-81c5-688f83a0f216",
   "metadata": {},
   "outputs": [],
   "source": [
    "os.chdir('/Users/zeynepenkavi/Documents/RangelLab/NovelVsRepeated/fmri/analysis/01_level1/cluster_scripts')"
   ]
  },
  {
   "cell_type": "markdown",
   "id": "759b59f2-89c0-4333-a1f9-98e605d9fd9f",
   "metadata": {},
   "source": [
    "Desired plot: Matrix of subjects in rows and sessions in columns of value and reward contrasts"
   ]
  },
  {
   "cell_type": "code",
   "execution_count": 25,
   "id": "1ae3ef15-340f-4034-9e18-30111ed670e4",
   "metadata": {},
   "outputs": [],
   "source": [
    "base_path = '/Users/zeynepenkavi/CpuEaters/overtrained_decisions_bidsfmri'\n",
    "contrasts_path = os.path.join(base_path, 'derivatives/nilearn/glm/level1')  \n",
    "\n",
    "\n",
    "def label_matrix_row_cols(fig, a, cols, rows):\n",
    "#     https://stackoverflow.com/questions/25812255/row-and-column-headers-in-matplotlibs-subplots\n",
    "    for ax, col in zip(a[0], cols):\n",
    "        ax.set_title(col)\n",
    "\n",
    "    for ax, row in zip(a[:,0], rows):\n",
    "        ax.set_ylabel(row, rotation=0, size='large')\n",
    "\n",
    "def plot_stat_map_matrix(reg, task, mnum, contrasts_path, map_type, \n",
    "                         cut_coords = (10), threshold = 2, display_mode = 'y', \n",
    "                         black_bg = False, vmax = 6, fig_w = 12, fig_h = 24,\n",
    "                         space = 'MNI152NLin2009cAsym_res-2', \n",
    "                         subnums = ['601', '609', '611', '619', '621', '629'], sessions = ['01', '02', '03']):\n",
    "    \n",
    "    fig, a = plt.subplots(len(subnums), len(sessions), figsize=(fig_w, fig_h))\n",
    "    \n",
    "    for i, cur_sub in enumerate(subnums):\n",
    "        for j, cur_ses in enumerate(sessions):\n",
    "\n",
    "            anat_path = os.path.join(base_path, 'derivatives/sub-' + cur_sub + '/anat')\n",
    "\n",
    "            stat_map_fn = 'sub-' + cur_sub + '_ses-' + cur_ses + '_task-' + task + '_space-' + space + '_' + mnum + '_' + reg + '_' + map_type + '.nii.gz'\n",
    "            bg_img_fn = 'sub-'+ cur_sub + '_space-' + space + '_desc-preproc_T1w.nii.gz'\n",
    "\n",
    "            cur_img = os.path.join(contrasts_path, task, mnum, 'sub-'+cur_sub, 'ses-'+cur_ses, 'contrasts', stat_map_fn)\n",
    "\n",
    "            bg_img = os.path.join(anat_path, bg_img_fn)\n",
    "\n",
    "            plot_stat_map(cur_img,\n",
    "                          bg_img = bg_img,\n",
    "                          cut_coords = cut_coords,\n",
    "                          threshold = threshold, \n",
    "                          draw_cross=False, \n",
    "                          display_mode = display_mode, \n",
    "                          black_bg = black_bg,\n",
    "                          axes = a[i, j],\n",
    "                          vmax = vmax)\n",
    "            \n",
    "    cols = ['ses-'+i for i in sessions]\n",
    "    \n",
    "    for ax, col in zip(a[0], cols):\n",
    "        ax.set_title(col)\n",
    "    \n",
    "#     label_matrix_row_cols(fig, a, cols, rows)\n",
    "#     fig.tight_layout()\n",
    "            \n"
   ]
  },
  {
   "cell_type": "code",
   "execution_count": null,
   "id": "418841af-99cb-4b64-bd8a-db096fa3fe97",
   "metadata": {},
   "outputs": [],
   "source": [
    "reg = 'valSumHT_par'\n",
    "task = 'binaryChoice'\n",
    "mnum = 'model1'\n",
    "map_type = 'tmap'\n",
    "\n",
    "plot_stat_map_matrix(reg, task, mnum, contrasts_path, map_type, cut_coords = [11, ], display_mode = 'y', vmax = 6)\n",
    "\n",
    "fig_path = '/Users/zeynepenkavi/Documents/RangelLab/NovelVsRepeated/fmri/analysis/01_level1/figs'\n",
    "fig_fn = 'binaryChoice_model1_valSumHT_par_tmap_matrix_y_11.png'\n",
    "plt.savefig(os.path.join(fig_path, fig_fn))"
   ]
  },
  {
   "cell_type": "code",
   "execution_count": 27,
   "id": "6addc1e2-b4e4-41c8-9f90-b1b600b063d5",
   "metadata": {},
   "outputs": [
    {
     "data": {
      "text/plain": [
       "<Figure size 1440x1440 with 0 Axes>"
      ]
     },
     "metadata": {},
     "output_type": "display_data"
    }
   ],
   "source": []
  },
  {
   "cell_type": "code",
   "execution_count": null,
   "id": "55e74c16-0d3b-4440-ac82-eeaeab54e712",
   "metadata": {},
   "outputs": [],
   "source": []
  },
  {
   "cell_type": "code",
   "execution_count": null,
   "id": "fbf95589-0e78-4f20-9596-dc44f8153ba6",
   "metadata": {},
   "outputs": [],
   "source": [
    "reg = 'valDiffHT_par'\n",
    "task = 'binaryChoice'\n",
    "mnum = 'model1'\n",
    "map_type = 'tmap'\n",
    "\n",
    "cur_sub = '611'\n",
    "cur_ses = '02'\n",
    "space = 'MNI152NLin2009cAsym_res-2'\n",
    "\n",
    "cut_coords = (4, 8, -6)\n",
    "\n",
    "base_path = '/Users/zeynepenkavi/CpuEaters/overtrained_decisions_bidsfmri'\n",
    "contrasts_path = os.path.join(base_path, 'derivatives/nilearn/glm/level1')\n",
    "anat_path = os.path.join(base_path, 'derivatives/sub-' + cur_sub + '/anat')\n",
    "\n",
    "stat_map_fn = 'sub-' + cur_sub + '_ses-' + cur_ses + '_task-' + task + '_space-' + space + '_' + mnum + '_' + reg + '_' + map_type + '.nii.gz'\n",
    "bg_img_fn = 'sub-'+ cur_sub + '_space-' + space + '_desc-preproc_T1w.nii.gz'\n",
    "\n",
    "cur_img = os.path.join(contrasts_path, task, mnum, 'sub-'+cur_sub, 'ses-'+cur_ses, 'contrasts', stat_map_fn)\n",
    "\n",
    "bg_img = os.path.join(anat_path, bg_img_fn)\n",
    "\n",
    "plot_stat_map(cur_img,\n",
    "              bg_img=bg_img,\n",
    "#               cut_coords=cut_coords,\n",
    "#               cut_coords = (41, 17, 5),\n",
    "              threshold=2, title= ('%s_ses-%s' %(reg, cur_ses)),\n",
    "              draw_cross=False, \n",
    "              display_mode = 'mosaic'\n",
    "             )"
   ]
  },
  {
   "cell_type": "code",
   "execution_count": null,
   "id": "d1ac33fd-dad6-4a0f-87cb-334e2e4afdcd",
   "metadata": {},
   "outputs": [],
   "source": []
  }
 ],
 "metadata": {
  "kernelspec": {
   "display_name": "Python 3 (ipykernel)",
   "language": "python",
   "name": "python3"
  },
  "language_info": {
   "codemirror_mode": {
    "name": "ipython",
    "version": 3
   },
   "file_extension": ".py",
   "mimetype": "text/x-python",
   "name": "python",
   "nbconvert_exporter": "python",
   "pygments_lexer": "ipython3",
   "version": "3.8.3"
  }
 },
 "nbformat": 4,
 "nbformat_minor": 5
}
