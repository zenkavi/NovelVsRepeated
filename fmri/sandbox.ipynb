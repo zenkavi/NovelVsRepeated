{
 "cells": [
  {
   "cell_type": "code",
   "execution_count": 1,
   "id": "a2a6d211-c050-4886-aec0-9006f62130cc",
   "metadata": {},
   "outputs": [],
   "source": [
    "import os"
   ]
  },
  {
   "cell_type": "code",
   "execution_count": 2,
   "id": "15bcb93a-c788-491b-86c5-196e5bee2c8b",
   "metadata": {},
   "outputs": [],
   "source": [
    "import glob"
   ]
  },
  {
   "cell_type": "code",
   "execution_count": 3,
   "id": "a051c80d-6c09-4dda-b8c6-3d98cb7cb0d9",
   "metadata": {},
   "outputs": [],
   "source": [
    "import pandas as pd"
   ]
  },
  {
   "cell_type": "code",
   "execution_count": 4,
   "id": "269bf864-0dc0-444d-b590-592eec0607e0",
   "metadata": {},
   "outputs": [],
   "source": [
    "from nilearn.glm.second_level import SecondLevelModel, non_parametric_inference"
   ]
  },
  {
   "cell_type": "code",
   "execution_count": 5,
   "id": "171d43ee-638b-4251-bad7-aaf13512e8dc",
   "metadata": {},
   "outputs": [],
   "source": [
    "import nibabel as nib"
   ]
  },
  {
   "cell_type": "code",
   "execution_count": 6,
   "id": "42a94e4f-f726-44fe-8486-19fff6520c29",
   "metadata": {},
   "outputs": [],
   "source": [
    "from nilearn.plotting import plot_stat_map"
   ]
  },
  {
   "cell_type": "code",
   "execution_count": null,
   "id": "84cb3797-0d06-46ca-81c5-688f83a0f216",
   "metadata": {},
   "outputs": [],
   "source": [
    "# os.chdir('/Users/zeynepenkavi/Documents/RangelLab/NovelVsRepeated/fmri/analysis/01_level1/cluster_scripts')\n",
    "# os.chdir('/Users/zeynepenkavi/Documents/RangelLab/NovelVsRepeated/fmri/analysis/01_level1')"
   ]
  },
  {
   "cell_type": "code",
   "execution_count": 10,
   "id": "2d6fb9ea-12a2-4d34-9b47-a58a0318aff6",
   "metadata": {},
   "outputs": [],
   "source": [
    "base_path = '/Users/zeynepenkavi/CpuEaters/overtrained_decisions_bidsfmri/'\n",
    "\n",
    "mnum = 'model2'\n",
    "reg = 'valHT_par'\n",
    "# sign = 'pos'\n",
    "\n",
    "data_path = os.path.join(base_path, 'derivatives/nilearn/glm/level1/yesNo/model2')\n",
    "out_path = os.path.join(base_path, 'derivatives/nilearn/glm/level2/yesNo/model2/overall-mean')\n",
    "# num_perm = 500\n",
    "var_smooth = 5\n",
    "\n",
    "\n",
    "regs = ['valHT_par', 'valRE_par', 'stimHT_ev', 'stimRE_ev']\n",
    "sessions = ['ses-01', 'ses-02', 'ses-03', 'ses-02_min_ses-01', 'ses-03_min_ses-01', 'ses-03_min_ses-02']"
   ]
  },
  {
   "cell_type": "code",
   "execution_count": 12,
   "id": "de9d5455-870f-428a-a03d-4d81b81a7860",
   "metadata": {},
   "outputs": [
    {
     "name": "stdout",
     "output_type": "stream",
     "text": [
      "***********************************************\n",
      "Saving uncorrected tmap for valHT_par_model2_ses-01\n",
      "***********************************************\n",
      "***********************************************\n",
      "Saving uncorrected tmap for valHT_par_model2_ses-02\n",
      "***********************************************\n",
      "***********************************************\n",
      "Saving uncorrected tmap for valHT_par_model2_ses-03\n",
      "***********************************************\n",
      "***********************************************\n",
      "Saving uncorrected tmap for valHT_par_model2_ses-02_min_ses-01\n",
      "***********************************************\n",
      "***********************************************\n",
      "Saving uncorrected tmap for valHT_par_model2_ses-03_min_ses-01\n",
      "***********************************************\n",
      "***********************************************\n",
      "Saving uncorrected tmap for valHT_par_model2_ses-03_min_ses-02\n",
      "***********************************************\n",
      "***********************************************\n",
      "Saving uncorrected tmap for valRE_par_model2_ses-01\n",
      "***********************************************\n",
      "***********************************************\n",
      "Saving uncorrected tmap for valRE_par_model2_ses-02\n",
      "***********************************************\n",
      "***********************************************\n",
      "Saving uncorrected tmap for valRE_par_model2_ses-03\n",
      "***********************************************\n",
      "***********************************************\n",
      "Saving uncorrected tmap for valRE_par_model2_ses-02_min_ses-01\n",
      "***********************************************\n",
      "***********************************************\n",
      "Saving uncorrected tmap for valRE_par_model2_ses-03_min_ses-01\n",
      "***********************************************\n",
      "***********************************************\n",
      "Saving uncorrected tmap for valRE_par_model2_ses-03_min_ses-02\n",
      "***********************************************\n",
      "***********************************************\n",
      "Saving uncorrected tmap for stimHT_ev_model2_ses-01\n",
      "***********************************************\n",
      "***********************************************\n",
      "Saving uncorrected tmap for stimHT_ev_model2_ses-02\n",
      "***********************************************\n",
      "***********************************************\n",
      "Saving uncorrected tmap for stimHT_ev_model2_ses-03\n",
      "***********************************************\n",
      "***********************************************\n",
      "Saving uncorrected tmap for stimHT_ev_model2_ses-02_min_ses-01\n",
      "***********************************************\n",
      "***********************************************\n",
      "Saving uncorrected tmap for stimHT_ev_model2_ses-03_min_ses-01\n",
      "***********************************************\n",
      "***********************************************\n",
      "Saving uncorrected tmap for stimHT_ev_model2_ses-03_min_ses-02\n",
      "***********************************************\n",
      "***********************************************\n",
      "Saving uncorrected tmap for stimRE_ev_model2_ses-01\n",
      "***********************************************\n",
      "***********************************************\n",
      "Saving uncorrected tmap for stimRE_ev_model2_ses-02\n",
      "***********************************************\n",
      "***********************************************\n",
      "Saving uncorrected tmap for stimRE_ev_model2_ses-03\n",
      "***********************************************\n",
      "***********************************************\n",
      "Saving uncorrected tmap for stimRE_ev_model2_ses-02_min_ses-01\n",
      "***********************************************\n",
      "***********************************************\n",
      "Saving uncorrected tmap for stimRE_ev_model2_ses-03_min_ses-01\n",
      "***********************************************\n",
      "***********************************************\n",
      "Saving uncorrected tmap for stimRE_ev_model2_ses-03_min_ses-02\n",
      "***********************************************\n"
     ]
    }
   ],
   "source": [
    "for reg in regs:\n",
    "    for session in sessions:\n",
    "\n",
    "        reg_path = \"%s/%s_%s/%s\"%(out_path, reg, mnum, session)\n",
    "        if not os.path.exists(reg_path):\n",
    "            os.makedirs(reg_path)\n",
    "\n",
    "        suffix = reg + '_' + mnum + '_' + session\n",
    "\n",
    "        # Tutorial for running level 2 from parameter estimate maps\n",
    "        # https://nilearn.github.io/stable/auto_examples/05_glm_second_level/plot_second_level_one_sample_test.html#sphx-glr-auto-examples-05-glm-second-level-plot-second-level-one-sample-test-py\n",
    "        input_path = \"%s/sub-*/%s/contrasts\"%(data_path, session)\n",
    "\n",
    "        level1_images = glob.glob('%s/sub-*_%s_effect_size.nii.gz'%(input_path, reg))\n",
    "        level1_images.sort()\n",
    "\n",
    "        second_level_input = level1_images\n",
    "        design_matrix = pd.DataFrame([1] * len(second_level_input), columns=['intercept'])\n",
    "\n",
    "        # Don't need these because non_parametric_inference computes the same uncorrected tmap\n",
    "        # But save them anyway so you don't have to wait for the permutation test and this is very quick\n",
    "        # Check if it's already there first though, so you don't do it twice unnecessarily\n",
    "        if not os.path.exists('%s/%s_unc_tmap.nii.gz'%(reg_path, suffix)):\n",
    "            second_level_model = SecondLevelModel(smoothing_fwhm=var_smooth)\n",
    "            second_level_model = second_level_model.fit(second_level_input, design_matrix=design_matrix)\n",
    "\n",
    "            t_map = second_level_model.compute_contrast(output_type='stat')\n",
    "\n",
    "            print(\"***********************************************\")\n",
    "            print(\"Saving uncorrected tmap for %s\"%(suffix))\n",
    "            print(\"***********************************************\")\n",
    "\n",
    "            nib.save(t_map, '%s/%s_unc_tmap.nii.gz'%(reg_path, suffix))"
   ]
  },
  {
   "cell_type": "code",
   "execution_count": null,
   "id": "d2976e64-5607-43fe-b837-7cb80dc02f4c",
   "metadata": {},
   "outputs": [],
   "source": []
  }
 ],
 "metadata": {
  "kernelspec": {
   "display_name": "Python 3 (ipykernel)",
   "language": "python",
   "name": "python3"
  },
  "language_info": {
   "codemirror_mode": {
    "name": "ipython",
    "version": 3
   },
   "file_extension": ".py",
   "mimetype": "text/x-python",
   "name": "python",
   "nbconvert_exporter": "python",
   "pygments_lexer": "ipython3",
   "version": "3.8.3"
  }
 },
 "nbformat": 4,
 "nbformat_minor": 5
}
