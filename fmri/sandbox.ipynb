{
 "cells": [
  {
   "cell_type": "code",
   "execution_count": null,
   "id": "e79f2663-1e0b-414a-ad6f-4518fb919e49",
   "metadata": {},
   "outputs": [],
   "source": [
    "import os"
   ]
  },
  {
   "cell_type": "code",
   "execution_count": null,
   "id": "84cb3797-0d06-46ca-81c5-688f83a0f216",
   "metadata": {},
   "outputs": [],
   "source": [
    "# os.chdir('/Users/zeynepenkavi/Documents/RangelLab/NovelVsRepeated/fmri/analysis/01_level1/cluster_scripts')\n",
    "os.chdir('/Users/zeynepenkavi/Documents/RangelLab/NovelVsRepeated/fmri/analysis/01_level1')"
   ]
  },
  {
   "cell_type": "code",
   "execution_count": null,
   "id": "11da18b9-bb8d-4b21-8e89-7a5e2d42b819",
   "metadata": {},
   "outputs": [],
   "source": [
    "from level1_plot_utils import plot_stat_map_matrix"
   ]
  },
  {
   "cell_type": "code",
   "execution_count": null,
   "id": "a404e815-1784-4dfb-b1ac-860a8fa33c4a",
   "metadata": {},
   "outputs": [],
   "source": [
    "import matplotlib.pyplot as plt"
   ]
  },
  {
   "cell_type": "code",
   "execution_count": null,
   "id": "f816ffe4-895c-42fa-83f0-22eec9c62082",
   "metadata": {},
   "outputs": [],
   "source": [
    "fig_path = '/Users/zeynepenkavi/Documents/RangelLab/NovelVsRepeated/fmri/analysis/01_level1/figs'\n",
    "\n",
    "base_path = '/Users/zeynepenkavi/CpuEaters/overtrained_decisions_bidsfmri'\n",
    "contrasts_path = os.path.join(base_path, 'derivatives/nilearn/glm/level1')"
   ]
  },
  {
   "cell_type": "code",
   "execution_count": null,
   "id": "5507846e-098e-4ee7-908f-eaeb57bc99cc",
   "metadata": {},
   "outputs": [],
   "source": [
    "figs_list = [{'reg': 'valRE-valHT', 'task': 'yesNo', 'cut': -6, 'disp_mode': 'x'},\n",
    "            {'reg': 'valRE-valHT', 'task': 'yesNo', 'cut': 4, 'disp_mode': 'x'},\n",
    "            {'reg': 'valRE-valHT', 'task': 'yesNo', 'cut': 8, 'disp_mode': 'y'},\n",
    "            {'reg': 'valRE-valHT', 'task': 'yesNo', 'cut': 24, 'disp_mode': 'y'},\n",
    "            {'reg': 'valRE-valHT', 'task': 'yesNo', 'cut': 40, 'disp_mode': 'y'},\n",
    "            {'reg': 'valRE-valHT', 'task': 'yesNo', 'cut': -6, 'disp_mode': 'z'}]\n",
    "\n",
    "mnum = 'model1'\n",
    "map_type = 'tmap'\n",
    "\n",
    "for cur_dict in figs_list:\n",
    "    reg = cur_dict['reg']\n",
    "    task = cur_dict['task']\n",
    "    cut = cur_dict['cut']\n",
    "    disp_mode = cur_dict['disp_mode']\n",
    "\n",
    "    plot_stat_map_matrix(reg, task, mnum, contrasts_path, map_type, cut_coords = [cut, ], display_mode = disp_mode)\n",
    "\n",
    "    fig_fn = task + '_' + mnum + '_' + reg + '_' + map_type + '_matrix_' + disp_mode + '_'+ str(cut) + '.jpeg'\n",
    "    plt.savefig(os.path.join(fig_path, task, fig_fn), transparent=False, pad_inches = 0.05, bbox_inches = 'tight')"
   ]
  },
  {
   "cell_type": "code",
   "execution_count": null,
   "id": "c7b86a5f-c9e9-4d4f-a429-0fd41f5eead1",
   "metadata": {},
   "outputs": [],
   "source": [
    "figs_list = [{'reg': 'valHT-valRE', 'task': 'yesNo', 'cut': -6, 'disp_mode': 'x'},\n",
    "            {'reg': 'valHT-valRE', 'task': 'yesNo', 'cut': 4, 'disp_mode': 'x'},\n",
    "            {'reg': 'valHT-valRE', 'task': 'yesNo', 'cut': 8, 'disp_mode': 'y'},\n",
    "            {'reg': 'valHT-valRE', 'task': 'yesNo', 'cut': 24, 'disp_mode': 'y'},\n",
    "            {'reg': 'valHT-valRE', 'task': 'yesNo', 'cut': 40, 'disp_mode': 'y'},\n",
    "            {'reg': 'valHT-valRE', 'task': 'yesNo', 'cut': -6, 'disp_mode': 'z'}]\n",
    "\n",
    "mnum = 'model1'\n",
    "map_type = 'tmap'\n",
    "\n",
    "for cur_dict in figs_list:\n",
    "    reg = cur_dict['reg']\n",
    "    task = cur_dict['task']\n",
    "    cut = cur_dict['cut']\n",
    "    disp_mode = cur_dict['disp_mode']\n",
    "\n",
    "    plot_stat_map_matrix(reg, task, mnum, contrasts_path, map_type, cut_coords = [cut, ], display_mode = disp_mode)\n",
    "\n",
    "    fig_fn = task + '_' + mnum + '_' + reg + '_' + map_type + '_matrix_' + disp_mode + '_'+ str(cut) + '.jpeg'\n",
    "    plt.savefig(os.path.join(fig_path, task, fig_fn), transparent=False, pad_inches = 0.05, bbox_inches = 'tight')"
   ]
  },
  {
   "cell_type": "code",
   "execution_count": null,
   "id": "44d4ea0b-1b9d-4e3b-bb00-318e0ca21c62",
   "metadata": {},
   "outputs": [],
   "source": []
  }
 ],
 "metadata": {
  "kernelspec": {
   "display_name": "Python 3 (ipykernel)",
   "language": "python",
   "name": "python3"
  },
  "language_info": {
   "codemirror_mode": {
    "name": "ipython",
    "version": 3
   },
   "file_extension": ".py",
   "mimetype": "text/x-python",
   "name": "python",
   "nbconvert_exporter": "python",
   "pygments_lexer": "ipython3",
   "version": "3.8.3"
  }
 },
 "nbformat": 4,
 "nbformat_minor": 5
}
