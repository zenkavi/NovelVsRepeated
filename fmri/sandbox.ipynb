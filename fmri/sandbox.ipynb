{
 "cells": [
  {
   "cell_type": "code",
   "execution_count": 1,
   "id": "d110ccc2-1a89-4dc7-a570-402fe9479973",
   "metadata": {},
   "outputs": [
    {
     "name": "stderr",
     "output_type": "stream",
     "text": [
      "/Users/zeynepenkavi/.pyenv/versions/3.8.3/envs/py-nvr-fmri/lib/python3.8/site-packages/nilearn/datasets/__init__.py:86: FutureWarning: Fetchers from the nilearn.datasets module will be updated in version 0.9 to return python strings instead of bytes and Pandas dataframes instead of Numpy arrays.\n",
      "  warn(\"Fetchers from the nilearn.datasets module will be \"\n"
     ]
    }
   ],
   "source": [
    "import os\n",
    "import shutil\n",
    "import glob\n",
    "import json\n",
    "import random\n",
    "import scipy.io as sio\n",
    "import pandas as pd\n",
    "import numpy as np\n",
    "import re\n",
    "import nibabel as nib\n",
    "from nilearn.plotting import plot_stat_map\n",
    "import pickle"
   ]
  },
  {
   "cell_type": "code",
   "execution_count": 2,
   "id": "84cb3797-0d06-46ca-81c5-688f83a0f216",
   "metadata": {},
   "outputs": [],
   "source": [
    "os.chdir('/Users/zeynepenkavi/Documents/RangelLab/NovelVsRepeated/fmri/analysis/01_level1/cluster_scripts')"
   ]
  },
  {
   "cell_type": "code",
   "execution_count": 3,
   "id": "f1d9f655-6df2-4b8e-8fde-e9c0536980aa",
   "metadata": {},
   "outputs": [],
   "source": [
    "from level1_utils import run_level1"
   ]
  },
  {
   "cell_type": "code",
   "execution_count": 4,
   "id": "9b7ede8b-6b3f-4f98-bf35-0ee00f8f9dd5",
   "metadata": {},
   "outputs": [],
   "source": [
    "data_path = '/Users/zeynepenkavi/Downloads/overtrained_decisions_bidsfmri'"
   ]
  },
  {
   "cell_type": "code",
   "execution_count": null,
   "id": "cebb7092-4480-41f5-a0e4-a99a881cbdd4",
   "metadata": {},
   "outputs": [],
   "source": [
    "subnum = '601'\n",
    "session = '02'\n",
    "task = 'binaryChoice'\n",
    "mnum = 'model1'\n",
    "space = 'MNI152NLin2009cAsym_res-2'\n",
    "out_path = '/Users/zeynepenkavi/Downloads/overtrained_decisions_bidsfmri/derivatives/nilearn/glm/level1/%s/%s'%(task, mnum)"
   ]
  },
  {
   "cell_type": "code",
   "execution_count": null,
   "id": "b279e5fb-d2d6-414e-8636-679ae4c8e76c",
   "metadata": {},
   "outputs": [],
   "source": [
    "# run_level1(subnum, session, task, mnum, data_path, out_path, space)"
   ]
  },
  {
   "cell_type": "code",
   "execution_count": 5,
   "id": "5ec31e4c-b084-4c2b-a8e6-395cdfbc84d8",
   "metadata": {},
   "outputs": [],
   "source": [
    "subnum = '601'\n",
    "session = '02'\n",
    "task = 'yesNo'\n",
    "mnum = 'model1'\n",
    "space = 'MNI152NLin2009cAsym_res-2'\n",
    "\n",
    "data_path = '/Users/zeynepenkavi/Downloads/overtrained_decisions_bidsfmri'\n",
    "out_path = '/Users/zeynepenkavi/Downloads/overtrained_decisions_bidsfmri/derivatives/nilearn/glm/level1/%s/%s'%(task, mnum)"
   ]
  },
  {
   "cell_type": "code",
   "execution_count": 6,
   "id": "fcd9e98f-18e9-4dc8-a4a4-79d2465de2e5",
   "metadata": {},
   "outputs": [
    {
     "name": "stdout",
     "output_type": "stream",
     "text": [
      "A 'modulation' column was found in the given events data and is used.\n",
      "***********************************************\n",
      "Saving design matrix for sub-601 ses-02 task-yesNo run-01\n",
      "***********************************************\n"
     ]
    },
    {
     "name": "stderr",
     "output_type": "stream",
     "text": [
      "/Users/zeynepenkavi/.pyenv/versions/3.8.3/envs/py-nvr-fmri/lib/python3.8/site-packages/nilearn/_utils/glm.py:310: UserWarning: Matrix is singular at working precision, regularizing...\n",
      "  warn('Matrix is singular at working precision, regularizing...')\n"
     ]
    },
    {
     "name": "stdout",
     "output_type": "stream",
     "text": [
      "A 'modulation' column was found in the given events data and is used.\n",
      "***********************************************\n",
      "Saving design matrix for sub-601 ses-02 task-yesNo run-02\n",
      "***********************************************\n",
      "***********************************************\n",
      "Running fixed effects GLM for all runs of sub-601 ses-02 task-yesNo\n",
      "***********************************************\n"
     ]
    },
    {
     "name": "stderr",
     "output_type": "stream",
     "text": [
      "/Users/zeynepenkavi/.pyenv/versions/3.8.3/envs/py-nvr-fmri/lib/python3.8/site-packages/nilearn/_utils/glm.py:310: UserWarning: Matrix is singular at working precision, regularizing...\n",
      "  warn('Matrix is singular at working precision, regularizing...')\n"
     ]
    },
    {
     "name": "stdout",
     "output_type": "stream",
     "text": [
      "***********************************************\n",
      "Saving GLM for sub-601 ses-02 task-yesNo\n",
      "***********************************************\n"
     ]
    }
   ],
   "source": [
    "run_level1(subnum, session, task, mnum, data_path, out_path, space)"
   ]
  },
  {
   "cell_type": "code",
   "execution_count": 7,
   "id": "0376204e-b9c5-4a33-b062-9654833c58d5",
   "metadata": {},
   "outputs": [],
   "source": [
    "from compute_contrasts_utils import compute_contrast"
   ]
  },
  {
   "cell_type": "code",
   "execution_count": null,
   "id": "0038074c-cc97-4cf0-a976-444d0d3c61d2",
   "metadata": {},
   "outputs": [],
   "source": [
    "subnum = '601'\n",
    "session = '02'\n",
    "task = 'binaryChoice'\n",
    "mnum = 'model1'\n",
    "space = 'MNI152NLin2009cAsym_res-2'\n",
    "output_type = 'effect_size'\n",
    "out_path = '/Users/zeynepenkavi/Downloads/overtrained_decisions_bidsfmri/derivatives/nilearn/glm/level1/%s/%s'%(task, mnum)\n",
    "contrasts_fn = 'binaryChoice_model1_contrasts.json'\n",
    "\n",
    "# compute_contrast(subnum, session, task, mnum, contrasts_fn, out_path, output_type = output_type, space = space)"
   ]
  },
  {
   "cell_type": "code",
   "execution_count": 8,
   "id": "681b4730-1f19-4261-9853-17af1f5dc326",
   "metadata": {},
   "outputs": [
    {
     "name": "stdout",
     "output_type": "stream",
     "text": [
      "***********************************************\n",
      "Loading GLM for sub-601 ses-02 task-yesNo\n",
      "***********************************************\n",
      "***********************************************\n",
      "Loading contrast file yesNo_model1_contrasts.json\n",
      "***********************************************\n",
      "***********************************************\n",
      "Computing contrasts for sub-601 ses-02 task-yesNo\n",
      "***********************************************\n"
     ]
    },
    {
     "name": "stderr",
     "output_type": "stream",
     "text": [
      "/Users/zeynepenkavi/.pyenv/versions/3.8.3/envs/py-nvr-fmri/lib/python3.8/site-packages/nilearn/glm/first_level/first_level.py:652: UserWarning: One contrast given, assuming it for all 2 runs\n",
      "  warn('One contrast given, assuming it for all %d runs' % n_runs)\n"
     ]
    },
    {
     "name": "stdout",
     "output_type": "stream",
     "text": [
      "***********************************************\n",
      "Done saving contrasts for sub-601 ses-02 task-yesNo\n",
      "***********************************************\n"
     ]
    }
   ],
   "source": [
    "subnum = '601'\n",
    "session = '02'\n",
    "task = 'yesNo'\n",
    "mnum = 'model1'\n",
    "space = 'MNI152NLin2009cAsym_res-2'\n",
    "output_type = 'effect_size'\n",
    "out_path = '/Users/zeynepenkavi/Downloads/overtrained_decisions_bidsfmri/derivatives/nilearn/glm/level1/%s/%s'%(task, mnum)\n",
    "contrasts_fn = 'yesNo_model1_contrasts.json'\n",
    "\n",
    "compute_contrast(subnum, session, task, mnum, contrasts_fn, out_path, output_type = output_type, space = space)"
   ]
  },
  {
   "cell_type": "code",
   "execution_count": null,
   "id": "43cda6cf-df67-49e7-a66a-06b782d69692",
   "metadata": {},
   "outputs": [],
   "source": []
  }
 ],
 "metadata": {
  "kernelspec": {
   "display_name": "Python 3 (ipykernel)",
   "language": "python",
   "name": "python3"
  },
  "language_info": {
   "codemirror_mode": {
    "name": "ipython",
    "version": 3
   },
   "file_extension": ".py",
   "mimetype": "text/x-python",
   "name": "python",
   "nbconvert_exporter": "python",
   "pygments_lexer": "ipython3",
   "version": "3.8.3"
  }
 },
 "nbformat": 4,
 "nbformat_minor": 5
}
