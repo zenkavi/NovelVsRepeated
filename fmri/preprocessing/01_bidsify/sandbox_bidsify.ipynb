{
 "cells": [
  {
   "cell_type": "code",
   "execution_count": 1,
   "id": "d110ccc2-1a89-4dc7-a570-402fe9479973",
   "metadata": {},
   "outputs": [],
   "source": [
    "import os\n",
    "import shutil\n",
    "import glob\n",
    "import json\n",
    "import random\n",
    "import scipy.io as sio\n",
    "import pandas as pd\n",
    "import numpy as np"
   ]
  },
  {
   "cell_type": "code",
   "execution_count": 2,
   "id": "a48db4f0-3b7c-4bd9-a7a6-238c911870da",
   "metadata": {},
   "outputs": [],
   "source": [
    "raw_data_path = '/Users/zeynepenkavi/Downloads/overtrained_decisions_rawfmri'\n",
    "\n",
    "bids_path = '/Users/zeynepenkavi/Downloads/overtrained_decisions_bidsfmri'\n",
    "\n",
    "subnums = ['601', '609', '611', '619', '621', '629']\n",
    "\n",
    "sessions = ['01', '02', '03']\n",
    "\n",
    "data_types = ['anat', 'func']\n",
    "\n",
    "misc_files = ['dataset_description.json', 'participants.json', 'README', 'CHANGES']"
   ]
  },
  {
   "cell_type": "code",
   "execution_count": 3,
   "id": "cfdf8fad-22e9-45f4-b112-e75cf9d143d6",
   "metadata": {},
   "outputs": [],
   "source": [
    "timing_mats = glob.glob(raw_data_path + '/*/*/*.mat')"
   ]
  },
  {
   "cell_type": "code",
   "execution_count": 17,
   "id": "518dc508-0056-438c-a018-b263e1d910e6",
   "metadata": {},
   "outputs": [
    {
     "data": {
      "text/plain": [
       "'/Users/zeynepenkavi/Downloads/overtrained_decisions_rawfmri/sub-601/ses-02/taskYN_subj601_day7_session3.mat'"
      ]
     },
     "execution_count": 17,
     "metadata": {},
     "output_type": "execute_result"
    }
   ],
   "source": [
    "cur_timing = timing_mats[10]\n",
    "cur_timing"
   ]
  },
  {
   "cell_type": "code",
   "execution_count": 18,
   "id": "4a7b4dd4-1c1c-448f-b1de-36a3b88e4854",
   "metadata": {},
   "outputs": [],
   "source": [
    "tmp = sio.loadmat(cur_timing, squeeze_me=True)"
   ]
  },
  {
   "cell_type": "code",
   "execution_count": 19,
   "id": "2ecd9b72-ea34-47ed-bfaa-5cd617c826b9",
   "metadata": {},
   "outputs": [],
   "source": [
    "timing = tmp['timing']\n",
    "timing_vals = timing.item()"
   ]
  },
  {
   "cell_type": "code",
   "execution_count": 20,
   "id": "711d92ac-d69b-415b-976b-8bc7a9579acf",
   "metadata": {},
   "outputs": [],
   "source": [
    "if len(timing.dtype)>6:\n",
    "    timing_keys = ['Begin', 'onset', 'feedbackOn', 'crossStart', 'crossEnd', 'End', 'session'] #session only exists for the later YN run\n",
    "    tmp_dict = dict(zip(timing_keys, timing_vals))\n",
    "    cut_dict = dict()\n",
    "    for k in timing_keys:\n",
    "        half_len = int(len(tmp_dict[k])/2)\n",
    "        cut_dict[k] = tmp_dict[k][-half_len:]\n",
    "else:\n",
    "    timing_keys = ['Begin', 'onset', 'feedbackOn', 'crossStart', 'crossEnd', 'End']\n",
    "    cut_dict = dict(zip(timing_keys, timing_vals))\n",
    "\n",
    "run_begin = float(cut_dict['Begin'])\n",
    "run_end = float(cut_dict['End']) - run_begin\n",
    "del cut_dict['Begin']\n",
    "del cut_dict['End']\n",
    "if 'session' in timing_keys:\n",
    "    del cut_dict['session']\n",
    "\n",
    "timing_df = pd.DataFrame(cut_dict) - run_begin\n",
    "stim_timing = pd.DataFrame({'onset': timing_df['onset'], 'duration':  timing_df['feedbackOn'] - timing_df['onset'], 'trial_type': 'stim'})\n",
    "feedback_timing = pd.DataFrame({'onset': timing_df['feedbackOn'], 'duration':  np.concatenate([np.array(timing_df['crossStart'][1:]), [run_end]]) - timing_df['feedbackOn'], 'trial_type': 'feedback'})\n",
    "cross_timing = pd.DataFrame({'onset': timing_df['crossStart'][1:], 'duration': timing_df['crossEnd'][1:] - timing_df['crossStart'][1:], 'trial_type': 'fixCross'})\n",
    "run_events = pd.concat([stim_timing, feedback_timing, cross_timing]).sort_values(by=['onset']).reset_index(drop=True)"
   ]
  },
  {
   "cell_type": "code",
   "execution_count": 21,
   "id": "e6fa6721-bae8-4ca7-bfaf-44c9840a872f",
   "metadata": {},
   "outputs": [
    {
     "data": {
      "text/html": [
       "<div>\n",
       "<style scoped>\n",
       "    .dataframe tbody tr th:only-of-type {\n",
       "        vertical-align: middle;\n",
       "    }\n",
       "\n",
       "    .dataframe tbody tr th {\n",
       "        vertical-align: top;\n",
       "    }\n",
       "\n",
       "    .dataframe thead th {\n",
       "        text-align: right;\n",
       "    }\n",
       "</style>\n",
       "<table border=\"1\" class=\"dataframe\">\n",
       "  <thead>\n",
       "    <tr style=\"text-align: right;\">\n",
       "      <th></th>\n",
       "      <th>onset</th>\n",
       "      <th>duration</th>\n",
       "      <th>trial_type</th>\n",
       "    </tr>\n",
       "  </thead>\n",
       "  <tbody>\n",
       "    <tr>\n",
       "      <th>0</th>\n",
       "      <td>10.010370</td>\n",
       "      <td>1.798840</td>\n",
       "      <td>stim</td>\n",
       "    </tr>\n",
       "    <tr>\n",
       "      <th>1</th>\n",
       "      <td>11.809210</td>\n",
       "      <td>1.031124</td>\n",
       "      <td>feedback</td>\n",
       "    </tr>\n",
       "    <tr>\n",
       "      <th>2</th>\n",
       "      <td>12.840334</td>\n",
       "      <td>3.574478</td>\n",
       "      <td>fixCross</td>\n",
       "    </tr>\n",
       "    <tr>\n",
       "      <th>3</th>\n",
       "      <td>16.414850</td>\n",
       "      <td>1.597711</td>\n",
       "      <td>stim</td>\n",
       "    </tr>\n",
       "    <tr>\n",
       "      <th>4</th>\n",
       "      <td>18.012561</td>\n",
       "      <td>1.033248</td>\n",
       "      <td>feedback</td>\n",
       "    </tr>\n",
       "    <tr>\n",
       "      <th>...</th>\n",
       "      <td>...</td>\n",
       "      <td>...</td>\n",
       "      <td>...</td>\n",
       "    </tr>\n",
       "    <tr>\n",
       "      <th>594</th>\n",
       "      <td>778.188129</td>\n",
       "      <td>1.479478</td>\n",
       "      <td>stim</td>\n",
       "    </tr>\n",
       "    <tr>\n",
       "      <th>595</th>\n",
       "      <td>779.667606</td>\n",
       "      <td>1.032012</td>\n",
       "      <td>feedback</td>\n",
       "    </tr>\n",
       "    <tr>\n",
       "      <th>596</th>\n",
       "      <td>780.699619</td>\n",
       "      <td>2.412931</td>\n",
       "      <td>fixCross</td>\n",
       "    </tr>\n",
       "    <tr>\n",
       "      <th>597</th>\n",
       "      <td>783.112559</td>\n",
       "      <td>1.236549</td>\n",
       "      <td>stim</td>\n",
       "    </tr>\n",
       "    <tr>\n",
       "      <th>598</th>\n",
       "      <td>784.349108</td>\n",
       "      <td>1.003614</td>\n",
       "      <td>feedback</td>\n",
       "    </tr>\n",
       "  </tbody>\n",
       "</table>\n",
       "<p>599 rows × 3 columns</p>\n",
       "</div>"
      ],
      "text/plain": [
       "          onset  duration trial_type\n",
       "0     10.010370  1.798840       stim\n",
       "1     11.809210  1.031124   feedback\n",
       "2     12.840334  3.574478   fixCross\n",
       "3     16.414850  1.597711       stim\n",
       "4     18.012561  1.033248   feedback\n",
       "..          ...       ...        ...\n",
       "594  778.188129  1.479478       stim\n",
       "595  779.667606  1.032012   feedback\n",
       "596  780.699619  2.412931   fixCross\n",
       "597  783.112559  1.236549       stim\n",
       "598  784.349108  1.003614   feedback\n",
       "\n",
       "[599 rows x 3 columns]"
      ]
     },
     "execution_count": 21,
     "metadata": {},
     "output_type": "execute_result"
    }
   ],
   "source": [
    "run_events"
   ]
  },
  {
   "cell_type": "code",
   "execution_count": null,
   "id": "8c38f1ac-2d87-43c5-a82c-38f91a33b4ea",
   "metadata": {},
   "outputs": [],
   "source": []
  }
 ],
 "metadata": {
  "kernelspec": {
   "display_name": "Python 3 (ipykernel)",
   "language": "python",
   "name": "python3"
  },
  "language_info": {
   "codemirror_mode": {
    "name": "ipython",
    "version": 3
   },
   "file_extension": ".py",
   "mimetype": "text/x-python",
   "name": "python",
   "nbconvert_exporter": "python",
   "pygments_lexer": "ipython3",
   "version": "3.8.3"
  }
 },
 "nbformat": 4,
 "nbformat_minor": 5
}
