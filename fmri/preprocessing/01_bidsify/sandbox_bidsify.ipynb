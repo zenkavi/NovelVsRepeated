{
 "cells": [
  {
   "cell_type": "code",
   "execution_count": 1,
   "id": "d110ccc2-1a89-4dc7-a570-402fe9479973",
   "metadata": {},
   "outputs": [],
   "source": [
    "import os\n",
    "import shutil"
   ]
  },
  {
   "cell_type": "code",
   "execution_count": 2,
   "id": "a48db4f0-3b7c-4bd9-a7a6-238c911870da",
   "metadata": {},
   "outputs": [],
   "source": [
    "raw_data_path = '/Users/zeynepenkavi/Downloads/overtrained_decisions_rawfmri'\n",
    "\n",
    "bids_path = '/Users/zeynepenkavi/Downloads/overtrained_decisions_bidsfmri'\n",
    "\n",
    "subnums = ['601', '609', '611', '619', '621', '629']\n",
    "\n",
    "sessions = ['01', '02', '03']\n",
    "\n",
    "data_types = ['anat', 'func']\n",
    "\n",
    "misc_files = ['dataset_description.json', 'participants.json', 'README', 'CHANGES', 'LICENSE']"
   ]
  },
  {
   "cell_type": "code",
   "execution_count": 3,
   "id": "4817d2f3-bf19-46ca-9ba5-08b992c18431",
   "metadata": {},
   "outputs": [],
   "source": [
    "from bidsify_helpers import make_bids_dirs, add_misc_bids_files"
   ]
  },
  {
   "cell_type": "code",
   "execution_count": 4,
   "id": "f8acc620-8cb0-472e-bf94-85ff3d7e696d",
   "metadata": {},
   "outputs": [],
   "source": [
    "make_bids_dirs()"
   ]
  },
  {
   "cell_type": "code",
   "execution_count": 5,
   "id": "df9d6680-7c41-4e3d-9e9b-82ec3da7b64e",
   "metadata": {},
   "outputs": [
    {
     "name": "stdout",
     "output_type": "stream",
     "text": [
      "dataset_description.json already exists in /Users/zeynepenkavi/Downloads/overtrained_decisions_bidsfmri\n",
      "participants.json already exists in /Users/zeynepenkavi/Downloads/overtrained_decisions_bidsfmri\n",
      "README already exists in /Users/zeynepenkavi/Downloads/overtrained_decisions_bidsfmri\n",
      "CHANGES already exists in /Users/zeynepenkavi/Downloads/overtrained_decisions_bidsfmri\n",
      "LICENSE already exists in /Users/zeynepenkavi/Downloads/overtrained_decisions_bidsfmri\n"
     ]
    }
   ],
   "source": [
    "add_misc_bids_files()"
   ]
  },
  {
   "cell_type": "code",
   "execution_count": 6,
   "id": "c040d56e-6fc9-4a52-a862-98ea6829f62a",
   "metadata": {},
   "outputs": [],
   "source": [
    "import nibabel as nib"
   ]
  },
  {
   "cell_type": "code",
   "execution_count": 7,
   "id": "b180cb63-d365-4183-87d0-382a9b8827f8",
   "metadata": {},
   "outputs": [],
   "source": [
    "img = nib.load('/Users/zeynepenkavi/Downloads/lombardi_overtrained_decisions_fmri/sub-45087/ses-30994/func/sub-45087_ses-30994_task-fmri_acq-3_rec-1_run-1_bold.nii.gz')"
   ]
  },
  {
   "cell_type": "code",
   "execution_count": 17,
   "id": "20fb2532-67e9-4606-be05-e8d813dda364",
   "metadata": {},
   "outputs": [
    {
     "data": {
      "text/plain": [
       "{'sizeof_hdr': array(348, dtype=int32),\n",
       " 'data_type': array(b'dsr      ', dtype='|S10'),\n",
       " 'db_name': array(b'/storage/idnas32/', dtype='|S18'),\n",
       " 'extents': array(0, dtype=int32),\n",
       " 'session_error': array(0, dtype=int16),\n",
       " 'regular': array(b'r', dtype='|S1'),\n",
       " 'dim_info': array(0, dtype=uint8),\n",
       " 'dim': array([  4,  80,  80,  42, 326,   1,   1,   1], dtype=int16),\n",
       " 'intent_p1': array(0., dtype=float32),\n",
       " 'intent_p2': array(0., dtype=float32),\n",
       " 'intent_p3': array(0., dtype=float32),\n",
       " 'intent_code': array(0, dtype=int16),\n",
       " 'datatype': array(4, dtype=int16),\n",
       " 'bitpix': array(16, dtype=int16),\n",
       " 'slice_start': array(0, dtype=int16),\n",
       " 'pixdim': array([1.       , 3.       , 3.       , 3.6      , 2.4499385, 1.       ,\n",
       "        1.       , 1.       ], dtype=float32),\n",
       " 'vox_offset': array(0., dtype=float32),\n",
       " 'scl_slope': array(nan, dtype=float32),\n",
       " 'scl_inter': array(nan, dtype=float32),\n",
       " 'slice_end': array(41, dtype=int16),\n",
       " 'slice_code': array(0, dtype=uint8),\n",
       " 'xyzt_units': array(10, dtype=uint8),\n",
       " 'cal_max': array(0., dtype=float32),\n",
       " 'cal_min': array(0., dtype=float32),\n",
       " 'slice_duration': array(0., dtype=float32),\n",
       " 'toffset': array(0., dtype=float32),\n",
       " 'glmax': array(32767, dtype=int32),\n",
       " 'glmin': array(0, dtype=int32),\n",
       " 'descrip': array(b'rec2nifti2.pl (15.3.18)  -s -s IBT Zurich: fMRI_Run1_split SENSE\\r\\n',\n",
       "       dtype='|S80'),\n",
       " 'aux_file': array(b'', dtype='|S24'),\n",
       " 'qform_code': array(1, dtype=int16),\n",
       " 'sform_code': array(1, dtype=int16),\n",
       " 'quatern_b': array(0., dtype=float32),\n",
       " 'quatern_c': array(-0.17364818, dtype=float32),\n",
       " 'quatern_d': array(0.9848077, dtype=float32),\n",
       " 'qoffset_x': array(120., dtype=float32),\n",
       " 'qoffset_y': array(138.61984, dtype=float32),\n",
       " 'qoffset_z': array(-29.998344, dtype=float32),\n",
       " 'srow_x': array([ -3.,   0.,   0., 120.], dtype=float32),\n",
       " 'srow_y': array([  0.       ,  -2.819078 ,  -1.2312725, 138.61984  ], dtype=float32),\n",
       " 'srow_z': array([  0.       ,  -1.0260605,   3.3828933, -29.998344 ], dtype=float32),\n",
       " 'intent_name': array(b'', dtype='|S16'),\n",
       " 'magic': array(b'n+1', dtype='|S4')}"
      ]
     },
     "execution_count": 17,
     "metadata": {},
     "output_type": "execute_result"
    }
   ],
   "source": [
    "dict(img.header)"
   ]
  },
  {
   "cell_type": "code",
   "execution_count": null,
   "id": "04b2144a-ae39-4559-bb02-b2a06b8ad1ff",
   "metadata": {},
   "outputs": [],
   "source": []
  },
  {
   "cell_type": "code",
   "execution_count": null,
   "id": "28b909ef-8611-4d89-a1a4-227a69934926",
   "metadata": {},
   "outputs": [],
   "source": []
  }
 ],
 "metadata": {
  "kernelspec": {
   "display_name": "Python 3 (ipykernel)",
   "language": "python",
   "name": "python3"
  },
  "language_info": {
   "codemirror_mode": {
    "name": "ipython",
    "version": 3
   },
   "file_extension": ".py",
   "mimetype": "text/x-python",
   "name": "python",
   "nbconvert_exporter": "python",
   "pygments_lexer": "ipython3",
   "version": "3.8.3"
  }
 },
 "nbformat": 4,
 "nbformat_minor": 5
}
