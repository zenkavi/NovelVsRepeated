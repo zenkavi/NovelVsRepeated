{
 "cells": [
  {
   "cell_type": "code",
   "execution_count": 1,
   "id": "d110ccc2-1a89-4dc7-a570-402fe9479973",
   "metadata": {},
   "outputs": [],
   "source": [
    "import os\n",
    "import shutil\n",
    "import glob\n",
    "import json\n",
    "import random\n",
    "import scipy.io as sio\n",
    "import pandas as pd"
   ]
  },
  {
   "cell_type": "code",
   "execution_count": 3,
   "id": "a48db4f0-3b7c-4bd9-a7a6-238c911870da",
   "metadata": {},
   "outputs": [],
   "source": [
    "raw_data_path = '/Users/zeynepenkavi/Downloads/overtrained_decisions_rawfmri'\n",
    "\n",
    "bids_path = '/Users/zeynepenkavi/Downloads/overtrained_decisions_bidsfmri'\n",
    "\n",
    "subnums = ['601', '609', '611', '619', '621', '629']\n",
    "\n",
    "sessions = ['01', '02', '03']\n",
    "\n",
    "data_types = ['anat', 'func']\n",
    "\n",
    "misc_files = ['dataset_description.json', 'participants.json', 'README', 'CHANGES']"
   ]
  },
  {
   "cell_type": "code",
   "execution_count": null,
   "id": "4817d2f3-bf19-46ca-9ba5-08b992c18431",
   "metadata": {},
   "outputs": [],
   "source": [
    "from bidsify_helpers import make_bids_dirs, add_misc_bids_files"
   ]
  },
  {
   "cell_type": "code",
   "execution_count": null,
   "id": "f8acc620-8cb0-472e-bf94-85ff3d7e696d",
   "metadata": {},
   "outputs": [],
   "source": [
    "make_bids_dirs()"
   ]
  },
  {
   "cell_type": "code",
   "execution_count": null,
   "id": "df9d6680-7c41-4e3d-9e9b-82ec3da7b64e",
   "metadata": {},
   "outputs": [],
   "source": [
    "add_misc_bids_files()"
   ]
  },
  {
   "cell_type": "code",
   "execution_count": 4,
   "id": "cfdf8fad-22e9-45f4-b112-e75cf9d143d6",
   "metadata": {},
   "outputs": [],
   "source": [
    "timing_mats = glob.glob(raw_data_path + '/*/*/*.mat')"
   ]
  },
  {
   "cell_type": "code",
   "execution_count": 5,
   "id": "518dc508-0056-438c-a018-b263e1d910e6",
   "metadata": {},
   "outputs": [
    {
     "data": {
      "text/plain": [
       "'/Users/zeynepenkavi/Downloads/overtrained_decisions_rawfmri/sub-609/ses-02/taskYN_subj609_day7_session4.mat'"
      ]
     },
     "execution_count": 5,
     "metadata": {},
     "output_type": "execute_result"
    }
   ],
   "source": [
    "timing_mats[1]"
   ]
  },
  {
   "cell_type": "code",
   "execution_count": 33,
   "id": "4a7b4dd4-1c1c-448f-b1de-36a3b88e4854",
   "metadata": {},
   "outputs": [],
   "source": [
    "tmp = sio.loadmat(timing_mats[1], squeeze_me=True)"
   ]
  },
  {
   "cell_type": "code",
   "execution_count": 34,
   "id": "55cd873f-0ed3-437e-b65d-acd044e33791",
   "metadata": {},
   "outputs": [
    {
     "data": {
      "text/plain": [
       "dict_keys(['__header__', '__version__', '__globals__', 'mydata', 'timing'])"
      ]
     },
     "execution_count": 34,
     "metadata": {},
     "output_type": "execute_result"
    }
   ],
   "source": [
    "tmp.keys()"
   ]
  },
  {
   "cell_type": "code",
   "execution_count": 35,
   "id": "2ecd9b72-ea34-47ed-bfaa-5cd617c826b9",
   "metadata": {},
   "outputs": [],
   "source": [
    "timing = tmp['timing']"
   ]
  },
  {
   "cell_type": "code",
   "execution_count": 36,
   "id": "1e170b59-afbe-4b0f-841c-da09d462ae13",
   "metadata": {},
   "outputs": [
    {
     "data": {
      "text/plain": [
       "dtype([('Begin', 'O'), ('onset', 'O'), ('feedbackOn', 'O'), ('crossStart', 'O'), ('crossEnd', 'O'), ('End', 'O'), ('session', 'O')])"
      ]
     },
     "execution_count": 36,
     "metadata": {},
     "output_type": "execute_result"
    }
   ],
   "source": [
    "timing.dtype"
   ]
  },
  {
   "cell_type": "code",
   "execution_count": 37,
   "id": "88643c0f-5cbc-4dd5-b7ae-ab0afae3ca52",
   "metadata": {},
   "outputs": [
    {
     "data": {
      "text/plain": [
       "7"
      ]
     },
     "execution_count": 37,
     "metadata": {},
     "output_type": "execute_result"
    }
   ],
   "source": [
    "len(timing.dtype)"
   ]
  },
  {
   "cell_type": "code",
   "execution_count": 105,
   "id": "711d92ac-d69b-415b-976b-8bc7a9579acf",
   "metadata": {},
   "outputs": [],
   "source": [
    "# timing_keys = ['Begin', 'onset', 'feedbackOn', 'crossStart', 'crossEnd', 'End']\n",
    "timing_keys = ['Begin', 'onset', 'feedbackOn', 'crossStart', 'crossEnd', 'End', 'session'] #session only exists for the later YN run\n",
    "timing_vals = timing.item()\n",
    "\n",
    "tmp_dict = dict(zip(timing_keys, timing_vals))\n",
    "cut_dict = dict()\n",
    "for k in timing_keys:\n",
    "    half_len = int(len(tmp_dict[k])/2)\n",
    "    cut_dict[k] = tmp_dict[k][-half_len:]"
   ]
  },
  {
   "cell_type": "code",
   "execution_count": 106,
   "id": "dec2ede3-42bf-4aae-981a-b09060e33dbc",
   "metadata": {},
   "outputs": [],
   "source": [
    "# cut_dict"
   ]
  },
  {
   "cell_type": "code",
   "execution_count": 107,
   "id": "e6fa6721-bae8-4ca7-bfaf-44c9840a872f",
   "metadata": {},
   "outputs": [],
   "source": [
    "# pd.melt(pd.DataFrame(dict(zip(timing_keys, timing_vals)))).drop_duplicates().sort_values(by=['value'])\n",
    "\n",
    "run_begin = cut_dict['Begin']\n",
    "run_end = cut_dict['End'] - cut_dict['Begin'] \n",
    "del cut_dict['Begin']\n",
    "del cut_dict['End']\n",
    "del cut_dict['session']"
   ]
  },
  {
   "cell_type": "code",
   "execution_count": 108,
   "id": "41d41189-7b1e-4b90-88ba-c84e2e62a95e",
   "metadata": {},
   "outputs": [
    {
     "data": {
      "text/plain": [
       "array([5918.289145])"
      ]
     },
     "execution_count": 108,
     "metadata": {},
     "output_type": "execute_result"
    }
   ],
   "source": [
    "run_begin"
   ]
  },
  {
   "cell_type": "code",
   "execution_count": 109,
   "id": "45cf4ff5-5493-4dec-b034-479140d3b1c1",
   "metadata": {},
   "outputs": [
    {
     "data": {
      "text/plain": [
       "array([832.0858695])"
      ]
     },
     "execution_count": 109,
     "metadata": {},
     "output_type": "execute_result"
    }
   ],
   "source": [
    "run_end"
   ]
  },
  {
   "cell_type": "code",
   "execution_count": 110,
   "id": "8f08d408-4f1f-4f9c-94dc-fa984d833c53",
   "metadata": {},
   "outputs": [
    {
     "data": {
      "text/html": [
       "<div>\n",
       "<style scoped>\n",
       "    .dataframe tbody tr th:only-of-type {\n",
       "        vertical-align: middle;\n",
       "    }\n",
       "\n",
       "    .dataframe tbody tr th {\n",
       "        vertical-align: top;\n",
       "    }\n",
       "\n",
       "    .dataframe thead th {\n",
       "        text-align: right;\n",
       "    }\n",
       "</style>\n",
       "<table border=\"1\" class=\"dataframe\">\n",
       "  <thead>\n",
       "    <tr style=\"text-align: right;\">\n",
       "      <th></th>\n",
       "      <th>onset</th>\n",
       "      <th>feedbackOn</th>\n",
       "      <th>crossStart</th>\n",
       "      <th>crossEnd</th>\n",
       "    </tr>\n",
       "  </thead>\n",
       "  <tbody>\n",
       "    <tr>\n",
       "      <th>0</th>\n",
       "      <td>10.016965</td>\n",
       "      <td>12.395206</td>\n",
       "      <td>-5918.289145</td>\n",
       "      <td>10.016927</td>\n",
       "    </tr>\n",
       "    <tr>\n",
       "      <th>1</th>\n",
       "      <td>14.201438</td>\n",
       "      <td>15.456594</td>\n",
       "      <td>13.430895</td>\n",
       "      <td>14.201429</td>\n",
       "    </tr>\n",
       "    <tr>\n",
       "      <th>2</th>\n",
       "      <td>16.998732</td>\n",
       "      <td>18.612107</td>\n",
       "      <td>16.481977</td>\n",
       "      <td>16.998724</td>\n",
       "    </tr>\n",
       "    <tr>\n",
       "      <th>3</th>\n",
       "      <td>23.693180</td>\n",
       "      <td>25.060359</td>\n",
       "      <td>19.636746</td>\n",
       "      <td>23.693156</td>\n",
       "    </tr>\n",
       "    <tr>\n",
       "      <th>4</th>\n",
       "      <td>26.607634</td>\n",
       "      <td>27.647158</td>\n",
       "      <td>26.090756</td>\n",
       "      <td>26.607626</td>\n",
       "    </tr>\n",
       "    <tr>\n",
       "      <th>...</th>\n",
       "      <td>...</td>\n",
       "      <td>...</td>\n",
       "      <td>...</td>\n",
       "      <td>...</td>\n",
       "    </tr>\n",
       "    <tr>\n",
       "      <th>195</th>\n",
       "      <td>809.000927</td>\n",
       "      <td>817.811072</td>\n",
       "      <td>806.280660</td>\n",
       "      <td>809.000918</td>\n",
       "    </tr>\n",
       "    <tr>\n",
       "      <th>196</th>\n",
       "      <td>819.357981</td>\n",
       "      <td>820.544537</td>\n",
       "      <td>818.842362</td>\n",
       "      <td>819.357973</td>\n",
       "    </tr>\n",
       "    <tr>\n",
       "      <th>197</th>\n",
       "      <td>822.093865</td>\n",
       "      <td>823.226760</td>\n",
       "      <td>821.577397</td>\n",
       "      <td>822.093857</td>\n",
       "    </tr>\n",
       "    <tr>\n",
       "      <th>198</th>\n",
       "      <td>826.078298</td>\n",
       "      <td>827.908183</td>\n",
       "      <td>824.262851</td>\n",
       "      <td>826.078289</td>\n",
       "    </tr>\n",
       "    <tr>\n",
       "      <th>199</th>\n",
       "      <td>829.450657</td>\n",
       "      <td>831.075858</td>\n",
       "      <td>828.934531</td>\n",
       "      <td>829.450648</td>\n",
       "    </tr>\n",
       "  </tbody>\n",
       "</table>\n",
       "<p>200 rows × 4 columns</p>\n",
       "</div>"
      ],
      "text/plain": [
       "          onset  feedbackOn   crossStart    crossEnd\n",
       "0     10.016965   12.395206 -5918.289145   10.016927\n",
       "1     14.201438   15.456594    13.430895   14.201429\n",
       "2     16.998732   18.612107    16.481977   16.998724\n",
       "3     23.693180   25.060359    19.636746   23.693156\n",
       "4     26.607634   27.647158    26.090756   26.607626\n",
       "..          ...         ...          ...         ...\n",
       "195  809.000927  817.811072   806.280660  809.000918\n",
       "196  819.357981  820.544537   818.842362  819.357973\n",
       "197  822.093865  823.226760   821.577397  822.093857\n",
       "198  826.078298  827.908183   824.262851  826.078289\n",
       "199  829.450657  831.075858   828.934531  829.450648\n",
       "\n",
       "[200 rows x 4 columns]"
      ]
     },
     "execution_count": 110,
     "metadata": {},
     "output_type": "execute_result"
    }
   ],
   "source": [
    "timing_df = pd.DataFrame(cut_dict) - run_begin[0]\n",
    "\n",
    "timing_df"
   ]
  },
  {
   "cell_type": "code",
   "execution_count": 115,
   "id": "17757441-0f9b-4d00-ae3c-65ec73938059",
   "metadata": {},
   "outputs": [
    {
     "data": {
      "text/plain": [
       "832.0858695000006"
      ]
     },
     "execution_count": 115,
     "metadata": {},
     "output_type": "execute_result"
    }
   ],
   "source": [
    "run_end[0]"
   ]
  },
  {
   "cell_type": "code",
   "execution_count": 124,
   "id": "1088a2dc-a763-4dc9-b989-0b5b2581068a",
   "metadata": {},
   "outputs": [
    {
     "data": {
      "text/plain": [
       "1      0.770535\n",
       "2      0.516747\n",
       "3      4.056410\n",
       "4      0.516870\n",
       "5      2.285334\n",
       "         ...   \n",
       "195    2.720258\n",
       "196    0.515611\n",
       "197    0.516459\n",
       "198    1.815438\n",
       "199    0.516117\n",
       "Length: 199, dtype: float64"
      ]
     },
     "execution_count": 124,
     "metadata": {},
     "output_type": "execute_result"
    }
   ],
   "source": [
    "# np.array(timing_df['feedbackOn']) \n",
    "timing_df['crossEnd'][1:] - timing_df['crossStart'][1:]\n",
    "# np.array(timing_df['crossStart'], run_end[0])"
   ]
  },
  {
   "cell_type": "code",
   "execution_count": 127,
   "id": "e6409500-75a6-4e26-9a4b-9714d9e6c1ea",
   "metadata": {},
   "outputs": [
    {
     "data": {
      "text/html": [
       "<div>\n",
       "<style scoped>\n",
       "    .dataframe tbody tr th:only-of-type {\n",
       "        vertical-align: middle;\n",
       "    }\n",
       "\n",
       "    .dataframe tbody tr th {\n",
       "        vertical-align: top;\n",
       "    }\n",
       "\n",
       "    .dataframe thead th {\n",
       "        text-align: right;\n",
       "    }\n",
       "</style>\n",
       "<table border=\"1\" class=\"dataframe\">\n",
       "  <thead>\n",
       "    <tr style=\"text-align: right;\">\n",
       "      <th></th>\n",
       "      <th>onset</th>\n",
       "      <th>duration</th>\n",
       "      <th>trial_type</th>\n",
       "    </tr>\n",
       "  </thead>\n",
       "  <tbody>\n",
       "    <tr>\n",
       "      <th>0</th>\n",
       "      <td>10.016965</td>\n",
       "      <td>2.378240</td>\n",
       "      <td>stim</td>\n",
       "    </tr>\n",
       "    <tr>\n",
       "      <th>1</th>\n",
       "      <td>12.395206</td>\n",
       "      <td>1.035689</td>\n",
       "      <td>feedback</td>\n",
       "    </tr>\n",
       "    <tr>\n",
       "      <th>2</th>\n",
       "      <td>13.430895</td>\n",
       "      <td>0.770535</td>\n",
       "      <td>fixCross</td>\n",
       "    </tr>\n",
       "    <tr>\n",
       "      <th>3</th>\n",
       "      <td>14.201438</td>\n",
       "      <td>1.255156</td>\n",
       "      <td>stim</td>\n",
       "    </tr>\n",
       "    <tr>\n",
       "      <th>4</th>\n",
       "      <td>15.456594</td>\n",
       "      <td>1.025383</td>\n",
       "      <td>feedback</td>\n",
       "    </tr>\n",
       "    <tr>\n",
       "      <th>...</th>\n",
       "      <td>...</td>\n",
       "      <td>...</td>\n",
       "      <td>...</td>\n",
       "    </tr>\n",
       "    <tr>\n",
       "      <th>594</th>\n",
       "      <td>826.078298</td>\n",
       "      <td>1.829885</td>\n",
       "      <td>stim</td>\n",
       "    </tr>\n",
       "    <tr>\n",
       "      <th>595</th>\n",
       "      <td>827.908183</td>\n",
       "      <td>1.026348</td>\n",
       "      <td>feedback</td>\n",
       "    </tr>\n",
       "    <tr>\n",
       "      <th>596</th>\n",
       "      <td>828.934531</td>\n",
       "      <td>0.516117</td>\n",
       "      <td>fixCross</td>\n",
       "    </tr>\n",
       "    <tr>\n",
       "      <th>597</th>\n",
       "      <td>829.450657</td>\n",
       "      <td>1.625201</td>\n",
       "      <td>stim</td>\n",
       "    </tr>\n",
       "    <tr>\n",
       "      <th>598</th>\n",
       "      <td>831.075858</td>\n",
       "      <td>1.010012</td>\n",
       "      <td>feedback</td>\n",
       "    </tr>\n",
       "  </tbody>\n",
       "</table>\n",
       "<p>599 rows × 3 columns</p>\n",
       "</div>"
      ],
      "text/plain": [
       "          onset  duration trial_type\n",
       "0     10.016965  2.378240       stim\n",
       "1     12.395206  1.035689   feedback\n",
       "2     13.430895  0.770535   fixCross\n",
       "3     14.201438  1.255156       stim\n",
       "4     15.456594  1.025383   feedback\n",
       "..          ...       ...        ...\n",
       "594  826.078298  1.829885       stim\n",
       "595  827.908183  1.026348   feedback\n",
       "596  828.934531  0.516117   fixCross\n",
       "597  829.450657  1.625201       stim\n",
       "598  831.075858  1.010012   feedback\n",
       "\n",
       "[599 rows x 3 columns]"
      ]
     },
     "execution_count": 127,
     "metadata": {},
     "output_type": "execute_result"
    }
   ],
   "source": [
    "\n",
    "stim_timing = pd.DataFrame({'onset': timing_df['onset'], 'duration':  timing_df['feedbackOn'] - timing_df['onset'], 'trial_type': 'stim'})\n",
    "feedback_timing = pd.DataFrame({'onset': timing_df['feedbackOn'], 'duration':  np.concatenate([np.array(timing_df['crossStart'][1:]), run_end]) - timing_df['feedbackOn'], 'trial_type': 'feedback'})\n",
    "cross_timing = pd.DataFrame({'onset': timing_df['crossStart'][1:], 'duration': timing_df['crossEnd'][1:] - timing_df['crossStart'][1:], 'trial_type': 'fixCross'})\n",
    "run_events = pd.concat([stim_timing, feedback_timing, cross_timing]).sort_values(by=['onset']).reset_index(drop=True)\n",
    "\n",
    "run_events.to_csv('example.tsv', sep=\"\\t\")"
   ]
  },
  {
   "cell_type": "code",
   "execution_count": null,
   "id": "8c38f1ac-2d87-43c5-a82c-38f91a33b4ea",
   "metadata": {},
   "outputs": [],
   "source": []
  }
 ],
 "metadata": {
  "kernelspec": {
   "display_name": "Python 3 (ipykernel)",
   "language": "python",
   "name": "python3"
  },
  "language_info": {
   "codemirror_mode": {
    "name": "ipython",
    "version": 3
   },
   "file_extension": ".py",
   "mimetype": "text/x-python",
   "name": "python",
   "nbconvert_exporter": "python",
   "pygments_lexer": "ipython3",
   "version": "3.8.3"
  }
 },
 "nbformat": 4,
 "nbformat_minor": 5
}
