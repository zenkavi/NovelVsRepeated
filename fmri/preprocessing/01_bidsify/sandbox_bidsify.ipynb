{
 "cells": [
  {
   "cell_type": "code",
   "execution_count": 1,
   "id": "d110ccc2-1a89-4dc7-a570-402fe9479973",
   "metadata": {},
   "outputs": [],
   "source": [
    "import os\n",
    "import shutil"
   ]
  },
  {
   "cell_type": "code",
   "execution_count": 2,
   "id": "a48db4f0-3b7c-4bd9-a7a6-238c911870da",
   "metadata": {},
   "outputs": [],
   "source": [
    "raw_data_path = '/Users/zeynepenkavi/Downloads/overtrained_decisions_rawfmri'\n",
    "\n",
    "bids_path = '/Users/zeynepenkavi/Downloads/overtrained_decisions_bidsfmri'\n",
    "\n",
    "subnums = ['601', '609', '611', '619', '621', '629']\n",
    "\n",
    "sessions = ['01', '02', '03']\n",
    "\n",
    "data_types = ['anat', 'func']\n",
    "\n",
    "misc_files = ['dataset_description.json', 'participants.json', 'README', 'CHANGES', 'LICENSE']"
   ]
  },
  {
   "cell_type": "code",
   "execution_count": 3,
   "id": "4817d2f3-bf19-46ca-9ba5-08b992c18431",
   "metadata": {},
   "outputs": [],
   "source": [
    "from bidsify_helpers import make_bids_dirs, add_misc_bids_files"
   ]
  },
  {
   "cell_type": "code",
   "execution_count": 4,
   "id": "f8acc620-8cb0-472e-bf94-85ff3d7e696d",
   "metadata": {},
   "outputs": [],
   "source": [
    "make_bids_dirs()"
   ]
  },
  {
   "cell_type": "code",
   "execution_count": 5,
   "id": "df9d6680-7c41-4e3d-9e9b-82ec3da7b64e",
   "metadata": {},
   "outputs": [
    {
     "name": "stdout",
     "output_type": "stream",
     "text": [
      "dataset_description.json already exists in /Users/zeynepenkavi/Downloads/overtrained_decisions_bidsfmri\n",
      "participants.json already exists in /Users/zeynepenkavi/Downloads/overtrained_decisions_bidsfmri\n",
      "README already exists in /Users/zeynepenkavi/Downloads/overtrained_decisions_bidsfmri\n",
      "CHANGES already exists in /Users/zeynepenkavi/Downloads/overtrained_decisions_bidsfmri\n",
      "LICENSE already exists in /Users/zeynepenkavi/Downloads/overtrained_decisions_bidsfmri\n"
     ]
    }
   ],
   "source": [
    "add_misc_bids_files()"
   ]
  },
  {
   "cell_type": "code",
   "execution_count": null,
   "id": "c040d56e-6fc9-4a52-a862-98ea6829f62a",
   "metadata": {},
   "outputs": [],
   "source": []
  }
 ],
 "metadata": {
  "kernelspec": {
   "display_name": "Python 3 (ipykernel)",
   "language": "python",
   "name": "python3"
  },
  "language_info": {
   "codemirror_mode": {
    "name": "ipython",
    "version": 3
   },
   "file_extension": ".py",
   "mimetype": "text/x-python",
   "name": "python",
   "nbconvert_exporter": "python",
   "pygments_lexer": "ipython3",
   "version": "3.8.3"
  }
 },
 "nbformat": 4,
 "nbformat_minor": 5
}
