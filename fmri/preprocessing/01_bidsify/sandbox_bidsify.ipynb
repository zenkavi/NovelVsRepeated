{
 "cells": [
  {
   "cell_type": "code",
   "execution_count": null,
   "id": "d110ccc2-1a89-4dc7-a570-402fe9479973",
   "metadata": {},
   "outputs": [],
   "source": [
    "import os\n",
    "import shutil\n",
    "import glob\n",
    "import json\n",
    "import random\n",
    "import scipy.io as sio\n",
    "import pandas as pd\n",
    "import numpy as np"
   ]
  },
  {
   "cell_type": "code",
   "execution_count": null,
   "id": "a48db4f0-3b7c-4bd9-a7a6-238c911870da",
   "metadata": {},
   "outputs": [],
   "source": [
    "raw_data_path = '/Users/zeynepenkavi/Downloads/overtrained_decisions_rawfmri'\n",
    "\n",
    "bids_path = '/Users/zeynepenkavi/Downloads/overtrained_decisions_bidsfmri'\n",
    "\n",
    "subnums = ['601', '609', '611', '619', '621', '629']\n",
    "\n",
    "sessions = ['01', '02', '03']\n",
    "\n",
    "data_types = ['anat', 'func']\n",
    "\n",
    "misc_files = ['dataset_description.json', 'participants.json', 'README', 'CHANGES']"
   ]
  },
  {
   "cell_type": "code",
   "execution_count": null,
   "id": "c7278cb1-09d9-49e8-8e2b-da728afe4747",
   "metadata": {},
   "outputs": [],
   "source": [
    "from bidsify_helpers import bidsify_func_events"
   ]
  },
  {
   "cell_type": "code",
   "execution_count": null,
   "id": "36f98911-2520-4003-a602-b1390d81f3e8",
   "metadata": {},
   "outputs": [],
   "source": [
    "bidsify_func_events(raw_path_ = raw_data_path, bids_path_ = bids_path)"
   ]
  },
  {
   "cell_type": "code",
   "execution_count": null,
   "id": "316bb306-2dc6-4ffe-9c6f-0ed751bc804b",
   "metadata": {},
   "outputs": [],
   "source": []
  }
 ],
 "metadata": {
  "kernelspec": {
   "display_name": "Python 3 (ipykernel)",
   "language": "python",
   "name": "python3"
  },
  "language_info": {
   "codemirror_mode": {
    "name": "ipython",
    "version": 3
   },
   "file_extension": ".py",
   "mimetype": "text/x-python",
   "name": "python",
   "nbconvert_exporter": "python",
   "pygments_lexer": "ipython3",
   "version": "3.8.3"
  }
 },
 "nbformat": 4,
 "nbformat_minor": 5
}
