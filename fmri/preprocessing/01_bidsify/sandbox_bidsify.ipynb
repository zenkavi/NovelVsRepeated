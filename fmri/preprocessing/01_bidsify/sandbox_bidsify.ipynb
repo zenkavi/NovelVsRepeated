{
 "cells": [
  {
   "cell_type": "code",
   "execution_count": null,
   "id": "d110ccc2-1a89-4dc7-a570-402fe9479973",
   "metadata": {},
   "outputs": [],
   "source": [
    "import os\n",
    "import shutil"
   ]
  },
  {
   "cell_type": "code",
   "execution_count": null,
   "id": "a48db4f0-3b7c-4bd9-a7a6-238c911870da",
   "metadata": {},
   "outputs": [],
   "source": [
    "raw_data_path = '/Users/zeynepenkavi/Downloads/overtrained_decisions_rawfmri'\n",
    "\n",
    "bids_path = '/Users/zeynepenkavi/Downloads/overtrained_decisions_bidsfmri'\n",
    "\n",
    "subnums = ['601', '609', '611', '619', '621', '629']\n",
    "\n",
    "sessions = ['01', '02', '03']\n",
    "\n",
    "data_types = ['anat', 'func']\n",
    "\n",
    "misc_files = ['dataset_description.json', 'participants.json', 'README', 'CHANGES', 'LICENSE']"
   ]
  },
  {
   "cell_type": "code",
   "execution_count": null,
   "id": "4817d2f3-bf19-46ca-9ba5-08b992c18431",
   "metadata": {},
   "outputs": [],
   "source": [
    "from bidsify_helpers import make_bids_dirs, add_misc_bids_files"
   ]
  },
  {
   "cell_type": "code",
   "execution_count": null,
   "id": "f8acc620-8cb0-472e-bf94-85ff3d7e696d",
   "metadata": {},
   "outputs": [],
   "source": [
    "make_bids_dirs()"
   ]
  },
  {
   "cell_type": "code",
   "execution_count": null,
   "id": "df9d6680-7c41-4e3d-9e9b-82ec3da7b64e",
   "metadata": {},
   "outputs": [],
   "source": [
    "add_misc_bids_files()"
   ]
  },
  {
   "cell_type": "code",
   "execution_count": null,
   "id": "c040d56e-6fc9-4a52-a862-98ea6829f62a",
   "metadata": {},
   "outputs": [],
   "source": [
    "import nibabel as nib"
   ]
  },
  {
   "cell_type": "code",
   "execution_count": null,
   "id": "b180cb63-d365-4183-87d0-382a9b8827f8",
   "metadata": {},
   "outputs": [],
   "source": [
    "img = nib.load('/Users/zeynepenkavi/Downloads/lombardi_overtrained_decisions_fmri/sub-45087/ses-30994/func/sub-45087_ses-30994_task-fmri_acq-3_rec-1_run-1_bold.nii.gz')"
   ]
  },
  {
   "cell_type": "code",
   "execution_count": null,
   "id": "20fb2532-67e9-4606-be05-e8d813dda364",
   "metadata": {},
   "outputs": [],
   "source": [
    "dict(img.header)"
   ]
  },
  {
   "cell_type": "code",
   "execution_count": null,
   "id": "04b2144a-ae39-4559-bb02-b2a06b8ad1ff",
   "metadata": {},
   "outputs": [],
   "source": [
    "cur_sub = '601'\n",
    "cur_ses = '01'\n",
    "raw_path_ = raw_data_path\n",
    "cur_raw_dir = os.path.join(raw_path_, 'sub-'+cur_sub, 'ses-'+cur_ses)"
   ]
  },
  {
   "cell_type": "code",
   "execution_count": null,
   "id": "de657839-a13d-4460-afd1-8179fb1bf8e7",
   "metadata": {},
   "outputs": [],
   "source": [
    "bids_path_ = bids_path\n",
    "cur_bids_dir = os.path.join(bids_path_, 'sub-'+cur_sub, 'ses-'+cur_ses, 'func')"
   ]
  },
  {
   "cell_type": "code",
   "execution_count": null,
   "id": "48fc161c-f597-44a7-8cdd-da720ba20133",
   "metadata": {},
   "outputs": [],
   "source": [
    "if not (os.path.exists(cur_bids_dir)):\n",
    "    print('Creating bids path: ' + cur_bids_dir)\n",
    "    os.makedirs(cur_bids_dir)"
   ]
  },
  {
   "cell_type": "code",
   "execution_count": null,
   "id": "28b909ef-8611-4d89-a1a4-227a69934926",
   "metadata": {},
   "outputs": [],
   "source": [
    "cur_raw_files = os.listdir(cur_raw_dir)\n",
    "cur_raw_files"
   ]
  },
  {
   "cell_type": "code",
   "execution_count": null,
   "id": "8241ad39-0307-406e-b9e2-62e16a287db1",
   "metadata": {},
   "outputs": [],
   "source": [
    "func_key_ = 'fmri'\n",
    "[i for i in cur_raw_files if func_key_ in i]"
   ]
  },
  {
   "cell_type": "code",
   "execution_count": null,
   "id": "ec2afca5-8f60-4edc-ac1f-c7f87164c5f6",
   "metadata": {},
   "outputs": [],
   "source": [
    "cur_raw_files = os.listdir(cur_raw_dir)\n",
    "cur_func_files = [i for i in cur_raw_files if func_key_ in i]\n",
    "for cur_func_file in cur_func_files:\n",
    "    shutil.copy(os.path.join(cur_raw_dir, cur_func_file), os.path.join(cur_bids_dir, cur_func_file))"
   ]
  },
  {
   "cell_type": "code",
   "execution_count": null,
   "id": "1b306da3-3519-43f2-b85d-db3d65f27f74",
   "metadata": {},
   "outputs": [],
   "source": [
    "bids_path"
   ]
  },
  {
   "cell_type": "code",
   "execution_count": null,
   "id": "3b637c4b-b52f-41b1-9f7e-a2a6c6c9a9c2",
   "metadata": {},
   "outputs": [],
   "source": [
    "import glob"
   ]
  },
  {
   "cell_type": "code",
   "execution_count": null,
   "id": "d2c1b561-8b04-4e5c-9fbe-76f109ad84d8",
   "metadata": {},
   "outputs": [],
   "source": [
    "all_func_sidecars = glob.glob(bids_path_ + '/*/*/func/*_bold.json')"
   ]
  },
  {
   "cell_type": "code",
   "execution_count": null,
   "id": "dc289971-9f34-42fa-940c-c85d71745595",
   "metadata": {},
   "outputs": [],
   "source": [
    "os.path.basename(all_func_sidecars[0])"
   ]
  },
  {
   "cell_type": "code",
   "execution_count": null,
   "id": "2b49bb30-04fc-484e-b5ca-f4b350d08a05",
   "metadata": {},
   "outputs": [],
   "source": [
    "import json"
   ]
  },
  {
   "cell_type": "code",
   "execution_count": null,
   "id": "2a5595f4-a813-47e9-be69-945090d0a17c",
   "metadata": {},
   "outputs": [],
   "source": [
    "f = open(all_func_sidecars[0],\"r\")\n",
    "data = f.read()\n",
    "tmp = json.loads(data)"
   ]
  },
  {
   "cell_type": "code",
   "execution_count": null,
   "id": "c83ccd36-1dd8-42d3-82b7-925fdd27cf27",
   "metadata": {},
   "outputs": [],
   "source": [
    "tmp"
   ]
  },
  {
   "cell_type": "code",
   "execution_count": null,
   "id": "b1929b56-8f8a-4f89-89bd-89cb64e8653f",
   "metadata": {},
   "outputs": [],
   "source": [
    "SliceTiming = [0.0, 0.05833, 0.11666, 0.17499, 0.23332, 0.29165, 0.34998, 0.40831, 0.46664, 0.52497, 0.5833, 0.64163, 0.69996, 0.75829, 0.81662, 0.87495, 0.93328, 0.99161, 1.04994, 1.10827, 1.1666, 1.22493, 1.28326, 1.34159, 1.39992, 1.45825, 1.51658, 1.57491, 1.63324, 1.69157, 1.7499, 1.80823, 1.86656, 1.92489, 1.98322, 2.04155, 2.09988, 2.15821, 2.21654, 2.27487, 2.3332, 2.39153]"
   ]
  },
  {
   "cell_type": "code",
   "execution_count": null,
   "id": "060d7a57-6ee1-4e4f-9fc0-692ea657f55c",
   "metadata": {},
   "outputs": [],
   "source": [
    "add_fields = {'yesNo': {'TaskName': 'yesNo', 'SliceTiming': SliceTiming}, 'binaryChoice': {'TaskName': 'binaryChoice', 'SliceTiming': SliceTiming}}"
   ]
  },
  {
   "cell_type": "code",
   "execution_count": null,
   "id": "4f114a0c-8fa1-43f5-bcf2-3564cd186f4d",
   "metadata": {},
   "outputs": [],
   "source": [
    "# cur_task = ...\n",
    "if 'yesNo' in os.path.basename(all_func_sidecars[0]):\n",
    "    cur_task = 'yesNo'\n",
    "else:\n",
    "    cur_task = 'binaryChoice'\n",
    "    "
   ]
  },
  {
   "cell_type": "code",
   "execution_count": null,
   "id": "8aeeefe7-98fc-4fe6-958c-c540893659a1",
   "metadata": {},
   "outputs": [],
   "source": [
    "tmp.update(add_fields[cur_task])"
   ]
  },
  {
   "cell_type": "code",
   "execution_count": null,
   "id": "72e92a66-8ff4-4c60-b66a-555330509dc8",
   "metadata": {},
   "outputs": [],
   "source": [
    "tmp"
   ]
  },
  {
   "cell_type": "code",
   "execution_count": null,
   "id": "2153fe07-bda6-402a-8d80-fc11ce008d0c",
   "metadata": {},
   "outputs": [],
   "source": [
    "tempfile = os.path.join(os.path.dirname(all_func_sidecars[0]), 'tmp.json')\n",
    "with open(tempfile, 'w') as f:\n",
    "    json.dump(tmp, f, indent=4)\n",
    "\n",
    "# rename temporary file replacing old file\n",
    "# os.rename(tempfile, filename)"
   ]
  },
  {
   "cell_type": "code",
   "execution_count": null,
   "id": "af3bdaf9-98c7-4f1c-a070-7e0fe044e5e9",
   "metadata": {},
   "outputs": [],
   "source": [
    "all_func_sidecars[0]"
   ]
  },
  {
   "cell_type": "code",
   "execution_count": null,
   "id": "1a7e8a06-d670-42c7-8cbd-4877f9148a3e",
   "metadata": {},
   "outputs": [],
   "source": [
    "os.rename(tempfile, all_func_sidecars[0])"
   ]
  },
  {
   "cell_type": "code",
   "execution_count": null,
   "id": "e24ff371-5c21-41bd-b1d6-c2e38b70b133",
   "metadata": {},
   "outputs": [],
   "source": [
    "'SliceTiming' in tmp.keys()"
   ]
  },
  {
   "cell_type": "code",
   "execution_count": null,
   "id": "5c3dd9f0-036e-44c1-8b33-3dadb85f930b",
   "metadata": {},
   "outputs": [],
   "source": [
    "import random"
   ]
  },
  {
   "cell_type": "code",
   "execution_count": null,
   "id": "246e7e95-537f-48b5-9f89-5383f3f86d2b",
   "metadata": {},
   "outputs": [],
   "source": [
    "random.randint(0, 1000)"
   ]
  },
  {
   "cell_type": "code",
   "execution_count": null,
   "id": "783f79ba-03f6-4f37-904a-ba813ed416ce",
   "metadata": {},
   "outputs": [],
   "source": [
    "'tmp'+str(random.randint(0, 1000))+'.json'"
   ]
  },
  {
   "cell_type": "code",
   "execution_count": null,
   "id": "0be1707c-5ac5-4c9d-b2c2-db361cbdcd65",
   "metadata": {},
   "outputs": [],
   "source": [
    "os.path.join(os.path.dirname(all_func_sidecars[0]), 'tmp'+str(random.randint(0, 1000))+'.json')"
   ]
  },
  {
   "cell_type": "code",
   "execution_count": null,
   "id": "b1a87b24-2cb9-4796-9fe8-825ab56c125e",
   "metadata": {},
   "outputs": [],
   "source": [
    "all_func_sidecars = glob.glob(bids_path_ + '/*/*/func/*_bold.json')\n",
    "\n",
    "for cur_sidecar in all_func_sidecars:\n",
    "    f = open(cur_sidecar,\"r\")\n",
    "    data = f.read()\n",
    "    tmp = json.loads(data)\n",
    "\n",
    "    if 'SliceTiming' in tmp.keys():\n",
    "        print('Sidecar contains SliceTiming. Moving onto next. (%s)' %(os.path.basename(cur_sidecar)))\n",
    "        continue\n",
    "\n",
    "    else:\n",
    "        if 'yesNo' in os.path.basename(cur_sidecar):\n",
    "            cur_task = 'yesNo'\n",
    "        else:\n",
    "            cur_task = 'binaryChoice'\n",
    "        print('Determined task name for %s as %s'%(os.path.basename(cur_sidecar), cur_task))\n",
    "\n",
    "        print('Updating sidecar...')\n",
    "        tmp.update(add_fields[cur_task])\n",
    "\n",
    "        print('Saving updated sidecar...')\n",
    "        tempfile = os.path.join(os.path.dirname(cur_sidecar), 'tmp'+str(random.randint(0, 1000))+'.json')\n",
    "        with open(tempfile, 'w') as f:\n",
    "            json.dump(tmp, f, indent=4)\n",
    "\n",
    "        # rename temporary file replacing old file\n",
    "        print('Replacing old sidecar...')\n",
    "        os.rename(tempfile, cur_sidecar)"
   ]
  },
  {
   "cell_type": "code",
   "execution_count": null,
   "id": "b4789958-8904-4cf1-9450-f8f6be2548ad",
   "metadata": {},
   "outputs": [],
   "source": []
  }
 ],
 "metadata": {
  "kernelspec": {
   "display_name": "Python 3 (ipykernel)",
   "language": "python",
   "name": "python3"
  },
  "language_info": {
   "codemirror_mode": {
    "name": "ipython",
    "version": 3
   },
   "file_extension": ".py",
   "mimetype": "text/x-python",
   "name": "python",
   "nbconvert_exporter": "python",
   "pygments_lexer": "ipython3",
   "version": "3.8.3"
  }
 },
 "nbformat": 4,
 "nbformat_minor": 5
}
