{
 "cells": [
  {
   "cell_type": "code",
   "execution_count": 12,
   "id": "d110ccc2-1a89-4dc7-a570-402fe9479973",
   "metadata": {},
   "outputs": [],
   "source": [
    "import os\n",
    "import shutil"
   ]
  },
  {
   "cell_type": "code",
   "execution_count": 20,
   "id": "39e8bd2f-e9d0-4181-ba2e-4c6cfd0aaf0f",
   "metadata": {},
   "outputs": [],
   "source": [
    "import os.path as op"
   ]
  },
  {
   "cell_type": "code",
   "execution_count": 1,
   "id": "a48db4f0-3b7c-4bd9-a7a6-238c911870da",
   "metadata": {},
   "outputs": [],
   "source": [
    "raw_data_path = '/Users/zeynepenkavi/Downloads/overtrained_decisions_rawfmri'\n",
    "\n",
    "bids_path = '/Users/zeynepenkavi/Downloads/overtrained_decisions_bidsfmri'\n",
    "\n",
    "subnums = ['601', '609', '611', '619', '621', '629']\n",
    "\n",
    "sessions = ['01', '02', '03']\n",
    "\n",
    "data_types = ['anat', 'func']"
   ]
  },
  {
   "cell_type": "code",
   "execution_count": 6,
   "id": "026a4d0d-f00a-4481-8bcd-9ceaadffdce9",
   "metadata": {},
   "outputs": [],
   "source": [
    "def make_bids_dirs(bids_path_ = bids_path, subnums_ = subnums, sessions_ = sessions, data_types_ = data_types):\n",
    "    for cur_sub in subnums_:\n",
    "        for cur_ses in sessions_:\n",
    "            for cur_dt in data_types_:\n",
    "                cur_dir = os.path.join(bids_path, 'sub-'+cur_sub, 'ses-'+cur_ses, cur_dt)\n",
    "                if not (os.path.exists(cur_dir)):\n",
    "                    os.makedirs(cur_dir)"
   ]
  },
  {
   "cell_type": "code",
   "execution_count": 7,
   "id": "f8acc620-8cb0-472e-bf94-85ff3d7e696d",
   "metadata": {},
   "outputs": [],
   "source": [
    "make_bids_dirs()"
   ]
  },
  {
   "cell_type": "code",
   "execution_count": 9,
   "id": "c4fea804-63ce-40ee-83f6-231138260fd6",
   "metadata": {},
   "outputs": [],
   "source": [
    "misc_files = ['dataset_description.json', 'participants.json', 'README', 'CHANGES', 'LICENSE']"
   ]
  },
  {
   "cell_type": "code",
   "execution_count": 10,
   "id": "80638947-a8d8-44b8-ae68-628da1e9e226",
   "metadata": {},
   "outputs": [],
   "source": [
    "def add_misc_bids_files(bids_path_ = bids_path, misc_files_ = misc_files):\n",
    "    for cur_mf in misc_files_:\n",
    "        cur_template = os.path.join(os.getcwd(), 'bids_templates', cur_mf)\n",
    "        cur_fn = os.path.join(bids_path, cur_mf)\n",
    "        shutil.copy(cur_template, cur_fn)\n",
    "    print(\"Don't forget to create participants.tsv!\")"
   ]
  },
  {
   "cell_type": "code",
   "execution_count": 13,
   "id": "df9d6680-7c41-4e3d-9e9b-82ec3da7b64e",
   "metadata": {},
   "outputs": [
    {
     "name": "stdout",
     "output_type": "stream",
     "text": [
      "Don't forget to create participants.tsv!\n"
     ]
    }
   ],
   "source": [
    "add_misc_bids_files()"
   ]
  },
  {
   "cell_type": "code",
   "execution_count": 25,
   "id": "605999c5-e2f6-42a3-b7ad-0ed3eee6f669",
   "metadata": {},
   "outputs": [],
   "source": [
    "par = raw_data_path + '/sub-601/ses-01/sn_08092021_131300_5_1_fmri_run2_split.par'\n"
   ]
  },
  {
   "cell_type": "code",
   "execution_count": 26,
   "id": "ddc3b70f-82c3-4b06-8afc-887e1390aa32",
   "metadata": {},
   "outputs": [],
   "source": [
    "info = dict()"
   ]
  },
  {
   "cell_type": "code",
   "execution_count": 27,
   "id": "94a22ea5-6810-44ef-9eae-5e169e204ccd",
   "metadata": {},
   "outputs": [],
   "source": [
    "with open(par, 'r') as f:\n",
    "        lines = f.readlines()"
   ]
  },
  {
   "cell_type": "code",
   "execution_count": 28,
   "id": "24543d79-7a9b-4540-ac6f-aa9e78bbcaf0",
   "metadata": {},
   "outputs": [],
   "source": [
    "found = False\n",
    "for line in lines:\n",
    "    found = 'Max. number of slices/locations' in line\n",
    "    if found:\n",
    "        info['n_slices'] = int(line.split(':')[-1].strip().replace('\\n', ''))\n",
    "        break"
   ]
  },
  {
   "cell_type": "code",
   "execution_count": 29,
   "id": "d8506b9c-71fb-4102-b91e-f04ac4b25512",
   "metadata": {},
   "outputs": [
    {
     "data": {
      "text/plain": [
       "{'n_slices': 42}"
      ]
     },
     "execution_count": 29,
     "metadata": {},
     "output_type": "execute_result"
    }
   ],
   "source": [
    "info"
   ]
  },
  {
   "cell_type": "code",
   "execution_count": 30,
   "id": "8b4e0482-dbad-468c-afef-b540d68f52b0",
   "metadata": {},
   "outputs": [],
   "source": [
    "found = False\n",
    "for line_nr_of_dyns, line in enumerate(lines):\n",
    "    found = 'Max. number of dynamics' in line\n",
    "    if found:\n",
    "        info['n_dyns'] = int(line.split(':')[-1].strip().replace('\\n', ''))\n",
    "        break"
   ]
  },
  {
   "cell_type": "code",
   "execution_count": 31,
   "id": "0b5d10a5-4190-4e51-a355-939a70902a62",
   "metadata": {},
   "outputs": [
    {
     "data": {
      "text/plain": [
       "{'n_slices': 42, 'n_dyns': 700}"
      ]
     },
     "execution_count": 31,
     "metadata": {},
     "output_type": "execute_result"
    }
   ],
   "source": [
    "info"
   ]
  },
  {
   "cell_type": "code",
   "execution_count": 32,
   "id": "b47f2c51-c4cc-4d41-a4bb-c7fe7a27f026",
   "metadata": {},
   "outputs": [],
   "source": [
    "found = False\n",
    "for line in lines:\n",
    "    found = 'Max. number of echoes' in line\n",
    "    if found:\n",
    "        info['n_echoes'] = int(line.split(':')[-1].strip().replace('\\n', ''))\n",
    "        break"
   ]
  },
  {
   "cell_type": "code",
   "execution_count": 33,
   "id": "eba3c978-d58d-448c-b72d-37ce0b2fdd69",
   "metadata": {},
   "outputs": [
    {
     "data": {
      "text/plain": [
       "{'n_slices': 42, 'n_dyns': 700, 'n_echoes': 1}"
      ]
     },
     "execution_count": 33,
     "metadata": {},
     "output_type": "execute_result"
    }
   ],
   "source": [
    "info"
   ]
  },
  {
   "cell_type": "code",
   "execution_count": 34,
   "id": "39e049fb-a075-4644-8ac0-8a5babc82f59",
   "metadata": {},
   "outputs": [],
   "source": [
    "info['n_vols'] = int(info['n_dyns'] * info['n_echoes'])\n",
    "\n",
    "found = False\n",
    "for idx_start_slices, line in enumerate(lines):\n",
    "    found = '# === IMAGE INFORMATION =' in line\n",
    "    if found:\n",
    "        idx_start_slices += 3\n",
    "        break"
   ]
  },
  {
   "cell_type": "code",
   "execution_count": 35,
   "id": "ba609c45-5060-400a-b8ad-bbdd7fe90587",
   "metadata": {},
   "outputs": [
    {
     "data": {
      "text/plain": [
       "{'n_slices': 42, 'n_dyns': 700, 'n_echoes': 1, 'n_vols': 700}"
      ]
     },
     "execution_count": 35,
     "metadata": {},
     "output_type": "execute_result"
    }
   ],
   "source": [
    "info"
   ]
  },
  {
   "cell_type": "code",
   "execution_count": 36,
   "id": "ed08134c-977c-4acc-846b-4148d105584e",
   "metadata": {},
   "outputs": [
    {
     "data": {
      "text/plain": [
       "101"
      ]
     },
     "execution_count": 36,
     "metadata": {},
     "output_type": "execute_result"
    }
   ],
   "source": [
    "idx_start_slices"
   ]
  },
  {
   "cell_type": "code",
   "execution_count": 37,
   "id": "f3dfe9fc-349e-42f8-8bc1-2377a0c64051",
   "metadata": {},
   "outputs": [],
   "source": [
    "idx_stop_slices = len(lines) - 2\n",
    "slices = lines[idx_start_slices:idx_stop_slices]\n",
    "actual_n_vols = len(slices) / info['n_slices']"
   ]
  },
  {
   "cell_type": "code",
   "execution_count": 38,
   "id": "dd441667-6d4d-49bf-b1bd-e240ebc5c1a2",
   "metadata": {},
   "outputs": [
    {
     "data": {
      "text/plain": [
       "13961"
      ]
     },
     "execution_count": 38,
     "metadata": {},
     "output_type": "execute_result"
    }
   ],
   "source": [
    "idx_stop_slices"
   ]
  },
  {
   "cell_type": "code",
   "execution_count": 39,
   "id": "30b4151a-173a-4f70-9209-da91224fb964",
   "metadata": {},
   "outputs": [
    {
     "data": {
      "text/plain": [
       "330.0"
      ]
     },
     "execution_count": 39,
     "metadata": {},
     "output_type": "execute_result"
    }
   ],
   "source": [
    "actual_n_vols"
   ]
  },
  {
   "cell_type": "code",
   "execution_count": 40,
   "id": "e5125c4a-cbb6-4154-a347-2f2334068514",
   "metadata": {},
   "outputs": [
    {
     "data": {
      "text/plain": [
       "True"
      ]
     },
     "execution_count": 40,
     "metadata": {},
     "output_type": "execute_result"
    }
   ],
   "source": [
    "actual_n_vols != info['n_vols']"
   ]
  },
  {
   "cell_type": "code",
   "execution_count": 41,
   "id": "b9aefbe1-7b84-4552-acab-0a85b057bc25",
   "metadata": {},
   "outputs": [
    {
     "name": "stdout",
     "output_type": "stream",
     "text": [
      "Found 330.000 vols (13860 slices) for file sn_08092021_131300_5_1_fmri_run2_split.par, but expected 700 dyns (29400 slices); going to try to fix it by removing slices from the PAR header ...\n"
     ]
    }
   ],
   "source": [
    "print(\"Found %.3f vols (%i slices) for file %s, but expected %i dyns (%i slices);\"\n",
    "          \" going to try to fix it by removing slices from the PAR header ...\" %\n",
    "          (actual_n_vols, len(slices), op.basename(par), info['n_vols'], info['n_vols']*info['n_slices']))"
   ]
  },
  {
   "cell_type": "code",
   "execution_count": 42,
   "id": "414ee21d-ef5b-49d2-9494-9df8d66e9642",
   "metadata": {},
   "outputs": [],
   "source": [
    "lines_to_remove = len(slices) % info['n_slices']"
   ]
  },
  {
   "cell_type": "code",
   "execution_count": 43,
   "id": "95962a0a-f614-4032-bcf2-8d56f40f3ce5",
   "metadata": {},
   "outputs": [
    {
     "data": {
      "text/plain": [
       "0"
      ]
     },
     "execution_count": 43,
     "metadata": {},
     "output_type": "execute_result"
    }
   ],
   "source": [
    "lines_to_remove"
   ]
  },
  {
   "cell_type": "code",
   "execution_count": 45,
   "id": "a2eaefe5-60be-46a8-9b24-8ffbb8978eeb",
   "metadata": {},
   "outputs": [],
   "source": [
    "actual_n_dyns = actual_n_vols"
   ]
  },
  {
   "cell_type": "code",
   "execution_count": 46,
   "id": "9a220de0-947c-4e89-8c8e-cfbebd50ef24",
   "metadata": {},
   "outputs": [
    {
     "data": {
      "text/plain": [
       "330.0"
      ]
     },
     "execution_count": 46,
     "metadata": {},
     "output_type": "execute_result"
    }
   ],
   "source": [
    "actual_n_dyns"
   ]
  },
  {
   "cell_type": "code",
   "execution_count": 47,
   "id": "7ae8e036-3dfd-4881-8158-2ce54e1992fb",
   "metadata": {},
   "outputs": [],
   "source": [
    "lines[line_nr_of_dyns] = lines[line_nr_of_dyns].replace(str(info['n_dyns']),str(int(actual_n_dyns)))"
   ]
  },
  {
   "cell_type": "code",
   "execution_count": 48,
   "id": "995039ab-96d9-4d6b-9aec-bf4b6e6e856a",
   "metadata": {},
   "outputs": [
    {
     "data": {
      "text/plain": [
       "'.    Max. number of dynamics            :   330\\n'"
      ]
     },
     "execution_count": 48,
     "metadata": {},
     "output_type": "execute_result"
    }
   ],
   "source": [
    "lines[line_nr_of_dyns]"
   ]
  },
  {
   "cell_type": "code",
   "execution_count": null,
   "id": "c040d56e-6fc9-4a52-a862-98ea6829f62a",
   "metadata": {},
   "outputs": [],
   "source": []
  }
 ],
 "metadata": {
  "kernelspec": {
   "display_name": "Python 3 (ipykernel)",
   "language": "python",
   "name": "python3"
  },
  "language_info": {
   "codemirror_mode": {
    "name": "ipython",
    "version": 3
   },
   "file_extension": ".py",
   "mimetype": "text/x-python",
   "name": "python",
   "nbconvert_exporter": "python",
   "pygments_lexer": "ipython3",
   "version": "3.8.3"
  }
 },
 "nbformat": 4,
 "nbformat_minor": 5
}
