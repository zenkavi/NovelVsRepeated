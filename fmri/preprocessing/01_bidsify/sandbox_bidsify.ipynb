{
 "cells": [
  {
   "cell_type": "code",
   "execution_count": 1,
   "id": "d110ccc2-1a89-4dc7-a570-402fe9479973",
   "metadata": {},
   "outputs": [],
   "source": [
    "import os\n",
    "import shutil\n",
    "import glob\n",
    "import json\n",
    "import random\n",
    "import scipy.io as sio\n",
    "import pandas as pd\n",
    "import numpy as np"
   ]
  },
  {
   "cell_type": "code",
   "execution_count": 2,
   "id": "a48db4f0-3b7c-4bd9-a7a6-238c911870da",
   "metadata": {},
   "outputs": [],
   "source": [
    "orig_path = '/Users/zeynepenkavi/Downloads/alldata/data_task/pilot5_fmri_1/data_experiment/results/fmri_rawdata'\n",
    "\n",
    "raw_path = '/Users/zeynepenkavi/Downloads/overtrained_decisions_rawfmri'\n",
    "\n",
    "bids_path = '/Users/zeynepenkavi/Downloads/overtrained_decisions_bidsfmri'\n",
    "\n",
    "subnums = ['601', '609', '611', '619', '621', '629']\n",
    "\n",
    "sessions = ['01', '02', '03']\n",
    "\n",
    "data_types = ['anat', 'func']\n",
    "\n",
    "misc_files = ['dataset_description.json', 'participants.json', 'README', 'CHANGES']"
   ]
  },
  {
   "cell_type": "code",
   "execution_count": 5,
   "id": "316bb306-2dc6-4ffe-9c6f-0ed751bc804b",
   "metadata": {},
   "outputs": [],
   "source": [
    "fmri_dirs = [i for i in os.listdir(orig_path) if i != '.DS_Store']"
   ]
  },
  {
   "cell_type": "code",
   "execution_count": 6,
   "id": "f6cd0ce5-e62a-4365-9fca-29fb24432d95",
   "metadata": {},
   "outputs": [],
   "source": [
    "cur_dir = fmri_dirs[0]"
   ]
  },
  {
   "cell_type": "code",
   "execution_count": 7,
   "id": "30aa593d-6983-4dbf-a665-2da1da6cb7f2",
   "metadata": {},
   "outputs": [
    {
     "data": {
      "text/plain": [
       "'SNS_MRI_OFM_S00621_d7'"
      ]
     },
     "execution_count": 7,
     "metadata": {},
     "output_type": "execute_result"
    }
   ],
   "source": [
    "cur_dir"
   ]
  },
  {
   "cell_type": "code",
   "execution_count": 8,
   "id": "b63b9ac9-d764-4645-92ed-f296363814a2",
   "metadata": {},
   "outputs": [
    {
     "data": {
      "text/plain": [
       "['SNS', 'MRI', 'OFM', 'S00621', 'd7']"
      ]
     },
     "execution_count": 8,
     "metadata": {},
     "output_type": "execute_result"
    }
   ],
   "source": [
    "cur_dir.split('_')"
   ]
  },
  {
   "cell_type": "code",
   "execution_count": 11,
   "id": "f2259353-53b8-4d5a-bf50-b7f2f46ecb1f",
   "metadata": {},
   "outputs": [
    {
     "data": {
      "text/plain": [
       "'d7'"
      ]
     },
     "execution_count": 11,
     "metadata": {},
     "output_type": "execute_result"
    }
   ],
   "source": [
    "cur_dir.split('_')[4]"
   ]
  },
  {
   "cell_type": "code",
   "execution_count": 12,
   "id": "8cfe5248-5b6b-4fe1-8d4f-f53fa473fe04",
   "metadata": {},
   "outputs": [],
   "source": [
    "ses_dict_ = {'d3': 'ses-01', 'd7': 'ses-02', 'd11': 'ses-03'}"
   ]
  },
  {
   "cell_type": "code",
   "execution_count": 13,
   "id": "7469fa24-e726-4276-b92b-4692f21bbd13",
   "metadata": {},
   "outputs": [
    {
     "data": {
      "text/plain": [
       "'ses-02'"
      ]
     },
     "execution_count": 13,
     "metadata": {},
     "output_type": "execute_result"
    }
   ],
   "source": [
    "ses_dict_[cur_dir.split('_')[4]]"
   ]
  },
  {
   "cell_type": "code",
   "execution_count": 16,
   "id": "f385bfc2-71c8-486f-a2cf-a938d327e81c",
   "metadata": {},
   "outputs": [],
   "source": [
    "all_files = os.listdir(os.path.join(orig_path, cur_dir))"
   ]
  },
  {
   "cell_type": "code",
   "execution_count": 19,
   "id": "704a5145-fea8-419a-b664-6ce178d0e7a0",
   "metadata": {},
   "outputs": [],
   "source": [
    "cur_anat_imgs = [i for i in all_files if 't1w3danat' in i]"
   ]
  },
  {
   "cell_type": "code",
   "execution_count": 20,
   "id": "99457cd2-d47d-4842-9509-f9fd11f2579b",
   "metadata": {},
   "outputs": [],
   "source": [
    "cur_ai = cur_anat_imgs[0]"
   ]
  },
  {
   "cell_type": "code",
   "execution_count": 21,
   "id": "346f48d2-9f29-4cef-9863-5e117d509a84",
   "metadata": {},
   "outputs": [
    {
     "data": {
      "text/plain": [
       "'/Users/zeynepenkavi/Downloads/alldata/data_task/pilot5_fmri_1/data_experiment/results/fmri_rawdata/SNS_MRI_OFM_S00621_d7/sn_16092021_123234_8_1_t1w3danat_4_real.par'"
      ]
     },
     "execution_count": 21,
     "metadata": {},
     "output_type": "execute_result"
    }
   ],
   "source": [
    "os.path.join(orig_path, cur_dir, cur_ai)"
   ]
  },
  {
   "cell_type": "code",
   "execution_count": 22,
   "id": "ee2203e0-9a9b-44e4-a7cf-40401c625087",
   "metadata": {},
   "outputs": [],
   "source": [
    "cur_sub = cur_dir.split('_')[3][-3:]"
   ]
  },
  {
   "cell_type": "code",
   "execution_count": 23,
   "id": "3f661589-a963-4e98-9b4d-707aae8a426d",
   "metadata": {},
   "outputs": [
    {
     "data": {
      "text/plain": [
       "'621'"
      ]
     },
     "execution_count": 23,
     "metadata": {},
     "output_type": "execute_result"
    }
   ],
   "source": [
    "cur_sub"
   ]
  },
  {
   "cell_type": "code",
   "execution_count": 24,
   "id": "a84eb33e-5c94-4b05-a42a-9fbbcf17fca9",
   "metadata": {},
   "outputs": [
    {
     "data": {
      "text/plain": [
       "'ses-02'"
      ]
     },
     "execution_count": 24,
     "metadata": {},
     "output_type": "execute_result"
    }
   ],
   "source": [
    "cur_ses = ses_dict_[cur_dir.split('_')[4]]\n",
    "cur_ses"
   ]
  },
  {
   "cell_type": "code",
   "execution_count": 28,
   "id": "9984131d-aff6-410b-a223-406698e8976c",
   "metadata": {},
   "outputs": [
    {
     "data": {
      "text/plain": [
       "'/Users/zeynepenkavi/Downloads/overtrained_decisions_rawfmri/sub-621/ses-02/func/'"
      ]
     },
     "execution_count": 28,
     "metadata": {},
     "output_type": "execute_result"
    }
   ],
   "source": [
    "cur_raw_func_path = os.path.join(raw_path, 'sub-'+cur_sub, cur_ses, 'func/')\n",
    "cur_raw_func_path"
   ]
  },
  {
   "cell_type": "code",
   "execution_count": null,
   "id": "a6d4e51c-0e39-4ee7-bfd0-4ab59ec7199a",
   "metadata": {},
   "outputs": [],
   "source": []
  }
 ],
 "metadata": {
  "kernelspec": {
   "display_name": "Python 3 (ipykernel)",
   "language": "python",
   "name": "python3"
  },
  "language_info": {
   "codemirror_mode": {
    "name": "ipython",
    "version": 3
   },
   "file_extension": ".py",
   "mimetype": "text/x-python",
   "name": "python",
   "nbconvert_exporter": "python",
   "pygments_lexer": "ipython3",
   "version": "3.8.3"
  }
 },
 "nbformat": 4,
 "nbformat_minor": 5
}
