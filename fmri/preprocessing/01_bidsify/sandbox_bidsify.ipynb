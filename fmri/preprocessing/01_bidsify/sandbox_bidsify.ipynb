{
 "cells": [
  {
   "cell_type": "code",
   "execution_count": 12,
   "id": "d110ccc2-1a89-4dc7-a570-402fe9479973",
   "metadata": {},
   "outputs": [],
   "source": [
    "import os\n",
    "import shutil"
   ]
  },
  {
   "cell_type": "code",
   "execution_count": 2,
   "id": "a48db4f0-3b7c-4bd9-a7a6-238c911870da",
   "metadata": {},
   "outputs": [],
   "source": [
    "raw_data_path = '/Users/zeynepenkavi/Downloads/alldata/data_task/pilot5_fmri_1/data_experiment/results/fmri_rawdata'\n",
    "\n",
    "bids_path = '/Users/zeynepenkavi/Downloads/overtrained_decisions_fmri'\n",
    "\n",
    "subnums = ['601', '609', '611', '619', '621', '629']\n",
    "\n",
    "sessions = ['01', '02', '03']\n",
    "\n",
    "data_types = ['anat', 'fmap', 'func']"
   ]
  },
  {
   "cell_type": "code",
   "execution_count": 6,
   "id": "026a4d0d-f00a-4481-8bcd-9ceaadffdce9",
   "metadata": {},
   "outputs": [],
   "source": [
    "def make_bids_dirs(bids_path_ = bids_path, subnums_ = subnums, sessions_ = sessions, data_types_ = data_types):\n",
    "    for cur_sub in subnums_:\n",
    "        for cur_ses in sessions_:\n",
    "            for cur_dt in data_types_:\n",
    "                cur_dir = os.path.join(bids_path, 'sub-'+cur_sub, 'ses-'+cur_ses, cur_dt)\n",
    "                if not (os.path.exists(cur_dir)):\n",
    "                    os.makedirs(cur_dir)"
   ]
  },
  {
   "cell_type": "code",
   "execution_count": 7,
   "id": "f8acc620-8cb0-472e-bf94-85ff3d7e696d",
   "metadata": {},
   "outputs": [],
   "source": [
    "make_bids_dirs()"
   ]
  },
  {
   "cell_type": "code",
   "execution_count": 9,
   "id": "c4fea804-63ce-40ee-83f6-231138260fd6",
   "metadata": {},
   "outputs": [],
   "source": [
    "misc_files = ['dataset_description.json', 'participants.json', 'README', 'CHANGES', 'LICENSE']"
   ]
  },
  {
   "cell_type": "code",
   "execution_count": 10,
   "id": "80638947-a8d8-44b8-ae68-628da1e9e226",
   "metadata": {},
   "outputs": [],
   "source": [
    "def add_misc_bids_files(bids_path_ = bids_path, misc_files_ = misc_files):\n",
    "    for cur_mf in misc_files_:\n",
    "        cur_template = os.path.join(os.getcwd(), 'bids_templates', cur_mf)\n",
    "        cur_fn = os.path.join(bids_path, cur_mf)\n",
    "        shutil.copy(cur_template, cur_fn)\n",
    "    print(\"Don't forget to create participants.tsv!\")"
   ]
  },
  {
   "cell_type": "code",
   "execution_count": 13,
   "id": "df9d6680-7c41-4e3d-9e9b-82ec3da7b64e",
   "metadata": {},
   "outputs": [
    {
     "name": "stdout",
     "output_type": "stream",
     "text": [
      "Don't forget to create participants.tsv!\n"
     ]
    }
   ],
   "source": [
    "add_misc_bids_files()"
   ]
  },
  {
   "cell_type": "code",
   "execution_count": null,
   "id": "605999c5-e2f6-42a3-b7ad-0ed3eee6f669",
   "metadata": {},
   "outputs": [],
   "source": []
  }
 ],
 "metadata": {
  "kernelspec": {
   "display_name": "Python 3 (ipykernel)",
   "language": "python",
   "name": "python3"
  },
  "language_info": {
   "codemirror_mode": {
    "name": "ipython",
    "version": 3
   },
   "file_extension": ".py",
   "mimetype": "text/x-python",
   "name": "python",
   "nbconvert_exporter": "python",
   "pygments_lexer": "ipython3",
   "version": "3.8.3"
  }
 },
 "nbformat": 4,
 "nbformat_minor": 5
}
