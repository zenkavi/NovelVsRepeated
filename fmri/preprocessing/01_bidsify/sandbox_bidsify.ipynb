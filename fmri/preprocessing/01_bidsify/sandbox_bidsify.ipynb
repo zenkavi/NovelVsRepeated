{
 "cells": [
  {
   "cell_type": "code",
   "execution_count": null,
   "id": "d110ccc2-1a89-4dc7-a570-402fe9479973",
   "metadata": {},
   "outputs": [],
   "source": [
    "import os\n",
    "import shutil"
   ]
  },
  {
   "cell_type": "code",
   "execution_count": null,
   "id": "a48db4f0-3b7c-4bd9-a7a6-238c911870da",
   "metadata": {},
   "outputs": [],
   "source": [
    "raw_data_path = '/Users/zeynepenkavi/Downloads/overtrained_decisions_rawfmri'\n",
    "\n",
    "bids_path = '/Users/zeynepenkavi/Downloads/overtrained_decisions_bidsfmri'\n",
    "\n",
    "subnums = ['601', '609', '611', '619', '621', '629']\n",
    "\n",
    "sessions = ['01', '02', '03']\n",
    "\n",
    "data_types = ['anat', 'func']\n",
    "\n",
    "misc_files = ['dataset_description.json', 'participants.json', 'README', 'CHANGES', 'LICENSE']"
   ]
  },
  {
   "cell_type": "code",
   "execution_count": null,
   "id": "4817d2f3-bf19-46ca-9ba5-08b992c18431",
   "metadata": {},
   "outputs": [],
   "source": [
    "from bidsify_helpers import make_bids_dirs, add_misc_bids_files"
   ]
  },
  {
   "cell_type": "code",
   "execution_count": null,
   "id": "f8acc620-8cb0-472e-bf94-85ff3d7e696d",
   "metadata": {},
   "outputs": [],
   "source": [
    "make_bids_dirs()"
   ]
  },
  {
   "cell_type": "code",
   "execution_count": null,
   "id": "df9d6680-7c41-4e3d-9e9b-82ec3da7b64e",
   "metadata": {},
   "outputs": [],
   "source": [
    "add_misc_bids_files()"
   ]
  },
  {
   "cell_type": "code",
   "execution_count": null,
   "id": "c040d56e-6fc9-4a52-a862-98ea6829f62a",
   "metadata": {},
   "outputs": [],
   "source": [
    "import nibabel as nib"
   ]
  },
  {
   "cell_type": "code",
   "execution_count": null,
   "id": "b180cb63-d365-4183-87d0-382a9b8827f8",
   "metadata": {},
   "outputs": [],
   "source": [
    "img = nib.load('/Users/zeynepenkavi/Downloads/lombardi_overtrained_decisions_fmri/sub-45087/ses-30994/func/sub-45087_ses-30994_task-fmri_acq-3_rec-1_run-1_bold.nii.gz')"
   ]
  },
  {
   "cell_type": "code",
   "execution_count": null,
   "id": "20fb2532-67e9-4606-be05-e8d813dda364",
   "metadata": {},
   "outputs": [],
   "source": [
    "dict(img.header)"
   ]
  },
  {
   "cell_type": "code",
   "execution_count": null,
   "id": "04b2144a-ae39-4559-bb02-b2a06b8ad1ff",
   "metadata": {},
   "outputs": [],
   "source": [
    "cur_sub = '601'\n",
    "cur_ses = '01'\n",
    "raw_path_ = raw_data_path\n",
    "cur_raw_dir = os.path.join(raw_path_, 'sub-'+cur_sub, 'ses-'+cur_ses)"
   ]
  },
  {
   "cell_type": "code",
   "execution_count": null,
   "id": "de657839-a13d-4460-afd1-8179fb1bf8e7",
   "metadata": {},
   "outputs": [],
   "source": [
    "bids_path_ = bids_path\n",
    "cur_bids_dir = os.path.join(bids_path_, 'sub-'+cur_sub, 'ses-'+cur_ses, 'func')"
   ]
  },
  {
   "cell_type": "code",
   "execution_count": null,
   "id": "48fc161c-f597-44a7-8cdd-da720ba20133",
   "metadata": {},
   "outputs": [],
   "source": [
    "if not (os.path.exists(cur_bids_dir)):\n",
    "    print('Creating bids path: ' + cur_bids_dir)\n",
    "    os.makedirs(cur_bids_dir)"
   ]
  },
  {
   "cell_type": "code",
   "execution_count": null,
   "id": "28b909ef-8611-4d89-a1a4-227a69934926",
   "metadata": {},
   "outputs": [],
   "source": [
    "cur_raw_files = os.listdir(cur_raw_dir)\n",
    "cur_raw_files"
   ]
  },
  {
   "cell_type": "code",
   "execution_count": null,
   "id": "8241ad39-0307-406e-b9e2-62e16a287db1",
   "metadata": {},
   "outputs": [],
   "source": [
    "func_key_ = 'fmri'\n",
    "[i for i in cur_raw_files if func_key_ in i]"
   ]
  },
  {
   "cell_type": "code",
   "execution_count": null,
   "id": "ec2afca5-8f60-4edc-ac1f-c7f87164c5f6",
   "metadata": {},
   "outputs": [],
   "source": [
    "cur_raw_files = os.listdir(cur_raw_dir)\n",
    "cur_func_files = [i for i in cur_raw_files if func_key_ in i]\n",
    "for cur_func_file in cur_func_files:\n",
    "    shutil.copy(os.path.join(cur_raw_dir, cur_func_file), os.path.join(cur_bids_dir, cur_func_file))"
   ]
  },
  {
   "cell_type": "code",
   "execution_count": null,
   "id": "1b306da3-3519-43f2-b85d-db3d65f27f74",
   "metadata": {},
   "outputs": [],
   "source": [
    "bids_path"
   ]
  },
  {
   "cell_type": "code",
   "execution_count": null,
   "id": "3b637c4b-b52f-41b1-9f7e-a2a6c6c9a9c2",
   "metadata": {},
   "outputs": [],
   "source": [
    "import glob"
   ]
  },
  {
   "cell_type": "code",
   "execution_count": null,
   "id": "d2c1b561-8b04-4e5c-9fbe-76f109ad84d8",
   "metadata": {},
   "outputs": [],
   "source": [
    "all_func_sidecars = glob.glob(bids_path_ + '/*/*/func/*_bold.json')"
   ]
  },
  {
   "cell_type": "code",
   "execution_count": null,
   "id": "dc289971-9f34-42fa-940c-c85d71745595",
   "metadata": {},
   "outputs": [],
   "source": [
    "os.path.basename(all_func_sidecars[0])"
   ]
  },
  {
   "cell_type": "code",
   "execution_count": null,
   "id": "2b49bb30-04fc-484e-b5ca-f4b350d08a05",
   "metadata": {},
   "outputs": [],
   "source": [
    "import json"
   ]
  },
  {
   "cell_type": "code",
   "execution_count": null,
   "id": "2a5595f4-a813-47e9-be69-945090d0a17c",
   "metadata": {},
   "outputs": [],
   "source": [
    "f = open(all_func_sidecars[0],\"r\")\n",
    "data = f.read()\n",
    "tmp = json.loads(data)"
   ]
  },
  {
   "cell_type": "code",
   "execution_count": null,
   "id": "c83ccd36-1dd8-42d3-82b7-925fdd27cf27",
   "metadata": {},
   "outputs": [],
   "source": [
    "tmp"
   ]
  },
  {
   "cell_type": "code",
   "execution_count": null,
   "id": "b1929b56-8f8a-4f89-89bd-89cb64e8653f",
   "metadata": {},
   "outputs": [],
   "source": [
    "SliceTiming = [0.0, 0.05833, 0.11666, 0.17499, 0.23332, 0.29165, 0.34998, 0.40831, 0.46664, 0.52497, 0.5833, 0.64163, 0.69996, 0.75829, 0.81662, 0.87495, 0.93328, 0.99161, 1.04994, 1.10827, 1.1666, 1.22493, 1.28326, 1.34159, 1.39992, 1.45825, 1.51658, 1.57491, 1.63324, 1.69157, 1.7499, 1.80823, 1.86656, 1.92489, 1.98322, 2.04155, 2.09988, 2.15821, 2.21654, 2.27487, 2.3332, 2.39153]"
   ]
  },
  {
   "cell_type": "code",
   "execution_count": null,
   "id": "060d7a57-6ee1-4e4f-9fc0-692ea657f55c",
   "metadata": {},
   "outputs": [],
   "source": [
    "add_fields = {'yesNo': {'TaskName': 'yesNo', 'SliceTiming': SliceTiming}, 'binaryChoice': {'TaskName': 'binaryChoice', 'SliceTiming': SliceTiming}}"
   ]
  },
  {
   "cell_type": "code",
   "execution_count": null,
   "id": "4f114a0c-8fa1-43f5-bcf2-3564cd186f4d",
   "metadata": {},
   "outputs": [],
   "source": [
    "# cur_task = ...\n",
    "if 'yesNo' in os.path.basename(all_func_sidecars[0]):\n",
    "    cur_task = 'yesNo'\n",
    "else:\n",
    "    cur_task = 'binaryChoice'\n",
    "    "
   ]
  },
  {
   "cell_type": "code",
   "execution_count": null,
   "id": "8aeeefe7-98fc-4fe6-958c-c540893659a1",
   "metadata": {},
   "outputs": [],
   "source": [
    "tmp.update(add_fields[cur_task])"
   ]
  },
  {
   "cell_type": "code",
   "execution_count": null,
   "id": "72e92a66-8ff4-4c60-b66a-555330509dc8",
   "metadata": {},
   "outputs": [],
   "source": [
    "tmp"
   ]
  },
  {
   "cell_type": "code",
   "execution_count": null,
   "id": "2153fe07-bda6-402a-8d80-fc11ce008d0c",
   "metadata": {},
   "outputs": [],
   "source": [
    "tempfile = os.path.join(os.path.dirname(all_func_sidecars[0]), 'tmp.json')\n",
    "with open(tempfile, 'w') as f:\n",
    "    json.dump(tmp, f, indent=4)\n",
    "\n",
    "# rename temporary file replacing old file\n",
    "# os.rename(tempfile, filename)"
   ]
  },
  {
   "cell_type": "code",
   "execution_count": null,
   "id": "af3bdaf9-98c7-4f1c-a070-7e0fe044e5e9",
   "metadata": {},
   "outputs": [],
   "source": [
    "all_func_sidecars[0]"
   ]
  },
  {
   "cell_type": "code",
   "execution_count": null,
   "id": "1a7e8a06-d670-42c7-8cbd-4877f9148a3e",
   "metadata": {},
   "outputs": [],
   "source": [
    "os.rename(tempfile, all_func_sidecars[0])"
   ]
  },
  {
   "cell_type": "code",
   "execution_count": null,
   "id": "e24ff371-5c21-41bd-b1d6-c2e38b70b133",
   "metadata": {},
   "outputs": [],
   "source": [
    "'SliceTiming' in tmp.keys()"
   ]
  },
  {
   "cell_type": "code",
   "execution_count": null,
   "id": "5c3dd9f0-036e-44c1-8b33-3dadb85f930b",
   "metadata": {},
   "outputs": [],
   "source": [
    "import random"
   ]
  },
  {
   "cell_type": "code",
   "execution_count": null,
   "id": "246e7e95-537f-48b5-9f89-5383f3f86d2b",
   "metadata": {},
   "outputs": [],
   "source": [
    "random.randint(0, 1000)"
   ]
  },
  {
   "cell_type": "code",
   "execution_count": null,
   "id": "783f79ba-03f6-4f37-904a-ba813ed416ce",
   "metadata": {},
   "outputs": [],
   "source": [
    "'tmp'+str(random.randint(0, 1000))+'.json'"
   ]
  },
  {
   "cell_type": "code",
   "execution_count": null,
   "id": "0be1707c-5ac5-4c9d-b2c2-db361cbdcd65",
   "metadata": {},
   "outputs": [],
   "source": [
    "os.path.join(os.path.dirname(all_func_sidecars[0]), 'tmp'+str(random.randint(0, 1000))+'.json')"
   ]
  },
  {
   "cell_type": "code",
   "execution_count": null,
   "id": "b1a87b24-2cb9-4796-9fe8-825ab56c125e",
   "metadata": {},
   "outputs": [],
   "source": [
    "all_func_sidecars = glob.glob(bids_path_ + '/*/*/func/*_bold.json')\n",
    "\n",
    "for cur_sidecar in all_func_sidecars:\n",
    "    f = open(cur_sidecar,\"r\")\n",
    "    data = f.read()\n",
    "    tmp = json.loads(data)\n",
    "\n",
    "    if 'SliceTiming' in tmp.keys():\n",
    "        print('Sidecar contains SliceTiming. Moving onto next. (%s)' %(os.path.basename(cur_sidecar)))\n",
    "        continue\n",
    "\n",
    "    else:\n",
    "        if 'yesNo' in os.path.basename(cur_sidecar):\n",
    "            cur_task = 'yesNo'\n",
    "        else:\n",
    "            cur_task = 'binaryChoice'\n",
    "        print('Determined task name for %s as %s'%(os.path.basename(cur_sidecar), cur_task))\n",
    "\n",
    "        print('Updating sidecar...')\n",
    "        tmp.update(add_fields[cur_task])\n",
    "\n",
    "        print('Saving updated sidecar...')\n",
    "        tempfile = os.path.join(os.path.dirname(cur_sidecar), 'tmp'+str(random.randint(0, 1000))+'.json')\n",
    "        with open(tempfile, 'w') as f:\n",
    "            json.dump(tmp, f, indent=4)\n",
    "\n",
    "        # rename temporary file replacing old file\n",
    "        print('Replacing old sidecar...')\n",
    "        os.rename(tempfile, cur_sidecar)"
   ]
  },
  {
   "cell_type": "code",
   "execution_count": 1,
   "id": "b4789958-8904-4cf1-9450-f8f6be2548ad",
   "metadata": {},
   "outputs": [],
   "source": [
    "import scipy.io as sio"
   ]
  },
  {
   "cell_type": "code",
   "execution_count": 2,
   "id": "4a7b4dd4-1c1c-448f-b1de-36a3b88e4854",
   "metadata": {},
   "outputs": [],
   "source": [
    "tmp = sio.loadmat('/Users/zeynepenkavi/Downloads/alldata/data_task/pilot5_fmri_1/data_experiment/results/Subj_601/day_3/taskBC_subj601_day3.mat')"
   ]
  },
  {
   "cell_type": "code",
   "execution_count": 4,
   "id": "55cd873f-0ed3-437e-b65d-acd044e33791",
   "metadata": {},
   "outputs": [
    {
     "data": {
      "text/plain": [
       "dict_keys(['__header__', '__version__', '__globals__', 'mydata', 'timing'])"
      ]
     },
     "execution_count": 4,
     "metadata": {},
     "output_type": "execute_result"
    }
   ],
   "source": [
    "tmp.keys()"
   ]
  },
  {
   "cell_type": "code",
   "execution_count": 9,
   "id": "dc88820d-f11b-4d73-87fc-c55d06b04c4a",
   "metadata": {},
   "outputs": [
    {
     "data": {
      "text/plain": [
       "array([[18522.5189325]])"
      ]
     },
     "execution_count": 9,
     "metadata": {},
     "output_type": "execute_result"
    }
   ],
   "source": [
    "tmp['timing'][0][0][0] #Begin"
   ]
  },
  {
   "cell_type": "code",
   "execution_count": 10,
   "id": "a07cab5e-6f38-4eb6-a3ee-643e50bc2054",
   "metadata": {},
   "outputs": [
    {
     "data": {
      "text/plain": [
       "array([[18942.8459216]])"
      ]
     },
     "execution_count": 10,
     "metadata": {},
     "output_type": "execute_result"
    }
   ],
   "source": [
    "tmp['timing'][0][0][5] #End"
   ]
  },
  {
   "cell_type": "code",
   "execution_count": 11,
   "id": "3b253395-df29-4099-a0f0-dcfb38c3586e",
   "metadata": {},
   "outputs": [
    {
     "data": {
      "text/plain": [
       "array([[18532.5244896],\n",
       "       [18536.9873861],\n",
       "       [18541.3581484],\n",
       "       [18545.0114968],\n",
       "       [18548.0480656],\n",
       "       [18552.0846273],\n",
       "       [18555.5211402],\n",
       "       [18559.7417098],\n",
       "       [18565.8261986],\n",
       "       [18570.490642 ],\n",
       "       [18574.2351557],\n",
       "       [18578.0496577],\n",
       "       [18582.1441136],\n",
       "       [18585.5656272],\n",
       "       [18589.9367947],\n",
       "       [18594.2312836],\n",
       "       [18597.6434819],\n",
       "       [18601.5379773],\n",
       "       [18607.8696265],\n",
       "       [18611.4562795],\n",
       "       [18615.4907487],\n",
       "       [18619.2752099],\n",
       "       [18622.0994813],\n",
       "       [18625.8195793],\n",
       "       [18629.7140638],\n",
       "       [18634.2940952],\n",
       "       [18637.9785307],\n",
       "       [18642.2229984],\n",
       "       [18645.8874585],\n",
       "       [18649.6916877],\n",
       "       [18655.1134087],\n",
       "       [18660.5183848],\n",
       "       [18666.3028424],\n",
       "       [18670.027192 ],\n",
       "       [18676.5665959],\n",
       "       [18680.270048 ],\n",
       "       [18687.0745574],\n",
       "       [18691.0300248],\n",
       "       [18695.7343236],\n",
       "       [18698.7987693],\n",
       "       [18703.2832879],\n",
       "       [18706.4477603],\n",
       "       [18709.480412 ],\n",
       "       [18712.8668618],\n",
       "       [18716.9539781],\n",
       "       [18720.5239538],\n",
       "       [18724.5943845],\n",
       "       [18732.4488611],\n",
       "       [18735.6713204],\n",
       "       [18739.5415949],\n",
       "       [18743.0615357],\n",
       "       [18745.8060007],\n",
       "       [18748.5165415],\n",
       "       [18751.5610098],\n",
       "       [18755.1060775],\n",
       "       [18759.2305486],\n",
       "       [18763.4550052],\n",
       "       [18768.6294748],\n",
       "       [18771.8548318],\n",
       "       [18775.9293316],\n",
       "       [18778.9947765],\n",
       "       [18781.9308309],\n",
       "       [18785.5174665],\n",
       "       [18788.9373452],\n",
       "       [18793.2413396],\n",
       "       [18796.7779189],\n",
       "       [18800.2311355],\n",
       "       [18804.3849882],\n",
       "       [18810.6394803],\n",
       "       [18814.963951 ],\n",
       "       [18817.9975826],\n",
       "       [18821.6175739],\n",
       "       [18825.6920723],\n",
       "       [18828.3572143],\n",
       "       [18834.6716776],\n",
       "       [18840.5661437],\n",
       "       [18845.9406744],\n",
       "       [18849.8351159],\n",
       "       [18856.369601 ],\n",
       "       [18859.614061 ],\n",
       "       [18865.0411683],\n",
       "       [18868.9280708],\n",
       "       [18872.4980235],\n",
       "       [18875.4674483],\n",
       "       [18879.3710901],\n",
       "       [18882.207072 ],\n",
       "       [18885.4767246],\n",
       "       [18888.7964865],\n",
       "       [18893.4509516],\n",
       "       [18899.005414 ],\n",
       "       [18903.009635 ],\n",
       "       [18907.7741029],\n",
       "       [18910.4665592],\n",
       "       [18914.1910126],\n",
       "       [18918.9754732],\n",
       "       [18924.5399382],\n",
       "       [18929.8511483],\n",
       "       [18933.1542105],\n",
       "       [18936.8386623],\n",
       "       [18940.1106859]])"
      ]
     },
     "execution_count": 11,
     "metadata": {},
     "output_type": "execute_result"
    }
   ],
   "source": [
    "tmp['timing'][0][0][1] #onset"
   ]
  },
  {
   "cell_type": "code",
   "execution_count": null,
   "id": "6e3b7cbc-abf7-464d-b31f-a5fd17d525c3",
   "metadata": {},
   "outputs": [],
   "source": []
  }
 ],
 "metadata": {
  "kernelspec": {
   "display_name": "Python 3 (ipykernel)",
   "language": "python",
   "name": "python3"
  },
  "language_info": {
   "codemirror_mode": {
    "name": "ipython",
    "version": 3
   },
   "file_extension": ".py",
   "mimetype": "text/x-python",
   "name": "python",
   "nbconvert_exporter": "python",
   "pygments_lexer": "ipython3",
   "version": "3.8.3"
  }
 },
 "nbformat": 4,
 "nbformat_minor": 5
}
